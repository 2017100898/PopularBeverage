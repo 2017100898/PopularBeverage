{
 "cells": [
  {
   "cell_type": "markdown",
   "metadata": {},
   "source": [
    "# 프랜차이즈 카페별 대표 음료 찾기"
   ]
  },
  {
   "cell_type": "markdown",
   "metadata": {},
   "source": [
    "---"
   ]
  },
  {
   "cell_type": "code",
   "execution_count": 1,
   "metadata": {
    "scrolled": true
   },
   "outputs": [],
   "source": [
    "#데이터 처리\n",
    "import re\n",
    "import sys\n",
    "import csv\n",
    "import nltk\n",
    "import numpy as np\n",
    "import pandas as pd\n",
    "from collections import Counter\n",
    "from pypapago import Translator\n",
    "translator = Translator()"
   ]
  },
  {
   "cell_type": "code",
   "execution_count": 2,
   "metadata": {
    "scrolled": true
   },
   "outputs": [],
   "source": [
    "#데이터 크롤링\n",
    "import time\n",
    "import datetime\n",
    "import urllib.parse\n",
    "from bs4 import BeautifulSoup\n",
    "from urllib.request import urlopen\n",
    "from tqdm.notebook import tqdm\n",
    "import GetOldTweets3 as got"
   ]
  },
  {
   "cell_type": "code",
   "execution_count": 3,
   "metadata": {
    "scrolled": true
   },
   "outputs": [],
   "source": [
    "#데이터 분석\n",
    "import sentifish\n",
    "from sentifish import sentTokenizer, wordTokenizer, Sentiment\n",
    "from afinn import Afinn\n",
    "afinn = Afinn(language='en')"
   ]
  },
  {
   "cell_type": "code",
   "execution_count": 4,
   "metadata": {
    "scrolled": true
   },
   "outputs": [],
   "source": [
    "#그래프 및 시각화\n",
    "import seaborn as sns\n",
    "import ipywidgets as widgets\n",
    "from ipywidgets import interactive\n",
    "from IPython.display import display\n",
    "import matplotlib.pyplot as plt\n",
    "from matplotlib import font_manager, rc\n",
    "%matplotlib inline\n",
    "\n",
    "font = font_manager.FontProperties(fname = \"GmarketSansMedium.otf\").get_name()\n",
    "rc('font', family=font, size=20)"
   ]
  },
  {
   "cell_type": "markdown",
   "metadata": {},
   "source": [
    "---"
   ]
  },
  {
   "cell_type": "code",
   "execution_count": 5,
   "metadata": {
    "scrolled": true
   },
   "outputs": [],
   "source": [
    "def readDrink(name):\n",
    "    with open(\"./common/\"+name+'.csv', 'r',encoding='CP949') as f:\n",
    "        csv_f = pd.read_csv(f, names=[\"음료명\",\"언급빈도\"])\n",
    "        csv_f[\"음료명\"] = csv_f[\"음료명\"].str.replace(pat=r'\\n', repl=r'', regex=True)\n",
    "        csv_f[\"언급률\"] = pd.Series((csv_f['언급빈도']/csv_f['언급빈도'].sum()))\n",
    "        \n",
    "        csv_f=csv_f.replace({\"핫초콜릿\":\"핫초코\",\"캐모마일\":\"카모마일\",\"모히토라떼\":\"모히또라떼\",\"레몬차\":\"레몬티\",\"카라멜마키아또\":\"카라멜마끼아또\",\"아포가토\":\"아포가또\",\"자허블\" : \"자몽허니블랙티\", \"카페아메리카노\":\"아메리카노\", \"앗메리카노\":\"아메리카노\",\"빽스라떼\":\"빽's라떼\"})\n",
    "            \n",
    "        grouped = csv_f.groupby(by=csv_f[\"음료명\"])\n",
    "        csv_f = grouped.sum()\n",
    "        csv_f = csv_f.sort_values(by=[\"언급빈도\"],ascending=[False])\n",
    "        csv_f= csv_f.reset_index()\n",
    "        csv_f[\"카페명\"] = name\n",
    "        csv_f = csv_f[[\"카페명\",\"음료명\",\"언급빈도\",\"언급률\"]]\n",
    "        \n",
    "        csv_f.to_csv(\"./common/\"+name+\"_df\"+\".csv\",encoding='CP949',header=True,index=False)\n",
    "        \n",
    "    return csv_f[:12]"
   ]
  },
  {
   "cell_type": "code",
   "execution_count": 6,
   "metadata": {
    "scrolled": true
   },
   "outputs": [],
   "source": [
    "def makePlot(name):\n",
    "    df = readDrink(name)\n",
    "    series = pd.Series([\"기타\", (1-(df[\"언급률\"].sum()))*100,1- df[\"언급률\"].sum()])\n",
    "    df3=pd.DataFrame([list(series)],columns=[\"음료명\",\"언급빈도\",\"언급률\"])\n",
    "    df2 = pd.concat([df, df3],ignore_index=True)\n",
    "    df4 = df2[\"언급률\"] \n",
    "\n",
    "    plt.figure(figsize= (15,15))\n",
    "    colors = {\"#F3FFE3\",\"#D9E3DA\",\"#C2C2B4\",\"#D7ECD9\",\"#BFD1DF\",\n",
    "              \"#CED2C2\", \"#D1CFC0\",\"#FFFFD1\"}\n",
    "    df4.plot.pie(autopct='%1.2f%%', labels=df2[\"음료명\"],fontsize=13,colors=colors, pctdistance=1.05, labeldistance=1.15, rotatelabels  = 45)\n",
    "    \n",
    "    \n",
    "    plt.title(name+\" 음료 언급률\", position=(0.1, 1.0), fontsize=25)\n",
    "    plt.axis('off')\n",
    "    \n",
    "    return plt.show()"
   ]
  },
  {
   "cell_type": "code",
   "execution_count": 7,
   "metadata": {
    "scrolled": true
   },
   "outputs": [
    {
     "data": {
      "application/vnd.jupyter.widget-view+json": {
       "model_id": "e526ce750e164fd98769e6886f6372c8",
       "version_major": 2,
       "version_minor": 0
      },
      "text/plain": [
       "Dropdown(description='카페명 : ', options=(' ', '스타벅스', '앤제리너스', '파스쿠찌', '이디야', '탐앤탐스', '투썸플레이스', '할리스', '커피빈', '…"
      ]
     },
     "metadata": {},
     "output_type": "display_data"
    }
   ],
   "source": [
    "# 카페 + 음료명 검색 후 포스팅 건수 찾기\n",
    "\n",
    "cafedropdown = widgets.Dropdown(options= [' ','스타벅스','앤제리너스','파스쿠찌','이디야','탐앤탐스','투썸플레이스','할리스','커피빈','빽다방'], description = '카페명 : ')\n",
    "display(cafedropdown)"
   ]
  },
  {
   "cell_type": "code",
   "execution_count": null,
   "metadata": {
    "scrolled": false
   },
   "outputs": [],
   "source": [
    "# 카페별 대표 음료 찾기\n",
    "\n",
    "cafe = str(cafedropdown.value)\n",
    "\n",
    "file = open('./common/'+cafe+'.csv', 'w', encoding='CP949',newline='')\n",
    "data = csv.writer(file)    \n",
    "\n",
    "with open(\"./menu/\"+cafe+'.txt', 'r',encoding='utf-8') as menu:\n",
    "    lines = menu.readlines()\n",
    "    for line in tqdm(lines):\n",
    "        menu = str(line)\n",
    "        \n",
    "        url= \"https://search.naver.com/search.naver?sm=tab_hty.top&where=post&query=\"+ urllib.parse.quote(cafe)+\"+\"+ urllib.parse.quote(menu)+\"&oquery=%27ascii%27+codec+can%27t+encode+characters+in+position+46-49%3A+ordinal+not+in+range%28128%29&tqi=UWXugwprvhGssltLPCsssssssWw-264951\"\n",
    "        page = urlopen(url).read()\n",
    "        soup = BeautifulSoup(page, \"html.parser\")\n",
    "        text = soup.find('span','title_num')\n",
    "        text = str(text)\n",
    "\n",
    "        text = re.sub('1-10 / ','',text,0).strip()\n",
    "        text = re.sub(',','',text,0).strip()\n",
    "        text = re.sub('건','',text,0).strip()\n",
    "        text = re.sub('<.+?>','',text,0).strip()\n",
    "        text = int(text)\n",
    "        \n",
    "        data.writerow([menu, text])\n",
    "\n",
    "file.close()\n",
    "\n",
    "outputdrink=widgets.Output()\n",
    "ouputpie=widgets.Output()\n",
    "\n",
    "with outputdrink:\n",
    "    display(readDrink(cafe))\n",
    "with ouputpie:\n",
    "    display(makePlot(cafe))\n",
    "    \n",
    "widgetchange=widgets.Tab([outputdrink, ouputpie])\n",
    "widgetchange.set_title(0, cafe+' 대표 음료')\n",
    "widgetchange.set_title(1, '그래프')\n",
    "\n",
    "display(widgetchange)\n"
   ]
  },
  {
   "cell_type": "code",
   "execution_count": 8,
   "metadata": {
    "scrolled": true
   },
   "outputs": [],
   "source": [
    "file1 = pd.read_csv(open('./common/스타벅스_df.csv', 'r', encoding='CP949',newline=''))\n",
    "file2 = pd.read_csv(open('./common/이디야_df.csv', 'r', encoding='CP949',newline=''))\n",
    "file3 = pd.read_csv(open('./common/빽다방_df.csv', 'r', encoding='CP949',newline=''))\n",
    "file4 = pd.read_csv(open('./common/탐앤탐스_df.csv', 'r', encoding='CP949',newline=''))\n",
    "file5 = pd.read_csv(open('./common/커피빈_df.csv', 'r', encoding='CP949',newline=''))\n",
    "file6 = pd.read_csv(open('./common/투썸플레이스_df.csv', 'r', encoding='CP949',newline=''))\n",
    "file7 = pd.read_csv(open('./common/할리스_df.csv', 'r', encoding='CP949',newline=''))\n",
    "file8 = pd.read_csv(open('./common/앤제리너스_df.csv', 'r', encoding='CP949',newline=''))\n",
    "file9 = pd.read_csv(open('./common/파스쿠찌_df.csv', 'r', encoding='CP949',newline=''))\n",
    "\n",
    "df = pd.concat([file1, file2,file3, file4, file5, file6, file7, file8, file9],ignore_index=True)\n",
    "df.to_csv('./common/sum_df.csv', encoding='CP949')"
   ]
  },
  {
   "cell_type": "code",
   "execution_count": 9,
   "metadata": {
    "scrolled": true
   },
   "outputs": [],
   "source": [
    "def showbarh (dataframe):\n",
    "    df=pd.DataFrame(dataframe,columns=['카페명','언급률'])\n",
    "    cafename = dataframe[\"카페명\"]\n",
    "    yticks=df[\"카페명\"]\n",
    "    index = np.arange(len(yticks))\n",
    "\n",
    "    drinkingplot = df.plot.barh(figsize=(10, 6), color='#FFABAB', label=cafename, width=0.3)\n",
    "    plt.title(dataframe[\"음료명\"][0]+\", 카페별 언급 비율을 알아보자!\", position=(0.5, 1.1))\n",
    "    plt.gca().invert_yaxis()\n",
    "\n",
    "    plt.xlabel(\"언급비율\")\n",
    "    plt.ylabel(\"카페명\")\n",
    "    plt.yticks(index, yticks)\n",
    "\n",
    "    plt.box(False)\n",
    "    plt.show()"
   ]
  },
  {
   "cell_type": "code",
   "execution_count": 10,
   "metadata": {
    "scrolled": false
   },
   "outputs": [
    {
     "data": {
      "application/vnd.jupyter.widget-view+json": {
       "model_id": "595729ac58bb4a1399794b161bfa6c5a",
       "version_major": 2,
       "version_minor": 0
      },
      "text/plain": [
       "Dropdown(description='음료명 : ', options=(' ', '1837블랙티', '감귤당근주스', '겐마이차그린', '고구마라떼', '고구마스무디', '고흥유자차', '골드키위주…"
      ]
     },
     "metadata": {},
     "output_type": "display_data"
    },
    {
     "data": {
      "application/vnd.jupyter.widget-view+json": {
       "model_id": "84a7a77f2c5942d4a34a161858391f07",
       "version_major": 2,
       "version_minor": 0
      },
      "text/plain": [
       "Tab(children=(Output(), Output()), _titles={'0': ' 맛있는 카페', '1': '그래프'})"
      ]
     },
     "metadata": {},
     "output_type": "display_data"
    }
   ],
   "source": [
    "# 음료별 대표 카페 찾기\n",
    "\n",
    "f=open('./common/sum_df.csv', 'r', encoding='CP949',newline='')\n",
    "sumDf = pd.read_csv(f)\n",
    "\n",
    "drink = sumDf['음료명'].unique().tolist()\n",
    "item = [' ']+sorted(drink)\n",
    "\n",
    "dropdown= widgets.Dropdown(options= item,description = '음료명 : ' )\n",
    "outputDf= widgets.Output()\n",
    "outputPlot=widgets.Output()\n",
    "\n",
    "def dropdown_control(change):\n",
    "    outputDf.clear_output()\n",
    "    outputPlot.clear_output()\n",
    "    with outputDf:\n",
    "        display(sumDf.loc[sumDf['음료명']==change.new].sort_values(by=[\"언급률\"],ascending=[False]).reset_index())\n",
    "    \n",
    "    with outputPlot:\n",
    "        display(showbarh(sumDf.loc[sumDf['음료명']==change.new].sort_values(by=[\"언급률\"],ascending=[False]).reset_index()))\n",
    "    \n",
    "\n",
    "dropdown.observe(dropdown_control, names='value')\n",
    "display(dropdown)\n",
    "\n",
    "widgetchanges=widgets.Tab([outputDf, outputPlot])\n",
    "widgetchanges.set_title(0, ' 맛있는 카페')\n",
    "widgetchanges.set_title(1, '그래프')\n",
    "\n",
    "display(widgetchanges)\n",
    "\n",
    "f.close()"
   ]
  },
  {
   "cell_type": "code",
   "execution_count": 11,
   "metadata": {
    "scrolled": true
   },
   "outputs": [
    {
     "data": {
      "application/vnd.jupyter.widget-view+json": {
       "model_id": "c3e5d2f4470c4bc5a2ec228f33984204",
       "version_major": 2,
       "version_minor": 0
      },
      "text/plain": [
       "Dropdown(description='크롤링 : ', options=(' ', '스타벅스', '앤제리너스', '파스쿠찌', '이디야', '탐앤탐스', '투썸플레이스', '할리스', '커피빈', '…"
      ]
     },
     "metadata": {},
     "output_type": "display_data"
    }
   ],
   "source": [
    "#네이버 & 트위터 크롤링 진행할 카페 선택\n",
    "\n",
    "dropdown1 = widgets.Dropdown(options= [' ','스타벅스','앤제리너스','파스쿠찌','이디야','탐앤탐스','투썸플레이스','할리스','커피빈','빽다방'], description = \"크롤링 : \")\n",
    "display(dropdown1)"
   ]
  },
  {
   "cell_type": "code",
   "execution_count": null,
   "metadata": {
    "scrolled": true
   },
   "outputs": [],
   "source": [
    "#트위터 크롤링 (open source)\n",
    "\n",
    "day = []\n",
    "tweetList = []\n",
    "\n",
    "dates = [datetime.datetime.strptime(\"2020-05-06\", \"%Y-%m-%d\") + \n",
    "                  datetime.timedelta(days=x) \n",
    "                  for x in range(0, (datetime.datetime.strptime(\"2020-06-07\", \"%Y-%m-%d\")\n",
    "                                     -datetime.datetime.strptime(\"2020-05-06\", \"%Y-%m-%d\")).days)]\n",
    "\n",
    "for date in tqdm(dates):\n",
    "    day.append(date.strftime(\"%Y-%m-%d\"))\n",
    "    \n",
    "dict3={\"스타벅스\":\"스타벅스 OR 스벅\", \"이디야\": \"이디야\", \"투썸플레이스\":\"투썸\", \"파스쿠찌\": \"파스쿠찌 OR 파스쿠치\",\"앤제리너스\":\"앤제리너스 OR 엔젤리너스\", \n",
    "       \"할리스\": \"할리스\", \"탐앤탐스\":\"탐앤탐스 OR 탐탐\", \"커피빈\": \"커피빈\", \"빽다방\":\"빽다방\"} \n",
    "\n",
    "cafedicnum=str(dropdown1.value)\n",
    "search = str(dict3[cafedicnum])\n",
    "\n",
    "runTweet = got.manager.TweetCriteria().setQuerySearch(search)\\\n",
    "                                           .setSince(day[0])\\\n",
    "                                           .setUntil((datetime.datetime.strptime(day[-1], \"%Y-%m-%d\") \n",
    "                                            + datetime.timedelta(days=1)).strftime(\"%Y-%m-%d\"))\\\n",
    "                                           .setMaxTweets(-1)\n",
    "\n",
    "tweet = got.manager.TweetManager.getTweets(runTweet)\n",
    "print(\"크롤링한 트위터 갯수: \" , len(tweet))"
   ]
  },
  {
   "cell_type": "code",
   "execution_count": null,
   "metadata": {
    "scrolled": true
   },
   "outputs": [],
   "source": [
    "for index in tqdm(tweet):\n",
    "    contents = index.text\n",
    "    tweetList.append(contents)\n",
    "    \n",
    "tweetfile = open(\"./twitter/\"+cafedicnum+'_twitter.txt','w',encoding='UTF-8')\n",
    "\n",
    "for i in range(len(tweetList)):\n",
    "    text = \"{}\".format(tweetList[i])\n",
    "    text=re.sub('[^가-힣0-9]+',' ',text).strip()\n",
    "    text=re.sub('  ',' ',text,0).strip()\n",
    "    tweetfile.write(text)\n",
    "    tweetfile.write(\"\\n\")\n",
    "    \n",
    "tweetfile.close()"
   ]
  },
  {
   "cell_type": "code",
   "execution_count": null,
   "metadata": {
    "scrolled": true
   },
   "outputs": [],
   "source": [
    "#네이버 블로그 제목 크롤링\n",
    "\n",
    "cafe = urllib.parse.quote(str(dropdown1.value))\n",
    "dataframe=pd.DataFrame()\n",
    "\n",
    "blogfile = open(\"./blog/\"+cafedicnum+'_blog.txt','w',encoding='UTF-8')\n",
    "\n",
    "findurl = \"https://search.naver.com/search.naver?sm=tab_hty.top&where=post&query=\"+cafe+\"+\"+\"&oquery=%27ascii%27+codec+can%27t+encode+characters+in+position+46-49%3A+ordinal+not+in+range%28128%29&tqi=UWXugwprvhGssltLPCsssssssWw-264951\"\n",
    "\n",
    "for i in tqdm(range (1,500)):\n",
    "    url= findurl +\"&start=\"+ str(i)\n",
    "    page = urlopen(url).read()\n",
    "    soup = BeautifulSoup(page, \"html.parser\")\n",
    "    if (page != None):\n",
    "        text = soup.find('a','sh_blog_title')\n",
    "        text= str(text.contents)\n",
    "        text=re.sub('<.+?>','',text,0).strip()\n",
    "        text=re.sub('[^가-힣0-9]+',' ',text).strip()\n",
    "        text=re.sub('  ',' ',text,0).strip()\n",
    "        blogfile.write(text)\n",
    "        blogfile.write(\"\\n\")\n",
    "        \n",
    "    elif (page == None):\n",
    "        break\n",
    "        \n",
    "blogfile.close()"
   ]
  },
  {
   "cell_type": "code",
   "execution_count": null,
   "metadata": {
    "scrolled": true
   },
   "outputs": [],
   "source": [
    "# 네이버 + 트위터 콘텐츠 영어로 번역 (open source)\n",
    "\n",
    "temp = []\n",
    "\n",
    "with open('./blog/'+str(dropdown1.value)+'_blog.txt', 'r', encoding='UTF-8') as blog:\n",
    "        lines = blog.readlines()\n",
    "        for line in lines:\n",
    "            line = line.replace(\"\\n\",'')\n",
    "            line= line.replace('\\n\\n','')\n",
    "            temp.append(line)\n",
    "            \n",
    "with open('./twitter/'+str(dropdown1.value)+'_twitter.txt', 'r', encoding='UTF-8') as twitter:\n",
    "        lines = twitter.readlines()\n",
    "        for line in lines:\n",
    "            line = line.replace(\"\\n\",'')\n",
    "            line= line.replace('\\n\\n','')\n",
    "            temp.append(line)\n",
    "\n",
    "blog.close()\n",
    "twitter.close()\n",
    "\n",
    "with open('./translated/'+str(dropdown1.value)+ '_translated.txt', 'w',  encoding='UTF-8') as file:\n",
    "    for i in tqdm(range(len(temp))):\n",
    "        result = translator.translate(temp[i], source='ko', target='en', verbose=False)\n",
    "        file.write(result)\n",
    "        file.write('\\n')\n",
    "        \n",
    "\n",
    "file.close()"
   ]
  },
  {
   "cell_type": "code",
   "execution_count": 12,
   "metadata": {
    "scrolled": true
   },
   "outputs": [
    {
     "data": {
      "application/vnd.jupyter.widget-view+json": {
       "model_id": "9293a95bfc5443718bb29e2318bac818",
       "version_major": 2,
       "version_minor": 0
      },
      "text/plain": [
       "Dropdown(description='분석 카페명 : ', options=(' ', '스타벅스', '앤제리너스', '파스쿠찌', '이디야', '탐앤탐스', '투썸플레이스', '할리스', '커피빈'…"
      ]
     },
     "metadata": {},
     "output_type": "display_data"
    }
   ],
   "source": [
    "# 감성분석 진행할 카페 선택\n",
    "\n",
    "cafedropdown = widgets.Dropdown(options= [' ','스타벅스','앤제리너스','파스쿠찌','이디야','탐앤탐스','투썸플레이스','할리스','커피빈','빽다방'], description = '분석 카페명 : ')\n",
    "display(cafedropdown)"
   ]
  },
  {
   "cell_type": "code",
   "execution_count": null,
   "metadata": {
    "scrolled": true
   },
   "outputs": [],
   "source": [
    "# 감성분석 (open source)\n",
    "\n",
    "wf = open('./sentiment/'+str(cafedropdown.value)+'_sentiment.csv','w',encoding='UTF8')\n",
    "with open(\"./translated/\"+str(cafedropdown.value)+ '_translated.txt', 'r',encoding='UTF-8') as f:\n",
    "    lines = [lines.rstrip() for lines in f]\n",
    "    \n",
    "    for line in lines:\n",
    "        line = re.sub(',','',line,0).strip()\n",
    "        sent = sentTokenizer(line)\n",
    "        words =wordTokenizer(sent)\n",
    "        score= afinn.score(line)\n",
    "        \n",
    "        if(score > 0):\n",
    "            wf.write((line)+','+\"Positive\"+','+str(score))\n",
    "            wf.write('\\n')\n",
    "        elif(score  < 0):\n",
    "            wf.write((line)+','+\"Negative\"+','+str(score))\n",
    "            wf.write('\\n')\n",
    "        elif(score  == 0 ):\n",
    "            wf.write((line)+','+\"Neutral\"+','+str(score))\n",
    "            wf.write('\\n')\n",
    "        \n",
    "f.close()\n",
    "wf.close()"
   ]
  },
  {
   "cell_type": "code",
   "execution_count": 13,
   "metadata": {
    "scrolled": false
   },
   "outputs": [
    {
     "data": {
      "text/html": [
       "<div>\n",
       "<style scoped>\n",
       "    .dataframe tbody tr th:only-of-type {\n",
       "        vertical-align: middle;\n",
       "    }\n",
       "\n",
       "    .dataframe tbody tr th {\n",
       "        vertical-align: top;\n",
       "    }\n",
       "\n",
       "    .dataframe thead th {\n",
       "        text-align: right;\n",
       "    }\n",
       "</style>\n",
       "<table border=\"1\" class=\"dataframe\">\n",
       "  <thead>\n",
       "    <tr style=\"text-align: right;\">\n",
       "      <th></th>\n",
       "      <th>의견</th>\n",
       "      <th>감성분석</th>\n",
       "      <th>점수</th>\n",
       "    </tr>\n",
       "  </thead>\n",
       "  <tbody>\n",
       "    <tr>\n",
       "      <th>852</th>\n",
       "      <td>I'm so upset and there's a lot of people study...</td>\n",
       "      <td>Negative</td>\n",
       "      <td>-12.0</td>\n",
       "    </tr>\n",
       "    <tr>\n",
       "      <th>1456</th>\n",
       "      <td>Keithmi Hiroyin Make Smooth Liquid Eyeliner 04...</td>\n",
       "      <td>Negative</td>\n",
       "      <td>-12.0</td>\n",
       "    </tr>\n",
       "    <tr>\n",
       "      <th>1378</th>\n",
       "      <td>I don't know what to eat and I'm going to go c...</td>\n",
       "      <td>Negative</td>\n",
       "      <td>-8.0</td>\n",
       "    </tr>\n",
       "    <tr>\n",
       "      <th>1245</th>\n",
       "      <td>I'm reminded of Harliss in Stuck Pre-Qancy. Sh...</td>\n",
       "      <td>Negative</td>\n",
       "      <td>-7.0</td>\n",
       "    </tr>\n",
       "    <tr>\n",
       "      <th>569</th>\n",
       "      <td>Don't come to the cafe if you can't put syrup ...</td>\n",
       "      <td>Negative</td>\n",
       "      <td>-7.0</td>\n",
       "    </tr>\n",
       "    <tr>\n",
       "      <th>...</th>\n",
       "      <td>...</td>\n",
       "      <td>...</td>\n",
       "      <td>...</td>\n",
       "    </tr>\n",
       "    <tr>\n",
       "      <th>1168</th>\n",
       "      <td>My friend asked me why I haven't been dating t...</td>\n",
       "      <td>Positive</td>\n",
       "      <td>13.0</td>\n",
       "    </tr>\n",
       "    <tr>\n",
       "      <th>1178</th>\n",
       "      <td>There's a lot of people. Wow I don't think we'...</td>\n",
       "      <td>Positive</td>\n",
       "      <td>14.0</td>\n",
       "    </tr>\n",
       "    <tr>\n",
       "      <th>1317</th>\n",
       "      <td>Today 9 500 won for lunch 8 won for Halis and ...</td>\n",
       "      <td>Positive</td>\n",
       "      <td>16.0</td>\n",
       "    </tr>\n",
       "    <tr>\n",
       "      <th>1323</th>\n",
       "      <td>The combination of melon and coconut is delici...</td>\n",
       "      <td>Positive</td>\n",
       "      <td>16.0</td>\n",
       "    </tr>\n",
       "    <tr>\n",
       "      <th>1067</th>\n",
       "      <td>Too sweet vanilla latte is like me who doesn't...</td>\n",
       "      <td>Positive</td>\n",
       "      <td>22.0</td>\n",
       "    </tr>\n",
       "  </tbody>\n",
       "</table>\n",
       "<p>1697 rows × 3 columns</p>\n",
       "</div>"
      ],
      "text/plain": [
       "                                                     의견      감성분석    점수\n",
       "852   I'm so upset and there's a lot of people study...  Negative -12.0\n",
       "1456  Keithmi Hiroyin Make Smooth Liquid Eyeliner 04...  Negative -12.0\n",
       "1378  I don't know what to eat and I'm going to go c...  Negative  -8.0\n",
       "1245  I'm reminded of Harliss in Stuck Pre-Qancy. Sh...  Negative  -7.0\n",
       "569   Don't come to the cafe if you can't put syrup ...  Negative  -7.0\n",
       "...                                                 ...       ...   ...\n",
       "1168  My friend asked me why I haven't been dating t...  Positive  13.0\n",
       "1178  There's a lot of people. Wow I don't think we'...  Positive  14.0\n",
       "1317  Today 9 500 won for lunch 8 won for Halis and ...  Positive  16.0\n",
       "1323  The combination of melon and coconut is delici...  Positive  16.0\n",
       "1067  Too sweet vanilla latte is like me who doesn't...  Positive  22.0\n",
       "\n",
       "[1697 rows x 3 columns]"
      ]
     },
     "execution_count": 13,
     "metadata": {},
     "output_type": "execute_result"
    }
   ],
   "source": [
    "sentiment = pd.read_csv('./sentiment/'+str(cafedropdown.value)+'_sentiment.csv',header=0)\n",
    "sentiment.columns = ['의견','감성분석','점수']\n",
    "sentiment = sentiment.sort_values(by=\"점수\", ascending=True)\n",
    "sentiment"
   ]
  },
  {
   "cell_type": "code",
   "execution_count": 14,
   "metadata": {
    "scrolled": true
   },
   "outputs": [],
   "source": [
    "sentiment1 = pd.read_csv(open('./sentiment/'+'스타벅스'+'_sentiment.csv', 'r', encoding='utf-8',newline=''),header=None)\n",
    "sentiment2 = pd.read_csv(open('./sentiment/'+'파스쿠찌'+'_sentiment.csv', 'r', encoding='utf-8',newline=''),header=None)\n",
    "sentiment3 = pd.read_csv(open('./sentiment/'+'탐앤탐스'+'_sentiment.csv', 'r', encoding='utf-8',newline=''),header=None)\n",
    "sentiment4 = pd.read_csv(open('./sentiment/'+'빽다방'+'_sentiment.csv', 'r', encoding='utf-8',newline=''),header=None)\n",
    "sentiment5 = pd.read_csv(open('./sentiment/'+'할리스'+'_sentiment.csv', 'r', encoding='utf-8',newline=''),header=None)\n",
    "sentiment6 = pd.read_csv(open('./sentiment/'+'투썸플레이스'+'_sentiment.csv', 'r', encoding='utf-8',newline=''),header=None)\n",
    "sentiment7 = pd.read_csv(open('./sentiment/'+'이디야'+'_sentiment.csv', 'r', encoding='utf-8',newline=''),header=None)\n",
    "sentiment8 = pd.read_csv(open('./sentiment/'+'앤제리너스'+'_sentiment.csv', 'r', encoding='utf-8',newline=''),header=None)\n",
    "sentiment9 = pd.read_csv(open('./sentiment/'+'커피빈'+'_sentiment.csv', 'r', encoding='utf-8',newline=''),header=None)\n",
    "\n",
    "sentdf = pd.concat([sentiment1, sentiment2,sentiment3, sentiment4,sentiment5, sentiment6, sentiment7, sentiment8,sentiment9])\n",
    "sentdf.columns=['의견','감성분석','점수']\n",
    "sentdf.to_csv('./sentiment/sum_df.csv', encoding='utf-8')\n"
   ]
  },
  {
   "cell_type": "code",
   "execution_count": 15,
   "metadata": {
    "scrolled": true
   },
   "outputs": [],
   "source": [
    "def sentimentPlot(name):\n",
    "    counts = sentiment['감성분석'].value_counts()\n",
    "    colors = [\"#B99AFF\",\"#D8C7FF\",\"#E8DEFF\"]\n",
    "    counts.plot(kind='pie',autopct='%1.1f%%', fontsize=17,colors=colors)\n",
    "    plt.figure(figsize= (10,10))\n",
    "    \n",
    "    return plt.show()"
   ]
  },
  {
   "cell_type": "code",
   "execution_count": 16,
   "metadata": {
    "scrolled": true
   },
   "outputs": [],
   "source": [
    "def negativeDF(name):\n",
    "    temp=[]\n",
    "    \n",
    "    if (name == 'sentdf'):\n",
    "        negative = sentdf.loc[sentdf[\"감성분석\"]=='Negative', :]\n",
    "    else:\n",
    "        negative = sentiment.loc[sentiment[\"감성분석\"]=='Negative', :]\n",
    "\n",
    "        \n",
    "    negative = negative.sort_values(by=\"점수\", ascending=True) \n",
    "    for opinion in tqdm(negative[\"의견\"]):\n",
    "        temp.append(str(opinion))\n",
    "\n",
    "    temp=str(temp)\n",
    "    words=wordTokenizer(temp)\n",
    "    words = [word for word in words if len(word)>1]\n",
    "    tagged = nltk.pos_tag(words)\n",
    "    words = [word for word, pos in tagged if pos in['JJ']]\n",
    "    words = [word.lower() for word in words]\n",
    "\n",
    "    word_list=[]\n",
    "    for word in words:\n",
    "        if(afinn.score(word)<0):\n",
    "            word_list.append(word)\n",
    "        \n",
    "    counts = Counter(word_list)\n",
    "    common = counts.most_common()\n",
    "    df= pd.DataFrame(common)\n",
    "    df.columns=[\"단어\",\"빈도\"]\n",
    "    df['비율']=df[\"빈도\"]/df[\"빈도\"].sum()\n",
    "    return df\n",
    "\n",
    "def negativeBar(name):\n",
    "    df=negativeDF(name).head(15)\n",
    "    df = df.loc[:,[\"단어\",\"비율\"]]\n",
    "    df = df.rename(columns={\"비율\":name})\n",
    "    df2=negativeDF('sentdf')\n",
    "    df2 = df2.loc[:,[\"단어\",\"비율\"]]\n",
    "    df2 = df2.rename(columns={\"비율\":\"평균\"})\n",
    "    df3 = df2[(df2['단어'].isin(df['단어']))].reset_index(drop=True)\n",
    "    df4= pd.merge(df,df3, on=\"단어\")\n",
    "    \n",
    "    plt.rcParams['figure.figsize']=[12,12]\n",
    "    ax = df4.plot.bar(x=\"단어\", rot=0, color = {\"#C5CAE9\",\"#D7ECD9\"}, fontsize=11)\n",
    "    plt.title(name + \" 감성 분석 : 부정적 단어 비율\", fontsize=20)\n",
    "    return plt.show()\n",
    "\n",
    "\n",
    "def positiveDF(name):\n",
    "    temp=[]\n",
    "    \n",
    "    if (name == 'sentdf'):\n",
    "         positive = sentdf.loc[sentdf[\"감성분석\"]=='Positive', :]\n",
    "    else:\n",
    "        positive = sentiment.loc[sentiment[\"감성분석\"]=='Positive', :]\n",
    "        \n",
    "\n",
    "    positive = positive.sort_values(by=\"점수\", ascending=False)\n",
    "\n",
    "    for opinion in tqdm(positive[\"의견\"]):\n",
    "        temp.append(str(opinion))\n",
    "\n",
    "    temp=str(temp)\n",
    "    words=wordTokenizer(temp)\n",
    "    words = [word for word in words if len(word)>1]\n",
    "    tagged = nltk.pos_tag(words)\n",
    "    words = [word for word, pos in tagged if pos in['JJ']]\n",
    "    words = [word.lower() for word in words]\n",
    "\n",
    "    word_list=[]\n",
    "\n",
    "    for word in words:\n",
    "        if(afinn.score(word)>0):\n",
    "            word_list.append(word)\n",
    "        \n",
    "    counts = Counter(word_list)\n",
    "    common = counts.most_common()\n",
    "    df= pd.DataFrame(common)\n",
    "    df.columns=[\"단어\",\"빈도\"]\n",
    "    df['비율']=df[\"빈도\"]/df[\"빈도\"].sum()\n",
    "    return df\n",
    "\n",
    "def positiveBar(name):\n",
    "    df=positiveDF(name).head(15)\n",
    "    df = df.loc[:,[\"단어\",\"비율\"]]\n",
    "    df = df.rename(columns={\"비율\":name})\n",
    "    df2=positiveDF('sentdf')\n",
    "    df2 = df2.loc[:,[\"단어\",\"비율\"]]\n",
    "    df2 = df2.rename(columns={\"비율\":\"평균\"})\n",
    "    df3 = df2[(df2['단어'].isin(df['단어']))].reset_index(drop=True)\n",
    "    df4= pd.merge(df,df3, on=\"단어\")\n",
    "    \n",
    "    plt.rcParams['figure.figsize']=[12,12]\n",
    "    ax = df4.plot.bar(x=\"단어\", rot=0, color = {\"#C5CAE9\",\"#D7ECD9\"}, fontsize=11)\n",
    "    plt.title(name + \" 감성 분석 : 긍정적 단어 비율\", fontsize=20)\n",
    "    return plt.show()"
   ]
  },
  {
   "cell_type": "code",
   "execution_count": 17,
   "metadata": {
    "scrolled": false
   },
   "outputs": [
    {
     "data": {
      "application/vnd.jupyter.widget-view+json": {
       "model_id": "3726db0433654911a4545b3ee476bcaf",
       "version_major": 2,
       "version_minor": 0
      },
      "text/plain": [
       "Tab(children=(Output(), Output(), Output(), Output(), Output()), _titles={'0': '할리스 감성분석', '1': '할리스 부정적 단어', …"
      ]
     },
     "metadata": {},
     "output_type": "display_data"
    }
   ],
   "source": [
    "cafe=str(cafedropdown.value)\n",
    "\n",
    "outputP=widgets.Output()\n",
    "outputPplot=widgets.Output()\n",
    "outputN=widgets.Output()\n",
    "outputNplot=widgets.Output()\n",
    "outputAll=widgets.Output()\n",
    "\n",
    "with outputAll:\n",
    "    display(sentimentPlot(cafe))\n",
    "with outputN:\n",
    "    display(negativeDF(cafe))\n",
    "with outputNplot:\n",
    "    display(negativeBar(cafe))\n",
    "with outputP:\n",
    "    display(positiveDF(cafe))\n",
    "with outputPplot:\n",
    "    display(positiveBar(cafe))\n",
    "    \n",
    "widgetchange=widgets.Tab([outputAll,outputN, outputNplot,outputP, outputPplot])\n",
    "\n",
    "widgetchange.set_title(0, cafe+' 감성분석')\n",
    "widgetchange.set_title(1, cafe+' 부정적 단어')\n",
    "widgetchange.set_title(2, '그래프')\n",
    "widgetchange.set_title(3, cafe+' 긍정적 단어')\n",
    "widgetchange.set_title(4, '그래프')\n",
    "\n",
    "display(widgetchange)"
   ]
  }
 ],
 "metadata": {
  "kernelspec": {
   "display_name": "Python 3",
   "language": "python",
   "name": "python3"
  },
  "language_info": {
   "codemirror_mode": {
    "name": "ipython",
    "version": 3
   },
   "file_extension": ".py",
   "mimetype": "text/x-python",
   "name": "python",
   "nbconvert_exporter": "python",
   "pygments_lexer": "ipython3",
   "version": "3.9.2"
  },
  "widgets": {
   "application/vnd.jupyter.widget-state+json": {
    "state": {
     "0074cdd4ad0c4e7e8cdf581c4f9c9a29": {
      "model_module": "@jupyter-widgets/controls",
      "model_module_version": "1.5.0",
      "model_name": "DescriptionStyleModel",
      "state": {
       "description_width": ""
      }
     },
     "029c6b1c7fbd4bfb8bda18b65e819207": {
      "model_module": "@jupyter-widgets/controls",
      "model_module_version": "1.5.0",
      "model_name": "DescriptionStyleModel",
      "state": {
       "description_width": ""
      }
     },
     "04ccf735aa3e41b28bf66a4e553125fb": {
      "model_module": "@jupyter-widgets/controls",
      "model_module_version": "1.5.0",
      "model_name": "DropdownModel",
      "state": {
       "_options_labels": [
        " ",
        "1837블랙티",
        "감귤당근주스",
        "겐마이차그린",
        "고구마라떼",
        "고구마스무디",
        "고흥유자차",
        "골드키위주스",
        "과일주스",
        "구아바그라니따",
        "구아바주스",
        "군고구마라떼",
        "그나와민트티",
        "그랜마애플블랙밀크티",
        "그랜마애플블랙티",
        "그린라떼",
        "그린민트모카탐앤치노",
        "그린민트초콜릿",
        "그린민트카페모카",
        "그린밀크티",
        "그린밸런스",
        "그린비엔나",
        "그린티그라니따",
        "그린티라떼",
        "그린티블렌디드",
        "그린티스노우",
        "그린티아이스블렌디드",
        "그린티크림라떼",
        "그린티탐앤치노",
        "그린티할리치노",
        "깔라만시에이드",
        "깔라만시티",
        "꿀밤라떼",
        "꿀복숭아플랫치노",
        "나이트로그린티애플",
        "나이트로바닐라크림",
        "나이트로쇼콜라클라우드",
        "나이트로콜드브루",
        "나이트로히비스커스라즈베리",
        "녹차라떼",
        "녹차빽스치노",
        "녹차플랫치노",
        "다크초코칩할리치노",
        "단호박식혜",
        "달고나카페라떼",
        "달달연유라떼",
        "달콤스노우",
        "달콤아이스티",
        "당근청귤이지주스",
        "더블베리스파클링",
        "더블샷바닐라딜라이트",
        "더블에스프레소칩프라푸치노",
        "더블초콜릿",
        "더블카페라떼",
        "돌체블랙밀크티",
        "돌체콜드브루",
        "드립커피",
        "디카페인버블흑당콜드브루",
        "디카페인연유콜드브루",
        "디카페인콜드브루니트로",
        "디카페인콜드브루라떼",
        "디카페인콜드브루아메리카노",
        "디카페인콜드브루크림넛",
        "디카페인콜드브루티라미수",
        "디카페인콜드브루화이트비엔나",
        "디카페인흑당콜드브루",
        "딸기쉐이크",
        "딸기스노우",
        "딸기스무디",
        "딸기요거트블렌디드",
        "딸기요거트스무디",
        "딸기요거트플랫치노",
        "딸기주스",
        "딸기치즈케익할리치노",
        "라떼비엔나",
        "라벤더카페브레베",
        "라임패션티",
        "라임플로터",
        "럼샷코르타도",
        "레드밸런스",
        "레드선라이즈",
        "레드자몽스파클링에이드",
        "레모네이드",
        "레몬머틀티",
        "레몬민트그라니따",
        "레몬셔벗에이드",
        "레몬스윗플럼",
        "레몬스파클링",
        "레몬에이드",
        "레몬유자캐모마일티",
        "레몬차",
        "레몬캐모마일",
        "레몬티",
        "로마노",
        "로얄밀크티",
        "로얄밀크티쉐이크",
        "로얄캐모마일",
        "로즈자스민티",
        "로즈힙밀크티",
        "롱블랙",
        "루비자몽주스",
        "루비자몽핫주스",
        "루이보스빌베리",
        "루이보스아몬드밀크티",
        "루이보스크림티",
        "리스트레또딜라이트",
        "리얼벨지안초코",
        "리얼벨지안카페모카",
        "말차레모네이드프로즌티",
        "망고바나나라떼",
        "망고바나나블렌디드",
        "망고바나나아이스블렌디드",
        "망고스노우",
        "망고스무디",
        "망고오렌지스무디",
        "망고요거트그라니따",
        "망고요거트스무디",
        "망고주스",
        "망고패션스무디",
        "망고패션후르츠블렌디드",
        "망고프라페",
        "망고플랫치노",
        "매직윈터트로피컬핫펀치",
        "매직팝스플래쉬피지오",
        "메론밀크쉐이크",
        "멜론스무디",
        "모로칸민트",
        "모로칸민트라떼",
        "모카라떼",
        "모카블렌디드",
        "모카아이스블렌디드",
        "모카칩프라페",
        "모카콘파나그라니따",
        "모카탐앤치노",
        "모카포트아포가또",
        "모카프라푸치노",
        "모카플랫치노",
        "모히또라떼",
        "미숫가루",
        "미초(석류)에이드",
        "미초에이드",
        "민트모카",
        "민트블렌드티",
        "민트초코",
        "민트초코렛칩플랫치노",
        "민트초코할리치노",
        "민트초콜릿",
        "밀크쉐이크",
        "밀크티",
        "밀크티라떼",
        "밀크티크림라떼",
        "밀크티할리치노",
        "바닐라딜라이트",
        "바닐라라떼",
        "바닐라라떼마끼아또",
        "바닐라블렌디드",
        "바닐라쉐이크",
        "바닐라스타벅스더블샷",
        "바닐라아이스블렌디드",
        "바닐라카페라떼",
        "바닐라크림콜드브루",
        "바닐라크림프라푸치노",
        "바닐라탐앤치노",
        "바닐라플랫화이트",
        "밥대신라이스쉐이크",
        "배에이드",
        "버블그린티라떼",
        "버블밀크티",
        "버블크림밀크티",
        "버블흑당라떼",
        "버블흑당콜드브루",
        "베리베리블렌디드",
        "베리베리아이스블렌디드",
        "베리스파클링",
        "복숭아그라니따",
        "복숭아얼그레이",
        "복숭아자두스파클링",
        "블랙와플칩크림프라푸치노",
        "블랙티",
        "블랙티레모네이드피지오",
        "블랙티얼그레이",
        "블랙티잉글리쉬",
        "블랙포레스트블렌디드",
        "블랙포레스트아이스블렌디드",
        "블론드리스트레토마키아또",
        "블론드바닐라더블샷마키아또",
        "블론드에스프레소토닉",
        "블론드카라멜클라우드마키아또",
        "블론드코코아클라우드마키아또",
        "블루레몬에이드",
        "블루베리스노우",
        "블루베리스무디",
        "블루베리요거트",
        "블루베리요거트그라니따",
        "블루베리요거트드링크",
        "블루베리요거트스무디",
        "블루베리요거트플랫치노",
        "블루베리요거트할리치노",
        "블루캔디소다",
        "비엔나커피",
        "비체린",
        "비트사과착즙스무디",
        "비트사과착즙주스",
        "빽's라떼",
        "살구실론",
        "상그리아에이드",
        "상큼라C요거트",
        "새콤리얼주스",
        "샤인머스캣주스",
        "샤인머스켓그라니따",
        "샤케라또",
        "샹그리아에이드",
        "석류애플라임",
        "석류에이드",
        "석류오리지널",
        "숏라떼",
        "수박주스",
        "수정과",
        "슈퍼밸런스",
        "스웨디쉬베리즈",
        "스위트크림라떼",
        "스퀴즈레몬차",
        "스타벅스돌체라떼",
        "스트로베리그라니따",
        "스트로베리요거트그라니따",
        "스트로베리주스",
        "스트로베리피치프라페",
        "스팀우유",
        "스파클링망고",
        "스파클링스웨디쉬레몬",
        "스파클링에이드",
        "스페니쉬연유라떼",
        "시그니처라떼",
        "시그니처초콜릿",
        "시그니처핫초콜릿",
        "시나몬모카탐앤치노",
        "시나몬초콜릿",
        "시나몬초콜릿탐앤치노",
        "시나몬카페모카",
        "싱글오리진",
        "쑥라떼",
        "아메리치노",
        "아메리치노라떼",
        "아메리치노흑당",
        "아메리치노흑당라떼",
        "아메리카노",
        "아보카도바나나",
        "아보카도초코",
        "아이스그린티라떼",
        "아이스미초",
        "아이스초콜릿",
        "아이스커피",
        "아이스크림카페라떼",
        "아이스티",
        "아이스티라즈베리",
        "아이스티레몬",
        "아이스티복숭아",
        "아이스홍시",
        "아인슈페너",
        "아카시아꿀차",
        "아포가또",
        "아포가토스트로베리쿠키",
        "아포가토오리지널",
        "아포가토콜드브루바닐라모카",
        "아프리칸선라이즈",
        "애플민트티",
        "애플에이드",
        "애플티",
        "어린잎녹차작설차",
        "얼그레이",
        "얼그레이리저브",
        "얼그레이밀크티",
        "얼그레이홍차블랙티",
        "에스프레소",
        "에스프레소꼰빠냐",
        "에스프레소도피오",
        "에스프레소마끼아또",
        "에스프레소마키아또",
        "에스프레소콘파나",
        "에스프레소콘파나그라니따",
        "에스프레소콘파냐",
        "에스프레소탐앤치노",
        "에스프레소프라푸치노",
        "연유라떼",
        "연유카페라떼",
        "연유콜드브루",
        "영그레이얼그레이",
        "옐로우패션",
        "오늘의커피",
        "오렌지보스루이보스오렌지",
        "오렌지에이드",
        "오렌지자몽주스",
        "오렌지자몽티",
        "오렌지주스",
        "오렌지파인착즙스무디",
        "오렌지파인착즙주스",
        "오렌지플로터",
        "오렌지핫주스",
        "오르조",
        "오리지널드립커피",
        "오리지널밀크티",
        "오리진쉐이크",
        "오트밀라떼",
        "오트밀블루베리스노우",
        "오트밀카라멜스노우",
        "와일드베리플로터",
        "완전딸기",
        "완전딸기바나나",
        "완전망고",
        "완전복숭아",
        "완전수박",
        "완전아보카도",
        "완전자두",
        "완전초코",
        "완전초코바나나",
        "완전파인애플",
        "요거트스노우",
        "요거프라페",
        "원조빽스치노",
        "원조커피",
        "월넛치노",
        "유스베리티",
        "유자레몬티",
        "유자몽",
        "유자민트티",
        "유자스무디",
        "유자에이드",
        "유자차",
        "유자캐모마일",
        "유자캐모마일블렌디드",
        "유자캐모마일아이스블렌디드",
        "유자티",
        "유자파인애플주스",
        "유자피나콜라다",
        "유채꿀애플스파클링",
        "율무이이",
        "이곡라떼",
        "이디야사과주스",
        "이디야콤부차복숭아망고",
        "이디야콤부차청포도레몬",
        "익스트림티블렌디드",
        "잉글리쉬브랙퍼스트",
        "잉글리쉬브렉퍼스트",
        "잉글리쉬브렉퍼스트라떼",
        "잉글리쉬브렉퍼스트티",
        "자두그라니따",
        "자몽네이블오렌지",
        "자몽셔벗블렌디드",
        "자몽스파클링",
        "자몽에이드",
        "자몽차",
        "자몽티",
        "자몽파인스파클링",
        "자몽플랫치노",
        "자몽허니블랙티",
        "자바초코렛칩스노우",
        "자바칩민트그라니따",
        "자바칩탐앤치노",
        "자바칩프라푸치노",
        "자색고구마라떼",
        "작설",
        "제주까망라떼",
        "제주까망크림프라푸치노",
        "제주레드빈라떼",
        "제주레드빈블렌디드",
        "제주말차프라페",
        "제주비자림콜드브루",
        "제주쑥떡크림프라푸치노",
        "제주쑥쑥라떼",
        "제주유기녹차",
        "제주유기농말차로만든라떼",
        "제주유기농말차로만든크림프라푸치노",
        "제주청귤블라썸",
        "제주청귤오리지널",
        "제주청보리라떼",
        "제주청보리크림프라푸치노",
        "제주한라봉감귤차",
        "제주한라봉블랙티블렌디드",
        "진셍페퍼민트",
        "차이라떼",
        "차이티",
        "차이티라떼",
        "청포도스파클링",
        "청포도슬러쉬",
        "청포도에이드",
        "청포도케일착즙스무디",
        "청포도케일착즙주스",
        "청포도플라워",
        "초코렛칩플랫치노",
        "초코묻고더블쉐이크",
        "초코쉐이크",
        "초코쿠키쉐이크",
        "초콜렛라떼",
        "초콜릿",
        "초콜릿라떼",
        "초콜릿블랙콜드브루",
        "초콜릿크림칩프라푸치노",
        "치아씨드요거트",
        "치즈가쿠키했대쉐이크",
        "카라멜라떼마끼아또",
        "카라멜마끼아또",
        "카라멜블렌디드",
        "카라멜아이스블렌디드",
        "카라멜콘파나그라니따",
        "카라멜프라페",
        "카라멜프라푸치노",
        "카라멜플랫치노",
        "카모마일",
        "카페라떼",
        "카페모카",
        "카페수아",
        "카푸치노",
        "캐러멜마키아토",
        "캐러멜블린디드",
        "캐러멜아이스블렌디드",
        "캐모마일레드티",
        "캐모마일블렌드티",
        "캐모마일프루티",
        "캬라멜마끼아또",
        "캬라멜탐앤치노",
        "커스터드라떼",
        "커즈마인시트러스캐모마일",
        "커피쉐이크",
        "커피스타벅스더블샷",
        "커피젤리카페라떼",
        "커피플랫치노",
        "케모마일",
        "케일&사과주스",
        "코코넛라떼",
        "코코넛밀크스노우",
        "코코넛커피스무디",
        "코코넛화이트콜드브루",
        "콜드브루",
        "콜드브루니트로",
        "콜드브루더치커피",
        "콜드브루딜라이트",
        "콜드브루라떼",
        "콜드브루모카할리치노",
        "콜드브루몰트",
        "콜드브루아메리카노",
        "콜드브루크림넛",
        "콜드브루티라미수",
        "콜드브루플로트",
        "콜드브루할리치노",
        "콜드브루화이트비엔나",
        "쿠키앤크림스노우",
        "쿠키크런치빽스치노",
        "쿨라임피지오",
        "쿨민트",
        "크리미모카라떼",
        "크림슨펀치",
        "크림카라멜",
        "클래식아포가토",
        "키위바나나주스",
        "키위주스",
        "토마토주스",
        "토피넛라떼",
        "톡톡에이드",
        "티라미수라떼",
        "티라미스크림라떼",
        "파미그래네이트블루베리",
        "파인그린",
        "패션탱고티레모네이드피지오",
        "패션파인마테치즈크림티",
        "패션푸르트칵테일티",
        "패션후르츠스무디",
        "페퍼민트",
        "페퍼민트티",
        "퓨어더블초콜렛블렌디드",
        "퓨어더블초콜렛아이스블렌디드",
        "퓨어바닐라블렌디드",
        "퓨어바닐라아이스블렌디드",
        "프렌치얼그레이",
        "프로틴쉐이크",
        "프루티하동머스캣그린티",
        "프룻밸런스",
        "프리미엄블렌드딥라떼",
        "프리미엄스무디감귤",
        "프리미엄스무디복숭아",
        "프리미엄스무디한라봉",
        "프리미엄요거트스무디감귤",
        "프리미엄요거트스무디복숭아",
        "프리미엄요거트스무디한라봉",
        "플랫화이트",
        "플러피판다핫초콜릿",
        "플레인요거트",
        "플레인요거트그라니따",
        "플레인요거트드링크",
        "플레인요거트스무디",
        "플레인요거트플랫치노",
        "플레인요거트할리치노",
        "피스타치오빽스치노",
        "피스타치오크림프라푸치노",
        "피치&레몬블렌디드",
        "피치우롱",
        "피치우롱티",
        "피치젤리티",
        "피치젤리핫티",
        "핑크자몽피지오",
        "한라봉봉",
        "한라봉스노우",
        "한라봉스파클링에이드",
        "한라봉주스",
        "핫초코",
        "핫초콜릿",
        "해남녹차",
        "햇사과주스",
        "허니레몬아이스티",
        "허니레몬티",
        "허브티로즈마리",
        "허브티쟈스민",
        "허브티캐모마일",
        "허브티페퍼민트",
        "헤이즐넛라떼",
        "헤이즐넛블렌디드",
        "헤이즐넛스타벅스더블샷",
        "헤이즐넛아메리카노",
        "헤이즐넛아이스블렌디드",
        "헤이즐넛아이스커피",
        "헤이즐넛카푸치노",
        "홍시스무디",
        "홍시주스",
        "홍자몽차",
        "화이트딸기크림프라푸치노",
        "화이트초코",
        "화이트초콜릿",
        "화이트초콜릿라떼마끼아또",
        "화이트초콜릿모카",
        "화이트초콜릿모카프라푸치노",
        "화이트타이거프라푸치노",
        "화이트포레스트블렌디드",
        "화이트포레스트아이스블렌디드",
        "후레쉬망고블렌디드",
        "후레쉬망고아이스블렌디드",
        "후레쉬에이드레몬",
        "후레쉬에이드오렌지",
        "후레쉬에이드자몽",
        "후레쉬쥬스오렌지",
        "후레쉬쥬스자몽",
        "흑당곡물라떼",
        "흑당라떼",
        "흑당버블라떼",
        "흑당버블밀크티",
        "흑당카페라떼",
        "흑당콜드브루",
        "흑당콜드브루라떼",
        "흑당펄라떼",
        "흑당펄밀크티",
        "흑임자카페라떼",
        "히비스커스뱅쇼",
        "히비스커스블렌드",
        "히비스커스블렌드티"
       ],
       "description": "음료명 : ",
       "index": 245,
       "layout": "IPY_MODEL_fbbbb34ae0254c79a364e957d6b7d712",
       "style": "IPY_MODEL_aefddb25b0ec45288bd2a719ebaa9b0e"
      }
     },
     "04d8ccd70bf9471e8bc2a8fbf9b45c7a": {
      "model_module": "@jupyter-widgets/base",
      "model_module_version": "1.2.0",
      "model_name": "LayoutModel",
      "state": {}
     },
     "065d8252aa374984b0d8118cdd2fbf20": {
      "model_module": "@jupyter-widgets/controls",
      "model_module_version": "1.5.0",
      "model_name": "DescriptionStyleModel",
      "state": {
       "description_width": ""
      }
     },
     "06b9e47b2c32440d8588f682b8d58e6f": {
      "model_module": "@jupyter-widgets/controls",
      "model_module_version": "1.5.0",
      "model_name": "HTMLModel",
      "state": {
       "layout": "IPY_MODEL_9a0df2147fa84b698f45103db2766511",
       "style": "IPY_MODEL_15595eb81a9443668eb94aa439152fde",
       "value": " 640/640 [00:00&lt;00:00, 53726.85it/s]"
      }
     },
     "083fe862f550454fbfe9de850c71d56f": {
      "model_module": "@jupyter-widgets/controls",
      "model_module_version": "1.5.0",
      "model_name": "HBoxModel",
      "state": {
       "children": [
        "IPY_MODEL_9f0ee1e7cb5841f3abeb97515fd95a05",
        "IPY_MODEL_3b4ed387631343f580d8afee6ec199ed"
       ],
       "layout": "IPY_MODEL_40679a3ca8f847e8aa993e4c3fa79a1b"
      }
     },
     "0850af35217640af83255f52a816c255": {
      "model_module": "@jupyter-widgets/output",
      "model_module_version": "1.0.0",
      "model_name": "OutputModel",
      "state": {
       "layout": "IPY_MODEL_f53033f8a69d4a3d901d51b01f058fb5",
       "outputs": [
        {
         "name": "stderr",
         "output_type": "stream",
         "text": "/Library/Frameworks/Python.framework/Versions/3.9/lib/python3.9/site-packages/matplotlib/backends/backend_agg.py:240: RuntimeWarning: Glyph 50500 missing from current font.\n  font.set_text(s, 0.0, flags=flags)\n/Library/Frameworks/Python.framework/Versions/3.9/lib/python3.9/site-packages/matplotlib/backends/backend_agg.py:240: RuntimeWarning: Glyph 47700 missing from current font.\n  font.set_text(s, 0.0, flags=flags)\n/Library/Frameworks/Python.framework/Versions/3.9/lib/python3.9/site-packages/matplotlib/backends/backend_agg.py:240: RuntimeWarning: Glyph 47532 missing from current font.\n  font.set_text(s, 0.0, flags=flags)\n/Library/Frameworks/Python.framework/Versions/3.9/lib/python3.9/site-packages/matplotlib/backends/backend_agg.py:240: RuntimeWarning: Glyph 52852 missing from current font.\n  font.set_text(s, 0.0, flags=flags)\n/Library/Frameworks/Python.framework/Versions/3.9/lib/python3.9/site-packages/matplotlib/backends/backend_agg.py:240: RuntimeWarning: Glyph 45432 missing from current font.\n  font.set_text(s, 0.0, flags=flags)\n/Library/Frameworks/Python.framework/Versions/3.9/lib/python3.9/site-packages/matplotlib/backends/backend_agg.py:240: RuntimeWarning: Glyph 54168 missing from current font.\n  font.set_text(s, 0.0, flags=flags)\n/Library/Frameworks/Python.framework/Versions/3.9/lib/python3.9/site-packages/matplotlib/backends/backend_agg.py:240: RuntimeWarning: Glyph 48324 missing from current font.\n  font.set_text(s, 0.0, flags=flags)\n/Library/Frameworks/Python.framework/Versions/3.9/lib/python3.9/site-packages/matplotlib/backends/backend_agg.py:240: RuntimeWarning: Glyph 50616 missing from current font.\n  font.set_text(s, 0.0, flags=flags)\n/Library/Frameworks/Python.framework/Versions/3.9/lib/python3.9/site-packages/matplotlib/backends/backend_agg.py:240: RuntimeWarning: Glyph 44553 missing from current font.\n  font.set_text(s, 0.0, flags=flags)\n/Library/Frameworks/Python.framework/Versions/3.9/lib/python3.9/site-packages/matplotlib/backends/backend_agg.py:240: RuntimeWarning: Glyph 48708 missing from current font.\n  font.set_text(s, 0.0, flags=flags)\n/Library/Frameworks/Python.framework/Versions/3.9/lib/python3.9/site-packages/matplotlib/backends/backend_agg.py:240: RuntimeWarning: Glyph 50984 missing from current font.\n  font.set_text(s, 0.0, flags=flags)\n/Library/Frameworks/Python.framework/Versions/3.9/lib/python3.9/site-packages/matplotlib/backends/backend_agg.py:240: RuntimeWarning: Glyph 51012 missing from current font.\n  font.set_text(s, 0.0, flags=flags)\n/Library/Frameworks/Python.framework/Versions/3.9/lib/python3.9/site-packages/matplotlib/backends/backend_agg.py:240: RuntimeWarning: Glyph 50508 missing from current font.\n  font.set_text(s, 0.0, flags=flags)\n/Library/Frameworks/Python.framework/Versions/3.9/lib/python3.9/site-packages/matplotlib/backends/backend_agg.py:240: RuntimeWarning: Glyph 48372 missing from current font.\n  font.set_text(s, 0.0, flags=flags)\n/Library/Frameworks/Python.framework/Versions/3.9/lib/python3.9/site-packages/matplotlib/backends/backend_agg.py:240: RuntimeWarning: Glyph 51088 missing from current font.\n  font.set_text(s, 0.0, flags=flags)\n/Library/Frameworks/Python.framework/Versions/3.9/lib/python3.9/site-packages/matplotlib/backends/backend_agg.py:240: RuntimeWarning: Glyph 49828 missing from current font.\n  font.set_text(s, 0.0, flags=flags)\n/Library/Frameworks/Python.framework/Versions/3.9/lib/python3.9/site-packages/matplotlib/backends/backend_agg.py:240: RuntimeWarning: Glyph 53440 missing from current font.\n  font.set_text(s, 0.0, flags=flags)\n/Library/Frameworks/Python.framework/Versions/3.9/lib/python3.9/site-packages/matplotlib/backends/backend_agg.py:240: RuntimeWarning: Glyph 48261 missing from current font.\n  font.set_text(s, 0.0, flags=flags)\n/Library/Frameworks/Python.framework/Versions/3.9/lib/python3.9/site-packages/matplotlib/backends/backend_agg.py:240: RuntimeWarning: Glyph 50532 missing from current font.\n  font.set_text(s, 0.0, flags=flags)\n/Library/Frameworks/Python.framework/Versions/3.9/lib/python3.9/site-packages/matplotlib/backends/backend_agg.py:240: RuntimeWarning: Glyph 51228 missing from current font.\n  font.set_text(s, 0.0, flags=flags)\n/Library/Frameworks/Python.framework/Versions/3.9/lib/python3.9/site-packages/matplotlib/backends/backend_agg.py:240: RuntimeWarning: Glyph 45320 missing from current font.\n  font.set_text(s, 0.0, flags=flags)\n/Library/Frameworks/Python.framework/Versions/3.9/lib/python3.9/site-packages/matplotlib/backends/backend_agg.py:240: RuntimeWarning: Glyph 54028 missing from current font.\n  font.set_text(s, 0.0, flags=flags)\n/Library/Frameworks/Python.framework/Versions/3.9/lib/python3.9/site-packages/matplotlib/backends/backend_agg.py:240: RuntimeWarning: Glyph 53216 missing from current font.\n  font.set_text(s, 0.0, flags=flags)\n/Library/Frameworks/Python.framework/Versions/3.9/lib/python3.9/site-packages/matplotlib/backends/backend_agg.py:240: RuntimeWarning: Glyph 52236 missing from current font.\n  font.set_text(s, 0.0, flags=flags)\n/Library/Frameworks/Python.framework/Versions/3.9/lib/python3.9/site-packages/matplotlib/backends/backend_agg.py:240: RuntimeWarning: Glyph 48765 missing from current font.\n  font.set_text(s, 0.0, flags=flags)\n/Library/Frameworks/Python.framework/Versions/3.9/lib/python3.9/site-packages/matplotlib/backends/backend_agg.py:240: RuntimeWarning: Glyph 45796 missing from current font.\n  font.set_text(s, 0.0, flags=flags)\n/Library/Frameworks/Python.framework/Versions/3.9/lib/python3.9/site-packages/matplotlib/backends/backend_agg.py:240: RuntimeWarning: Glyph 48169 missing from current font.\n  font.set_text(s, 0.0, flags=flags)\n/Library/Frameworks/Python.framework/Versions/3.9/lib/python3.9/site-packages/matplotlib/backends/backend_agg.py:240: RuntimeWarning: Glyph 52964 missing from current font.\n  font.set_text(s, 0.0, flags=flags)\n/Library/Frameworks/Python.framework/Versions/3.9/lib/python3.9/site-packages/matplotlib/backends/backend_agg.py:240: RuntimeWarning: Glyph 54588 missing from current font.\n  font.set_text(s, 0.0, flags=flags)\n/Library/Frameworks/Python.framework/Versions/3.9/lib/python3.9/site-packages/matplotlib/backends/backend_agg.py:240: RuntimeWarning: Glyph 48712 missing from current font.\n  font.set_text(s, 0.0, flags=flags)\n/Library/Frameworks/Python.framework/Versions/3.9/lib/python3.9/site-packages/matplotlib/backends/backend_agg.py:240: RuntimeWarning: Glyph 54624 missing from current font.\n  font.set_text(s, 0.0, flags=flags)\n/Library/Frameworks/Python.framework/Versions/3.9/lib/python3.9/site-packages/matplotlib/backends/backend_agg.py:240: RuntimeWarning: Glyph 51060 missing from current font.\n  font.set_text(s, 0.0, flags=flags)\n/Library/Frameworks/Python.framework/Versions/3.9/lib/python3.9/site-packages/matplotlib/backends/backend_agg.py:240: RuntimeWarning: Glyph 46356 missing from current font.\n  font.set_text(s, 0.0, flags=flags)\n/Library/Frameworks/Python.framework/Versions/3.9/lib/python3.9/site-packages/matplotlib/backends/backend_agg.py:240: RuntimeWarning: Glyph 50556 missing from current font.\n  font.set_text(s, 0.0, flags=flags)\n/Library/Frameworks/Python.framework/Versions/3.9/lib/python3.9/site-packages/matplotlib/backends/backend_agg.py:240: RuntimeWarning: Glyph 53804 missing from current font.\n  font.set_text(s, 0.0, flags=flags)\n/Library/Frameworks/Python.framework/Versions/3.9/lib/python3.9/site-packages/matplotlib/backends/backend_agg.py:240: RuntimeWarning: Glyph 50040 missing from current font.\n  font.set_text(s, 0.0, flags=flags)\n/Library/Frameworks/Python.framework/Versions/3.9/lib/python3.9/site-packages/matplotlib/backends/backend_agg.py:240: RuntimeWarning: Glyph 54540 missing from current font.\n  font.set_text(s, 0.0, flags=flags)\n/Library/Frameworks/Python.framework/Versions/3.9/lib/python3.9/site-packages/matplotlib/backends/backend_agg.py:240: RuntimeWarning: Glyph 47112 missing from current font.\n  font.set_text(s, 0.0, flags=flags)\n/Library/Frameworks/Python.framework/Versions/3.9/lib/python3.9/site-packages/matplotlib/backends/backend_agg.py:240: RuntimeWarning: Glyph 53456 missing from current font.\n  font.set_text(s, 0.0, flags=flags)\n/Library/Frameworks/Python.framework/Versions/3.9/lib/python3.9/site-packages/matplotlib/backends/backend_agg.py:240: RuntimeWarning: Glyph 47749 missing from current font.\n  font.set_text(s, 0.0, flags=flags)\n/Library/Frameworks/Python.framework/Versions/3.9/lib/python3.9/site-packages/matplotlib/backends/backend_agg.py:240: RuntimeWarning: Glyph 47456 missing from current font.\n  font.set_text(s, 0.0, flags=flags)\n/Library/Frameworks/Python.framework/Versions/3.9/lib/python3.9/site-packages/matplotlib/backends/backend_agg.py:203: RuntimeWarning: Glyph 50616 missing from current font.\n  font.set_text(s, 0, flags=flags)\n/Library/Frameworks/Python.framework/Versions/3.9/lib/python3.9/site-packages/matplotlib/backends/backend_agg.py:203: RuntimeWarning: Glyph 44553 missing from current font.\n  font.set_text(s, 0, flags=flags)\n/Library/Frameworks/Python.framework/Versions/3.9/lib/python3.9/site-packages/matplotlib/backends/backend_agg.py:203: RuntimeWarning: Glyph 48708 missing from current font.\n  font.set_text(s, 0, flags=flags)\n/Library/Frameworks/Python.framework/Versions/3.9/lib/python3.9/site-packages/matplotlib/backends/backend_agg.py:203: RuntimeWarning: Glyph 50984 missing from current font.\n  font.set_text(s, 0, flags=flags)\n/Library/Frameworks/Python.framework/Versions/3.9/lib/python3.9/site-packages/matplotlib/backends/backend_agg.py:203: RuntimeWarning: Glyph 49828 missing from current font.\n  font.set_text(s, 0, flags=flags)\n/Library/Frameworks/Python.framework/Versions/3.9/lib/python3.9/site-packages/matplotlib/backends/backend_agg.py:203: RuntimeWarning: Glyph 53440 missing from current font.\n  font.set_text(s, 0, flags=flags)\n/Library/Frameworks/Python.framework/Versions/3.9/lib/python3.9/site-packages/matplotlib/backends/backend_agg.py:203: RuntimeWarning: Glyph 48261 missing from current font.\n  font.set_text(s, 0, flags=flags)\n/Library/Frameworks/Python.framework/Versions/3.9/lib/python3.9/site-packages/matplotlib/backends/backend_agg.py:203: RuntimeWarning: Glyph 50532 missing from current font.\n  font.set_text(s, 0, flags=flags)\n/Library/Frameworks/Python.framework/Versions/3.9/lib/python3.9/site-packages/matplotlib/backends/backend_agg.py:203: RuntimeWarning: Glyph 51228 missing from current font.\n  font.set_text(s, 0, flags=flags)\n/Library/Frameworks/Python.framework/Versions/3.9/lib/python3.9/site-packages/matplotlib/backends/backend_agg.py:203: RuntimeWarning: Glyph 47532 missing from current font.\n  font.set_text(s, 0, flags=flags)\n/Library/Frameworks/Python.framework/Versions/3.9/lib/python3.9/site-packages/matplotlib/backends/backend_agg.py:203: RuntimeWarning: Glyph 45320 missing from current font.\n  font.set_text(s, 0, flags=flags)\n/Library/Frameworks/Python.framework/Versions/3.9/lib/python3.9/site-packages/matplotlib/backends/backend_agg.py:203: RuntimeWarning: Glyph 54028 missing from current font.\n  font.set_text(s, 0, flags=flags)\n/Library/Frameworks/Python.framework/Versions/3.9/lib/python3.9/site-packages/matplotlib/backends/backend_agg.py:203: RuntimeWarning: Glyph 53216 missing from current font.\n  font.set_text(s, 0, flags=flags)\n/Library/Frameworks/Python.framework/Versions/3.9/lib/python3.9/site-packages/matplotlib/backends/backend_agg.py:203: RuntimeWarning: Glyph 52236 missing from current font.\n  font.set_text(s, 0, flags=flags)\n/Library/Frameworks/Python.framework/Versions/3.9/lib/python3.9/site-packages/matplotlib/backends/backend_agg.py:203: RuntimeWarning: Glyph 48765 missing from current font.\n  font.set_text(s, 0, flags=flags)\n/Library/Frameworks/Python.framework/Versions/3.9/lib/python3.9/site-packages/matplotlib/backends/backend_agg.py:203: RuntimeWarning: Glyph 45796 missing from current font.\n  font.set_text(s, 0, flags=flags)\n/Library/Frameworks/Python.framework/Versions/3.9/lib/python3.9/site-packages/matplotlib/backends/backend_agg.py:203: RuntimeWarning: Glyph 48169 missing from current font.\n  font.set_text(s, 0, flags=flags)\n/Library/Frameworks/Python.framework/Versions/3.9/lib/python3.9/site-packages/matplotlib/backends/backend_agg.py:203: RuntimeWarning: Glyph 52964 missing from current font.\n  font.set_text(s, 0, flags=flags)\n/Library/Frameworks/Python.framework/Versions/3.9/lib/python3.9/site-packages/matplotlib/backends/backend_agg.py:203: RuntimeWarning: Glyph 54588 missing from current font.\n  font.set_text(s, 0, flags=flags)\n/Library/Frameworks/Python.framework/Versions/3.9/lib/python3.9/site-packages/matplotlib/backends/backend_agg.py:203: RuntimeWarning: Glyph 48712 missing from current font.\n  font.set_text(s, 0, flags=flags)\n/Library/Frameworks/Python.framework/Versions/3.9/lib/python3.9/site-packages/matplotlib/backends/backend_agg.py:203: RuntimeWarning: Glyph 54624 missing from current font.\n  font.set_text(s, 0, flags=flags)\n/Library/Frameworks/Python.framework/Versions/3.9/lib/python3.9/site-packages/matplotlib/backends/backend_agg.py:203: RuntimeWarning: Glyph 51060 missing from current font.\n  font.set_text(s, 0, flags=flags)\n/Library/Frameworks/Python.framework/Versions/3.9/lib/python3.9/site-packages/matplotlib/backends/backend_agg.py:203: RuntimeWarning: Glyph 46356 missing from current font.\n  font.set_text(s, 0, flags=flags)\n/Library/Frameworks/Python.framework/Versions/3.9/lib/python3.9/site-packages/matplotlib/backends/backend_agg.py:203: RuntimeWarning: Glyph 50556 missing from current font.\n  font.set_text(s, 0, flags=flags)\n/Library/Frameworks/Python.framework/Versions/3.9/lib/python3.9/site-packages/matplotlib/backends/backend_agg.py:203: RuntimeWarning: Glyph 53804 missing from current font.\n  font.set_text(s, 0, flags=flags)\n/Library/Frameworks/Python.framework/Versions/3.9/lib/python3.9/site-packages/matplotlib/backends/backend_agg.py:203: RuntimeWarning: Glyph 50040 missing from current font.\n  font.set_text(s, 0, flags=flags)\n/Library/Frameworks/Python.framework/Versions/3.9/lib/python3.9/site-packages/matplotlib/backends/backend_agg.py:203: RuntimeWarning: Glyph 54540 missing from current font.\n  font.set_text(s, 0, flags=flags)\n/Library/Frameworks/Python.framework/Versions/3.9/lib/python3.9/site-packages/matplotlib/backends/backend_agg.py:203: RuntimeWarning: Glyph 47112 missing from current font.\n  font.set_text(s, 0, flags=flags)\n/Library/Frameworks/Python.framework/Versions/3.9/lib/python3.9/site-packages/matplotlib/backends/backend_agg.py:203: RuntimeWarning: Glyph 53456 missing from current font.\n  font.set_text(s, 0, flags=flags)\n/Library/Frameworks/Python.framework/Versions/3.9/lib/python3.9/site-packages/matplotlib/backends/backend_agg.py:203: RuntimeWarning: Glyph 52852 missing from current font.\n  font.set_text(s, 0, flags=flags)\n/Library/Frameworks/Python.framework/Versions/3.9/lib/python3.9/site-packages/matplotlib/backends/backend_agg.py:203: RuntimeWarning: Glyph 54168 missing from current font.\n  font.set_text(s, 0, flags=flags)\n/Library/Frameworks/Python.framework/Versions/3.9/lib/python3.9/site-packages/matplotlib/backends/backend_agg.py:203: RuntimeWarning: Glyph 47749 missing from current font.\n  font.set_text(s, 0, flags=flags)\n/Library/Frameworks/Python.framework/Versions/3.9/lib/python3.9/site-packages/matplotlib/backends/backend_agg.py:203: RuntimeWarning: Glyph 50500 missing from current font.\n  font.set_text(s, 0, flags=flags)\n/Library/Frameworks/Python.framework/Versions/3.9/lib/python3.9/site-packages/matplotlib/backends/backend_agg.py:203: RuntimeWarning: Glyph 47700 missing from current font.\n  font.set_text(s, 0, flags=flags)\n/Library/Frameworks/Python.framework/Versions/3.9/lib/python3.9/site-packages/matplotlib/backends/backend_agg.py:203: RuntimeWarning: Glyph 45432 missing from current font.\n  font.set_text(s, 0, flags=flags)\n/Library/Frameworks/Python.framework/Versions/3.9/lib/python3.9/site-packages/matplotlib/backends/backend_agg.py:203: RuntimeWarning: Glyph 48324 missing from current font.\n  font.set_text(s, 0, flags=flags)\n/Library/Frameworks/Python.framework/Versions/3.9/lib/python3.9/site-packages/matplotlib/backends/backend_agg.py:203: RuntimeWarning: Glyph 51012 missing from current font.\n  font.set_text(s, 0, flags=flags)\n/Library/Frameworks/Python.framework/Versions/3.9/lib/python3.9/site-packages/matplotlib/backends/backend_agg.py:203: RuntimeWarning: Glyph 50508 missing from current font.\n  font.set_text(s, 0, flags=flags)\n/Library/Frameworks/Python.framework/Versions/3.9/lib/python3.9/site-packages/matplotlib/backends/backend_agg.py:203: RuntimeWarning: Glyph 48372 missing from current font.\n  font.set_text(s, 0, flags=flags)\n/Library/Frameworks/Python.framework/Versions/3.9/lib/python3.9/site-packages/matplotlib/backends/backend_agg.py:203: RuntimeWarning: Glyph 51088 missing from current font.\n  font.set_text(s, 0, flags=flags)\n/Library/Frameworks/Python.framework/Versions/3.9/lib/python3.9/site-packages/matplotlib/backends/backend_agg.py:203: RuntimeWarning: Glyph 47456 missing from current font.\n  font.set_text(s, 0, flags=flags)\n"
        },
        {
         "data": {
          "image/png": "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\n",
          "text/plain": "<Figure size 720x432 with 1 Axes>"
         },
         "metadata": {
          "needs_background": "light"
         },
         "output_type": "display_data"
        },
        {
         "data": {
          "text/plain": "None"
         },
         "metadata": {},
         "output_type": "display_data"
        }
       ]
      }
     },
     "0883a82ed63b4e22be5ca9a0010ddda1": {
      "model_module": "@jupyter-widgets/base",
      "model_module_version": "1.2.0",
      "model_name": "LayoutModel",
      "state": {}
     },
     "090863c8722041a99c9d6962249e6a82": {
      "model_module": "@jupyter-widgets/controls",
      "model_module_version": "1.5.0",
      "model_name": "DescriptionStyleModel",
      "state": {
       "description_width": ""
      }
     },
     "0a02f56d7d054441b2024e43ad608f40": {
      "model_module": "@jupyter-widgets/controls",
      "model_module_version": "1.5.0",
      "model_name": "DropdownModel",
      "state": {
       "_options_labels": [
        " ",
        "1837블랙티",
        "감귤당근주스",
        "겐마이차그린",
        "고구마라떼",
        "고구마스무디",
        "고흥유자차",
        "골드키위주스",
        "과일주스",
        "구아바그라니따",
        "구아바주스",
        "군고구마라떼",
        "그나와민트티",
        "그랜마애플블랙밀크티",
        "그랜마애플블랙티",
        "그린라떼",
        "그린민트모카탐앤치노",
        "그린민트초콜릿",
        "그린민트카페모카",
        "그린밀크티",
        "그린밸런스",
        "그린비엔나",
        "그린티그라니따",
        "그린티라떼",
        "그린티블렌디드",
        "그린티스노우",
        "그린티아이스블렌디드",
        "그린티크림라떼",
        "그린티탐앤치노",
        "그린티할리치노",
        "깔라만시에이드",
        "깔라만시티",
        "꿀밤라떼",
        "꿀복숭아플랫치노",
        "나이트로그린티애플",
        "나이트로바닐라크림",
        "나이트로쇼콜라클라우드",
        "나이트로콜드브루",
        "나이트로히비스커스라즈베리",
        "녹차라떼",
        "녹차빽스치노",
        "녹차플랫치노",
        "다크초코칩할리치노",
        "단호박식혜",
        "달고나카페라떼",
        "달달연유라떼",
        "달콤스노우",
        "달콤아이스티",
        "당근청귤이지주스",
        "더블베리스파클링",
        "더블샷바닐라딜라이트",
        "더블에스프레소칩프라푸치노",
        "더블초콜릿",
        "더블카페라떼",
        "돌체블랙밀크티",
        "돌체콜드브루",
        "드립커피",
        "디카페인버블흑당콜드브루",
        "디카페인연유콜드브루",
        "디카페인콜드브루니트로",
        "디카페인콜드브루라떼",
        "디카페인콜드브루아메리카노",
        "디카페인콜드브루크림넛",
        "디카페인콜드브루티라미수",
        "디카페인콜드브루화이트비엔나",
        "디카페인흑당콜드브루",
        "딸기쉐이크",
        "딸기스노우",
        "딸기스무디",
        "딸기요거트블렌디드",
        "딸기요거트스무디",
        "딸기요거트플랫치노",
        "딸기주스",
        "딸기치즈케익할리치노",
        "라떼비엔나",
        "라벤더카페브레베",
        "라임패션티",
        "라임플로터",
        "럼샷코르타도",
        "레드밸런스",
        "레드선라이즈",
        "레드자몽스파클링에이드",
        "레모네이드",
        "레몬머틀티",
        "레몬민트그라니따",
        "레몬셔벗에이드",
        "레몬스윗플럼",
        "레몬스파클링",
        "레몬에이드",
        "레몬유자캐모마일티",
        "레몬차",
        "레몬캐모마일",
        "레몬티",
        "로마노",
        "로얄밀크티",
        "로얄밀크티쉐이크",
        "로얄캐모마일",
        "로즈자스민티",
        "로즈힙밀크티",
        "롱블랙",
        "루비자몽주스",
        "루비자몽핫주스",
        "루이보스빌베리",
        "루이보스아몬드밀크티",
        "루이보스크림티",
        "리스트레또딜라이트",
        "리얼벨지안초코",
        "리얼벨지안카페모카",
        "말차레모네이드프로즌티",
        "망고바나나라떼",
        "망고바나나블렌디드",
        "망고바나나아이스블렌디드",
        "망고스노우",
        "망고스무디",
        "망고오렌지스무디",
        "망고요거트그라니따",
        "망고요거트스무디",
        "망고주스",
        "망고패션스무디",
        "망고패션후르츠블렌디드",
        "망고프라페",
        "망고플랫치노",
        "매직윈터트로피컬핫펀치",
        "매직팝스플래쉬피지오",
        "메론밀크쉐이크",
        "멜론스무디",
        "모로칸민트",
        "모로칸민트라떼",
        "모카라떼",
        "모카블렌디드",
        "모카아이스블렌디드",
        "모카칩프라페",
        "모카콘파나그라니따",
        "모카탐앤치노",
        "모카포트아포가또",
        "모카프라푸치노",
        "모카플랫치노",
        "모히또라떼",
        "미숫가루",
        "미초(석류)에이드",
        "미초에이드",
        "민트모카",
        "민트블렌드티",
        "민트초코",
        "민트초코렛칩플랫치노",
        "민트초코할리치노",
        "민트초콜릿",
        "밀크쉐이크",
        "밀크티",
        "밀크티라떼",
        "밀크티크림라떼",
        "밀크티할리치노",
        "바닐라딜라이트",
        "바닐라라떼",
        "바닐라라떼마끼아또",
        "바닐라블렌디드",
        "바닐라쉐이크",
        "바닐라스타벅스더블샷",
        "바닐라아이스블렌디드",
        "바닐라카페라떼",
        "바닐라크림콜드브루",
        "바닐라크림프라푸치노",
        "바닐라탐앤치노",
        "바닐라플랫화이트",
        "밥대신라이스쉐이크",
        "배에이드",
        "버블그린티라떼",
        "버블밀크티",
        "버블크림밀크티",
        "버블흑당라떼",
        "버블흑당콜드브루",
        "베리베리블렌디드",
        "베리베리아이스블렌디드",
        "베리스파클링",
        "복숭아그라니따",
        "복숭아얼그레이",
        "복숭아자두스파클링",
        "블랙와플칩크림프라푸치노",
        "블랙티",
        "블랙티레모네이드피지오",
        "블랙티얼그레이",
        "블랙티잉글리쉬",
        "블랙포레스트블렌디드",
        "블랙포레스트아이스블렌디드",
        "블론드리스트레토마키아또",
        "블론드바닐라더블샷마키아또",
        "블론드에스프레소토닉",
        "블론드카라멜클라우드마키아또",
        "블론드코코아클라우드마키아또",
        "블루레몬에이드",
        "블루베리스노우",
        "블루베리스무디",
        "블루베리요거트",
        "블루베리요거트그라니따",
        "블루베리요거트드링크",
        "블루베리요거트스무디",
        "블루베리요거트플랫치노",
        "블루베리요거트할리치노",
        "블루캔디소다",
        "비엔나커피",
        "비체린",
        "비트사과착즙스무디",
        "비트사과착즙주스",
        "빽's라떼",
        "살구실론",
        "상그리아에이드",
        "상큼라C요거트",
        "새콤리얼주스",
        "샤인머스캣주스",
        "샤인머스켓그라니따",
        "샤케라또",
        "샹그리아에이드",
        "석류애플라임",
        "석류에이드",
        "석류오리지널",
        "숏라떼",
        "수박주스",
        "수정과",
        "슈퍼밸런스",
        "스웨디쉬베리즈",
        "스위트크림라떼",
        "스퀴즈레몬차",
        "스타벅스돌체라떼",
        "스트로베리그라니따",
        "스트로베리요거트그라니따",
        "스트로베리주스",
        "스트로베리피치프라페",
        "스팀우유",
        "스파클링망고",
        "스파클링스웨디쉬레몬",
        "스파클링에이드",
        "스페니쉬연유라떼",
        "시그니처라떼",
        "시그니처초콜릿",
        "시그니처핫초콜릿",
        "시나몬모카탐앤치노",
        "시나몬초콜릿",
        "시나몬초콜릿탐앤치노",
        "시나몬카페모카",
        "싱글오리진",
        "쑥라떼",
        "아메리치노",
        "아메리치노라떼",
        "아메리치노흑당",
        "아메리치노흑당라떼",
        "아메리카노",
        "아보카도바나나",
        "아보카도초코",
        "아이스그린티라떼",
        "아이스미초",
        "아이스초콜릿",
        "아이스커피",
        "아이스크림카페라떼",
        "아이스티",
        "아이스티라즈베리",
        "아이스티레몬",
        "아이스티복숭아",
        "아이스홍시",
        "아인슈페너",
        "아카시아꿀차",
        "아포가또",
        "아포가토스트로베리쿠키",
        "아포가토오리지널",
        "아포가토콜드브루바닐라모카",
        "아프리칸선라이즈",
        "애플민트티",
        "애플에이드",
        "애플티",
        "어린잎녹차작설차",
        "얼그레이",
        "얼그레이리저브",
        "얼그레이밀크티",
        "얼그레이홍차블랙티",
        "에스프레소",
        "에스프레소꼰빠냐",
        "에스프레소도피오",
        "에스프레소마끼아또",
        "에스프레소마키아또",
        "에스프레소콘파나",
        "에스프레소콘파나그라니따",
        "에스프레소콘파냐",
        "에스프레소탐앤치노",
        "에스프레소프라푸치노",
        "연유라떼",
        "연유카페라떼",
        "연유콜드브루",
        "영그레이얼그레이",
        "옐로우패션",
        "오늘의커피",
        "오렌지보스루이보스오렌지",
        "오렌지에이드",
        "오렌지자몽주스",
        "오렌지자몽티",
        "오렌지주스",
        "오렌지파인착즙스무디",
        "오렌지파인착즙주스",
        "오렌지플로터",
        "오렌지핫주스",
        "오르조",
        "오리지널드립커피",
        "오리지널밀크티",
        "오리진쉐이크",
        "오트밀라떼",
        "오트밀블루베리스노우",
        "오트밀카라멜스노우",
        "와일드베리플로터",
        "완전딸기",
        "완전딸기바나나",
        "완전망고",
        "완전복숭아",
        "완전수박",
        "완전아보카도",
        "완전자두",
        "완전초코",
        "완전초코바나나",
        "완전파인애플",
        "요거트스노우",
        "요거프라페",
        "원조빽스치노",
        "원조커피",
        "월넛치노",
        "유스베리티",
        "유자레몬티",
        "유자몽",
        "유자민트티",
        "유자스무디",
        "유자에이드",
        "유자차",
        "유자캐모마일",
        "유자캐모마일블렌디드",
        "유자캐모마일아이스블렌디드",
        "유자티",
        "유자파인애플주스",
        "유자피나콜라다",
        "유채꿀애플스파클링",
        "율무이이",
        "이곡라떼",
        "이디야사과주스",
        "이디야콤부차복숭아망고",
        "이디야콤부차청포도레몬",
        "익스트림티블렌디드",
        "잉글리쉬브랙퍼스트",
        "잉글리쉬브렉퍼스트",
        "잉글리쉬브렉퍼스트라떼",
        "잉글리쉬브렉퍼스트티",
        "자두그라니따",
        "자몽네이블오렌지",
        "자몽셔벗블렌디드",
        "자몽스파클링",
        "자몽에이드",
        "자몽차",
        "자몽티",
        "자몽파인스파클링",
        "자몽플랫치노",
        "자몽허니블랙티",
        "자바초코렛칩스노우",
        "자바칩민트그라니따",
        "자바칩탐앤치노",
        "자바칩프라푸치노",
        "자색고구마라떼",
        "작설",
        "제주까망라떼",
        "제주까망크림프라푸치노",
        "제주레드빈라떼",
        "제주레드빈블렌디드",
        "제주말차프라페",
        "제주비자림콜드브루",
        "제주쑥떡크림프라푸치노",
        "제주쑥쑥라떼",
        "제주유기녹차",
        "제주유기농말차로만든라떼",
        "제주유기농말차로만든크림프라푸치노",
        "제주청귤블라썸",
        "제주청귤오리지널",
        "제주청보리라떼",
        "제주청보리크림프라푸치노",
        "제주한라봉감귤차",
        "제주한라봉블랙티블렌디드",
        "진셍페퍼민트",
        "차이라떼",
        "차이티",
        "차이티라떼",
        "청포도스파클링",
        "청포도슬러쉬",
        "청포도에이드",
        "청포도케일착즙스무디",
        "청포도케일착즙주스",
        "청포도플라워",
        "초코렛칩플랫치노",
        "초코묻고더블쉐이크",
        "초코쉐이크",
        "초코쿠키쉐이크",
        "초콜렛라떼",
        "초콜릿",
        "초콜릿라떼",
        "초콜릿블랙콜드브루",
        "초콜릿크림칩프라푸치노",
        "치아씨드요거트",
        "치즈가쿠키했대쉐이크",
        "카라멜라떼마끼아또",
        "카라멜마끼아또",
        "카라멜블렌디드",
        "카라멜아이스블렌디드",
        "카라멜콘파나그라니따",
        "카라멜프라페",
        "카라멜프라푸치노",
        "카라멜플랫치노",
        "카모마일",
        "카페라떼",
        "카페모카",
        "카페수아",
        "카푸치노",
        "캐러멜마키아토",
        "캐러멜블린디드",
        "캐러멜아이스블렌디드",
        "캐모마일레드티",
        "캐모마일블렌드티",
        "캐모마일프루티",
        "캬라멜마끼아또",
        "캬라멜탐앤치노",
        "커스터드라떼",
        "커즈마인시트러스캐모마일",
        "커피쉐이크",
        "커피스타벅스더블샷",
        "커피젤리카페라떼",
        "커피플랫치노",
        "케모마일",
        "케일&사과주스",
        "코코넛라떼",
        "코코넛밀크스노우",
        "코코넛커피스무디",
        "코코넛화이트콜드브루",
        "콜드브루",
        "콜드브루니트로",
        "콜드브루더치커피",
        "콜드브루딜라이트",
        "콜드브루라떼",
        "콜드브루모카할리치노",
        "콜드브루몰트",
        "콜드브루아메리카노",
        "콜드브루크림넛",
        "콜드브루티라미수",
        "콜드브루플로트",
        "콜드브루할리치노",
        "콜드브루화이트비엔나",
        "쿠키앤크림스노우",
        "쿠키크런치빽스치노",
        "쿨라임피지오",
        "쿨민트",
        "크리미모카라떼",
        "크림슨펀치",
        "크림카라멜",
        "클래식아포가토",
        "키위바나나주스",
        "키위주스",
        "토마토주스",
        "토피넛라떼",
        "톡톡에이드",
        "티라미수라떼",
        "티라미스크림라떼",
        "파미그래네이트블루베리",
        "파인그린",
        "패션탱고티레모네이드피지오",
        "패션파인마테치즈크림티",
        "패션푸르트칵테일티",
        "패션후르츠스무디",
        "페퍼민트",
        "페퍼민트티",
        "퓨어더블초콜렛블렌디드",
        "퓨어더블초콜렛아이스블렌디드",
        "퓨어바닐라블렌디드",
        "퓨어바닐라아이스블렌디드",
        "프렌치얼그레이",
        "프로틴쉐이크",
        "프루티하동머스캣그린티",
        "프룻밸런스",
        "프리미엄블렌드딥라떼",
        "프리미엄스무디감귤",
        "프리미엄스무디복숭아",
        "프리미엄스무디한라봉",
        "프리미엄요거트스무디감귤",
        "프리미엄요거트스무디복숭아",
        "프리미엄요거트스무디한라봉",
        "플랫화이트",
        "플러피판다핫초콜릿",
        "플레인요거트",
        "플레인요거트그라니따",
        "플레인요거트드링크",
        "플레인요거트스무디",
        "플레인요거트플랫치노",
        "플레인요거트할리치노",
        "피스타치오빽스치노",
        "피스타치오크림프라푸치노",
        "피치&레몬블렌디드",
        "피치우롱",
        "피치우롱티",
        "피치젤리티",
        "피치젤리핫티",
        "핑크자몽피지오",
        "한라봉봉",
        "한라봉스노우",
        "한라봉스파클링에이드",
        "한라봉주스",
        "핫초코",
        "핫초콜릿",
        "해남녹차",
        "햇사과주스",
        "허니레몬아이스티",
        "허니레몬티",
        "허브티로즈마리",
        "허브티쟈스민",
        "허브티캐모마일",
        "허브티페퍼민트",
        "헤이즐넛라떼",
        "헤이즐넛블렌디드",
        "헤이즐넛스타벅스더블샷",
        "헤이즐넛아메리카노",
        "헤이즐넛아이스블렌디드",
        "헤이즐넛아이스커피",
        "헤이즐넛카푸치노",
        "홍시스무디",
        "홍시주스",
        "홍자몽차",
        "화이트딸기크림프라푸치노",
        "화이트초코",
        "화이트초콜릿",
        "화이트초콜릿라떼마끼아또",
        "화이트초콜릿모카",
        "화이트초콜릿모카프라푸치노",
        "화이트타이거프라푸치노",
        "화이트포레스트블렌디드",
        "화이트포레스트아이스블렌디드",
        "후레쉬망고블렌디드",
        "후레쉬망고아이스블렌디드",
        "후레쉬에이드레몬",
        "후레쉬에이드오렌지",
        "후레쉬에이드자몽",
        "후레쉬쥬스오렌지",
        "후레쉬쥬스자몽",
        "흑당곡물라떼",
        "흑당라떼",
        "흑당버블라떼",
        "흑당버블밀크티",
        "흑당카페라떼",
        "흑당콜드브루",
        "흑당콜드브루라떼",
        "흑당펄라떼",
        "흑당펄밀크티",
        "흑임자카페라떼",
        "히비스커스뱅쇼",
        "히비스커스블렌드",
        "히비스커스블렌드티"
       ],
       "description": "음료명 : ",
       "index": 245,
       "layout": "IPY_MODEL_964bcf4d60804f05b8c0b6cf5c29e1be",
       "style": "IPY_MODEL_11e14254f8a14e2497d25d6e85d026e8"
      }
     },
     "0a933ca3fa8045019ded3b2ad4021710": {
      "model_module": "@jupyter-widgets/controls",
      "model_module_version": "1.5.0",
      "model_name": "ProgressStyleModel",
      "state": {
       "description_width": "initial"
      }
     },
     "0ac295284ac74c10a1be777c641d8458": {
      "model_module": "@jupyter-widgets/output",
      "model_module_version": "1.0.0",
      "model_name": "OutputModel",
      "state": {
       "layout": "IPY_MODEL_22fe42f52f1744ff8b9a988b98a4211e",
       "outputs": [
        {
         "data": {
          "text/html": "<div>\n<style scoped>\n    .dataframe tbody tr th:only-of-type {\n        vertical-align: middle;\n    }\n\n    .dataframe tbody tr th {\n        vertical-align: top;\n    }\n\n    .dataframe thead th {\n        text-align: right;\n    }\n</style>\n<table border=\"1\" class=\"dataframe\">\n  <thead>\n    <tr style=\"text-align: right;\">\n      <th></th>\n      <th>index</th>\n      <th>Unnamed: 0</th>\n      <th>카페명</th>\n      <th>음료명</th>\n      <th>언급빈도</th>\n      <th>언급률</th>\n    </tr>\n  </thead>\n  <tbody>\n    <tr>\n      <th>0</th>\n      <td>0</td>\n      <td>0</td>\n      <td>스타벅스</td>\n      <td>아메리카노</td>\n      <td>602380</td>\n      <td>0.442240</td>\n    </tr>\n    <tr>\n      <th>1</th>\n      <td>541</td>\n      <td>541</td>\n      <td>앤제리너스</td>\n      <td>아메리카노</td>\n      <td>23208</td>\n      <td>0.415445</td>\n    </tr>\n    <tr>\n      <th>2</th>\n      <td>591</td>\n      <td>591</td>\n      <td>파스쿠찌</td>\n      <td>아메리카노</td>\n      <td>22171</td>\n      <td>0.390637</td>\n    </tr>\n    <tr>\n      <th>3</th>\n      <td>194</td>\n      <td>194</td>\n      <td>빽다방</td>\n      <td>아메리카노</td>\n      <td>55879</td>\n      <td>0.368371</td>\n    </tr>\n    <tr>\n      <th>4</th>\n      <td>332</td>\n      <td>332</td>\n      <td>커피빈</td>\n      <td>아메리카노</td>\n      <td>47572</td>\n      <td>0.287752</td>\n    </tr>\n    <tr>\n      <th>5</th>\n      <td>477</td>\n      <td>477</td>\n      <td>할리스</td>\n      <td>아메리카노</td>\n      <td>44353</td>\n      <td>0.243837</td>\n    </tr>\n    <tr>\n      <th>6</th>\n      <td>106</td>\n      <td>106</td>\n      <td>이디야</td>\n      <td>아메리카노</td>\n      <td>30425</td>\n      <td>0.135534</td>\n    </tr>\n    <tr>\n      <th>7</th>\n      <td>409</td>\n      <td>409</td>\n      <td>투썸플레이스</td>\n      <td>아메리카노</td>\n      <td>46652</td>\n      <td>0.110917</td>\n    </tr>\n    <tr>\n      <th>8</th>\n      <td>271</td>\n      <td>271</td>\n      <td>탐앤탐스</td>\n      <td>아메리카노</td>\n      <td>26232</td>\n      <td>0.085246</td>\n    </tr>\n  </tbody>\n</table>\n</div>",
          "text/plain": "   index  Unnamed: 0     카페명    음료명    언급빈도       언급률\n0      0           0    스타벅스  아메리카노  602380  0.442240\n1    541         541   앤제리너스  아메리카노   23208  0.415445\n2    591         591    파스쿠찌  아메리카노   22171  0.390637\n3    194         194     빽다방  아메리카노   55879  0.368371\n4    332         332     커피빈  아메리카노   47572  0.287752\n5    477         477     할리스  아메리카노   44353  0.243837\n6    106         106     이디야  아메리카노   30425  0.135534\n7    409         409  투썸플레이스  아메리카노   46652  0.110917\n8    271         271    탐앤탐스  아메리카노   26232  0.085246"
         },
         "metadata": {},
         "output_type": "display_data"
        }
       ]
      }
     },
     "0fbe6f13e00d492b906e6086bf06702a": {
      "model_module": "@jupyter-widgets/controls",
      "model_module_version": "1.5.0",
      "model_name": "FloatProgressModel",
      "state": {
       "bar_style": "success",
       "description": "100%",
       "layout": "IPY_MODEL_ecb7391b474249aab7054a0ea7c75e99",
       "max": 198,
       "style": "IPY_MODEL_f40f23c517a14ed7aa8d0f369439c5b7",
       "value": 198
      }
     },
     "10163bc5ddd3435c8fd3cf80f0b7bfe9": {
      "model_module": "@jupyter-widgets/base",
      "model_module_version": "1.2.0",
      "model_name": "LayoutModel",
      "state": {}
     },
     "106c69e058d04770b79deee125133f39": {
      "model_module": "@jupyter-widgets/controls",
      "model_module_version": "1.5.0",
      "model_name": "DescriptionStyleModel",
      "state": {
       "description_width": ""
      }
     },
     "110dab80eec24cb4b3ea2bc8fc1a8759": {
      "model_module": "@jupyter-widgets/base",
      "model_module_version": "1.2.0",
      "model_name": "LayoutModel",
      "state": {}
     },
     "11e14254f8a14e2497d25d6e85d026e8": {
      "model_module": "@jupyter-widgets/controls",
      "model_module_version": "1.5.0",
      "model_name": "DescriptionStyleModel",
      "state": {
       "description_width": ""
      }
     },
     "11ef3866d22242878797b7dde0d5f3da": {
      "model_module": "@jupyter-widgets/controls",
      "model_module_version": "1.5.0",
      "model_name": "HTMLModel",
      "state": {
       "layout": "IPY_MODEL_65a8239ce6594d1d88412ef5756355c9",
       "style": "IPY_MODEL_41c9d37eea9340edb5fd51d899400cda",
       "value": " 198/198 [00:00&lt;00:00, 1873.57it/s]"
      }
     },
     "129ebcef61cd4205b9b6e42fb792d721": {
      "model_module": "@jupyter-widgets/controls",
      "model_module_version": "1.5.0",
      "model_name": "TabModel",
      "state": {
       "_titles": {
        "0": "파스쿠찌 맛있는 음료",
        "1": "그래프"
       },
       "children": [
        "IPY_MODEL_c91b753ed5f747e0a4190824c50cd15e",
        "IPY_MODEL_dc358750bf624e8983739f2500d8e266"
       ],
       "layout": "IPY_MODEL_98d7dead8d5d4a988b4d3b4ce02205ad",
       "selected_index": 1
      }
     },
     "12eda3f85c0945bb8c95d49f772bdf08": {
      "model_module": "@jupyter-widgets/base",
      "model_module_version": "1.2.0",
      "model_name": "LayoutModel",
      "state": {}
     },
     "13fb8b6e14764a979c62da16394daa5a": {
      "model_module": "@jupyter-widgets/output",
      "model_module_version": "1.0.0",
      "model_name": "OutputModel",
      "state": {
       "layout": "IPY_MODEL_b979125d43244ddfa8845780debc7a7c",
       "outputs": [
        {
         "ename": "NameError",
         "evalue": "name 'sentiment' is not defined",
         "output_type": "error",
         "traceback": [
          "\u001b[0;31m---------------------------------------------------------------------------\u001b[0m",
          "\u001b[0;31mNameError\u001b[0m                                 Traceback (most recent call last)",
          "\u001b[0;32m<ipython-input-38-01de8dc800d7>\u001b[0m in \u001b[0;36m<module>\u001b[0;34m\u001b[0m\n\u001b[1;32m     12\u001b[0m     \u001b[0mdisplay\u001b[0m\u001b[0;34m(\u001b[0m\u001b[0mnegativeDF\u001b[0m\u001b[0;34m(\u001b[0m\u001b[0mcafe\u001b[0m\u001b[0;34m)\u001b[0m\u001b[0;34m)\u001b[0m\u001b[0;34m\u001b[0m\u001b[0;34m\u001b[0m\u001b[0m\n\u001b[1;32m     13\u001b[0m \u001b[0;32mwith\u001b[0m \u001b[0moutputNplot\u001b[0m\u001b[0;34m:\u001b[0m\u001b[0;34m\u001b[0m\u001b[0;34m\u001b[0m\u001b[0m\n\u001b[0;32m---> 14\u001b[0;31m     \u001b[0mdisplay\u001b[0m\u001b[0;34m(\u001b[0m\u001b[0mnegativeBar\u001b[0m\u001b[0;34m(\u001b[0m\u001b[0mcafe\u001b[0m\u001b[0;34m)\u001b[0m\u001b[0;34m)\u001b[0m\u001b[0;34m\u001b[0m\u001b[0;34m\u001b[0m\u001b[0m\n\u001b[0m\u001b[1;32m     15\u001b[0m \u001b[0;32mwith\u001b[0m \u001b[0moutputP\u001b[0m\u001b[0;34m:\u001b[0m\u001b[0;34m\u001b[0m\u001b[0;34m\u001b[0m\u001b[0m\n\u001b[1;32m     16\u001b[0m     \u001b[0mdisplay\u001b[0m\u001b[0;34m(\u001b[0m\u001b[0mpositiveDF\u001b[0m\u001b[0;34m(\u001b[0m\u001b[0mcafe\u001b[0m\u001b[0;34m)\u001b[0m\u001b[0;34m)\u001b[0m\u001b[0;34m\u001b[0m\u001b[0;34m\u001b[0m\u001b[0m\n",
          "\u001b[0;32m<ipython-input-37-e7c501a65902>\u001b[0m in \u001b[0;36mnegativeBar\u001b[0;34m(name)\u001b[0m\n\u001b[1;32m     32\u001b[0m \u001b[0;34m\u001b[0m\u001b[0m\n\u001b[1;32m     33\u001b[0m \u001b[0;32mdef\u001b[0m \u001b[0mnegativeBar\u001b[0m\u001b[0;34m(\u001b[0m\u001b[0mname\u001b[0m\u001b[0;34m)\u001b[0m\u001b[0;34m:\u001b[0m\u001b[0;34m\u001b[0m\u001b[0;34m\u001b[0m\u001b[0m\n\u001b[0;32m---> 34\u001b[0;31m     \u001b[0mdf\u001b[0m\u001b[0;34m=\u001b[0m\u001b[0mnegativeDF\u001b[0m\u001b[0;34m(\u001b[0m\u001b[0mname\u001b[0m\u001b[0;34m)\u001b[0m\u001b[0;34m.\u001b[0m\u001b[0mhead\u001b[0m\u001b[0;34m(\u001b[0m\u001b[0;36m15\u001b[0m\u001b[0;34m)\u001b[0m\u001b[0;34m\u001b[0m\u001b[0;34m\u001b[0m\u001b[0m\n\u001b[0m\u001b[1;32m     35\u001b[0m     \u001b[0mdf\u001b[0m \u001b[0;34m=\u001b[0m \u001b[0mdf\u001b[0m\u001b[0;34m.\u001b[0m\u001b[0mloc\u001b[0m\u001b[0;34m[\u001b[0m\u001b[0;34m:\u001b[0m\u001b[0;34m,\u001b[0m\u001b[0;34m[\u001b[0m\u001b[0;34m\"단어\"\u001b[0m\u001b[0;34m,\u001b[0m\u001b[0;34m\"비율\"\u001b[0m\u001b[0;34m]\u001b[0m\u001b[0;34m]\u001b[0m\u001b[0;34m\u001b[0m\u001b[0;34m\u001b[0m\u001b[0m\n\u001b[1;32m     36\u001b[0m     \u001b[0mdf\u001b[0m \u001b[0;34m=\u001b[0m \u001b[0mdf\u001b[0m\u001b[0;34m.\u001b[0m\u001b[0mrename\u001b[0m\u001b[0;34m(\u001b[0m\u001b[0mcolumns\u001b[0m\u001b[0;34m=\u001b[0m\u001b[0;34m{\u001b[0m\u001b[0;34m\"비율\"\u001b[0m\u001b[0;34m:\u001b[0m\u001b[0mname\u001b[0m\u001b[0;34m}\u001b[0m\u001b[0;34m)\u001b[0m\u001b[0;34m\u001b[0m\u001b[0;34m\u001b[0m\u001b[0m\n",
          "\u001b[0;32m<ipython-input-37-e7c501a65902>\u001b[0m in \u001b[0;36mnegativeDF\u001b[0;34m(name)\u001b[0m\n\u001b[1;32m      5\u001b[0m         \u001b[0mnegative\u001b[0m \u001b[0;34m=\u001b[0m \u001b[0msentdf\u001b[0m\u001b[0;34m.\u001b[0m\u001b[0mloc\u001b[0m\u001b[0;34m[\u001b[0m\u001b[0msentdf\u001b[0m\u001b[0;34m[\u001b[0m\u001b[0;34m\"감성분석\"\u001b[0m\u001b[0;34m]\u001b[0m\u001b[0;34m==\u001b[0m\u001b[0;34m'Negative'\u001b[0m\u001b[0;34m,\u001b[0m \u001b[0;34m:\u001b[0m\u001b[0;34m]\u001b[0m\u001b[0;34m\u001b[0m\u001b[0;34m\u001b[0m\u001b[0m\n\u001b[1;32m      6\u001b[0m     \u001b[0;32melse\u001b[0m\u001b[0;34m:\u001b[0m\u001b[0;34m\u001b[0m\u001b[0;34m\u001b[0m\u001b[0m\n\u001b[0;32m----> 7\u001b[0;31m         \u001b[0mnegative\u001b[0m \u001b[0;34m=\u001b[0m \u001b[0msentiment\u001b[0m\u001b[0;34m.\u001b[0m\u001b[0mloc\u001b[0m\u001b[0;34m[\u001b[0m\u001b[0msentiment\u001b[0m\u001b[0;34m[\u001b[0m\u001b[0;34m\"감성분석\"\u001b[0m\u001b[0;34m]\u001b[0m\u001b[0;34m==\u001b[0m\u001b[0;34m'Negative'\u001b[0m\u001b[0;34m,\u001b[0m \u001b[0;34m:\u001b[0m\u001b[0;34m]\u001b[0m\u001b[0;34m\u001b[0m\u001b[0;34m\u001b[0m\u001b[0m\n\u001b[0m\u001b[1;32m      8\u001b[0m \u001b[0;34m\u001b[0m\u001b[0m\n\u001b[1;32m      9\u001b[0m \u001b[0;34m\u001b[0m\u001b[0m\n",
          "\u001b[0;31mNameError\u001b[0m: name 'sentiment' is not defined"
         ]
        }
       ]
      }
     },
     "145e1c454f224175a0a7fc292a52018f": {
      "model_module": "@jupyter-widgets/controls",
      "model_module_version": "1.5.0",
      "model_name": "TabModel",
      "state": {
       "_titles": {
        "0": "할리스 대표 음료",
        "1": "그래프"
       },
       "children": [
        "IPY_MODEL_8dbc4203b7854ca2be5ba6abb8c52a80",
        "IPY_MODEL_15df94018a99478eac64390ed59885a6"
       ],
       "layout": "IPY_MODEL_1853d05ee7544327b9f22e2e267d2a6e"
      }
     },
     "1533bedf2f8f4c089468004fa92cceb2": {
      "model_module": "@jupyter-widgets/base",
      "model_module_version": "1.2.0",
      "model_name": "LayoutModel",
      "state": {}
     },
     "15595eb81a9443668eb94aa439152fde": {
      "model_module": "@jupyter-widgets/controls",
      "model_module_version": "1.5.0",
      "model_name": "DescriptionStyleModel",
      "state": {
       "description_width": ""
      }
     },
     "15aff3209fa04fbb9fb255058c320108": {
      "model_module": "@jupyter-widgets/controls",
      "model_module_version": "1.5.0",
      "model_name": "HTMLModel",
      "state": {
       "layout": "IPY_MODEL_fc542e059ca74fc2b6fa8de94230f5ea",
       "style": "IPY_MODEL_65565af23a5a4e0794cb4f8a46fea793",
       "value": " 62/62 [01:18&lt;00:00,  1.27s/it]"
      }
     },
     "15df94018a99478eac64390ed59885a6": {
      "model_module": "@jupyter-widgets/output",
      "model_module_version": "1.0.0",
      "model_name": "OutputModel",
      "state": {
       "layout": "IPY_MODEL_10163bc5ddd3435c8fd3cf80f0b7bfe9",
       "outputs": [
        {
         "data": {
          "image/png": "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\n",
          "text/plain": "<Figure size 1080x1080 with 1 Axes>"
         },
         "metadata": {},
         "output_type": "display_data"
        },
        {
         "data": {
          "text/plain": "None"
         },
         "metadata": {},
         "output_type": "display_data"
        }
       ]
      }
     },
     "163c6134a55d41d9aee785c5bb0b10de": {
      "model_module": "@jupyter-widgets/base",
      "model_module_version": "1.2.0",
      "model_name": "LayoutModel",
      "state": {}
     },
     "1853d05ee7544327b9f22e2e267d2a6e": {
      "model_module": "@jupyter-widgets/base",
      "model_module_version": "1.2.0",
      "model_name": "LayoutModel",
      "state": {}
     },
     "199278f031ab4d1a82426c928357c142": {
      "model_module": "@jupyter-widgets/controls",
      "model_module_version": "1.5.0",
      "model_name": "DropdownModel",
      "state": {
       "_options_labels": [
        " ",
        "1837블랙티",
        "감귤당근주스",
        "겐마이차그린",
        "고구마라떼",
        "고구마스무디",
        "고흥유자차",
        "골드키위주스",
        "과일주스",
        "구아바그라니따",
        "구아바주스",
        "군고구마라떼",
        "그나와민트티",
        "그랜마애플블랙밀크티",
        "그랜마애플블랙티",
        "그린라떼",
        "그린민트모카탐앤치노",
        "그린민트초콜릿",
        "그린민트카페모카",
        "그린밀크티",
        "그린밸런스",
        "그린비엔나",
        "그린티그라니따",
        "그린티라떼",
        "그린티블렌디드",
        "그린티스노우",
        "그린티아이스블렌디드",
        "그린티크림라떼",
        "그린티탐앤치노",
        "그린티할리치노",
        "깔라만시에이드",
        "깔라만시티",
        "꿀밤라떼",
        "꿀복숭아플랫치노",
        "나이트로그린티애플",
        "나이트로바닐라크림",
        "나이트로쇼콜라클라우드",
        "나이트로콜드브루",
        "나이트로히비스커스라즈베리",
        "녹차라떼",
        "녹차빽스치노",
        "녹차플랫치노",
        "다크초코칩할리치노",
        "단호박식혜",
        "달고나카페라떼",
        "달달연유라떼",
        "달콤스노우",
        "달콤아이스티",
        "당근청귤이지주스",
        "더블베리스파클링",
        "더블샷바닐라딜라이트",
        "더블에스프레소칩프라푸치노",
        "더블초콜릿",
        "더블카페라떼",
        "돌체블랙밀크티",
        "돌체콜드브루",
        "드립커피",
        "디카페인버블흑당콜드브루",
        "디카페인연유콜드브루",
        "디카페인콜드브루니트로",
        "디카페인콜드브루라떼",
        "디카페인콜드브루아메리카노",
        "디카페인콜드브루크림넛",
        "디카페인콜드브루티라미수",
        "디카페인콜드브루화이트비엔나",
        "디카페인흑당콜드브루",
        "딸기쉐이크",
        "딸기스노우",
        "딸기스무디",
        "딸기요거트블렌디드",
        "딸기요거트스무디",
        "딸기요거트플랫치노",
        "딸기주스",
        "딸기치즈케익할리치노",
        "라떼비엔나",
        "라벤더카페브레베",
        "라임패션티",
        "라임플로터",
        "럼샷코르타도",
        "레드밸런스",
        "레드선라이즈",
        "레드자몽스파클링에이드",
        "레모네이드",
        "레몬머틀티",
        "레몬민트그라니따",
        "레몬셔벗에이드",
        "레몬스윗플럼",
        "레몬스파클링",
        "레몬에이드",
        "레몬유자캐모마일티",
        "레몬차",
        "레몬캐모마일",
        "레몬티",
        "로마노",
        "로얄밀크티",
        "로얄밀크티쉐이크",
        "로얄캐모마일",
        "로즈자스민티",
        "로즈힙밀크티",
        "롱블랙",
        "루비자몽주스",
        "루비자몽핫주스",
        "루이보스빌베리",
        "루이보스아몬드밀크티",
        "루이보스크림티",
        "리스트레또딜라이트",
        "리얼벨지안초코",
        "리얼벨지안카페모카",
        "말차레모네이드프로즌티",
        "망고바나나라떼",
        "망고바나나블렌디드",
        "망고바나나아이스블렌디드",
        "망고스노우",
        "망고스무디",
        "망고오렌지스무디",
        "망고요거트그라니따",
        "망고요거트스무디",
        "망고주스",
        "망고패션스무디",
        "망고패션후르츠블렌디드",
        "망고프라페",
        "망고플랫치노",
        "매직윈터트로피컬핫펀치",
        "매직팝스플래쉬피지오",
        "메론밀크쉐이크",
        "멜론스무디",
        "모로칸민트",
        "모로칸민트라떼",
        "모카라떼",
        "모카블렌디드",
        "모카아이스블렌디드",
        "모카칩프라페",
        "모카콘파나그라니따",
        "모카탐앤치노",
        "모카포트아포가또",
        "모카프라푸치노",
        "모카플랫치노",
        "모히또라떼",
        "미숫가루",
        "미초(석류)에이드",
        "미초에이드",
        "민트모카",
        "민트블렌드티",
        "민트초코",
        "민트초코렛칩플랫치노",
        "민트초코할리치노",
        "민트초콜릿",
        "밀크쉐이크",
        "밀크티",
        "밀크티라떼",
        "밀크티크림라떼",
        "밀크티할리치노",
        "바닐라딜라이트",
        "바닐라라떼",
        "바닐라라떼마끼아또",
        "바닐라블렌디드",
        "바닐라쉐이크",
        "바닐라스타벅스더블샷",
        "바닐라아이스블렌디드",
        "바닐라카페라떼",
        "바닐라크림콜드브루",
        "바닐라크림프라푸치노",
        "바닐라탐앤치노",
        "바닐라플랫화이트",
        "밥대신라이스쉐이크",
        "배에이드",
        "버블그린티라떼",
        "버블밀크티",
        "버블크림밀크티",
        "버블흑당라떼",
        "버블흑당콜드브루",
        "베리베리블렌디드",
        "베리베리아이스블렌디드",
        "베리스파클링",
        "복숭아그라니따",
        "복숭아얼그레이",
        "복숭아자두스파클링",
        "블랙와플칩크림프라푸치노",
        "블랙티",
        "블랙티레모네이드피지오",
        "블랙티얼그레이",
        "블랙티잉글리쉬",
        "블랙포레스트블렌디드",
        "블랙포레스트아이스블렌디드",
        "블론드리스트레토마키아또",
        "블론드바닐라더블샷마키아또",
        "블론드에스프레소토닉",
        "블론드카라멜클라우드마키아또",
        "블론드코코아클라우드마키아또",
        "블루레몬에이드",
        "블루베리스노우",
        "블루베리스무디",
        "블루베리요거트",
        "블루베리요거트그라니따",
        "블루베리요거트드링크",
        "블루베리요거트스무디",
        "블루베리요거트플랫치노",
        "블루베리요거트할리치노",
        "블루캔디소다",
        "비엔나커피",
        "비체린",
        "비트사과착즙스무디",
        "비트사과착즙주스",
        "빽's라떼",
        "살구실론",
        "상그리아에이드",
        "상큼라C요거트",
        "새콤리얼주스",
        "샤인머스캣주스",
        "샤인머스켓그라니따",
        "샤케라또",
        "샹그리아에이드",
        "석류애플라임",
        "석류에이드",
        "석류오리지널",
        "숏라떼",
        "수박주스",
        "수정과",
        "슈퍼밸런스",
        "스웨디쉬베리즈",
        "스위트크림라떼",
        "스퀴즈레몬차",
        "스타벅스돌체라떼",
        "스트로베리그라니따",
        "스트로베리요거트그라니따",
        "스트로베리주스",
        "스트로베리피치프라페",
        "스팀우유",
        "스파클링망고",
        "스파클링스웨디쉬레몬",
        "스파클링에이드",
        "스페니쉬연유라떼",
        "시그니처라떼",
        "시그니처초콜릿",
        "시그니처핫초콜릿",
        "시나몬모카탐앤치노",
        "시나몬초콜릿",
        "시나몬초콜릿탐앤치노",
        "시나몬카페모카",
        "싱글오리진",
        "쑥라떼",
        "아메리치노",
        "아메리치노라떼",
        "아메리치노흑당",
        "아메리치노흑당라떼",
        "아메리카노",
        "아보카도바나나",
        "아보카도초코",
        "아이스그린티라떼",
        "아이스미초",
        "아이스초콜릿",
        "아이스커피",
        "아이스크림카페라떼",
        "아이스티",
        "아이스티라즈베리",
        "아이스티레몬",
        "아이스티복숭아",
        "아이스홍시",
        "아인슈페너",
        "아카시아꿀차",
        "아포가또",
        "아포가토스트로베리쿠키",
        "아포가토오리지널",
        "아포가토콜드브루바닐라모카",
        "아프리칸선라이즈",
        "애플민트티",
        "애플에이드",
        "애플티",
        "어린잎녹차작설차",
        "얼그레이",
        "얼그레이리저브",
        "얼그레이밀크티",
        "얼그레이홍차블랙티",
        "에스프레소",
        "에스프레소꼰빠냐",
        "에스프레소도피오",
        "에스프레소마끼아또",
        "에스프레소마키아또",
        "에스프레소콘파나",
        "에스프레소콘파나그라니따",
        "에스프레소콘파냐",
        "에스프레소탐앤치노",
        "에스프레소프라푸치노",
        "연유라떼",
        "연유카페라떼",
        "연유콜드브루",
        "영그레이얼그레이",
        "옐로우패션",
        "오늘의커피",
        "오렌지보스루이보스오렌지",
        "오렌지에이드",
        "오렌지자몽주스",
        "오렌지자몽티",
        "오렌지주스",
        "오렌지파인착즙스무디",
        "오렌지파인착즙주스",
        "오렌지플로터",
        "오렌지핫주스",
        "오르조",
        "오리지널드립커피",
        "오리지널밀크티",
        "오리진쉐이크",
        "오트밀라떼",
        "오트밀블루베리스노우",
        "오트밀카라멜스노우",
        "와일드베리플로터",
        "완전딸기",
        "완전딸기바나나",
        "완전망고",
        "완전복숭아",
        "완전수박",
        "완전아보카도",
        "완전자두",
        "완전초코",
        "완전초코바나나",
        "완전파인애플",
        "요거트스노우",
        "요거프라페",
        "원조빽스치노",
        "원조커피",
        "월넛치노",
        "유스베리티",
        "유자레몬티",
        "유자몽",
        "유자민트티",
        "유자스무디",
        "유자에이드",
        "유자차",
        "유자캐모마일",
        "유자캐모마일블렌디드",
        "유자캐모마일아이스블렌디드",
        "유자티",
        "유자파인애플주스",
        "유자피나콜라다",
        "유채꿀애플스파클링",
        "율무이이",
        "이곡라떼",
        "이디야사과주스",
        "이디야콤부차복숭아망고",
        "이디야콤부차청포도레몬",
        "익스트림티블렌디드",
        "잉글리쉬브랙퍼스트",
        "잉글리쉬브렉퍼스트",
        "잉글리쉬브렉퍼스트라떼",
        "잉글리쉬브렉퍼스트티",
        "자두그라니따",
        "자몽네이블오렌지",
        "자몽셔벗블렌디드",
        "자몽스파클링",
        "자몽에이드",
        "자몽차",
        "자몽티",
        "자몽파인스파클링",
        "자몽플랫치노",
        "자몽허니블랙티",
        "자바초코렛칩스노우",
        "자바칩민트그라니따",
        "자바칩탐앤치노",
        "자바칩프라푸치노",
        "자색고구마라떼",
        "작설",
        "제주까망라떼",
        "제주까망크림프라푸치노",
        "제주레드빈라떼",
        "제주레드빈블렌디드",
        "제주말차프라페",
        "제주비자림콜드브루",
        "제주쑥떡크림프라푸치노",
        "제주쑥쑥라떼",
        "제주유기녹차",
        "제주유기농말차로만든라떼",
        "제주유기농말차로만든크림프라푸치노",
        "제주청귤블라썸",
        "제주청귤오리지널",
        "제주청보리라떼",
        "제주청보리크림프라푸치노",
        "제주한라봉감귤차",
        "제주한라봉블랙티블렌디드",
        "진셍페퍼민트",
        "차이라떼",
        "차이티",
        "차이티라떼",
        "청포도스파클링",
        "청포도슬러쉬",
        "청포도에이드",
        "청포도케일착즙스무디",
        "청포도케일착즙주스",
        "청포도플라워",
        "초코렛칩플랫치노",
        "초코묻고더블쉐이크",
        "초코쉐이크",
        "초코쿠키쉐이크",
        "초콜렛라떼",
        "초콜릿",
        "초콜릿라떼",
        "초콜릿블랙콜드브루",
        "초콜릿크림칩프라푸치노",
        "치아씨드요거트",
        "치즈가쿠키했대쉐이크",
        "카라멜라떼마끼아또",
        "카라멜마끼아또",
        "카라멜블렌디드",
        "카라멜아이스블렌디드",
        "카라멜콘파나그라니따",
        "카라멜프라페",
        "카라멜프라푸치노",
        "카라멜플랫치노",
        "카모마일",
        "카페라떼",
        "카페모카",
        "카페수아",
        "카푸치노",
        "캐러멜마키아토",
        "캐러멜블린디드",
        "캐러멜아이스블렌디드",
        "캐모마일레드티",
        "캐모마일블렌드티",
        "캐모마일프루티",
        "캬라멜마끼아또",
        "캬라멜탐앤치노",
        "커스터드라떼",
        "커즈마인시트러스캐모마일",
        "커피쉐이크",
        "커피스타벅스더블샷",
        "커피젤리카페라떼",
        "커피플랫치노",
        "케모마일",
        "케일&사과주스",
        "코코넛라떼",
        "코코넛밀크스노우",
        "코코넛커피스무디",
        "코코넛화이트콜드브루",
        "콜드브루",
        "콜드브루니트로",
        "콜드브루더치커피",
        "콜드브루딜라이트",
        "콜드브루라떼",
        "콜드브루모카할리치노",
        "콜드브루몰트",
        "콜드브루아메리카노",
        "콜드브루크림넛",
        "콜드브루티라미수",
        "콜드브루플로트",
        "콜드브루할리치노",
        "콜드브루화이트비엔나",
        "쿠키앤크림스노우",
        "쿠키크런치빽스치노",
        "쿨라임피지오",
        "쿨민트",
        "크리미모카라떼",
        "크림슨펀치",
        "크림카라멜",
        "클래식아포가토",
        "키위바나나주스",
        "키위주스",
        "토마토주스",
        "토피넛라떼",
        "톡톡에이드",
        "티라미수라떼",
        "티라미스크림라떼",
        "파미그래네이트블루베리",
        "파인그린",
        "패션탱고티레모네이드피지오",
        "패션파인마테치즈크림티",
        "패션푸르트칵테일티",
        "패션후르츠스무디",
        "페퍼민트",
        "페퍼민트티",
        "퓨어더블초콜렛블렌디드",
        "퓨어더블초콜렛아이스블렌디드",
        "퓨어바닐라블렌디드",
        "퓨어바닐라아이스블렌디드",
        "프렌치얼그레이",
        "프로틴쉐이크",
        "프루티하동머스캣그린티",
        "프룻밸런스",
        "프리미엄블렌드딥라떼",
        "프리미엄스무디감귤",
        "프리미엄스무디복숭아",
        "프리미엄스무디한라봉",
        "프리미엄요거트스무디감귤",
        "프리미엄요거트스무디복숭아",
        "프리미엄요거트스무디한라봉",
        "플랫화이트",
        "플러피판다핫초콜릿",
        "플레인요거트",
        "플레인요거트그라니따",
        "플레인요거트드링크",
        "플레인요거트스무디",
        "플레인요거트플랫치노",
        "플레인요거트할리치노",
        "피스타치오빽스치노",
        "피스타치오크림프라푸치노",
        "피치&레몬블렌디드",
        "피치우롱",
        "피치우롱티",
        "피치젤리티",
        "피치젤리핫티",
        "핑크자몽피지오",
        "한라봉봉",
        "한라봉스노우",
        "한라봉스파클링에이드",
        "한라봉주스",
        "핫초코",
        "핫초콜릿",
        "해남녹차",
        "햇사과주스",
        "허니레몬아이스티",
        "허니레몬티",
        "허브티로즈마리",
        "허브티쟈스민",
        "허브티캐모마일",
        "허브티페퍼민트",
        "헤이즐넛라떼",
        "헤이즐넛블렌디드",
        "헤이즐넛스타벅스더블샷",
        "헤이즐넛아메리카노",
        "헤이즐넛아이스블렌디드",
        "헤이즐넛아이스커피",
        "헤이즐넛카푸치노",
        "홍시스무디",
        "홍시주스",
        "홍자몽차",
        "화이트딸기크림프라푸치노",
        "화이트초코",
        "화이트초콜릿",
        "화이트초콜릿라떼마끼아또",
        "화이트초콜릿모카",
        "화이트초콜릿모카프라푸치노",
        "화이트타이거프라푸치노",
        "화이트포레스트블렌디드",
        "화이트포레스트아이스블렌디드",
        "후레쉬망고블렌디드",
        "후레쉬망고아이스블렌디드",
        "후레쉬에이드레몬",
        "후레쉬에이드오렌지",
        "후레쉬에이드자몽",
        "후레쉬쥬스오렌지",
        "후레쉬쥬스자몽",
        "흑당곡물라떼",
        "흑당라떼",
        "흑당버블라떼",
        "흑당버블밀크티",
        "흑당카페라떼",
        "흑당콜드브루",
        "흑당콜드브루라떼",
        "흑당펄라떼",
        "흑당펄밀크티",
        "흑임자카페라떼",
        "히비스커스뱅쇼",
        "히비스커스블렌드",
        "히비스커스블렌드티"
       ],
       "description": "음료명 : ",
       "index": 245,
       "layout": "IPY_MODEL_61b1b47a73064f80abdfb6a2d4d96b2c",
       "style": "IPY_MODEL_737bec05cb744928ad7d1a5a6b499c1b"
      }
     },
     "1a9f89d5dd4e44458cc441911e58ad27": {
      "model_module": "@jupyter-widgets/controls",
      "model_module_version": "1.5.0",
      "model_name": "HBoxModel",
      "state": {
       "children": [
        "IPY_MODEL_6e4a40bc7ef844a9ba7916f47a88db76",
        "IPY_MODEL_c54fcaa6c00b4d2292770f619f7e9cae"
       ],
       "layout": "IPY_MODEL_44ae502690c64c3aac25a889e55083e9"
      }
     },
     "1d4836f0997e4b6cb91874492558b2e4": {
      "model_module": "@jupyter-widgets/controls",
      "model_module_version": "1.5.0",
      "model_name": "HTMLModel",
      "state": {
       "layout": "IPY_MODEL_89205ec0f263474ca90c24a0cf214dfe",
       "style": "IPY_MODEL_d894341fc8cc47dca5cb39176e8bb50a",
       "value": "100%"
      }
     },
     "1eb96e42590444c8902c40bd9ebb3b14": {
      "model_module": "@jupyter-widgets/controls",
      "model_module_version": "1.5.0",
      "model_name": "HBoxModel",
      "state": {
       "children": [
        "IPY_MODEL_1d4836f0997e4b6cb91874492558b2e4",
        "IPY_MODEL_9508d9df7ece4baead805b9312572e1f",
        "IPY_MODEL_38bcfd64e4174447898cc4c9e38e0ec0"
       ],
       "layout": "IPY_MODEL_2dedb05c818443419effe7aa62a1cd35"
      }
     },
     "1f91593e660048bf941530f4d942ef2f": {
      "model_module": "@jupyter-widgets/base",
      "model_module_version": "1.2.0",
      "model_name": "LayoutModel",
      "state": {}
     },
     "1faab7e69f9244489a91177462a8cfc1": {
      "model_module": "@jupyter-widgets/base",
      "model_module_version": "1.2.0",
      "model_name": "LayoutModel",
      "state": {}
     },
     "1fd437c2cff34ec191bf7b474ae24449": {
      "model_module": "@jupyter-widgets/base",
      "model_module_version": "1.2.0",
      "model_name": "LayoutModel",
      "state": {}
     },
     "202cd5a658254b7f91f43d46a0f7e5e8": {
      "model_module": "@jupyter-widgets/controls",
      "model_module_version": "1.5.0",
      "model_name": "HTMLModel",
      "state": {
       "layout": "IPY_MODEL_5a1d11d06e8549f8a79791020fb5105a",
       "style": "IPY_MODEL_49ac054c465444939779930615b45a78",
       "value": " 198/198 [00:00&lt;00:00, 582.20it/s]"
      }
     },
     "211ec08a78c241129dd468a21473780b": {
      "model_module": "@jupyter-widgets/base",
      "model_module_version": "1.2.0",
      "model_name": "LayoutModel",
      "state": {}
     },
     "21c4fe0ff43a46a894a5db2fb38baca6": {
      "model_module": "@jupyter-widgets/controls",
      "model_module_version": "1.5.0",
      "model_name": "FloatProgressModel",
      "state": {
       "bar_style": "success",
       "description": "100%",
       "layout": "IPY_MODEL_86e87622ff2e44f499568e5e0d4ebc1f",
       "max": 640,
       "style": "IPY_MODEL_99383ffbe9aa4dba88c16caceb4b5d6a",
       "value": 640
      }
     },
     "229d1eb5a76848679157a4854c23cfdd": {
      "model_module": "@jupyter-widgets/controls",
      "model_module_version": "1.5.0",
      "model_name": "DescriptionStyleModel",
      "state": {
       "description_width": ""
      }
     },
     "22fe42f52f1744ff8b9a988b98a4211e": {
      "model_module": "@jupyter-widgets/base",
      "model_module_version": "1.2.0",
      "model_name": "LayoutModel",
      "state": {}
     },
     "2438ce854534422fb937b2405f915b75": {
      "model_module": "@jupyter-widgets/output",
      "model_module_version": "1.0.0",
      "model_name": "OutputModel",
      "state": {
       "layout": "IPY_MODEL_3a5890cae00b469db840a57a1b4fd43e",
       "outputs": [
        {
         "ename": "NameError",
         "evalue": "name 'sentiment' is not defined",
         "output_type": "error",
         "traceback": [
          "\u001b[0;31m---------------------------------------------------------------------------\u001b[0m",
          "\u001b[0;31mNameError\u001b[0m                                 Traceback (most recent call last)",
          "\u001b[0;32m<ipython-input-38-01de8dc800d7>\u001b[0m in \u001b[0;36m<module>\u001b[0;34m\u001b[0m\n\u001b[1;32m     10\u001b[0m     \u001b[0mdisplay\u001b[0m\u001b[0;34m(\u001b[0m\u001b[0msentimentPlot\u001b[0m\u001b[0;34m(\u001b[0m\u001b[0mcafe\u001b[0m\u001b[0;34m)\u001b[0m\u001b[0;34m)\u001b[0m\u001b[0;34m\u001b[0m\u001b[0;34m\u001b[0m\u001b[0m\n\u001b[1;32m     11\u001b[0m \u001b[0;32mwith\u001b[0m \u001b[0moutputN\u001b[0m\u001b[0;34m:\u001b[0m\u001b[0;34m\u001b[0m\u001b[0;34m\u001b[0m\u001b[0m\n\u001b[0;32m---> 12\u001b[0;31m     \u001b[0mdisplay\u001b[0m\u001b[0;34m(\u001b[0m\u001b[0mnegativeDF\u001b[0m\u001b[0;34m(\u001b[0m\u001b[0mcafe\u001b[0m\u001b[0;34m)\u001b[0m\u001b[0;34m)\u001b[0m\u001b[0;34m\u001b[0m\u001b[0;34m\u001b[0m\u001b[0m\n\u001b[0m\u001b[1;32m     13\u001b[0m \u001b[0;32mwith\u001b[0m \u001b[0moutputNplot\u001b[0m\u001b[0;34m:\u001b[0m\u001b[0;34m\u001b[0m\u001b[0;34m\u001b[0m\u001b[0m\n\u001b[1;32m     14\u001b[0m     \u001b[0mdisplay\u001b[0m\u001b[0;34m(\u001b[0m\u001b[0mnegativeBar\u001b[0m\u001b[0;34m(\u001b[0m\u001b[0mcafe\u001b[0m\u001b[0;34m)\u001b[0m\u001b[0;34m)\u001b[0m\u001b[0;34m\u001b[0m\u001b[0;34m\u001b[0m\u001b[0m\n",
          "\u001b[0;32m<ipython-input-37-e7c501a65902>\u001b[0m in \u001b[0;36mnegativeDF\u001b[0;34m(name)\u001b[0m\n\u001b[1;32m      5\u001b[0m         \u001b[0mnegative\u001b[0m \u001b[0;34m=\u001b[0m \u001b[0msentdf\u001b[0m\u001b[0;34m.\u001b[0m\u001b[0mloc\u001b[0m\u001b[0;34m[\u001b[0m\u001b[0msentdf\u001b[0m\u001b[0;34m[\u001b[0m\u001b[0;34m\"감성분석\"\u001b[0m\u001b[0;34m]\u001b[0m\u001b[0;34m==\u001b[0m\u001b[0;34m'Negative'\u001b[0m\u001b[0;34m,\u001b[0m \u001b[0;34m:\u001b[0m\u001b[0;34m]\u001b[0m\u001b[0;34m\u001b[0m\u001b[0;34m\u001b[0m\u001b[0m\n\u001b[1;32m      6\u001b[0m     \u001b[0;32melse\u001b[0m\u001b[0;34m:\u001b[0m\u001b[0;34m\u001b[0m\u001b[0;34m\u001b[0m\u001b[0m\n\u001b[0;32m----> 7\u001b[0;31m         \u001b[0mnegative\u001b[0m \u001b[0;34m=\u001b[0m \u001b[0msentiment\u001b[0m\u001b[0;34m.\u001b[0m\u001b[0mloc\u001b[0m\u001b[0;34m[\u001b[0m\u001b[0msentiment\u001b[0m\u001b[0;34m[\u001b[0m\u001b[0;34m\"감성분석\"\u001b[0m\u001b[0;34m]\u001b[0m\u001b[0;34m==\u001b[0m\u001b[0;34m'Negative'\u001b[0m\u001b[0;34m,\u001b[0m \u001b[0;34m:\u001b[0m\u001b[0;34m]\u001b[0m\u001b[0;34m\u001b[0m\u001b[0;34m\u001b[0m\u001b[0m\n\u001b[0m\u001b[1;32m      8\u001b[0m \u001b[0;34m\u001b[0m\u001b[0m\n\u001b[1;32m      9\u001b[0m \u001b[0;34m\u001b[0m\u001b[0m\n",
          "\u001b[0;31mNameError\u001b[0m: name 'sentiment' is not defined"
         ]
        }
       ]
      }
     },
     "271e85d2bfe945fb95f16f2314fff9f2": {
      "model_module": "@jupyter-widgets/output",
      "model_module_version": "1.0.0",
      "model_name": "OutputModel",
      "state": {
       "layout": "IPY_MODEL_9af588278285449d8a9ecf4231ba3326",
       "outputs": [
        {
         "data": {
          "text/html": "<div>\n<style scoped>\n    .dataframe tbody tr th:only-of-type {\n        vertical-align: middle;\n    }\n\n    .dataframe tbody tr th {\n        vertical-align: top;\n    }\n\n    .dataframe thead th {\n        text-align: right;\n    }\n</style>\n<table border=\"1\" class=\"dataframe\">\n  <thead>\n    <tr style=\"text-align: right;\">\n      <th></th>\n      <th>index</th>\n      <th>Unnamed: 0</th>\n      <th>카페명</th>\n      <th>음료명</th>\n      <th>언급빈도</th>\n      <th>언급률</th>\n    </tr>\n  </thead>\n  <tbody>\n    <tr>\n      <th>0</th>\n      <td>0</td>\n      <td>0</td>\n      <td>스타벅스</td>\n      <td>아메리카노</td>\n      <td>602380</td>\n      <td>0.442240</td>\n    </tr>\n    <tr>\n      <th>1</th>\n      <td>541</td>\n      <td>541</td>\n      <td>앤제리너스</td>\n      <td>아메리카노</td>\n      <td>23208</td>\n      <td>0.415445</td>\n    </tr>\n    <tr>\n      <th>2</th>\n      <td>591</td>\n      <td>591</td>\n      <td>파스쿠찌</td>\n      <td>아메리카노</td>\n      <td>22171</td>\n      <td>0.390637</td>\n    </tr>\n    <tr>\n      <th>3</th>\n      <td>194</td>\n      <td>194</td>\n      <td>빽다방</td>\n      <td>아메리카노</td>\n      <td>55879</td>\n      <td>0.368371</td>\n    </tr>\n    <tr>\n      <th>4</th>\n      <td>332</td>\n      <td>332</td>\n      <td>커피빈</td>\n      <td>아메리카노</td>\n      <td>47572</td>\n      <td>0.287752</td>\n    </tr>\n    <tr>\n      <th>5</th>\n      <td>477</td>\n      <td>477</td>\n      <td>할리스</td>\n      <td>아메리카노</td>\n      <td>44353</td>\n      <td>0.243837</td>\n    </tr>\n    <tr>\n      <th>6</th>\n      <td>106</td>\n      <td>106</td>\n      <td>이디야</td>\n      <td>아메리카노</td>\n      <td>30425</td>\n      <td>0.135534</td>\n    </tr>\n    <tr>\n      <th>7</th>\n      <td>409</td>\n      <td>409</td>\n      <td>투썸플레이스</td>\n      <td>아메리카노</td>\n      <td>46652</td>\n      <td>0.110917</td>\n    </tr>\n    <tr>\n      <th>8</th>\n      <td>271</td>\n      <td>271</td>\n      <td>탐앤탐스</td>\n      <td>아메리카노</td>\n      <td>26232</td>\n      <td>0.085246</td>\n    </tr>\n  </tbody>\n</table>\n</div>",
          "text/plain": "   index  Unnamed: 0     카페명    음료명    언급빈도       언급률\n0      0           0    스타벅스  아메리카노  602380  0.442240\n1    541         541   앤제리너스  아메리카노   23208  0.415445\n2    591         591    파스쿠찌  아메리카노   22171  0.390637\n3    194         194     빽다방  아메리카노   55879  0.368371\n4    332         332     커피빈  아메리카노   47572  0.287752\n5    477         477     할리스  아메리카노   44353  0.243837\n6    106         106     이디야  아메리카노   30425  0.135534\n7    409         409  투썸플레이스  아메리카노   46652  0.110917\n8    271         271    탐앤탐스  아메리카노   26232  0.085246"
         },
         "metadata": {},
         "output_type": "display_data"
        }
       ]
      }
     },
     "27cd99e978404996872c7b88e71fc7bc": {
      "model_module": "@jupyter-widgets/base",
      "model_module_version": "1.2.0",
      "model_name": "LayoutModel",
      "state": {}
     },
     "29746adf3472426f87d8ecfb1d79e626": {
      "model_module": "@jupyter-widgets/base",
      "model_module_version": "1.2.0",
      "model_name": "LayoutModel",
      "state": {}
     },
     "299ede00c7dc4972905fcfe2ab1ad194": {
      "model_module": "@jupyter-widgets/base",
      "model_module_version": "1.2.0",
      "model_name": "LayoutModel",
      "state": {}
     },
     "2a8d75312dd44164a801d02f8a2b80b3": {
      "model_module": "@jupyter-widgets/controls",
      "model_module_version": "1.5.0",
      "model_name": "DropdownModel",
      "state": {
       "_options_labels": [
        " ",
        "스타벅스",
        "앤제리너스",
        "파스쿠찌",
        "이디야",
        "탐앤탐스",
        "투썸플레이스",
        "할리스",
        "커피빈",
        "빽다방"
       ],
       "description": "카페명 : ",
       "index": 0,
       "layout": "IPY_MODEL_7f83ec572c7d4cb6a7ac616e1e4c914e",
       "style": "IPY_MODEL_97dce4755c3c4dff88162d9460e42f6e"
      }
     },
     "2b482981fb1343998f8b4ee55fd30f7e": {
      "model_module": "@jupyter-widgets/base",
      "model_module_version": "1.2.0",
      "model_name": "LayoutModel",
      "state": {}
     },
     "2d631e0aa22e47228ba5b05a5307b7eb": {
      "model_module": "@jupyter-widgets/output",
      "model_module_version": "1.0.0",
      "model_name": "OutputModel",
      "state": {
       "layout": "IPY_MODEL_74e12581d4bf48b2b27031a772101818",
       "outputs": [
        {
         "data": {
          "application/vnd.jupyter.widget-view+json": {
           "model_id": "9af6ab9acdc3411dbcaf7dc4d31f25d8",
           "version_major": 2,
           "version_minor": 0
          },
          "text/plain": "HBox(children=(FloatProgress(value=0.0, max=640.0), HTML(value='')))"
         },
         "metadata": {},
         "output_type": "display_data"
        },
        {
         "name": "stdout",
         "output_type": "stream",
         "text": "\n"
        },
        {
         "data": {
          "text/html": "<div>\n<style scoped>\n    .dataframe tbody tr th:only-of-type {\n        vertical-align: middle;\n    }\n\n    .dataframe tbody tr th {\n        vertical-align: top;\n    }\n\n    .dataframe thead th {\n        text-align: right;\n    }\n</style>\n<table border=\"1\" class=\"dataframe\">\n  <thead>\n    <tr style=\"text-align: right;\">\n      <th></th>\n      <th>단어</th>\n      <th>빈도</th>\n      <th>비율</th>\n    </tr>\n  </thead>\n  <tbody>\n    <tr>\n      <th>0</th>\n      <td>delicious</td>\n      <td>73</td>\n      <td>0.236246</td>\n    </tr>\n    <tr>\n      <th>1</th>\n      <td>good</td>\n      <td>52</td>\n      <td>0.168285</td>\n    </tr>\n    <tr>\n      <th>2</th>\n      <td>sweet</td>\n      <td>19</td>\n      <td>0.061489</td>\n    </tr>\n    <tr>\n      <th>3</th>\n      <td>favorite</td>\n      <td>19</td>\n      <td>0.061489</td>\n    </tr>\n    <tr>\n      <th>4</th>\n      <td>cute</td>\n      <td>13</td>\n      <td>0.042071</td>\n    </tr>\n    <tr>\n      <th>5</th>\n      <td>big</td>\n      <td>13</td>\n      <td>0.042071</td>\n    </tr>\n    <tr>\n      <th>6</th>\n      <td>nice</td>\n      <td>11</td>\n      <td>0.035599</td>\n    </tr>\n    <tr>\n      <th>7</th>\n      <td>happy</td>\n      <td>9</td>\n      <td>0.029126</td>\n    </tr>\n    <tr>\n      <th>8</th>\n      <td>free</td>\n      <td>7</td>\n      <td>0.022654</td>\n    </tr>\n    <tr>\n      <th>9</th>\n      <td>great</td>\n      <td>7</td>\n      <td>0.022654</td>\n    </tr>\n    <tr>\n      <th>10</th>\n      <td>perfect</td>\n      <td>6</td>\n      <td>0.019417</td>\n    </tr>\n    <tr>\n      <th>11</th>\n      <td>awesome</td>\n      <td>4</td>\n      <td>0.012945</td>\n    </tr>\n    <tr>\n      <th>12</th>\n      <td>fine</td>\n      <td>4</td>\n      <td>0.012945</td>\n    </tr>\n    <tr>\n      <th>13</th>\n      <td>popular</td>\n      <td>4</td>\n      <td>0.012945</td>\n    </tr>\n    <tr>\n      <th>14</th>\n      <td>fresh</td>\n      <td>4</td>\n      <td>0.012945</td>\n    </tr>\n    <tr>\n      <th>15</th>\n      <td>comfortable</td>\n      <td>4</td>\n      <td>0.012945</td>\n    </tr>\n    <tr>\n      <th>16</th>\n      <td>strong</td>\n      <td>3</td>\n      <td>0.009709</td>\n    </tr>\n    <tr>\n      <th>17</th>\n      <td>want</td>\n      <td>3</td>\n      <td>0.009709</td>\n    </tr>\n    <tr>\n      <th>18</th>\n      <td>warm</td>\n      <td>3</td>\n      <td>0.009709</td>\n    </tr>\n    <tr>\n      <th>19</th>\n      <td>handsome</td>\n      <td>2</td>\n      <td>0.006472</td>\n    </tr>\n    <tr>\n      <th>20</th>\n      <td>fun</td>\n      <td>2</td>\n      <td>0.006472</td>\n    </tr>\n    <tr>\n      <th>21</th>\n      <td>easy</td>\n      <td>2</td>\n      <td>0.006472</td>\n    </tr>\n    <tr>\n      <th>22</th>\n      <td>cool</td>\n      <td>2</td>\n      <td>0.006472</td>\n    </tr>\n    <tr>\n      <th>23</th>\n      <td>beautiful</td>\n      <td>2</td>\n      <td>0.006472</td>\n    </tr>\n    <tr>\n      <th>24</th>\n      <td>funny</td>\n      <td>2</td>\n      <td>0.006472</td>\n    </tr>\n    <tr>\n      <th>25</th>\n      <td>top</td>\n      <td>2</td>\n      <td>0.006472</td>\n    </tr>\n    <tr>\n      <th>26</th>\n      <td>interested</td>\n      <td>2</td>\n      <td>0.006472</td>\n    </tr>\n    <tr>\n      <th>27</th>\n      <td>worth</td>\n      <td>2</td>\n      <td>0.006472</td>\n    </tr>\n    <tr>\n      <th>28</th>\n      <td>pretty</td>\n      <td>2</td>\n      <td>0.006472</td>\n    </tr>\n    <tr>\n      <th>29</th>\n      <td>curious</td>\n      <td>2</td>\n      <td>0.006472</td>\n    </tr>\n    <tr>\n      <th>30</th>\n      <td>like</td>\n      <td>1</td>\n      <td>0.003236</td>\n    </tr>\n    <tr>\n      <th>31</th>\n      <td>healthy</td>\n      <td>1</td>\n      <td>0.003236</td>\n    </tr>\n    <tr>\n      <th>32</th>\n      <td>certain</td>\n      <td>1</td>\n      <td>0.003236</td>\n    </tr>\n    <tr>\n      <th>33</th>\n      <td>feeling</td>\n      <td>1</td>\n      <td>0.003236</td>\n    </tr>\n    <tr>\n      <th>34</th>\n      <td>famous</td>\n      <td>1</td>\n      <td>0.003236</td>\n    </tr>\n    <tr>\n      <th>35</th>\n      <td>important</td>\n      <td>1</td>\n      <td>0.003236</td>\n    </tr>\n    <tr>\n      <th>36</th>\n      <td>responsible</td>\n      <td>1</td>\n      <td>0.003236</td>\n    </tr>\n    <tr>\n      <th>37</th>\n      <td>grant</td>\n      <td>1</td>\n      <td>0.003236</td>\n    </tr>\n    <tr>\n      <th>38</th>\n      <td>hehe</td>\n      <td>1</td>\n      <td>0.003236</td>\n    </tr>\n    <tr>\n      <th>39</th>\n      <td>outstanding</td>\n      <td>1</td>\n      <td>0.003236</td>\n    </tr>\n    <tr>\n      <th>40</th>\n      <td>creative</td>\n      <td>1</td>\n      <td>0.003236</td>\n    </tr>\n    <tr>\n      <th>41</th>\n      <td>please</td>\n      <td>1</td>\n      <td>0.003236</td>\n    </tr>\n    <tr>\n      <th>42</th>\n      <td>confident</td>\n      <td>1</td>\n      <td>0.003236</td>\n    </tr>\n    <tr>\n      <th>43</th>\n      <td>sexy</td>\n      <td>1</td>\n      <td>0.003236</td>\n    </tr>\n    <tr>\n      <th>44</th>\n      <td>humble</td>\n      <td>1</td>\n      <td>0.003236</td>\n    </tr>\n    <tr>\n      <th>45</th>\n      <td>eager</td>\n      <td>1</td>\n      <td>0.003236</td>\n    </tr>\n    <tr>\n      <th>46</th>\n      <td>spacious</td>\n      <td>1</td>\n      <td>0.003236</td>\n    </tr>\n    <tr>\n      <th>47</th>\n      <td>fit</td>\n      <td>1</td>\n      <td>0.003236</td>\n    </tr>\n    <tr>\n      <th>48</th>\n      <td>relaxed</td>\n      <td>1</td>\n      <td>0.003236</td>\n    </tr>\n    <tr>\n      <th>49</th>\n      <td>innovative</td>\n      <td>1</td>\n      <td>0.003236</td>\n    </tr>\n    <tr>\n      <th>50</th>\n      <td>playful</td>\n      <td>1</td>\n      <td>0.003236</td>\n    </tr>\n    <tr>\n      <th>51</th>\n      <td>exciting</td>\n      <td>1</td>\n      <td>0.003236</td>\n    </tr>\n    <tr>\n      <th>52</th>\n      <td>love</td>\n      <td>1</td>\n      <td>0.003236</td>\n    </tr>\n    <tr>\n      <th>53</th>\n      <td>clean</td>\n      <td>1</td>\n      <td>0.003236</td>\n    </tr>\n    <tr>\n      <th>54</th>\n      <td>useful</td>\n      <td>1</td>\n      <td>0.003236</td>\n    </tr>\n    <tr>\n      <th>55</th>\n      <td>impressive</td>\n      <td>1</td>\n      <td>0.003236</td>\n    </tr>\n    <tr>\n      <th>56</th>\n      <td>smart</td>\n      <td>1</td>\n      <td>0.003236</td>\n    </tr>\n    <tr>\n      <th>57</th>\n      <td>competitive</td>\n      <td>1</td>\n      <td>0.003236</td>\n    </tr>\n    <tr>\n      <th>58</th>\n      <td>welcome</td>\n      <td>1</td>\n      <td>0.003236</td>\n    </tr>\n  </tbody>\n</table>\n</div>",
          "text/plain": "             단어  빈도        비율\n0     delicious  73  0.236246\n1          good  52  0.168285\n2         sweet  19  0.061489\n3      favorite  19  0.061489\n4          cute  13  0.042071\n5           big  13  0.042071\n6          nice  11  0.035599\n7         happy   9  0.029126\n8          free   7  0.022654\n9         great   7  0.022654\n10      perfect   6  0.019417\n11      awesome   4  0.012945\n12         fine   4  0.012945\n13      popular   4  0.012945\n14        fresh   4  0.012945\n15  comfortable   4  0.012945\n16       strong   3  0.009709\n17         want   3  0.009709\n18         warm   3  0.009709\n19     handsome   2  0.006472\n20          fun   2  0.006472\n21         easy   2  0.006472\n22         cool   2  0.006472\n23    beautiful   2  0.006472\n24        funny   2  0.006472\n25          top   2  0.006472\n26   interested   2  0.006472\n27        worth   2  0.006472\n28       pretty   2  0.006472\n29      curious   2  0.006472\n30         like   1  0.003236\n31      healthy   1  0.003236\n32      certain   1  0.003236\n33      feeling   1  0.003236\n34       famous   1  0.003236\n35    important   1  0.003236\n36  responsible   1  0.003236\n37        grant   1  0.003236\n38         hehe   1  0.003236\n39  outstanding   1  0.003236\n40     creative   1  0.003236\n41       please   1  0.003236\n42    confident   1  0.003236\n43         sexy   1  0.003236\n44       humble   1  0.003236\n45        eager   1  0.003236\n46     spacious   1  0.003236\n47          fit   1  0.003236\n48      relaxed   1  0.003236\n49   innovative   1  0.003236\n50      playful   1  0.003236\n51     exciting   1  0.003236\n52         love   1  0.003236\n53        clean   1  0.003236\n54       useful   1  0.003236\n55   impressive   1  0.003236\n56        smart   1  0.003236\n57  competitive   1  0.003236\n58      welcome   1  0.003236"
         },
         "metadata": {},
         "output_type": "display_data"
        }
       ]
      }
     },
     "2dcc54666a584c8fa07b41873f8a1b92": {
      "model_module": "@jupyter-widgets/controls",
      "model_module_version": "1.5.0",
      "model_name": "FloatProgressModel",
      "state": {
       "bar_style": "success",
       "description": "100%",
       "layout": "IPY_MODEL_6dd7e1c1ff0e48de857272408b65c11a",
       "max": 62,
       "style": "IPY_MODEL_0a933ca3fa8045019ded3b2ad4021710",
       "value": 62
      }
     },
     "2dedb05c818443419effe7aa62a1cd35": {
      "model_module": "@jupyter-widgets/base",
      "model_module_version": "1.2.0",
      "model_name": "LayoutModel",
      "state": {}
     },
     "2e3b5cf504ea40cb9bb9a5bb0cbd3c5e": {
      "model_module": "@jupyter-widgets/controls",
      "model_module_version": "1.5.0",
      "model_name": "TabModel",
      "state": {
       "_titles": {
        "0": " 맛있는 카페",
        "1": "그래프"
       },
       "children": [
        "IPY_MODEL_9525e268056f456d8c51138378605871",
        "IPY_MODEL_9e051806f7c84c658a263e49079cebd1"
       ],
       "layout": "IPY_MODEL_2b482981fb1343998f8b4ee55fd30f7e",
       "selected_index": 1
      }
     },
     "2e8cc9e53295487e8f8898160802da5d": {
      "model_module": "@jupyter-widgets/controls",
      "model_module_version": "1.5.0",
      "model_name": "HTMLModel",
      "state": {
       "layout": "IPY_MODEL_d4c2e0185ae7485488f3731974fb1bae",
       "style": "IPY_MODEL_f93eaa81a638471094fb311a6ba5158d",
       "value": " 640/640 [00:00&lt;00:00, 1892.78it/s]"
      }
     },
     "30305f9b7b644034a24894fd03247b3e": {
      "model_module": "@jupyter-widgets/controls",
      "model_module_version": "1.5.0",
      "model_name": "ProgressStyleModel",
      "state": {
       "description_width": "initial"
      }
     },
     "32709de4034a40f6868637222cd50443": {
      "model_module": "@jupyter-widgets/base",
      "model_module_version": "1.2.0",
      "model_name": "LayoutModel",
      "state": {}
     },
     "328468302494480c8eb5dce2c2f66961": {
      "model_module": "@jupyter-widgets/output",
      "model_module_version": "1.0.0",
      "model_name": "OutputModel",
      "state": {
       "layout": "IPY_MODEL_a83dd04419354841b906511333527ca9",
       "outputs": [
        {
         "data": {
          "text/html": "<div>\n<style scoped>\n    .dataframe tbody tr th:only-of-type {\n        vertical-align: middle;\n    }\n\n    .dataframe tbody tr th {\n        vertical-align: top;\n    }\n\n    .dataframe thead th {\n        text-align: right;\n    }\n</style>\n<table border=\"1\" class=\"dataframe\">\n  <thead>\n    <tr style=\"text-align: right;\">\n      <th></th>\n      <th>카페명</th>\n      <th>음료명</th>\n      <th>언급빈도</th>\n      <th>언급률</th>\n    </tr>\n  </thead>\n  <tbody>\n    <tr>\n      <th>0</th>\n      <td>파스쿠찌</td>\n      <td>아메리카노</td>\n      <td>22171</td>\n      <td>0.390637</td>\n    </tr>\n    <tr>\n      <th>1</th>\n      <td>파스쿠찌</td>\n      <td>에스프레소</td>\n      <td>5830</td>\n      <td>0.102720</td>\n    </tr>\n    <tr>\n      <th>2</th>\n      <td>파스쿠찌</td>\n      <td>카페라떼</td>\n      <td>3911</td>\n      <td>0.068909</td>\n    </tr>\n    <tr>\n      <th>3</th>\n      <td>파스쿠찌</td>\n      <td>카푸치노</td>\n      <td>2535</td>\n      <td>0.044665</td>\n    </tr>\n    <tr>\n      <th>4</th>\n      <td>파스쿠찌</td>\n      <td>카페모카</td>\n      <td>2244</td>\n      <td>0.039538</td>\n    </tr>\n    <tr>\n      <th>5</th>\n      <td>파스쿠찌</td>\n      <td>아이스초콜릿</td>\n      <td>1397</td>\n      <td>0.024614</td>\n    </tr>\n    <tr>\n      <th>6</th>\n      <td>파스쿠찌</td>\n      <td>영그레이얼그레이</td>\n      <td>1272</td>\n      <td>0.022412</td>\n    </tr>\n    <tr>\n      <th>7</th>\n      <td>파스쿠찌</td>\n      <td>그린티그라니따</td>\n      <td>1045</td>\n      <td>0.018412</td>\n    </tr>\n    <tr>\n      <th>8</th>\n      <td>파스쿠찌</td>\n      <td>스트로베리그라니따</td>\n      <td>969</td>\n      <td>0.017073</td>\n    </tr>\n    <tr>\n      <th>9</th>\n      <td>파스쿠찌</td>\n      <td>자바칩민트그라니따</td>\n      <td>934</td>\n      <td>0.016456</td>\n    </tr>\n    <tr>\n      <th>10</th>\n      <td>파스쿠찌</td>\n      <td>그린티라떼</td>\n      <td>914</td>\n      <td>0.016104</td>\n    </tr>\n    <tr>\n      <th>11</th>\n      <td>파스쿠찌</td>\n      <td>오렌지주스</td>\n      <td>717</td>\n      <td>0.012633</td>\n    </tr>\n  </tbody>\n</table>\n</div>",
          "text/plain": "     카페명        음료명   언급빈도       언급률\n0   파스쿠찌      아메리카노  22171  0.390637\n1   파스쿠찌      에스프레소   5830  0.102720\n2   파스쿠찌       카페라떼   3911  0.068909\n3   파스쿠찌       카푸치노   2535  0.044665\n4   파스쿠찌       카페모카   2244  0.039538\n5   파스쿠찌     아이스초콜릿   1397  0.024614\n6   파스쿠찌   영그레이얼그레이   1272  0.022412\n7   파스쿠찌    그린티그라니따   1045  0.018412\n8   파스쿠찌  스트로베리그라니따    969  0.017073\n9   파스쿠찌  자바칩민트그라니따    934  0.016456\n10  파스쿠찌      그린티라떼    914  0.016104\n11  파스쿠찌      오렌지주스    717  0.012633"
         },
         "metadata": {},
         "output_type": "display_data"
        }
       ]
      }
     },
     "32cee61aa8114f00a92ff9312f594d71": {
      "model_module": "@jupyter-widgets/controls",
      "model_module_version": "1.5.0",
      "model_name": "ProgressStyleModel",
      "state": {
       "description_width": "initial"
      }
     },
     "33b34e180aa24a2b8cedc90ec055d521": {
      "model_module": "@jupyter-widgets/controls",
      "model_module_version": "1.5.0",
      "model_name": "ProgressStyleModel",
      "state": {
       "description_width": ""
      }
     },
     "33e60aaf44bb4cbbae0c94dfab108b79": {
      "model_module": "@jupyter-widgets/base",
      "model_module_version": "1.2.0",
      "model_name": "LayoutModel",
      "state": {}
     },
     "343a9c2c9f474d1383a12bc264acb802": {
      "model_module": "@jupyter-widgets/base",
      "model_module_version": "1.2.0",
      "model_name": "LayoutModel",
      "state": {}
     },
     "349b7639b7d6493597e5235373658eee": {
      "model_module": "@jupyter-widgets/output",
      "model_module_version": "1.0.0",
      "model_name": "OutputModel",
      "state": {
       "layout": "IPY_MODEL_1f91593e660048bf941530f4d942ef2f",
       "outputs": [
        {
         "data": {
          "application/vnd.jupyter.widget-view+json": {
           "model_id": "57a15bff3e8a4ad28374c92c31cb9482",
           "version_major": 2,
           "version_minor": 0
          },
          "text/plain": "  0%|          | 0/640 [00:00<?, ?it/s]"
         },
         "metadata": {},
         "output_type": "display_data"
        },
        {
         "ename": "LookupError",
         "evalue": "\n**********************************************************************\n  Resource \u001b[93maveraged_perceptron_tagger\u001b[0m not found.\n  Please use the NLTK Downloader to obtain the resource:\n\n  \u001b[31m>>> import nltk\n  >>> nltk.download('averaged_perceptron_tagger')\n  \u001b[0m\n  For more information see: https://www.nltk.org/data.html\n\n  Attempted to load \u001b[93mtaggers/averaged_perceptron_tagger/averaged_perceptron_tagger.pickle\u001b[0m\n\n  Searched in:\n    - '/Users/hyenzzang/nltk_data'\n    - '/Library/Frameworks/Python.framework/Versions/3.9/nltk_data'\n    - '/Library/Frameworks/Python.framework/Versions/3.9/share/nltk_data'\n    - '/Library/Frameworks/Python.framework/Versions/3.9/lib/nltk_data'\n    - '/usr/share/nltk_data'\n    - '/usr/local/share/nltk_data'\n    - '/usr/lib/nltk_data'\n    - '/usr/local/lib/nltk_data'\n**********************************************************************\n",
         "output_type": "error",
         "traceback": [
          "\u001b[0;31m---------------------------------------------------------------------------\u001b[0m",
          "\u001b[0;31mLookupError\u001b[0m                               Traceback (most recent call last)",
          "\u001b[0;32m<ipython-input-43-01de8dc800d7>\u001b[0m in \u001b[0;36m<module>\u001b[0;34m\u001b[0m\n\u001b[1;32m     16\u001b[0m     \u001b[0mdisplay\u001b[0m\u001b[0;34m(\u001b[0m\u001b[0mpositiveDF\u001b[0m\u001b[0;34m(\u001b[0m\u001b[0mcafe\u001b[0m\u001b[0;34m)\u001b[0m\u001b[0;34m)\u001b[0m\u001b[0;34m\u001b[0m\u001b[0;34m\u001b[0m\u001b[0m\n\u001b[1;32m     17\u001b[0m \u001b[0;32mwith\u001b[0m \u001b[0moutputPplot\u001b[0m\u001b[0;34m:\u001b[0m\u001b[0;34m\u001b[0m\u001b[0;34m\u001b[0m\u001b[0m\n\u001b[0;32m---> 18\u001b[0;31m     \u001b[0mdisplay\u001b[0m\u001b[0;34m(\u001b[0m\u001b[0mpositiveBar\u001b[0m\u001b[0;34m(\u001b[0m\u001b[0mcafe\u001b[0m\u001b[0;34m)\u001b[0m\u001b[0;34m)\u001b[0m\u001b[0;34m\u001b[0m\u001b[0;34m\u001b[0m\u001b[0m\n\u001b[0m\u001b[1;32m     19\u001b[0m \u001b[0;34m\u001b[0m\u001b[0m\n\u001b[1;32m     20\u001b[0m \u001b[0mwidgetchange\u001b[0m\u001b[0;34m=\u001b[0m\u001b[0mwidgets\u001b[0m\u001b[0;34m.\u001b[0m\u001b[0mTab\u001b[0m\u001b[0;34m(\u001b[0m\u001b[0;34m[\u001b[0m\u001b[0moutputAll\u001b[0m\u001b[0;34m,\u001b[0m\u001b[0moutputN\u001b[0m\u001b[0;34m,\u001b[0m \u001b[0moutputNplot\u001b[0m\u001b[0;34m,\u001b[0m\u001b[0moutputP\u001b[0m\u001b[0;34m,\u001b[0m \u001b[0moutputPplot\u001b[0m\u001b[0;34m]\u001b[0m\u001b[0;34m)\u001b[0m\u001b[0;34m\u001b[0m\u001b[0;34m\u001b[0m\u001b[0m\n",
          "\u001b[0;32m<ipython-input-42-e7c501a65902>\u001b[0m in \u001b[0;36mpositiveBar\u001b[0;34m(name)\u001b[0m\n\u001b[1;32m     82\u001b[0m \u001b[0;34m\u001b[0m\u001b[0m\n\u001b[1;32m     83\u001b[0m \u001b[0;32mdef\u001b[0m \u001b[0mpositiveBar\u001b[0m\u001b[0;34m(\u001b[0m\u001b[0mname\u001b[0m\u001b[0;34m)\u001b[0m\u001b[0;34m:\u001b[0m\u001b[0;34m\u001b[0m\u001b[0;34m\u001b[0m\u001b[0m\n\u001b[0;32m---> 84\u001b[0;31m     \u001b[0mdf\u001b[0m\u001b[0;34m=\u001b[0m\u001b[0mpositiveDF\u001b[0m\u001b[0;34m(\u001b[0m\u001b[0mname\u001b[0m\u001b[0;34m)\u001b[0m\u001b[0;34m.\u001b[0m\u001b[0mhead\u001b[0m\u001b[0;34m(\u001b[0m\u001b[0;36m15\u001b[0m\u001b[0;34m)\u001b[0m\u001b[0;34m\u001b[0m\u001b[0;34m\u001b[0m\u001b[0m\n\u001b[0m\u001b[1;32m     85\u001b[0m     \u001b[0mdf\u001b[0m \u001b[0;34m=\u001b[0m \u001b[0mdf\u001b[0m\u001b[0;34m.\u001b[0m\u001b[0mloc\u001b[0m\u001b[0;34m[\u001b[0m\u001b[0;34m:\u001b[0m\u001b[0;34m,\u001b[0m\u001b[0;34m[\u001b[0m\u001b[0;34m\"단어\"\u001b[0m\u001b[0;34m,\u001b[0m\u001b[0;34m\"비율\"\u001b[0m\u001b[0;34m]\u001b[0m\u001b[0;34m]\u001b[0m\u001b[0;34m\u001b[0m\u001b[0;34m\u001b[0m\u001b[0m\n\u001b[1;32m     86\u001b[0m     \u001b[0mdf\u001b[0m \u001b[0;34m=\u001b[0m \u001b[0mdf\u001b[0m\u001b[0;34m.\u001b[0m\u001b[0mrename\u001b[0m\u001b[0;34m(\u001b[0m\u001b[0mcolumns\u001b[0m\u001b[0;34m=\u001b[0m\u001b[0;34m{\u001b[0m\u001b[0;34m\"비율\"\u001b[0m\u001b[0;34m:\u001b[0m\u001b[0mname\u001b[0m\u001b[0;34m}\u001b[0m\u001b[0;34m)\u001b[0m\u001b[0;34m\u001b[0m\u001b[0;34m\u001b[0m\u001b[0m\n",
          "\u001b[0;32m<ipython-input-42-e7c501a65902>\u001b[0m in \u001b[0;36mpositiveDF\u001b[0;34m(name)\u001b[0m\n\u001b[1;32m     64\u001b[0m     \u001b[0mwords\u001b[0m\u001b[0;34m=\u001b[0m\u001b[0mwordTokenizer\u001b[0m\u001b[0;34m(\u001b[0m\u001b[0mtemp\u001b[0m\u001b[0;34m)\u001b[0m\u001b[0;34m\u001b[0m\u001b[0;34m\u001b[0m\u001b[0m\n\u001b[1;32m     65\u001b[0m     \u001b[0mwords\u001b[0m \u001b[0;34m=\u001b[0m \u001b[0;34m[\u001b[0m\u001b[0mword\u001b[0m \u001b[0;32mfor\u001b[0m \u001b[0mword\u001b[0m \u001b[0;32min\u001b[0m \u001b[0mwords\u001b[0m \u001b[0;32mif\u001b[0m \u001b[0mlen\u001b[0m\u001b[0;34m(\u001b[0m\u001b[0mword\u001b[0m\u001b[0;34m)\u001b[0m\u001b[0;34m>\u001b[0m\u001b[0;36m1\u001b[0m\u001b[0;34m]\u001b[0m\u001b[0;34m\u001b[0m\u001b[0;34m\u001b[0m\u001b[0m\n\u001b[0;32m---> 66\u001b[0;31m     \u001b[0mtagged\u001b[0m \u001b[0;34m=\u001b[0m \u001b[0mnltk\u001b[0m\u001b[0;34m.\u001b[0m\u001b[0mpos_tag\u001b[0m\u001b[0;34m(\u001b[0m\u001b[0mwords\u001b[0m\u001b[0;34m)\u001b[0m\u001b[0;34m\u001b[0m\u001b[0;34m\u001b[0m\u001b[0m\n\u001b[0m\u001b[1;32m     67\u001b[0m     \u001b[0mwords\u001b[0m \u001b[0;34m=\u001b[0m \u001b[0;34m[\u001b[0m\u001b[0mword\u001b[0m \u001b[0;32mfor\u001b[0m \u001b[0mword\u001b[0m\u001b[0;34m,\u001b[0m \u001b[0mpos\u001b[0m \u001b[0;32min\u001b[0m \u001b[0mtagged\u001b[0m \u001b[0;32mif\u001b[0m \u001b[0mpos\u001b[0m \u001b[0;32min\u001b[0m\u001b[0;34m[\u001b[0m\u001b[0;34m'JJ'\u001b[0m\u001b[0;34m]\u001b[0m\u001b[0;34m]\u001b[0m\u001b[0;34m\u001b[0m\u001b[0;34m\u001b[0m\u001b[0m\n\u001b[1;32m     68\u001b[0m     \u001b[0mwords\u001b[0m \u001b[0;34m=\u001b[0m \u001b[0;34m[\u001b[0m\u001b[0mword\u001b[0m\u001b[0;34m.\u001b[0m\u001b[0mlower\u001b[0m\u001b[0;34m(\u001b[0m\u001b[0;34m)\u001b[0m \u001b[0;32mfor\u001b[0m \u001b[0mword\u001b[0m \u001b[0;32min\u001b[0m \u001b[0mwords\u001b[0m\u001b[0;34m]\u001b[0m\u001b[0;34m\u001b[0m\u001b[0;34m\u001b[0m\u001b[0m\n",
          "\u001b[0;32m/Library/Frameworks/Python.framework/Versions/3.9/lib/python3.9/site-packages/nltk/tag/__init__.py\u001b[0m in \u001b[0;36mpos_tag\u001b[0;34m(tokens, tagset, lang)\u001b[0m\n\u001b[1;32m    162\u001b[0m     \u001b[0;34m:\u001b[0m\u001b[0mrtype\u001b[0m\u001b[0;34m:\u001b[0m \u001b[0mlist\u001b[0m\u001b[0;34m(\u001b[0m\u001b[0mtuple\u001b[0m\u001b[0;34m(\u001b[0m\u001b[0mstr\u001b[0m\u001b[0;34m,\u001b[0m \u001b[0mstr\u001b[0m\u001b[0;34m)\u001b[0m\u001b[0;34m)\u001b[0m\u001b[0;34m\u001b[0m\u001b[0;34m\u001b[0m\u001b[0m\n\u001b[1;32m    163\u001b[0m     \"\"\"\n\u001b[0;32m--> 164\u001b[0;31m     \u001b[0mtagger\u001b[0m \u001b[0;34m=\u001b[0m \u001b[0m_get_tagger\u001b[0m\u001b[0;34m(\u001b[0m\u001b[0mlang\u001b[0m\u001b[0;34m)\u001b[0m\u001b[0;34m\u001b[0m\u001b[0;34m\u001b[0m\u001b[0m\n\u001b[0m\u001b[1;32m    165\u001b[0m     \u001b[0;32mreturn\u001b[0m \u001b[0m_pos_tag\u001b[0m\u001b[0;34m(\u001b[0m\u001b[0mtokens\u001b[0m\u001b[0;34m,\u001b[0m \u001b[0mtagset\u001b[0m\u001b[0;34m,\u001b[0m \u001b[0mtagger\u001b[0m\u001b[0;34m,\u001b[0m \u001b[0mlang\u001b[0m\u001b[0;34m)\u001b[0m\u001b[0;34m\u001b[0m\u001b[0;34m\u001b[0m\u001b[0m\n\u001b[1;32m    166\u001b[0m \u001b[0;34m\u001b[0m\u001b[0m\n",
          "\u001b[0;32m/Library/Frameworks/Python.framework/Versions/3.9/lib/python3.9/site-packages/nltk/tag/__init__.py\u001b[0m in \u001b[0;36m_get_tagger\u001b[0;34m(lang)\u001b[0m\n\u001b[1;32m    104\u001b[0m         \u001b[0mtagger\u001b[0m\u001b[0;34m.\u001b[0m\u001b[0mload\u001b[0m\u001b[0;34m(\u001b[0m\u001b[0map_russian_model_loc\u001b[0m\u001b[0;34m)\u001b[0m\u001b[0;34m\u001b[0m\u001b[0;34m\u001b[0m\u001b[0m\n\u001b[1;32m    105\u001b[0m     \u001b[0;32melse\u001b[0m\u001b[0;34m:\u001b[0m\u001b[0;34m\u001b[0m\u001b[0;34m\u001b[0m\u001b[0m\n\u001b[0;32m--> 106\u001b[0;31m         \u001b[0mtagger\u001b[0m \u001b[0;34m=\u001b[0m \u001b[0mPerceptronTagger\u001b[0m\u001b[0;34m(\u001b[0m\u001b[0;34m)\u001b[0m\u001b[0;34m\u001b[0m\u001b[0;34m\u001b[0m\u001b[0m\n\u001b[0m\u001b[1;32m    107\u001b[0m     \u001b[0;32mreturn\u001b[0m \u001b[0mtagger\u001b[0m\u001b[0;34m\u001b[0m\u001b[0;34m\u001b[0m\u001b[0m\n\u001b[1;32m    108\u001b[0m \u001b[0;34m\u001b[0m\u001b[0m\n",
          "\u001b[0;32m/Library/Frameworks/Python.framework/Versions/3.9/lib/python3.9/site-packages/nltk/tag/perceptron.py\u001b[0m in \u001b[0;36m__init__\u001b[0;34m(self, load)\u001b[0m\n\u001b[1;32m    166\u001b[0m         \u001b[0;32mif\u001b[0m \u001b[0mload\u001b[0m\u001b[0;34m:\u001b[0m\u001b[0;34m\u001b[0m\u001b[0;34m\u001b[0m\u001b[0m\n\u001b[1;32m    167\u001b[0m             AP_MODEL_LOC = \"file:\" + str(\n\u001b[0;32m--> 168\u001b[0;31m                 \u001b[0mfind\u001b[0m\u001b[0;34m(\u001b[0m\u001b[0;34m\"taggers/averaged_perceptron_tagger/\"\u001b[0m \u001b[0;34m+\u001b[0m \u001b[0mPICKLE\u001b[0m\u001b[0;34m)\u001b[0m\u001b[0;34m\u001b[0m\u001b[0;34m\u001b[0m\u001b[0m\n\u001b[0m\u001b[1;32m    169\u001b[0m             )\n\u001b[1;32m    170\u001b[0m             \u001b[0mself\u001b[0m\u001b[0;34m.\u001b[0m\u001b[0mload\u001b[0m\u001b[0;34m(\u001b[0m\u001b[0mAP_MODEL_LOC\u001b[0m\u001b[0;34m)\u001b[0m\u001b[0;34m\u001b[0m\u001b[0;34m\u001b[0m\u001b[0m\n",
          "\u001b[0;32m/Library/Frameworks/Python.framework/Versions/3.9/lib/python3.9/site-packages/nltk/data.py\u001b[0m in \u001b[0;36mfind\u001b[0;34m(resource_name, paths)\u001b[0m\n\u001b[1;32m    581\u001b[0m     \u001b[0msep\u001b[0m \u001b[0;34m=\u001b[0m \u001b[0;34m\"*\"\u001b[0m \u001b[0;34m*\u001b[0m \u001b[0;36m70\u001b[0m\u001b[0;34m\u001b[0m\u001b[0;34m\u001b[0m\u001b[0m\n\u001b[1;32m    582\u001b[0m     \u001b[0mresource_not_found\u001b[0m \u001b[0;34m=\u001b[0m \u001b[0;34m\"\\n%s\\n%s\\n%s\\n\"\u001b[0m \u001b[0;34m%\u001b[0m \u001b[0;34m(\u001b[0m\u001b[0msep\u001b[0m\u001b[0;34m,\u001b[0m \u001b[0mmsg\u001b[0m\u001b[0;34m,\u001b[0m \u001b[0msep\u001b[0m\u001b[0;34m)\u001b[0m\u001b[0;34m\u001b[0m\u001b[0;34m\u001b[0m\u001b[0m\n\u001b[0;32m--> 583\u001b[0;31m     \u001b[0;32mraise\u001b[0m \u001b[0mLookupError\u001b[0m\u001b[0;34m(\u001b[0m\u001b[0mresource_not_found\u001b[0m\u001b[0;34m)\u001b[0m\u001b[0;34m\u001b[0m\u001b[0;34m\u001b[0m\u001b[0m\n\u001b[0m\u001b[1;32m    584\u001b[0m \u001b[0;34m\u001b[0m\u001b[0m\n\u001b[1;32m    585\u001b[0m \u001b[0;34m\u001b[0m\u001b[0m\n",
          "\u001b[0;31mLookupError\u001b[0m: \n**********************************************************************\n  Resource \u001b[93maveraged_perceptron_tagger\u001b[0m not found.\n  Please use the NLTK Downloader to obtain the resource:\n\n  \u001b[31m>>> import nltk\n  >>> nltk.download('averaged_perceptron_tagger')\n  \u001b[0m\n  For more information see: https://www.nltk.org/data.html\n\n  Attempted to load \u001b[93mtaggers/averaged_perceptron_tagger/averaged_perceptron_tagger.pickle\u001b[0m\n\n  Searched in:\n    - '/Users/hyenzzang/nltk_data'\n    - '/Library/Frameworks/Python.framework/Versions/3.9/nltk_data'\n    - '/Library/Frameworks/Python.framework/Versions/3.9/share/nltk_data'\n    - '/Library/Frameworks/Python.framework/Versions/3.9/lib/nltk_data'\n    - '/usr/share/nltk_data'\n    - '/usr/local/share/nltk_data'\n    - '/usr/lib/nltk_data'\n    - '/usr/local/lib/nltk_data'\n**********************************************************************\n"
         ]
        }
       ]
      }
     },
     "34cd64f30e7640f2b09c4f1e8dfd3818": {
      "model_module": "@jupyter-widgets/controls",
      "model_module_version": "1.5.0",
      "model_name": "DescriptionStyleModel",
      "state": {
       "description_width": ""
      }
     },
     "354c090bc558481089fda3f16250f399": {
      "model_module": "@jupyter-widgets/base",
      "model_module_version": "1.2.0",
      "model_name": "LayoutModel",
      "state": {}
     },
     "357ac809484d4292ac16270a5c4a1e7b": {
      "model_module": "@jupyter-widgets/base",
      "model_module_version": "1.2.0",
      "model_name": "LayoutModel",
      "state": {}
     },
     "3892f282ba6a4e75a1d25552450541d0": {
      "model_module": "@jupyter-widgets/base",
      "model_module_version": "1.2.0",
      "model_name": "LayoutModel",
      "state": {}
     },
     "38bcfd64e4174447898cc4c9e38e0ec0": {
      "model_module": "@jupyter-widgets/controls",
      "model_module_version": "1.5.0",
      "model_name": "HTMLModel",
      "state": {
       "layout": "IPY_MODEL_9d40579fe200444eb8e93f87f1e1e41a",
       "style": "IPY_MODEL_5f612afc16a6456ca21d70d614206f4b",
       "value": " 198/198 [00:00&lt;00:00, 12749.62it/s]"
      }
     },
     "3a5890cae00b469db840a57a1b4fd43e": {
      "model_module": "@jupyter-widgets/base",
      "model_module_version": "1.2.0",
      "model_name": "LayoutModel",
      "state": {}
     },
     "3ab32ad2affc4adc8761a8a4d9ad596c": {
      "model_module": "@jupyter-widgets/base",
      "model_module_version": "1.2.0",
      "model_name": "LayoutModel",
      "state": {}
     },
     "3b4ed387631343f580d8afee6ec199ed": {
      "model_module": "@jupyter-widgets/controls",
      "model_module_version": "1.5.0",
      "model_name": "HTMLModel",
      "state": {
       "layout": "IPY_MODEL_8c8376e2fa9d433196c35bb09fe6c4ab",
       "style": "IPY_MODEL_f67e89e033bf437a932b24ef1df5e58f",
       "value": " 5891/5891 [00:01&lt;00:00, 2966.72it/s]"
      }
     },
     "3dfd514e87a54f5cb06aab6316bcbaa3": {
      "model_module": "@jupyter-widgets/controls",
      "model_module_version": "1.5.0",
      "model_name": "HBoxModel",
      "state": {
       "children": [
        "IPY_MODEL_e4425cb5ff094e6b950d595a7311f0b3",
        "IPY_MODEL_e9469928ce544f4e9f6f8938d8be8ccf"
       ],
       "layout": "IPY_MODEL_772a9b6c5734447284d919574d2e32da"
      }
     },
     "3e097d4874eb4622a1a281438d5cec97": {
      "model_module": "@jupyter-widgets/base",
      "model_module_version": "1.2.0",
      "model_name": "LayoutModel",
      "state": {}
     },
     "3e79a9629fd84a9c9895a0346d5863f6": {
      "model_module": "@jupyter-widgets/controls",
      "model_module_version": "1.5.0",
      "model_name": "DescriptionStyleModel",
      "state": {
       "description_width": ""
      }
     },
     "40679a3ca8f847e8aa993e4c3fa79a1b": {
      "model_module": "@jupyter-widgets/base",
      "model_module_version": "1.2.0",
      "model_name": "LayoutModel",
      "state": {}
     },
     "41c9d37eea9340edb5fd51d899400cda": {
      "model_module": "@jupyter-widgets/controls",
      "model_module_version": "1.5.0",
      "model_name": "DescriptionStyleModel",
      "state": {
       "description_width": ""
      }
     },
     "41f0c928416d40a0a7cb01ce56e6f3d9": {
      "model_module": "@jupyter-widgets/controls",
      "model_module_version": "1.5.0",
      "model_name": "HBoxModel",
      "state": {
       "children": [
        "IPY_MODEL_47627464a0f640aa83f2058fee68c8c1",
        "IPY_MODEL_f02c466901b5433396b17b63841a8197"
       ],
       "layout": "IPY_MODEL_3892f282ba6a4e75a1d25552450541d0"
      }
     },
     "42fcdc0238cf48efb7cc6644d10361c4": {
      "model_module": "@jupyter-widgets/base",
      "model_module_version": "1.2.0",
      "model_name": "LayoutModel",
      "state": {}
     },
     "4353dc70da17453c9cb25011a9fc892a": {
      "model_module": "@jupyter-widgets/controls",
      "model_module_version": "1.5.0",
      "model_name": "HBoxModel",
      "state": {
       "children": [
        "IPY_MODEL_670eca771bc04255849dd178acc75d57",
        "IPY_MODEL_d8463180db684e9b8690e79aeec5ef5b"
       ],
       "layout": "IPY_MODEL_d55df33d8d4c45369d561c183c6ec733"
      }
     },
     "4424d1adeeb541cdbc3a606f506bc783": {
      "model_module": "@jupyter-widgets/base",
      "model_module_version": "1.2.0",
      "model_name": "LayoutModel",
      "state": {}
     },
     "44ae502690c64c3aac25a889e55083e9": {
      "model_module": "@jupyter-widgets/base",
      "model_module_version": "1.2.0",
      "model_name": "LayoutModel",
      "state": {}
     },
     "469ed4ca27154a66b976acdf81ca9cd8": {
      "model_module": "@jupyter-widgets/base",
      "model_module_version": "1.2.0",
      "model_name": "LayoutModel",
      "state": {}
     },
     "46fa08f0bfc045febd5090c568fff498": {
      "model_module": "@jupyter-widgets/controls",
      "model_module_version": "1.5.0",
      "model_name": "FloatProgressModel",
      "state": {
       "bar_style": "success",
       "description": "100%",
       "layout": "IPY_MODEL_585a69e21123458289cfc79a4887237a",
       "max": 32,
       "style": "IPY_MODEL_6194f0acd7ed47aba04b564edb1fcdaf",
       "value": 32
      }
     },
     "472e9425b5d54614b9070317b9501423": {
      "model_module": "@jupyter-widgets/controls",
      "model_module_version": "1.5.0",
      "model_name": "DropdownModel",
      "state": {
       "_options_labels": [
        " ",
        "스타벅스",
        "앤제리너스",
        "파스쿠찌",
        "이디야",
        "탐앤탐스",
        "투썸플레이스",
        "할리스",
        "커피빈",
        "빽다방"
       ],
       "description": "크롤링 : ",
       "index": 7,
       "layout": "IPY_MODEL_cac3b317fe0c43e49dd9875763eb7563",
       "style": "IPY_MODEL_8d1ca5d81042412ebfcb6c50c097b0e6"
      }
     },
     "47627464a0f640aa83f2058fee68c8c1": {
      "model_module": "@jupyter-widgets/controls",
      "model_module_version": "1.5.0",
      "model_name": "FloatProgressModel",
      "state": {
       "bar_style": "success",
       "description": "100%",
       "layout": "IPY_MODEL_b538a8744ec74b24a94b2d74499c36d4",
       "max": 640,
       "style": "IPY_MODEL_861dd86e26f74fe68739d548d6c963c8",
       "value": 640
      }
     },
     "48079d81fd824cf7814ce143afd5a4af": {
      "model_module": "@jupyter-widgets/controls",
      "model_module_version": "1.5.0",
      "model_name": "HBoxModel",
      "state": {
       "children": [
        "IPY_MODEL_0fbe6f13e00d492b906e6086bf06702a",
        "IPY_MODEL_202cd5a658254b7f91f43d46a0f7e5e8"
       ],
       "layout": "IPY_MODEL_d0b4c07983e24dad86960d808df9fb54"
      }
     },
     "48253a6519d5425f9869cebd2084febb": {
      "model_module": "@jupyter-widgets/output",
      "model_module_version": "1.0.0",
      "model_name": "OutputModel",
      "state": {
       "layout": "IPY_MODEL_c91c923946cb4a2e97902af3f8d7ab14",
       "outputs": [
        {
         "data": {
          "application/vnd.jupyter.widget-view+json": {
           "model_id": "1eb96e42590444c8902c40bd9ebb3b14",
           "version_major": 2,
           "version_minor": 0
          },
          "text/plain": "  0%|          | 0/198 [00:00<?, ?it/s]"
         },
         "metadata": {},
         "output_type": "display_data"
        },
        {
         "ename": "LookupError",
         "evalue": "\n**********************************************************************\n  Resource \u001b[93maveraged_perceptron_tagger\u001b[0m not found.\n  Please use the NLTK Downloader to obtain the resource:\n\n  \u001b[31m>>> import nltk\n  >>> nltk.download('averaged_perceptron_tagger')\n  \u001b[0m\n  For more information see: https://www.nltk.org/data.html\n\n  Attempted to load \u001b[93mtaggers/averaged_perceptron_tagger/averaged_perceptron_tagger.pickle\u001b[0m\n\n  Searched in:\n    - '/Users/hyenzzang/nltk_data'\n    - '/Library/Frameworks/Python.framework/Versions/3.9/nltk_data'\n    - '/Library/Frameworks/Python.framework/Versions/3.9/share/nltk_data'\n    - '/Library/Frameworks/Python.framework/Versions/3.9/lib/nltk_data'\n    - '/usr/share/nltk_data'\n    - '/usr/local/share/nltk_data'\n    - '/usr/lib/nltk_data'\n    - '/usr/local/lib/nltk_data'\n**********************************************************************\n",
         "output_type": "error",
         "traceback": [
          "\u001b[0;31m---------------------------------------------------------------------------\u001b[0m",
          "\u001b[0;31mLookupError\u001b[0m                               Traceback (most recent call last)",
          "\u001b[0;32m<ipython-input-43-01de8dc800d7>\u001b[0m in \u001b[0;36m<module>\u001b[0;34m\u001b[0m\n\u001b[1;32m     10\u001b[0m     \u001b[0mdisplay\u001b[0m\u001b[0;34m(\u001b[0m\u001b[0msentimentPlot\u001b[0m\u001b[0;34m(\u001b[0m\u001b[0mcafe\u001b[0m\u001b[0;34m)\u001b[0m\u001b[0;34m)\u001b[0m\u001b[0;34m\u001b[0m\u001b[0;34m\u001b[0m\u001b[0m\n\u001b[1;32m     11\u001b[0m \u001b[0;32mwith\u001b[0m \u001b[0moutputN\u001b[0m\u001b[0;34m:\u001b[0m\u001b[0;34m\u001b[0m\u001b[0;34m\u001b[0m\u001b[0m\n\u001b[0;32m---> 12\u001b[0;31m     \u001b[0mdisplay\u001b[0m\u001b[0;34m(\u001b[0m\u001b[0mnegativeDF\u001b[0m\u001b[0;34m(\u001b[0m\u001b[0mcafe\u001b[0m\u001b[0;34m)\u001b[0m\u001b[0;34m)\u001b[0m\u001b[0;34m\u001b[0m\u001b[0;34m\u001b[0m\u001b[0m\n\u001b[0m\u001b[1;32m     13\u001b[0m \u001b[0;32mwith\u001b[0m \u001b[0moutputNplot\u001b[0m\u001b[0;34m:\u001b[0m\u001b[0;34m\u001b[0m\u001b[0;34m\u001b[0m\u001b[0m\n\u001b[1;32m     14\u001b[0m     \u001b[0mdisplay\u001b[0m\u001b[0;34m(\u001b[0m\u001b[0mnegativeBar\u001b[0m\u001b[0;34m(\u001b[0m\u001b[0mcafe\u001b[0m\u001b[0;34m)\u001b[0m\u001b[0;34m)\u001b[0m\u001b[0;34m\u001b[0m\u001b[0;34m\u001b[0m\u001b[0m\n",
          "\u001b[0;32m<ipython-input-42-e7c501a65902>\u001b[0m in \u001b[0;36mnegativeDF\u001b[0;34m(name)\u001b[0m\n\u001b[1;32m     15\u001b[0m     \u001b[0mwords\u001b[0m\u001b[0;34m=\u001b[0m\u001b[0mwordTokenizer\u001b[0m\u001b[0;34m(\u001b[0m\u001b[0mtemp\u001b[0m\u001b[0;34m)\u001b[0m\u001b[0;34m\u001b[0m\u001b[0;34m\u001b[0m\u001b[0m\n\u001b[1;32m     16\u001b[0m     \u001b[0mwords\u001b[0m \u001b[0;34m=\u001b[0m \u001b[0;34m[\u001b[0m\u001b[0mword\u001b[0m \u001b[0;32mfor\u001b[0m \u001b[0mword\u001b[0m \u001b[0;32min\u001b[0m \u001b[0mwords\u001b[0m \u001b[0;32mif\u001b[0m \u001b[0mlen\u001b[0m\u001b[0;34m(\u001b[0m\u001b[0mword\u001b[0m\u001b[0;34m)\u001b[0m\u001b[0;34m>\u001b[0m\u001b[0;36m1\u001b[0m\u001b[0;34m]\u001b[0m\u001b[0;34m\u001b[0m\u001b[0;34m\u001b[0m\u001b[0m\n\u001b[0;32m---> 17\u001b[0;31m     \u001b[0mtagged\u001b[0m \u001b[0;34m=\u001b[0m \u001b[0mnltk\u001b[0m\u001b[0;34m.\u001b[0m\u001b[0mpos_tag\u001b[0m\u001b[0;34m(\u001b[0m\u001b[0mwords\u001b[0m\u001b[0;34m)\u001b[0m\u001b[0;34m\u001b[0m\u001b[0;34m\u001b[0m\u001b[0m\n\u001b[0m\u001b[1;32m     18\u001b[0m     \u001b[0mwords\u001b[0m \u001b[0;34m=\u001b[0m \u001b[0;34m[\u001b[0m\u001b[0mword\u001b[0m \u001b[0;32mfor\u001b[0m \u001b[0mword\u001b[0m\u001b[0;34m,\u001b[0m \u001b[0mpos\u001b[0m \u001b[0;32min\u001b[0m \u001b[0mtagged\u001b[0m \u001b[0;32mif\u001b[0m \u001b[0mpos\u001b[0m \u001b[0;32min\u001b[0m\u001b[0;34m[\u001b[0m\u001b[0;34m'JJ'\u001b[0m\u001b[0;34m]\u001b[0m\u001b[0;34m]\u001b[0m\u001b[0;34m\u001b[0m\u001b[0;34m\u001b[0m\u001b[0m\n\u001b[1;32m     19\u001b[0m     \u001b[0mwords\u001b[0m \u001b[0;34m=\u001b[0m \u001b[0;34m[\u001b[0m\u001b[0mword\u001b[0m\u001b[0;34m.\u001b[0m\u001b[0mlower\u001b[0m\u001b[0;34m(\u001b[0m\u001b[0;34m)\u001b[0m \u001b[0;32mfor\u001b[0m \u001b[0mword\u001b[0m \u001b[0;32min\u001b[0m \u001b[0mwords\u001b[0m\u001b[0;34m]\u001b[0m\u001b[0;34m\u001b[0m\u001b[0;34m\u001b[0m\u001b[0m\n",
          "\u001b[0;32m/Library/Frameworks/Python.framework/Versions/3.9/lib/python3.9/site-packages/nltk/tag/__init__.py\u001b[0m in \u001b[0;36mpos_tag\u001b[0;34m(tokens, tagset, lang)\u001b[0m\n\u001b[1;32m    162\u001b[0m     \u001b[0;34m:\u001b[0m\u001b[0mrtype\u001b[0m\u001b[0;34m:\u001b[0m \u001b[0mlist\u001b[0m\u001b[0;34m(\u001b[0m\u001b[0mtuple\u001b[0m\u001b[0;34m(\u001b[0m\u001b[0mstr\u001b[0m\u001b[0;34m,\u001b[0m \u001b[0mstr\u001b[0m\u001b[0;34m)\u001b[0m\u001b[0;34m)\u001b[0m\u001b[0;34m\u001b[0m\u001b[0;34m\u001b[0m\u001b[0m\n\u001b[1;32m    163\u001b[0m     \"\"\"\n\u001b[0;32m--> 164\u001b[0;31m     \u001b[0mtagger\u001b[0m \u001b[0;34m=\u001b[0m \u001b[0m_get_tagger\u001b[0m\u001b[0;34m(\u001b[0m\u001b[0mlang\u001b[0m\u001b[0;34m)\u001b[0m\u001b[0;34m\u001b[0m\u001b[0;34m\u001b[0m\u001b[0m\n\u001b[0m\u001b[1;32m    165\u001b[0m     \u001b[0;32mreturn\u001b[0m \u001b[0m_pos_tag\u001b[0m\u001b[0;34m(\u001b[0m\u001b[0mtokens\u001b[0m\u001b[0;34m,\u001b[0m \u001b[0mtagset\u001b[0m\u001b[0;34m,\u001b[0m \u001b[0mtagger\u001b[0m\u001b[0;34m,\u001b[0m \u001b[0mlang\u001b[0m\u001b[0;34m)\u001b[0m\u001b[0;34m\u001b[0m\u001b[0;34m\u001b[0m\u001b[0m\n\u001b[1;32m    166\u001b[0m \u001b[0;34m\u001b[0m\u001b[0m\n",
          "\u001b[0;32m/Library/Frameworks/Python.framework/Versions/3.9/lib/python3.9/site-packages/nltk/tag/__init__.py\u001b[0m in \u001b[0;36m_get_tagger\u001b[0;34m(lang)\u001b[0m\n\u001b[1;32m    104\u001b[0m         \u001b[0mtagger\u001b[0m\u001b[0;34m.\u001b[0m\u001b[0mload\u001b[0m\u001b[0;34m(\u001b[0m\u001b[0map_russian_model_loc\u001b[0m\u001b[0;34m)\u001b[0m\u001b[0;34m\u001b[0m\u001b[0;34m\u001b[0m\u001b[0m\n\u001b[1;32m    105\u001b[0m     \u001b[0;32melse\u001b[0m\u001b[0;34m:\u001b[0m\u001b[0;34m\u001b[0m\u001b[0;34m\u001b[0m\u001b[0m\n\u001b[0;32m--> 106\u001b[0;31m         \u001b[0mtagger\u001b[0m \u001b[0;34m=\u001b[0m \u001b[0mPerceptronTagger\u001b[0m\u001b[0;34m(\u001b[0m\u001b[0;34m)\u001b[0m\u001b[0;34m\u001b[0m\u001b[0;34m\u001b[0m\u001b[0m\n\u001b[0m\u001b[1;32m    107\u001b[0m     \u001b[0;32mreturn\u001b[0m \u001b[0mtagger\u001b[0m\u001b[0;34m\u001b[0m\u001b[0;34m\u001b[0m\u001b[0m\n\u001b[1;32m    108\u001b[0m \u001b[0;34m\u001b[0m\u001b[0m\n",
          "\u001b[0;32m/Library/Frameworks/Python.framework/Versions/3.9/lib/python3.9/site-packages/nltk/tag/perceptron.py\u001b[0m in \u001b[0;36m__init__\u001b[0;34m(self, load)\u001b[0m\n\u001b[1;32m    166\u001b[0m         \u001b[0;32mif\u001b[0m \u001b[0mload\u001b[0m\u001b[0;34m:\u001b[0m\u001b[0;34m\u001b[0m\u001b[0;34m\u001b[0m\u001b[0m\n\u001b[1;32m    167\u001b[0m             AP_MODEL_LOC = \"file:\" + str(\n\u001b[0;32m--> 168\u001b[0;31m                 \u001b[0mfind\u001b[0m\u001b[0;34m(\u001b[0m\u001b[0;34m\"taggers/averaged_perceptron_tagger/\"\u001b[0m \u001b[0;34m+\u001b[0m \u001b[0mPICKLE\u001b[0m\u001b[0;34m)\u001b[0m\u001b[0;34m\u001b[0m\u001b[0;34m\u001b[0m\u001b[0m\n\u001b[0m\u001b[1;32m    169\u001b[0m             )\n\u001b[1;32m    170\u001b[0m             \u001b[0mself\u001b[0m\u001b[0;34m.\u001b[0m\u001b[0mload\u001b[0m\u001b[0;34m(\u001b[0m\u001b[0mAP_MODEL_LOC\u001b[0m\u001b[0;34m)\u001b[0m\u001b[0;34m\u001b[0m\u001b[0;34m\u001b[0m\u001b[0m\n",
          "\u001b[0;32m/Library/Frameworks/Python.framework/Versions/3.9/lib/python3.9/site-packages/nltk/data.py\u001b[0m in \u001b[0;36mfind\u001b[0;34m(resource_name, paths)\u001b[0m\n\u001b[1;32m    581\u001b[0m     \u001b[0msep\u001b[0m \u001b[0;34m=\u001b[0m \u001b[0;34m\"*\"\u001b[0m \u001b[0;34m*\u001b[0m \u001b[0;36m70\u001b[0m\u001b[0;34m\u001b[0m\u001b[0;34m\u001b[0m\u001b[0m\n\u001b[1;32m    582\u001b[0m     \u001b[0mresource_not_found\u001b[0m \u001b[0;34m=\u001b[0m \u001b[0;34m\"\\n%s\\n%s\\n%s\\n\"\u001b[0m \u001b[0;34m%\u001b[0m \u001b[0;34m(\u001b[0m\u001b[0msep\u001b[0m\u001b[0;34m,\u001b[0m \u001b[0mmsg\u001b[0m\u001b[0;34m,\u001b[0m \u001b[0msep\u001b[0m\u001b[0;34m)\u001b[0m\u001b[0;34m\u001b[0m\u001b[0;34m\u001b[0m\u001b[0m\n\u001b[0;32m--> 583\u001b[0;31m     \u001b[0;32mraise\u001b[0m \u001b[0mLookupError\u001b[0m\u001b[0;34m(\u001b[0m\u001b[0mresource_not_found\u001b[0m\u001b[0;34m)\u001b[0m\u001b[0;34m\u001b[0m\u001b[0;34m\u001b[0m\u001b[0m\n\u001b[0m\u001b[1;32m    584\u001b[0m \u001b[0;34m\u001b[0m\u001b[0m\n\u001b[1;32m    585\u001b[0m \u001b[0;34m\u001b[0m\u001b[0m\n",
          "\u001b[0;31mLookupError\u001b[0m: \n**********************************************************************\n  Resource \u001b[93maveraged_perceptron_tagger\u001b[0m not found.\n  Please use the NLTK Downloader to obtain the resource:\n\n  \u001b[31m>>> import nltk\n  >>> nltk.download('averaged_perceptron_tagger')\n  \u001b[0m\n  For more information see: https://www.nltk.org/data.html\n\n  Attempted to load \u001b[93mtaggers/averaged_perceptron_tagger/averaged_perceptron_tagger.pickle\u001b[0m\n\n  Searched in:\n    - '/Users/hyenzzang/nltk_data'\n    - '/Library/Frameworks/Python.framework/Versions/3.9/nltk_data'\n    - '/Library/Frameworks/Python.framework/Versions/3.9/share/nltk_data'\n    - '/Library/Frameworks/Python.framework/Versions/3.9/lib/nltk_data'\n    - '/usr/share/nltk_data'\n    - '/usr/local/share/nltk_data'\n    - '/usr/lib/nltk_data'\n    - '/usr/local/lib/nltk_data'\n**********************************************************************\n"
         ]
        }
       ]
      }
     },
     "48d6dbe0f1d645d6819f3d2814a24533": {
      "model_module": "@jupyter-widgets/controls",
      "model_module_version": "1.5.0",
      "model_name": "DescriptionStyleModel",
      "state": {
       "description_width": ""
      }
     },
     "49ac054c465444939779930615b45a78": {
      "model_module": "@jupyter-widgets/controls",
      "model_module_version": "1.5.0",
      "model_name": "DescriptionStyleModel",
      "state": {
       "description_width": ""
      }
     },
     "4a417903d5fc4cb2b9b66631fe2ae14e": {
      "model_module": "@jupyter-widgets/controls",
      "model_module_version": "1.5.0",
      "model_name": "FloatProgressModel",
      "state": {
       "bar_style": "success",
       "layout": "IPY_MODEL_bb5ed5a35a334452a88a2270f9e9aed4",
       "max": 640,
       "style": "IPY_MODEL_33b34e180aa24a2b8cedc90ec055d521",
       "value": 640
      }
     },
     "4a746d2257354f8c86e81a1f2ca0063d": {
      "model_module": "@jupyter-widgets/base",
      "model_module_version": "1.2.0",
      "model_name": "LayoutModel",
      "state": {}
     },
     "4bed5302da8f4acda30fae812a7bd8e7": {
      "model_module": "@jupyter-widgets/controls",
      "model_module_version": "1.5.0",
      "model_name": "HBoxModel",
      "state": {
       "children": [
        "IPY_MODEL_2dcc54666a584c8fa07b41873f8a1b92",
        "IPY_MODEL_acc8f57b54bc431284b578504be3da82"
       ],
       "layout": "IPY_MODEL_77f4088cea5f4a20980166bc35fa7be7"
      }
     },
     "4bfd31fe50a545cf8648a2f46c7e79e2": {
      "model_module": "@jupyter-widgets/controls",
      "model_module_version": "1.5.0",
      "model_name": "HBoxModel",
      "state": {
       "children": [
        "IPY_MODEL_ddadf431e5904a18bdd0bbaa09d61b40",
        "IPY_MODEL_11ef3866d22242878797b7dde0d5f3da"
       ],
       "layout": "IPY_MODEL_c13b68b5baa54d7dab8d50c45ea214a9"
      }
     },
     "4d30c272e99f4acd997021af2321cc2b": {
      "model_module": "@jupyter-widgets/controls",
      "model_module_version": "1.5.0",
      "model_name": "HTMLModel",
      "state": {
       "layout": "IPY_MODEL_555a4d3c9e5e41e48ad7cc14d40e797a",
       "style": "IPY_MODEL_a20c3f0c57f64bb9bbbb813a0582843e",
       "value": "100%"
      }
     },
     "4e916f11f01c49a78a48f397a25b9aaf": {
      "model_module": "@jupyter-widgets/controls",
      "model_module_version": "1.5.0",
      "model_name": "FloatProgressModel",
      "state": {
       "bar_style": "success",
       "description": "100%",
       "layout": "IPY_MODEL_85658d543be7492dbfeb1c4b7e428be4",
       "max": 64,
       "style": "IPY_MODEL_6a4f30b7413540bfa2b303e869e37444",
       "value": 64
      }
     },
     "4f277c67ea30476990e5bdda0ccad4da": {
      "model_module": "@jupyter-widgets/base",
      "model_module_version": "1.2.0",
      "model_name": "LayoutModel",
      "state": {}
     },
     "51c71a262eab401b84b99b0c8b569dac": {
      "model_module": "@jupyter-widgets/controls",
      "model_module_version": "1.5.0",
      "model_name": "ProgressStyleModel",
      "state": {
       "description_width": "initial"
      }
     },
     "51cf4fc18c2141dfa1e12acf66441d28": {
      "model_module": "@jupyter-widgets/output",
      "model_module_version": "1.0.0",
      "model_name": "OutputModel",
      "state": {
       "layout": "IPY_MODEL_357ac809484d4292ac16270a5c4a1e7b",
       "outputs": [
        {
         "ename": "NameError",
         "evalue": "name 'sentiment' is not defined",
         "output_type": "error",
         "traceback": [
          "\u001b[0;31m---------------------------------------------------------------------------\u001b[0m",
          "\u001b[0;31mNameError\u001b[0m                                 Traceback (most recent call last)",
          "\u001b[0;32m<ipython-input-38-01de8dc800d7>\u001b[0m in \u001b[0;36m<module>\u001b[0;34m\u001b[0m\n\u001b[1;32m     16\u001b[0m     \u001b[0mdisplay\u001b[0m\u001b[0;34m(\u001b[0m\u001b[0mpositiveDF\u001b[0m\u001b[0;34m(\u001b[0m\u001b[0mcafe\u001b[0m\u001b[0;34m)\u001b[0m\u001b[0;34m)\u001b[0m\u001b[0;34m\u001b[0m\u001b[0;34m\u001b[0m\u001b[0m\n\u001b[1;32m     17\u001b[0m \u001b[0;32mwith\u001b[0m \u001b[0moutputPplot\u001b[0m\u001b[0;34m:\u001b[0m\u001b[0;34m\u001b[0m\u001b[0;34m\u001b[0m\u001b[0m\n\u001b[0;32m---> 18\u001b[0;31m     \u001b[0mdisplay\u001b[0m\u001b[0;34m(\u001b[0m\u001b[0mpositiveBar\u001b[0m\u001b[0;34m(\u001b[0m\u001b[0mcafe\u001b[0m\u001b[0;34m)\u001b[0m\u001b[0;34m)\u001b[0m\u001b[0;34m\u001b[0m\u001b[0;34m\u001b[0m\u001b[0m\n\u001b[0m\u001b[1;32m     19\u001b[0m \u001b[0;34m\u001b[0m\u001b[0m\n\u001b[1;32m     20\u001b[0m \u001b[0mwidgetchange\u001b[0m\u001b[0;34m=\u001b[0m\u001b[0mwidgets\u001b[0m\u001b[0;34m.\u001b[0m\u001b[0mTab\u001b[0m\u001b[0;34m(\u001b[0m\u001b[0;34m[\u001b[0m\u001b[0moutputAll\u001b[0m\u001b[0;34m,\u001b[0m\u001b[0moutputN\u001b[0m\u001b[0;34m,\u001b[0m \u001b[0moutputNplot\u001b[0m\u001b[0;34m,\u001b[0m\u001b[0moutputP\u001b[0m\u001b[0;34m,\u001b[0m \u001b[0moutputPplot\u001b[0m\u001b[0;34m]\u001b[0m\u001b[0;34m)\u001b[0m\u001b[0;34m\u001b[0m\u001b[0;34m\u001b[0m\u001b[0m\n",
          "\u001b[0;32m<ipython-input-37-e7c501a65902>\u001b[0m in \u001b[0;36mpositiveBar\u001b[0;34m(name)\u001b[0m\n\u001b[1;32m     82\u001b[0m \u001b[0;34m\u001b[0m\u001b[0m\n\u001b[1;32m     83\u001b[0m \u001b[0;32mdef\u001b[0m \u001b[0mpositiveBar\u001b[0m\u001b[0;34m(\u001b[0m\u001b[0mname\u001b[0m\u001b[0;34m)\u001b[0m\u001b[0;34m:\u001b[0m\u001b[0;34m\u001b[0m\u001b[0;34m\u001b[0m\u001b[0m\n\u001b[0;32m---> 84\u001b[0;31m     \u001b[0mdf\u001b[0m\u001b[0;34m=\u001b[0m\u001b[0mpositiveDF\u001b[0m\u001b[0;34m(\u001b[0m\u001b[0mname\u001b[0m\u001b[0;34m)\u001b[0m\u001b[0;34m.\u001b[0m\u001b[0mhead\u001b[0m\u001b[0;34m(\u001b[0m\u001b[0;36m15\u001b[0m\u001b[0;34m)\u001b[0m\u001b[0;34m\u001b[0m\u001b[0;34m\u001b[0m\u001b[0m\n\u001b[0m\u001b[1;32m     85\u001b[0m     \u001b[0mdf\u001b[0m \u001b[0;34m=\u001b[0m \u001b[0mdf\u001b[0m\u001b[0;34m.\u001b[0m\u001b[0mloc\u001b[0m\u001b[0;34m[\u001b[0m\u001b[0;34m:\u001b[0m\u001b[0;34m,\u001b[0m\u001b[0;34m[\u001b[0m\u001b[0;34m\"단어\"\u001b[0m\u001b[0;34m,\u001b[0m\u001b[0;34m\"비율\"\u001b[0m\u001b[0;34m]\u001b[0m\u001b[0;34m]\u001b[0m\u001b[0;34m\u001b[0m\u001b[0;34m\u001b[0m\u001b[0m\n\u001b[1;32m     86\u001b[0m     \u001b[0mdf\u001b[0m \u001b[0;34m=\u001b[0m \u001b[0mdf\u001b[0m\u001b[0;34m.\u001b[0m\u001b[0mrename\u001b[0m\u001b[0;34m(\u001b[0m\u001b[0mcolumns\u001b[0m\u001b[0;34m=\u001b[0m\u001b[0;34m{\u001b[0m\u001b[0;34m\"비율\"\u001b[0m\u001b[0;34m:\u001b[0m\u001b[0mname\u001b[0m\u001b[0;34m}\u001b[0m\u001b[0;34m)\u001b[0m\u001b[0;34m\u001b[0m\u001b[0;34m\u001b[0m\u001b[0m\n",
          "\u001b[0;32m<ipython-input-37-e7c501a65902>\u001b[0m in \u001b[0;36mpositiveDF\u001b[0;34m(name)\u001b[0m\n\u001b[1;32m     53\u001b[0m          \u001b[0mpositive\u001b[0m \u001b[0;34m=\u001b[0m \u001b[0msentdf\u001b[0m\u001b[0;34m.\u001b[0m\u001b[0mloc\u001b[0m\u001b[0;34m[\u001b[0m\u001b[0msentdf\u001b[0m\u001b[0;34m[\u001b[0m\u001b[0;34m\"감성분석\"\u001b[0m\u001b[0;34m]\u001b[0m\u001b[0;34m==\u001b[0m\u001b[0;34m'Positive'\u001b[0m\u001b[0;34m,\u001b[0m \u001b[0;34m:\u001b[0m\u001b[0;34m]\u001b[0m\u001b[0;34m\u001b[0m\u001b[0;34m\u001b[0m\u001b[0m\n\u001b[1;32m     54\u001b[0m     \u001b[0;32melse\u001b[0m\u001b[0;34m:\u001b[0m\u001b[0;34m\u001b[0m\u001b[0;34m\u001b[0m\u001b[0m\n\u001b[0;32m---> 55\u001b[0;31m         \u001b[0mpositive\u001b[0m \u001b[0;34m=\u001b[0m \u001b[0msentiment\u001b[0m\u001b[0;34m.\u001b[0m\u001b[0mloc\u001b[0m\u001b[0;34m[\u001b[0m\u001b[0msentiment\u001b[0m\u001b[0;34m[\u001b[0m\u001b[0;34m\"감성분석\"\u001b[0m\u001b[0;34m]\u001b[0m\u001b[0;34m==\u001b[0m\u001b[0;34m'Positive'\u001b[0m\u001b[0;34m,\u001b[0m \u001b[0;34m:\u001b[0m\u001b[0;34m]\u001b[0m\u001b[0;34m\u001b[0m\u001b[0;34m\u001b[0m\u001b[0m\n\u001b[0m\u001b[1;32m     56\u001b[0m \u001b[0;34m\u001b[0m\u001b[0m\n\u001b[1;32m     57\u001b[0m \u001b[0;34m\u001b[0m\u001b[0m\n",
          "\u001b[0;31mNameError\u001b[0m: name 'sentiment' is not defined"
         ]
        }
       ]
      }
     },
     "530193bda48147aeb271fc6eea29fbc5": {
      "model_module": "@jupyter-widgets/base",
      "model_module_version": "1.2.0",
      "model_name": "LayoutModel",
      "state": {}
     },
     "555a4d3c9e5e41e48ad7cc14d40e797a": {
      "model_module": "@jupyter-widgets/base",
      "model_module_version": "1.2.0",
      "model_name": "LayoutModel",
      "state": {}
     },
     "560a727f44b542a5b8b8427aed655669": {
      "model_module": "@jupyter-widgets/base",
      "model_module_version": "1.2.0",
      "model_name": "LayoutModel",
      "state": {}
     },
     "57a15bff3e8a4ad28374c92c31cb9482": {
      "model_module": "@jupyter-widgets/controls",
      "model_module_version": "1.5.0",
      "model_name": "HBoxModel",
      "state": {
       "children": [
        "IPY_MODEL_81203f08aac64edaa78a166a9860d484",
        "IPY_MODEL_77aa1e3dc93449309401358abe590e8b",
        "IPY_MODEL_6cf1b3c2f62a490084894165b1327228"
       ],
       "layout": "IPY_MODEL_354c090bc558481089fda3f16250f399"
      }
     },
     "585a69e21123458289cfc79a4887237a": {
      "model_module": "@jupyter-widgets/base",
      "model_module_version": "1.2.0",
      "model_name": "LayoutModel",
      "state": {}
     },
     "58802071e41f4068ba382b11875b6526": {
      "model_module": "@jupyter-widgets/output",
      "model_module_version": "1.0.0",
      "model_name": "OutputModel",
      "state": {
       "layout": "IPY_MODEL_c8bb99a1288043f5a72680678e27ac54",
       "outputs": [
        {
         "data": {
          "application/vnd.jupyter.widget-view+json": {
           "model_id": "e264e2b49c0d484697868c5dd8d5185a",
           "version_major": 2,
           "version_minor": 0
          },
          "text/plain": "  0%|          | 0/640 [00:00<?, ?it/s]"
         },
         "metadata": {},
         "output_type": "display_data"
        },
        {
         "ename": "LookupError",
         "evalue": "\n**********************************************************************\n  Resource \u001b[93maveraged_perceptron_tagger\u001b[0m not found.\n  Please use the NLTK Downloader to obtain the resource:\n\n  \u001b[31m>>> import nltk\n  >>> nltk.download('averaged_perceptron_tagger')\n  \u001b[0m\n  For more information see: https://www.nltk.org/data.html\n\n  Attempted to load \u001b[93mtaggers/averaged_perceptron_tagger/averaged_perceptron_tagger.pickle\u001b[0m\n\n  Searched in:\n    - '/Users/hyenzzang/nltk_data'\n    - '/Library/Frameworks/Python.framework/Versions/3.9/nltk_data'\n    - '/Library/Frameworks/Python.framework/Versions/3.9/share/nltk_data'\n    - '/Library/Frameworks/Python.framework/Versions/3.9/lib/nltk_data'\n    - '/usr/share/nltk_data'\n    - '/usr/local/share/nltk_data'\n    - '/usr/lib/nltk_data'\n    - '/usr/local/lib/nltk_data'\n**********************************************************************\n",
         "output_type": "error",
         "traceback": [
          "\u001b[0;31m---------------------------------------------------------------------------\u001b[0m",
          "\u001b[0;31mLookupError\u001b[0m                               Traceback (most recent call last)",
          "\u001b[0;32m<ipython-input-43-01de8dc800d7>\u001b[0m in \u001b[0;36m<module>\u001b[0;34m\u001b[0m\n\u001b[1;32m     14\u001b[0m     \u001b[0mdisplay\u001b[0m\u001b[0;34m(\u001b[0m\u001b[0mnegativeBar\u001b[0m\u001b[0;34m(\u001b[0m\u001b[0mcafe\u001b[0m\u001b[0;34m)\u001b[0m\u001b[0;34m)\u001b[0m\u001b[0;34m\u001b[0m\u001b[0;34m\u001b[0m\u001b[0m\n\u001b[1;32m     15\u001b[0m \u001b[0;32mwith\u001b[0m \u001b[0moutputP\u001b[0m\u001b[0;34m:\u001b[0m\u001b[0;34m\u001b[0m\u001b[0;34m\u001b[0m\u001b[0m\n\u001b[0;32m---> 16\u001b[0;31m     \u001b[0mdisplay\u001b[0m\u001b[0;34m(\u001b[0m\u001b[0mpositiveDF\u001b[0m\u001b[0;34m(\u001b[0m\u001b[0mcafe\u001b[0m\u001b[0;34m)\u001b[0m\u001b[0;34m)\u001b[0m\u001b[0;34m\u001b[0m\u001b[0;34m\u001b[0m\u001b[0m\n\u001b[0m\u001b[1;32m     17\u001b[0m \u001b[0;32mwith\u001b[0m \u001b[0moutputPplot\u001b[0m\u001b[0;34m:\u001b[0m\u001b[0;34m\u001b[0m\u001b[0;34m\u001b[0m\u001b[0m\n\u001b[1;32m     18\u001b[0m     \u001b[0mdisplay\u001b[0m\u001b[0;34m(\u001b[0m\u001b[0mpositiveBar\u001b[0m\u001b[0;34m(\u001b[0m\u001b[0mcafe\u001b[0m\u001b[0;34m)\u001b[0m\u001b[0;34m)\u001b[0m\u001b[0;34m\u001b[0m\u001b[0;34m\u001b[0m\u001b[0m\n",
          "\u001b[0;32m<ipython-input-42-e7c501a65902>\u001b[0m in \u001b[0;36mpositiveDF\u001b[0;34m(name)\u001b[0m\n\u001b[1;32m     64\u001b[0m     \u001b[0mwords\u001b[0m\u001b[0;34m=\u001b[0m\u001b[0mwordTokenizer\u001b[0m\u001b[0;34m(\u001b[0m\u001b[0mtemp\u001b[0m\u001b[0;34m)\u001b[0m\u001b[0;34m\u001b[0m\u001b[0;34m\u001b[0m\u001b[0m\n\u001b[1;32m     65\u001b[0m     \u001b[0mwords\u001b[0m \u001b[0;34m=\u001b[0m \u001b[0;34m[\u001b[0m\u001b[0mword\u001b[0m \u001b[0;32mfor\u001b[0m \u001b[0mword\u001b[0m \u001b[0;32min\u001b[0m \u001b[0mwords\u001b[0m \u001b[0;32mif\u001b[0m \u001b[0mlen\u001b[0m\u001b[0;34m(\u001b[0m\u001b[0mword\u001b[0m\u001b[0;34m)\u001b[0m\u001b[0;34m>\u001b[0m\u001b[0;36m1\u001b[0m\u001b[0;34m]\u001b[0m\u001b[0;34m\u001b[0m\u001b[0;34m\u001b[0m\u001b[0m\n\u001b[0;32m---> 66\u001b[0;31m     \u001b[0mtagged\u001b[0m \u001b[0;34m=\u001b[0m \u001b[0mnltk\u001b[0m\u001b[0;34m.\u001b[0m\u001b[0mpos_tag\u001b[0m\u001b[0;34m(\u001b[0m\u001b[0mwords\u001b[0m\u001b[0;34m)\u001b[0m\u001b[0;34m\u001b[0m\u001b[0;34m\u001b[0m\u001b[0m\n\u001b[0m\u001b[1;32m     67\u001b[0m     \u001b[0mwords\u001b[0m \u001b[0;34m=\u001b[0m \u001b[0;34m[\u001b[0m\u001b[0mword\u001b[0m \u001b[0;32mfor\u001b[0m \u001b[0mword\u001b[0m\u001b[0;34m,\u001b[0m \u001b[0mpos\u001b[0m \u001b[0;32min\u001b[0m \u001b[0mtagged\u001b[0m \u001b[0;32mif\u001b[0m \u001b[0mpos\u001b[0m \u001b[0;32min\u001b[0m\u001b[0;34m[\u001b[0m\u001b[0;34m'JJ'\u001b[0m\u001b[0;34m]\u001b[0m\u001b[0;34m]\u001b[0m\u001b[0;34m\u001b[0m\u001b[0;34m\u001b[0m\u001b[0m\n\u001b[1;32m     68\u001b[0m     \u001b[0mwords\u001b[0m \u001b[0;34m=\u001b[0m \u001b[0;34m[\u001b[0m\u001b[0mword\u001b[0m\u001b[0;34m.\u001b[0m\u001b[0mlower\u001b[0m\u001b[0;34m(\u001b[0m\u001b[0;34m)\u001b[0m \u001b[0;32mfor\u001b[0m \u001b[0mword\u001b[0m \u001b[0;32min\u001b[0m \u001b[0mwords\u001b[0m\u001b[0;34m]\u001b[0m\u001b[0;34m\u001b[0m\u001b[0;34m\u001b[0m\u001b[0m\n",
          "\u001b[0;32m/Library/Frameworks/Python.framework/Versions/3.9/lib/python3.9/site-packages/nltk/tag/__init__.py\u001b[0m in \u001b[0;36mpos_tag\u001b[0;34m(tokens, tagset, lang)\u001b[0m\n\u001b[1;32m    162\u001b[0m     \u001b[0;34m:\u001b[0m\u001b[0mrtype\u001b[0m\u001b[0;34m:\u001b[0m \u001b[0mlist\u001b[0m\u001b[0;34m(\u001b[0m\u001b[0mtuple\u001b[0m\u001b[0;34m(\u001b[0m\u001b[0mstr\u001b[0m\u001b[0;34m,\u001b[0m \u001b[0mstr\u001b[0m\u001b[0;34m)\u001b[0m\u001b[0;34m)\u001b[0m\u001b[0;34m\u001b[0m\u001b[0;34m\u001b[0m\u001b[0m\n\u001b[1;32m    163\u001b[0m     \"\"\"\n\u001b[0;32m--> 164\u001b[0;31m     \u001b[0mtagger\u001b[0m \u001b[0;34m=\u001b[0m \u001b[0m_get_tagger\u001b[0m\u001b[0;34m(\u001b[0m\u001b[0mlang\u001b[0m\u001b[0;34m)\u001b[0m\u001b[0;34m\u001b[0m\u001b[0;34m\u001b[0m\u001b[0m\n\u001b[0m\u001b[1;32m    165\u001b[0m     \u001b[0;32mreturn\u001b[0m \u001b[0m_pos_tag\u001b[0m\u001b[0;34m(\u001b[0m\u001b[0mtokens\u001b[0m\u001b[0;34m,\u001b[0m \u001b[0mtagset\u001b[0m\u001b[0;34m,\u001b[0m \u001b[0mtagger\u001b[0m\u001b[0;34m,\u001b[0m \u001b[0mlang\u001b[0m\u001b[0;34m)\u001b[0m\u001b[0;34m\u001b[0m\u001b[0;34m\u001b[0m\u001b[0m\n\u001b[1;32m    166\u001b[0m \u001b[0;34m\u001b[0m\u001b[0m\n",
          "\u001b[0;32m/Library/Frameworks/Python.framework/Versions/3.9/lib/python3.9/site-packages/nltk/tag/__init__.py\u001b[0m in \u001b[0;36m_get_tagger\u001b[0;34m(lang)\u001b[0m\n\u001b[1;32m    104\u001b[0m         \u001b[0mtagger\u001b[0m\u001b[0;34m.\u001b[0m\u001b[0mload\u001b[0m\u001b[0;34m(\u001b[0m\u001b[0map_russian_model_loc\u001b[0m\u001b[0;34m)\u001b[0m\u001b[0;34m\u001b[0m\u001b[0;34m\u001b[0m\u001b[0m\n\u001b[1;32m    105\u001b[0m     \u001b[0;32melse\u001b[0m\u001b[0;34m:\u001b[0m\u001b[0;34m\u001b[0m\u001b[0;34m\u001b[0m\u001b[0m\n\u001b[0;32m--> 106\u001b[0;31m         \u001b[0mtagger\u001b[0m \u001b[0;34m=\u001b[0m \u001b[0mPerceptronTagger\u001b[0m\u001b[0;34m(\u001b[0m\u001b[0;34m)\u001b[0m\u001b[0;34m\u001b[0m\u001b[0;34m\u001b[0m\u001b[0m\n\u001b[0m\u001b[1;32m    107\u001b[0m     \u001b[0;32mreturn\u001b[0m \u001b[0mtagger\u001b[0m\u001b[0;34m\u001b[0m\u001b[0;34m\u001b[0m\u001b[0m\n\u001b[1;32m    108\u001b[0m \u001b[0;34m\u001b[0m\u001b[0m\n",
          "\u001b[0;32m/Library/Frameworks/Python.framework/Versions/3.9/lib/python3.9/site-packages/nltk/tag/perceptron.py\u001b[0m in \u001b[0;36m__init__\u001b[0;34m(self, load)\u001b[0m\n\u001b[1;32m    166\u001b[0m         \u001b[0;32mif\u001b[0m \u001b[0mload\u001b[0m\u001b[0;34m:\u001b[0m\u001b[0;34m\u001b[0m\u001b[0;34m\u001b[0m\u001b[0m\n\u001b[1;32m    167\u001b[0m             AP_MODEL_LOC = \"file:\" + str(\n\u001b[0;32m--> 168\u001b[0;31m                 \u001b[0mfind\u001b[0m\u001b[0;34m(\u001b[0m\u001b[0;34m\"taggers/averaged_perceptron_tagger/\"\u001b[0m \u001b[0;34m+\u001b[0m \u001b[0mPICKLE\u001b[0m\u001b[0;34m)\u001b[0m\u001b[0;34m\u001b[0m\u001b[0;34m\u001b[0m\u001b[0m\n\u001b[0m\u001b[1;32m    169\u001b[0m             )\n\u001b[1;32m    170\u001b[0m             \u001b[0mself\u001b[0m\u001b[0;34m.\u001b[0m\u001b[0mload\u001b[0m\u001b[0;34m(\u001b[0m\u001b[0mAP_MODEL_LOC\u001b[0m\u001b[0;34m)\u001b[0m\u001b[0;34m\u001b[0m\u001b[0;34m\u001b[0m\u001b[0m\n",
          "\u001b[0;32m/Library/Frameworks/Python.framework/Versions/3.9/lib/python3.9/site-packages/nltk/data.py\u001b[0m in \u001b[0;36mfind\u001b[0;34m(resource_name, paths)\u001b[0m\n\u001b[1;32m    581\u001b[0m     \u001b[0msep\u001b[0m \u001b[0;34m=\u001b[0m \u001b[0;34m\"*\"\u001b[0m \u001b[0;34m*\u001b[0m \u001b[0;36m70\u001b[0m\u001b[0;34m\u001b[0m\u001b[0;34m\u001b[0m\u001b[0m\n\u001b[1;32m    582\u001b[0m     \u001b[0mresource_not_found\u001b[0m \u001b[0;34m=\u001b[0m \u001b[0;34m\"\\n%s\\n%s\\n%s\\n\"\u001b[0m \u001b[0;34m%\u001b[0m \u001b[0;34m(\u001b[0m\u001b[0msep\u001b[0m\u001b[0;34m,\u001b[0m \u001b[0mmsg\u001b[0m\u001b[0;34m,\u001b[0m \u001b[0msep\u001b[0m\u001b[0;34m)\u001b[0m\u001b[0;34m\u001b[0m\u001b[0;34m\u001b[0m\u001b[0m\n\u001b[0;32m--> 583\u001b[0;31m     \u001b[0;32mraise\u001b[0m \u001b[0mLookupError\u001b[0m\u001b[0;34m(\u001b[0m\u001b[0mresource_not_found\u001b[0m\u001b[0;34m)\u001b[0m\u001b[0;34m\u001b[0m\u001b[0;34m\u001b[0m\u001b[0m\n\u001b[0m\u001b[1;32m    584\u001b[0m \u001b[0;34m\u001b[0m\u001b[0m\n\u001b[1;32m    585\u001b[0m \u001b[0;34m\u001b[0m\u001b[0m\n",
          "\u001b[0;31mLookupError\u001b[0m: \n**********************************************************************\n  Resource \u001b[93maveraged_perceptron_tagger\u001b[0m not found.\n  Please use the NLTK Downloader to obtain the resource:\n\n  \u001b[31m>>> import nltk\n  >>> nltk.download('averaged_perceptron_tagger')\n  \u001b[0m\n  For more information see: https://www.nltk.org/data.html\n\n  Attempted to load \u001b[93mtaggers/averaged_perceptron_tagger/averaged_perceptron_tagger.pickle\u001b[0m\n\n  Searched in:\n    - '/Users/hyenzzang/nltk_data'\n    - '/Library/Frameworks/Python.framework/Versions/3.9/nltk_data'\n    - '/Library/Frameworks/Python.framework/Versions/3.9/share/nltk_data'\n    - '/Library/Frameworks/Python.framework/Versions/3.9/lib/nltk_data'\n    - '/usr/share/nltk_data'\n    - '/usr/local/share/nltk_data'\n    - '/usr/lib/nltk_data'\n    - '/usr/local/lib/nltk_data'\n**********************************************************************\n"
         ]
        }
       ]
      }
     },
     "598d83c50c144c0ca4d02678c53d4370": {
      "model_module": "@jupyter-widgets/base",
      "model_module_version": "1.2.0",
      "model_name": "LayoutModel",
      "state": {}
     },
     "5a1d11d06e8549f8a79791020fb5105a": {
      "model_module": "@jupyter-widgets/base",
      "model_module_version": "1.2.0",
      "model_name": "LayoutModel",
      "state": {}
     },
     "5f612afc16a6456ca21d70d614206f4b": {
      "model_module": "@jupyter-widgets/controls",
      "model_module_version": "1.5.0",
      "model_name": "DescriptionStyleModel",
      "state": {
       "description_width": ""
      }
     },
     "60e85cf4ab274acebb42c131f0841592": {
      "model_module": "@jupyter-widgets/controls",
      "model_module_version": "1.5.0",
      "model_name": "DropdownModel",
      "state": {
       "_options_labels": [
        " ",
        "1837블랙티",
        "감귤당근주스",
        "겐마이차그린",
        "고구마라떼",
        "고구마스무디",
        "고흥유자차",
        "골드키위주스",
        "과일주스",
        "구아바그라니따",
        "구아바주스",
        "군고구마라떼",
        "그나와민트티",
        "그랜마애플블랙밀크티",
        "그랜마애플블랙티",
        "그린라떼",
        "그린민트모카탐앤치노",
        "그린민트초콜릿",
        "그린민트카페모카",
        "그린밀크티",
        "그린밸런스",
        "그린비엔나",
        "그린티그라니따",
        "그린티라떼",
        "그린티블렌디드",
        "그린티스노우",
        "그린티아이스블렌디드",
        "그린티크림라떼",
        "그린티탐앤치노",
        "그린티할리치노",
        "깔라만시에이드",
        "깔라만시티",
        "꿀밤라떼",
        "꿀복숭아플랫치노",
        "나이트로그린티애플",
        "나이트로바닐라크림",
        "나이트로쇼콜라클라우드",
        "나이트로콜드브루",
        "나이트로히비스커스라즈베리",
        "녹차라떼",
        "녹차빽스치노",
        "녹차플랫치노",
        "다크초코칩할리치노",
        "단호박식혜",
        "달고나카페라떼",
        "달달연유라떼",
        "달콤스노우",
        "달콤아이스티",
        "당근청귤이지주스",
        "더블베리스파클링",
        "더블샷바닐라딜라이트",
        "더블에스프레소칩프라푸치노",
        "더블초콜릿",
        "더블카페라떼",
        "돌체블랙밀크티",
        "돌체콜드브루",
        "드립커피",
        "디카페인버블흑당콜드브루",
        "디카페인연유콜드브루",
        "디카페인콜드브루니트로",
        "디카페인콜드브루라떼",
        "디카페인콜드브루아메리카노",
        "디카페인콜드브루크림넛",
        "디카페인콜드브루티라미수",
        "디카페인콜드브루화이트비엔나",
        "디카페인흑당콜드브루",
        "딸기쉐이크",
        "딸기스노우",
        "딸기스무디",
        "딸기요거트블렌디드",
        "딸기요거트스무디",
        "딸기요거트플랫치노",
        "딸기주스",
        "딸기치즈케익할리치노",
        "라떼비엔나",
        "라벤더카페브레베",
        "라임패션티",
        "라임플로터",
        "럼샷코르타도",
        "레드밸런스",
        "레드선라이즈",
        "레드자몽스파클링에이드",
        "레모네이드",
        "레몬머틀티",
        "레몬민트그라니따",
        "레몬셔벗에이드",
        "레몬스윗플럼",
        "레몬스파클링",
        "레몬에이드",
        "레몬유자캐모마일티",
        "레몬차",
        "레몬캐모마일",
        "레몬티",
        "로마노",
        "로얄밀크티",
        "로얄밀크티쉐이크",
        "로얄캐모마일",
        "로즈자스민티",
        "로즈힙밀크티",
        "롱블랙",
        "루비자몽주스",
        "루비자몽핫주스",
        "루이보스빌베리",
        "루이보스아몬드밀크티",
        "루이보스크림티",
        "리스트레또딜라이트",
        "리얼벨지안초코",
        "리얼벨지안카페모카",
        "말차레모네이드프로즌티",
        "망고바나나라떼",
        "망고바나나블렌디드",
        "망고바나나아이스블렌디드",
        "망고스노우",
        "망고스무디",
        "망고오렌지스무디",
        "망고요거트그라니따",
        "망고요거트스무디",
        "망고주스",
        "망고패션스무디",
        "망고패션후르츠블렌디드",
        "망고프라페",
        "망고플랫치노",
        "매직윈터트로피컬핫펀치",
        "매직팝스플래쉬피지오",
        "메론밀크쉐이크",
        "멜론스무디",
        "모로칸민트",
        "모로칸민트라떼",
        "모카라떼",
        "모카블렌디드",
        "모카아이스블렌디드",
        "모카칩프라페",
        "모카콘파나그라니따",
        "모카탐앤치노",
        "모카포트아포가또",
        "모카프라푸치노",
        "모카플랫치노",
        "모히또라떼",
        "미숫가루",
        "미초(석류)에이드",
        "미초에이드",
        "민트모카",
        "민트블렌드티",
        "민트초코",
        "민트초코렛칩플랫치노",
        "민트초코할리치노",
        "민트초콜릿",
        "밀크쉐이크",
        "밀크티",
        "밀크티라떼",
        "밀크티크림라떼",
        "밀크티할리치노",
        "바닐라딜라이트",
        "바닐라라떼",
        "바닐라라떼마끼아또",
        "바닐라블렌디드",
        "바닐라쉐이크",
        "바닐라스타벅스더블샷",
        "바닐라아이스블렌디드",
        "바닐라카페라떼",
        "바닐라크림콜드브루",
        "바닐라크림프라푸치노",
        "바닐라탐앤치노",
        "바닐라플랫화이트",
        "밥대신라이스쉐이크",
        "배에이드",
        "버블그린티라떼",
        "버블밀크티",
        "버블크림밀크티",
        "버블흑당라떼",
        "버블흑당콜드브루",
        "베리베리블렌디드",
        "베리베리아이스블렌디드",
        "베리스파클링",
        "복숭아그라니따",
        "복숭아얼그레이",
        "복숭아자두스파클링",
        "블랙와플칩크림프라푸치노",
        "블랙티",
        "블랙티레모네이드피지오",
        "블랙티얼그레이",
        "블랙티잉글리쉬",
        "블랙포레스트블렌디드",
        "블랙포레스트아이스블렌디드",
        "블론드리스트레토마키아또",
        "블론드바닐라더블샷마키아또",
        "블론드에스프레소토닉",
        "블론드카라멜클라우드마키아또",
        "블론드코코아클라우드마키아또",
        "블루레몬에이드",
        "블루베리스노우",
        "블루베리스무디",
        "블루베리요거트",
        "블루베리요거트그라니따",
        "블루베리요거트드링크",
        "블루베리요거트스무디",
        "블루베리요거트플랫치노",
        "블루베리요거트할리치노",
        "블루캔디소다",
        "비엔나커피",
        "비체린",
        "비트사과착즙스무디",
        "비트사과착즙주스",
        "빽's라떼",
        "살구실론",
        "상그리아에이드",
        "상큼라C요거트",
        "새콤리얼주스",
        "샤인머스캣주스",
        "샤인머스켓그라니따",
        "샤케라또",
        "샹그리아에이드",
        "석류애플라임",
        "석류에이드",
        "석류오리지널",
        "숏라떼",
        "수박주스",
        "수정과",
        "슈퍼밸런스",
        "스웨디쉬베리즈",
        "스위트크림라떼",
        "스퀴즈레몬차",
        "스타벅스돌체라떼",
        "스트로베리그라니따",
        "스트로베리요거트그라니따",
        "스트로베리주스",
        "스트로베리피치프라페",
        "스팀우유",
        "스파클링망고",
        "스파클링스웨디쉬레몬",
        "스파클링에이드",
        "스페니쉬연유라떼",
        "시그니처라떼",
        "시그니처초콜릿",
        "시그니처핫초콜릿",
        "시나몬모카탐앤치노",
        "시나몬초콜릿",
        "시나몬초콜릿탐앤치노",
        "시나몬카페모카",
        "싱글오리진",
        "쑥라떼",
        "아메리치노",
        "아메리치노라떼",
        "아메리치노흑당",
        "아메리치노흑당라떼",
        "아메리카노",
        "아보카도바나나",
        "아보카도초코",
        "아이스그린티라떼",
        "아이스미초",
        "아이스초콜릿",
        "아이스커피",
        "아이스크림카페라떼",
        "아이스티",
        "아이스티라즈베리",
        "아이스티레몬",
        "아이스티복숭아",
        "아이스홍시",
        "아인슈페너",
        "아카시아꿀차",
        "아포가또",
        "아포가토스트로베리쿠키",
        "아포가토오리지널",
        "아포가토콜드브루바닐라모카",
        "아프리칸선라이즈",
        "애플민트티",
        "애플에이드",
        "애플티",
        "어린잎녹차작설차",
        "얼그레이",
        "얼그레이리저브",
        "얼그레이밀크티",
        "얼그레이홍차블랙티",
        "에스프레소",
        "에스프레소꼰빠냐",
        "에스프레소도피오",
        "에스프레소마끼아또",
        "에스프레소마키아또",
        "에스프레소콘파나",
        "에스프레소콘파나그라니따",
        "에스프레소콘파냐",
        "에스프레소탐앤치노",
        "에스프레소프라푸치노",
        "연유라떼",
        "연유카페라떼",
        "연유콜드브루",
        "영그레이얼그레이",
        "옐로우패션",
        "오늘의커피",
        "오렌지보스루이보스오렌지",
        "오렌지에이드",
        "오렌지자몽주스",
        "오렌지자몽티",
        "오렌지주스",
        "오렌지파인착즙스무디",
        "오렌지파인착즙주스",
        "오렌지플로터",
        "오렌지핫주스",
        "오르조",
        "오리지널드립커피",
        "오리지널밀크티",
        "오리진쉐이크",
        "오트밀라떼",
        "오트밀블루베리스노우",
        "오트밀카라멜스노우",
        "와일드베리플로터",
        "완전딸기",
        "완전딸기바나나",
        "완전망고",
        "완전복숭아",
        "완전수박",
        "완전아보카도",
        "완전자두",
        "완전초코",
        "완전초코바나나",
        "완전파인애플",
        "요거트스노우",
        "요거프라페",
        "원조빽스치노",
        "원조커피",
        "월넛치노",
        "유스베리티",
        "유자레몬티",
        "유자몽",
        "유자민트티",
        "유자스무디",
        "유자에이드",
        "유자차",
        "유자캐모마일",
        "유자캐모마일블렌디드",
        "유자캐모마일아이스블렌디드",
        "유자티",
        "유자파인애플주스",
        "유자피나콜라다",
        "유채꿀애플스파클링",
        "율무이이",
        "이곡라떼",
        "이디야사과주스",
        "이디야콤부차복숭아망고",
        "이디야콤부차청포도레몬",
        "익스트림티블렌디드",
        "잉글리쉬브랙퍼스트",
        "잉글리쉬브렉퍼스트",
        "잉글리쉬브렉퍼스트라떼",
        "잉글리쉬브렉퍼스트티",
        "자두그라니따",
        "자몽네이블오렌지",
        "자몽셔벗블렌디드",
        "자몽스파클링",
        "자몽에이드",
        "자몽차",
        "자몽티",
        "자몽파인스파클링",
        "자몽플랫치노",
        "자몽허니블랙티",
        "자바초코렛칩스노우",
        "자바칩민트그라니따",
        "자바칩탐앤치노",
        "자바칩프라푸치노",
        "자색고구마라떼",
        "작설",
        "제주까망라떼",
        "제주까망크림프라푸치노",
        "제주레드빈라떼",
        "제주레드빈블렌디드",
        "제주말차프라페",
        "제주비자림콜드브루",
        "제주쑥떡크림프라푸치노",
        "제주쑥쑥라떼",
        "제주유기녹차",
        "제주유기농말차로만든라떼",
        "제주유기농말차로만든크림프라푸치노",
        "제주청귤블라썸",
        "제주청귤오리지널",
        "제주청보리라떼",
        "제주청보리크림프라푸치노",
        "제주한라봉감귤차",
        "제주한라봉블랙티블렌디드",
        "진셍페퍼민트",
        "차이라떼",
        "차이티",
        "차이티라떼",
        "청포도스파클링",
        "청포도슬러쉬",
        "청포도에이드",
        "청포도케일착즙스무디",
        "청포도케일착즙주스",
        "청포도플라워",
        "초코렛칩플랫치노",
        "초코묻고더블쉐이크",
        "초코쉐이크",
        "초코쿠키쉐이크",
        "초콜렛라떼",
        "초콜릿",
        "초콜릿라떼",
        "초콜릿블랙콜드브루",
        "초콜릿크림칩프라푸치노",
        "치아씨드요거트",
        "치즈가쿠키했대쉐이크",
        "카라멜라떼마끼아또",
        "카라멜마끼아또",
        "카라멜블렌디드",
        "카라멜아이스블렌디드",
        "카라멜콘파나그라니따",
        "카라멜프라페",
        "카라멜프라푸치노",
        "카라멜플랫치노",
        "카모마일",
        "카페라떼",
        "카페모카",
        "카페수아",
        "카푸치노",
        "캐러멜마키아토",
        "캐러멜블린디드",
        "캐러멜아이스블렌디드",
        "캐모마일레드티",
        "캐모마일블렌드티",
        "캐모마일프루티",
        "캬라멜마끼아또",
        "캬라멜탐앤치노",
        "커스터드라떼",
        "커즈마인시트러스캐모마일",
        "커피쉐이크",
        "커피스타벅스더블샷",
        "커피젤리카페라떼",
        "커피플랫치노",
        "케모마일",
        "케일&사과주스",
        "코코넛라떼",
        "코코넛밀크스노우",
        "코코넛커피스무디",
        "코코넛화이트콜드브루",
        "콜드브루",
        "콜드브루니트로",
        "콜드브루더치커피",
        "콜드브루딜라이트",
        "콜드브루라떼",
        "콜드브루모카할리치노",
        "콜드브루몰트",
        "콜드브루아메리카노",
        "콜드브루크림넛",
        "콜드브루티라미수",
        "콜드브루플로트",
        "콜드브루할리치노",
        "콜드브루화이트비엔나",
        "쿠키앤크림스노우",
        "쿠키크런치빽스치노",
        "쿨라임피지오",
        "쿨민트",
        "크리미모카라떼",
        "크림슨펀치",
        "크림카라멜",
        "클래식아포가토",
        "키위바나나주스",
        "키위주스",
        "토마토주스",
        "토피넛라떼",
        "톡톡에이드",
        "티라미수라떼",
        "티라미스크림라떼",
        "파미그래네이트블루베리",
        "파인그린",
        "패션탱고티레모네이드피지오",
        "패션파인마테치즈크림티",
        "패션푸르트칵테일티",
        "패션후르츠스무디",
        "페퍼민트",
        "페퍼민트티",
        "퓨어더블초콜렛블렌디드",
        "퓨어더블초콜렛아이스블렌디드",
        "퓨어바닐라블렌디드",
        "퓨어바닐라아이스블렌디드",
        "프렌치얼그레이",
        "프로틴쉐이크",
        "프루티하동머스캣그린티",
        "프룻밸런스",
        "프리미엄블렌드딥라떼",
        "프리미엄스무디감귤",
        "프리미엄스무디복숭아",
        "프리미엄스무디한라봉",
        "프리미엄요거트스무디감귤",
        "프리미엄요거트스무디복숭아",
        "프리미엄요거트스무디한라봉",
        "플랫화이트",
        "플러피판다핫초콜릿",
        "플레인요거트",
        "플레인요거트그라니따",
        "플레인요거트드링크",
        "플레인요거트스무디",
        "플레인요거트플랫치노",
        "플레인요거트할리치노",
        "피스타치오빽스치노",
        "피스타치오크림프라푸치노",
        "피치&레몬블렌디드",
        "피치우롱",
        "피치우롱티",
        "피치젤리티",
        "피치젤리핫티",
        "핑크자몽피지오",
        "한라봉봉",
        "한라봉스노우",
        "한라봉스파클링에이드",
        "한라봉주스",
        "핫초코",
        "핫초콜릿",
        "해남녹차",
        "햇사과주스",
        "허니레몬아이스티",
        "허니레몬티",
        "허브티로즈마리",
        "허브티쟈스민",
        "허브티캐모마일",
        "허브티페퍼민트",
        "헤이즐넛라떼",
        "헤이즐넛블렌디드",
        "헤이즐넛스타벅스더블샷",
        "헤이즐넛아메리카노",
        "헤이즐넛아이스블렌디드",
        "헤이즐넛아이스커피",
        "헤이즐넛카푸치노",
        "홍시스무디",
        "홍시주스",
        "홍자몽차",
        "화이트딸기크림프라푸치노",
        "화이트초코",
        "화이트초콜릿",
        "화이트초콜릿라떼마끼아또",
        "화이트초콜릿모카",
        "화이트초콜릿모카프라푸치노",
        "화이트타이거프라푸치노",
        "화이트포레스트블렌디드",
        "화이트포레스트아이스블렌디드",
        "후레쉬망고블렌디드",
        "후레쉬망고아이스블렌디드",
        "후레쉬에이드레몬",
        "후레쉬에이드오렌지",
        "후레쉬에이드자몽",
        "후레쉬쥬스오렌지",
        "후레쉬쥬스자몽",
        "흑당곡물라떼",
        "흑당라떼",
        "흑당버블라떼",
        "흑당버블밀크티",
        "흑당카페라떼",
        "흑당콜드브루",
        "흑당콜드브루라떼",
        "흑당펄라떼",
        "흑당펄밀크티",
        "흑임자카페라떼",
        "히비스커스뱅쇼",
        "히비스커스블렌드",
        "히비스커스블렌드티"
       ],
       "description": "음료명 : ",
       "index": 273,
       "layout": "IPY_MODEL_29746adf3472426f87d8ecfb1d79e626",
       "style": "IPY_MODEL_f63752a955594039b3d2ed50bdce6005"
      }
     },
     "60efa99042dd48118500ef7b8b6a26b6": {
      "model_module": "@jupyter-widgets/controls",
      "model_module_version": "1.5.0",
      "model_name": "ProgressStyleModel",
      "state": {
       "description_width": ""
      }
     },
     "6194f0acd7ed47aba04b564edb1fcdaf": {
      "model_module": "@jupyter-widgets/controls",
      "model_module_version": "1.5.0",
      "model_name": "ProgressStyleModel",
      "state": {
       "description_width": "initial"
      }
     },
     "61b1b47a73064f80abdfb6a2d4d96b2c": {
      "model_module": "@jupyter-widgets/base",
      "model_module_version": "1.2.0",
      "model_name": "LayoutModel",
      "state": {}
     },
     "6231e93dc67443c5a9f3921fae82cb93": {
      "model_module": "@jupyter-widgets/controls",
      "model_module_version": "1.5.0",
      "model_name": "DropdownModel",
      "state": {
       "_options_labels": [
        " ",
        "1837블랙티",
        "감귤당근주스",
        "겐마이차그린",
        "고구마라떼",
        "고구마스무디",
        "고흥유자차",
        "골드키위주스",
        "과일주스",
        "구아바그라니따",
        "구아바주스",
        "군고구마라떼",
        "그나와민트티",
        "그랜마애플블랙밀크티",
        "그랜마애플블랙티",
        "그린라떼",
        "그린민트모카탐앤치노",
        "그린민트초콜릿",
        "그린민트카페모카",
        "그린밀크티",
        "그린밸런스",
        "그린비엔나",
        "그린티그라니따",
        "그린티라떼",
        "그린티블렌디드",
        "그린티스노우",
        "그린티아이스블렌디드",
        "그린티크림라떼",
        "그린티탐앤치노",
        "그린티할리치노",
        "깔라만시에이드",
        "깔라만시티",
        "꿀밤라떼",
        "꿀복숭아플랫치노",
        "나이트로그린티애플",
        "나이트로바닐라크림",
        "나이트로쇼콜라클라우드",
        "나이트로콜드브루",
        "나이트로히비스커스라즈베리",
        "녹차라떼",
        "녹차빽스치노",
        "녹차플랫치노",
        "다크초코칩할리치노",
        "단호박식혜",
        "달고나카페라떼",
        "달달연유라떼",
        "달콤스노우",
        "달콤아이스티",
        "당근청귤이지주스",
        "더블베리스파클링",
        "더블샷바닐라딜라이트",
        "더블에스프레소칩프라푸치노",
        "더블초콜릿",
        "더블카페라떼",
        "돌체블랙밀크티",
        "돌체콜드브루",
        "드립커피",
        "디카페인버블흑당콜드브루",
        "디카페인연유콜드브루",
        "디카페인콜드브루니트로",
        "디카페인콜드브루라떼",
        "디카페인콜드브루아메리카노",
        "디카페인콜드브루크림넛",
        "디카페인콜드브루티라미수",
        "디카페인콜드브루화이트비엔나",
        "디카페인흑당콜드브루",
        "딸기쉐이크",
        "딸기스노우",
        "딸기스무디",
        "딸기요거트블렌디드",
        "딸기요거트스무디",
        "딸기요거트플랫치노",
        "딸기주스",
        "딸기치즈케익할리치노",
        "라떼비엔나",
        "라벤더카페브레베",
        "라임패션티",
        "라임플로터",
        "럼샷코르타도",
        "레드밸런스",
        "레드선라이즈",
        "레드자몽스파클링에이드",
        "레모네이드",
        "레몬머틀티",
        "레몬민트그라니따",
        "레몬셔벗에이드",
        "레몬스윗플럼",
        "레몬스파클링",
        "레몬에이드",
        "레몬유자캐모마일티",
        "레몬차",
        "레몬캐모마일",
        "레몬티",
        "로마노",
        "로얄밀크티",
        "로얄밀크티쉐이크",
        "로얄캐모마일",
        "로즈자스민티",
        "로즈힙밀크티",
        "롱블랙",
        "루비자몽주스",
        "루비자몽핫주스",
        "루이보스빌베리",
        "루이보스아몬드밀크티",
        "루이보스크림티",
        "리스트레또딜라이트",
        "리얼벨지안초코",
        "리얼벨지안카페모카",
        "말차레모네이드프로즌티",
        "망고바나나라떼",
        "망고바나나블렌디드",
        "망고바나나아이스블렌디드",
        "망고스노우",
        "망고스무디",
        "망고오렌지스무디",
        "망고요거트그라니따",
        "망고요거트스무디",
        "망고주스",
        "망고패션스무디",
        "망고패션후르츠블렌디드",
        "망고프라페",
        "망고플랫치노",
        "매직윈터트로피컬핫펀치",
        "매직팝스플래쉬피지오",
        "메론밀크쉐이크",
        "멜론스무디",
        "모로칸민트",
        "모로칸민트라떼",
        "모카라떼",
        "모카블렌디드",
        "모카아이스블렌디드",
        "모카칩프라페",
        "모카콘파나그라니따",
        "모카탐앤치노",
        "모카포트아포가또",
        "모카프라푸치노",
        "모카플랫치노",
        "모히또라떼",
        "미숫가루",
        "미초(석류)에이드",
        "미초에이드",
        "민트모카",
        "민트블렌드티",
        "민트초코",
        "민트초코렛칩플랫치노",
        "민트초코할리치노",
        "민트초콜릿",
        "밀크쉐이크",
        "밀크티",
        "밀크티라떼",
        "밀크티크림라떼",
        "밀크티할리치노",
        "바닐라딜라이트",
        "바닐라라떼",
        "바닐라라떼마끼아또",
        "바닐라블렌디드",
        "바닐라쉐이크",
        "바닐라스타벅스더블샷",
        "바닐라아이스블렌디드",
        "바닐라카페라떼",
        "바닐라크림콜드브루",
        "바닐라크림프라푸치노",
        "바닐라탐앤치노",
        "바닐라플랫화이트",
        "밥대신라이스쉐이크",
        "배에이드",
        "버블그린티라떼",
        "버블밀크티",
        "버블크림밀크티",
        "버블흑당라떼",
        "버블흑당콜드브루",
        "베리베리블렌디드",
        "베리베리아이스블렌디드",
        "베리스파클링",
        "복숭아그라니따",
        "복숭아얼그레이",
        "복숭아자두스파클링",
        "블랙와플칩크림프라푸치노",
        "블랙티",
        "블랙티레모네이드피지오",
        "블랙티얼그레이",
        "블랙티잉글리쉬",
        "블랙포레스트블렌디드",
        "블랙포레스트아이스블렌디드",
        "블론드리스트레토마키아또",
        "블론드바닐라더블샷마키아또",
        "블론드에스프레소토닉",
        "블론드카라멜클라우드마키아또",
        "블론드코코아클라우드마키아또",
        "블루레몬에이드",
        "블루베리스노우",
        "블루베리스무디",
        "블루베리요거트",
        "블루베리요거트그라니따",
        "블루베리요거트드링크",
        "블루베리요거트스무디",
        "블루베리요거트플랫치노",
        "블루베리요거트할리치노",
        "블루캔디소다",
        "비엔나커피",
        "비체린",
        "비트사과착즙스무디",
        "비트사과착즙주스",
        "빽's라떼",
        "살구실론",
        "상그리아에이드",
        "상큼라C요거트",
        "새콤리얼주스",
        "샤인머스캣주스",
        "샤인머스켓그라니따",
        "샤케라또",
        "샹그리아에이드",
        "석류애플라임",
        "석류에이드",
        "석류오리지널",
        "숏라떼",
        "수박주스",
        "수정과",
        "슈퍼밸런스",
        "스웨디쉬베리즈",
        "스위트크림라떼",
        "스퀴즈레몬차",
        "스타벅스돌체라떼",
        "스트로베리그라니따",
        "스트로베리요거트그라니따",
        "스트로베리주스",
        "스트로베리피치프라페",
        "스팀우유",
        "스파클링망고",
        "스파클링스웨디쉬레몬",
        "스파클링에이드",
        "스페니쉬연유라떼",
        "시그니처라떼",
        "시그니처초콜릿",
        "시그니처핫초콜릿",
        "시나몬모카탐앤치노",
        "시나몬초콜릿",
        "시나몬초콜릿탐앤치노",
        "시나몬카페모카",
        "싱글오리진",
        "쑥라떼",
        "아메리치노",
        "아메리치노라떼",
        "아메리치노흑당",
        "아메리치노흑당라떼",
        "아메리카노",
        "아보카도바나나",
        "아보카도초코",
        "아이스그린티라떼",
        "아이스미초",
        "아이스초콜릿",
        "아이스커피",
        "아이스크림카페라떼",
        "아이스티",
        "아이스티라즈베리",
        "아이스티레몬",
        "아이스티복숭아",
        "아이스홍시",
        "아인슈페너",
        "아카시아꿀차",
        "아포가또",
        "아포가토스트로베리쿠키",
        "아포가토오리지널",
        "아포가토콜드브루바닐라모카",
        "아프리칸선라이즈",
        "애플민트티",
        "애플에이드",
        "애플티",
        "어린잎녹차작설차",
        "얼그레이",
        "얼그레이리저브",
        "얼그레이밀크티",
        "얼그레이홍차블랙티",
        "에스프레소",
        "에스프레소꼰빠냐",
        "에스프레소도피오",
        "에스프레소마끼아또",
        "에스프레소마키아또",
        "에스프레소콘파나",
        "에스프레소콘파나그라니따",
        "에스프레소콘파냐",
        "에스프레소탐앤치노",
        "에스프레소프라푸치노",
        "연유라떼",
        "연유카페라떼",
        "연유콜드브루",
        "영그레이얼그레이",
        "옐로우패션",
        "오늘의커피",
        "오렌지보스루이보스오렌지",
        "오렌지에이드",
        "오렌지자몽주스",
        "오렌지자몽티",
        "오렌지주스",
        "오렌지파인착즙스무디",
        "오렌지파인착즙주스",
        "오렌지플로터",
        "오렌지핫주스",
        "오르조",
        "오리지널드립커피",
        "오리지널밀크티",
        "오리진쉐이크",
        "오트밀라떼",
        "오트밀블루베리스노우",
        "오트밀카라멜스노우",
        "와일드베리플로터",
        "완전딸기",
        "완전딸기바나나",
        "완전망고",
        "완전복숭아",
        "완전수박",
        "완전아보카도",
        "완전자두",
        "완전초코",
        "완전초코바나나",
        "완전파인애플",
        "요거트스노우",
        "요거프라페",
        "원조빽스치노",
        "원조커피",
        "월넛치노",
        "유스베리티",
        "유자레몬티",
        "유자몽",
        "유자민트티",
        "유자스무디",
        "유자에이드",
        "유자차",
        "유자캐모마일",
        "유자캐모마일블렌디드",
        "유자캐모마일아이스블렌디드",
        "유자티",
        "유자파인애플주스",
        "유자피나콜라다",
        "유채꿀애플스파클링",
        "율무이이",
        "이곡라떼",
        "이디야사과주스",
        "이디야콤부차복숭아망고",
        "이디야콤부차청포도레몬",
        "익스트림티블렌디드",
        "잉글리쉬브랙퍼스트",
        "잉글리쉬브렉퍼스트",
        "잉글리쉬브렉퍼스트라떼",
        "잉글리쉬브렉퍼스트티",
        "자두그라니따",
        "자몽네이블오렌지",
        "자몽셔벗블렌디드",
        "자몽스파클링",
        "자몽에이드",
        "자몽차",
        "자몽티",
        "자몽파인스파클링",
        "자몽플랫치노",
        "자몽허니블랙티",
        "자바초코렛칩스노우",
        "자바칩민트그라니따",
        "자바칩탐앤치노",
        "자바칩프라푸치노",
        "자색고구마라떼",
        "작설",
        "제주까망라떼",
        "제주까망크림프라푸치노",
        "제주레드빈라떼",
        "제주레드빈블렌디드",
        "제주말차프라페",
        "제주비자림콜드브루",
        "제주쑥떡크림프라푸치노",
        "제주쑥쑥라떼",
        "제주유기녹차",
        "제주유기농말차로만든라떼",
        "제주유기농말차로만든크림프라푸치노",
        "제주청귤블라썸",
        "제주청귤오리지널",
        "제주청보리라떼",
        "제주청보리크림프라푸치노",
        "제주한라봉감귤차",
        "제주한라봉블랙티블렌디드",
        "진셍페퍼민트",
        "차이라떼",
        "차이티",
        "차이티라떼",
        "청포도스파클링",
        "청포도슬러쉬",
        "청포도에이드",
        "청포도케일착즙스무디",
        "청포도케일착즙주스",
        "청포도플라워",
        "초코렛칩플랫치노",
        "초코묻고더블쉐이크",
        "초코쉐이크",
        "초코쿠키쉐이크",
        "초콜렛라떼",
        "초콜릿",
        "초콜릿라떼",
        "초콜릿블랙콜드브루",
        "초콜릿크림칩프라푸치노",
        "치아씨드요거트",
        "치즈가쿠키했대쉐이크",
        "카라멜라떼마끼아또",
        "카라멜마끼아또",
        "카라멜블렌디드",
        "카라멜아이스블렌디드",
        "카라멜콘파나그라니따",
        "카라멜프라페",
        "카라멜프라푸치노",
        "카라멜플랫치노",
        "카모마일",
        "카페라떼",
        "카페모카",
        "카페수아",
        "카푸치노",
        "캐러멜마키아토",
        "캐러멜블린디드",
        "캐러멜아이스블렌디드",
        "캐모마일레드티",
        "캐모마일블렌드티",
        "캐모마일프루티",
        "캬라멜마끼아또",
        "캬라멜탐앤치노",
        "커스터드라떼",
        "커즈마인시트러스캐모마일",
        "커피쉐이크",
        "커피스타벅스더블샷",
        "커피젤리카페라떼",
        "커피플랫치노",
        "케모마일",
        "케일&사과주스",
        "코코넛라떼",
        "코코넛밀크스노우",
        "코코넛커피스무디",
        "코코넛화이트콜드브루",
        "콜드브루",
        "콜드브루니트로",
        "콜드브루더치커피",
        "콜드브루딜라이트",
        "콜드브루라떼",
        "콜드브루모카할리치노",
        "콜드브루몰트",
        "콜드브루아메리카노",
        "콜드브루크림넛",
        "콜드브루티라미수",
        "콜드브루플로트",
        "콜드브루할리치노",
        "콜드브루화이트비엔나",
        "쿠키앤크림스노우",
        "쿠키크런치빽스치노",
        "쿨라임피지오",
        "쿨민트",
        "크리미모카라떼",
        "크림슨펀치",
        "크림카라멜",
        "클래식아포가토",
        "키위바나나주스",
        "키위주스",
        "토마토주스",
        "토피넛라떼",
        "톡톡에이드",
        "티라미수라떼",
        "티라미스크림라떼",
        "파미그래네이트블루베리",
        "파인그린",
        "패션탱고티레모네이드피지오",
        "패션파인마테치즈크림티",
        "패션푸르트칵테일티",
        "패션후르츠스무디",
        "페퍼민트",
        "페퍼민트티",
        "퓨어더블초콜렛블렌디드",
        "퓨어더블초콜렛아이스블렌디드",
        "퓨어바닐라블렌디드",
        "퓨어바닐라아이스블렌디드",
        "프렌치얼그레이",
        "프로틴쉐이크",
        "프루티하동머스캣그린티",
        "프룻밸런스",
        "프리미엄블렌드딥라떼",
        "프리미엄스무디감귤",
        "프리미엄스무디복숭아",
        "프리미엄스무디한라봉",
        "프리미엄요거트스무디감귤",
        "프리미엄요거트스무디복숭아",
        "프리미엄요거트스무디한라봉",
        "플랫화이트",
        "플러피판다핫초콜릿",
        "플레인요거트",
        "플레인요거트그라니따",
        "플레인요거트드링크",
        "플레인요거트스무디",
        "플레인요거트플랫치노",
        "플레인요거트할리치노",
        "피스타치오빽스치노",
        "피스타치오크림프라푸치노",
        "피치&레몬블렌디드",
        "피치우롱",
        "피치우롱티",
        "피치젤리티",
        "피치젤리핫티",
        "핑크자몽피지오",
        "한라봉봉",
        "한라봉스노우",
        "한라봉스파클링에이드",
        "한라봉주스",
        "핫초코",
        "핫초콜릿",
        "해남녹차",
        "햇사과주스",
        "허니레몬아이스티",
        "허니레몬티",
        "허브티로즈마리",
        "허브티쟈스민",
        "허브티캐모마일",
        "허브티페퍼민트",
        "헤이즐넛라떼",
        "헤이즐넛블렌디드",
        "헤이즐넛스타벅스더블샷",
        "헤이즐넛아메리카노",
        "헤이즐넛아이스블렌디드",
        "헤이즐넛아이스커피",
        "헤이즐넛카푸치노",
        "홍시스무디",
        "홍시주스",
        "홍자몽차",
        "화이트딸기크림프라푸치노",
        "화이트초코",
        "화이트초콜릿",
        "화이트초콜릿라떼마끼아또",
        "화이트초콜릿모카",
        "화이트초콜릿모카프라푸치노",
        "화이트타이거프라푸치노",
        "화이트포레스트블렌디드",
        "화이트포레스트아이스블렌디드",
        "후레쉬망고블렌디드",
        "후레쉬망고아이스블렌디드",
        "후레쉬에이드레몬",
        "후레쉬에이드오렌지",
        "후레쉬에이드자몽",
        "후레쉬쥬스오렌지",
        "후레쉬쥬스자몽",
        "흑당곡물라떼",
        "흑당라떼",
        "흑당버블라떼",
        "흑당버블밀크티",
        "흑당카페라떼",
        "흑당콜드브루",
        "흑당콜드브루라떼",
        "흑당펄라떼",
        "흑당펄밀크티",
        "흑임자카페라떼",
        "히비스커스뱅쇼",
        "히비스커스블렌드",
        "히비스커스블렌드티"
       ],
       "description": "음료명 : ",
       "index": 245,
       "layout": "IPY_MODEL_ab21be7575814a96801f7e283785b56c",
       "style": "IPY_MODEL_34cd64f30e7640f2b09c4f1e8dfd3818"
      }
     },
     "62bc5fad99d449c7a632f74d14edee56": {
      "model_module": "@jupyter-widgets/controls",
      "model_module_version": "1.5.0",
      "model_name": "HTMLModel",
      "state": {
       "layout": "IPY_MODEL_dfc58ed239e14c8e99eea4a9fc187d60",
       "style": "IPY_MODEL_029c6b1c7fbd4bfb8bda18b65e819207",
       "value": " 32/32 [00:02&lt;00:00, 11.74it/s]"
      }
     },
     "6501a60af70a42248c1a3352d05e9da3": {
      "model_module": "@jupyter-widgets/base",
      "model_module_version": "1.2.0",
      "model_name": "LayoutModel",
      "state": {}
     },
     "65565af23a5a4e0794cb4f8a46fea793": {
      "model_module": "@jupyter-widgets/controls",
      "model_module_version": "1.5.0",
      "model_name": "DescriptionStyleModel",
      "state": {
       "description_width": ""
      }
     },
     "65a8239ce6594d1d88412ef5756355c9": {
      "model_module": "@jupyter-widgets/base",
      "model_module_version": "1.2.0",
      "model_name": "LayoutModel",
      "state": {}
     },
     "670eca771bc04255849dd178acc75d57": {
      "model_module": "@jupyter-widgets/controls",
      "model_module_version": "1.5.0",
      "model_name": "FloatProgressModel",
      "state": {
       "bar_style": "success",
       "description": "100%",
       "layout": "IPY_MODEL_ba4022f92bc7459a8ee160655bf5db8c",
       "max": 1562,
       "style": "IPY_MODEL_ae9e82bf7936447a803a7942458487ad",
       "value": 1562
      }
     },
     "67cdeffd96ea4a2a8912609520b4c265": {
      "model_module": "@jupyter-widgets/controls",
      "model_module_version": "1.5.0",
      "model_name": "TabModel",
      "state": {
       "_titles": {
        "0": "할리스 감성분석",
        "1": "할리스 부정적 단어",
        "2": "그래프",
        "3": "할리스 긍정적 단어",
        "4": "그래프"
       },
       "children": [
        "IPY_MODEL_92924fa2a8f2454ea1215c89cf994c7c",
        "IPY_MODEL_e4b47743423c4d8c98e776dc9922ee22",
        "IPY_MODEL_76d1cee6d2d64a0f90120f62f1802755",
        "IPY_MODEL_2d631e0aa22e47228ba5b05a5307b7eb",
        "IPY_MODEL_cec4d717c7e347bd8a86afad85073836"
       ],
       "layout": "IPY_MODEL_ade6ddaf9eb1485f898e3b7a6e2874fb",
       "selected_index": 4
      }
     },
     "67f6a1b98b1b4591851f1a4301226d02": {
      "model_module": "@jupyter-widgets/controls",
      "model_module_version": "1.5.0",
      "model_name": "HTMLModel",
      "state": {
       "layout": "IPY_MODEL_e86633e32a684a32917d95af4bda2d8c",
       "style": "IPY_MODEL_090863c8722041a99c9d6962249e6a82",
       "value": " 64/64 [02:41&lt;00:00,  2.53s/it]"
      }
     },
     "6a4f30b7413540bfa2b303e869e37444": {
      "model_module": "@jupyter-widgets/controls",
      "model_module_version": "1.5.0",
      "model_name": "ProgressStyleModel",
      "state": {
       "description_width": "initial"
      }
     },
     "6a5576b6fb5542e788b0f8458edcfb68": {
      "model_module": "@jupyter-widgets/controls",
      "model_module_version": "1.5.0",
      "model_name": "DescriptionStyleModel",
      "state": {
       "description_width": ""
      }
     },
     "6cdd32fbae124dc2b3769b8a5005509a": {
      "model_module": "@jupyter-widgets/base",
      "model_module_version": "1.2.0",
      "model_name": "LayoutModel",
      "state": {}
     },
     "6cf1b3c2f62a490084894165b1327228": {
      "model_module": "@jupyter-widgets/controls",
      "model_module_version": "1.5.0",
      "model_name": "HTMLModel",
      "state": {
       "layout": "IPY_MODEL_299ede00c7dc4972905fcfe2ab1ad194",
       "style": "IPY_MODEL_c166625b040c47a88f1a3f96f4ad1a04",
       "value": " 640/640 [00:00&lt;00:00, 48780.73it/s]"
      }
     },
     "6d118af506e24f31b44d735ec7c46265": {
      "model_module": "@jupyter-widgets/output",
      "model_module_version": "1.0.0",
      "model_name": "OutputModel",
      "state": {
       "layout": "IPY_MODEL_1533bedf2f8f4c089468004fa92cceb2",
       "outputs": [
        {
         "ename": "NameError",
         "evalue": "name 'sentiment' is not defined",
         "output_type": "error",
         "traceback": [
          "\u001b[0;31m---------------------------------------------------------------------------\u001b[0m",
          "\u001b[0;31mNameError\u001b[0m                                 Traceback (most recent call last)",
          "\u001b[0;32m<ipython-input-38-01de8dc800d7>\u001b[0m in \u001b[0;36m<module>\u001b[0;34m\u001b[0m\n\u001b[1;32m     14\u001b[0m     \u001b[0mdisplay\u001b[0m\u001b[0;34m(\u001b[0m\u001b[0mnegativeBar\u001b[0m\u001b[0;34m(\u001b[0m\u001b[0mcafe\u001b[0m\u001b[0;34m)\u001b[0m\u001b[0;34m)\u001b[0m\u001b[0;34m\u001b[0m\u001b[0;34m\u001b[0m\u001b[0m\n\u001b[1;32m     15\u001b[0m \u001b[0;32mwith\u001b[0m \u001b[0moutputP\u001b[0m\u001b[0;34m:\u001b[0m\u001b[0;34m\u001b[0m\u001b[0;34m\u001b[0m\u001b[0m\n\u001b[0;32m---> 16\u001b[0;31m     \u001b[0mdisplay\u001b[0m\u001b[0;34m(\u001b[0m\u001b[0mpositiveDF\u001b[0m\u001b[0;34m(\u001b[0m\u001b[0mcafe\u001b[0m\u001b[0;34m)\u001b[0m\u001b[0;34m)\u001b[0m\u001b[0;34m\u001b[0m\u001b[0;34m\u001b[0m\u001b[0m\n\u001b[0m\u001b[1;32m     17\u001b[0m \u001b[0;32mwith\u001b[0m \u001b[0moutputPplot\u001b[0m\u001b[0;34m:\u001b[0m\u001b[0;34m\u001b[0m\u001b[0;34m\u001b[0m\u001b[0m\n\u001b[1;32m     18\u001b[0m     \u001b[0mdisplay\u001b[0m\u001b[0;34m(\u001b[0m\u001b[0mpositiveBar\u001b[0m\u001b[0;34m(\u001b[0m\u001b[0mcafe\u001b[0m\u001b[0;34m)\u001b[0m\u001b[0;34m)\u001b[0m\u001b[0;34m\u001b[0m\u001b[0;34m\u001b[0m\u001b[0m\n",
          "\u001b[0;32m<ipython-input-37-e7c501a65902>\u001b[0m in \u001b[0;36mpositiveDF\u001b[0;34m(name)\u001b[0m\n\u001b[1;32m     53\u001b[0m          \u001b[0mpositive\u001b[0m \u001b[0;34m=\u001b[0m \u001b[0msentdf\u001b[0m\u001b[0;34m.\u001b[0m\u001b[0mloc\u001b[0m\u001b[0;34m[\u001b[0m\u001b[0msentdf\u001b[0m\u001b[0;34m[\u001b[0m\u001b[0;34m\"감성분석\"\u001b[0m\u001b[0;34m]\u001b[0m\u001b[0;34m==\u001b[0m\u001b[0;34m'Positive'\u001b[0m\u001b[0;34m,\u001b[0m \u001b[0;34m:\u001b[0m\u001b[0;34m]\u001b[0m\u001b[0;34m\u001b[0m\u001b[0;34m\u001b[0m\u001b[0m\n\u001b[1;32m     54\u001b[0m     \u001b[0;32melse\u001b[0m\u001b[0;34m:\u001b[0m\u001b[0;34m\u001b[0m\u001b[0;34m\u001b[0m\u001b[0m\n\u001b[0;32m---> 55\u001b[0;31m         \u001b[0mpositive\u001b[0m \u001b[0;34m=\u001b[0m \u001b[0msentiment\u001b[0m\u001b[0;34m.\u001b[0m\u001b[0mloc\u001b[0m\u001b[0;34m[\u001b[0m\u001b[0msentiment\u001b[0m\u001b[0;34m[\u001b[0m\u001b[0;34m\"감성분석\"\u001b[0m\u001b[0;34m]\u001b[0m\u001b[0;34m==\u001b[0m\u001b[0;34m'Positive'\u001b[0m\u001b[0;34m,\u001b[0m \u001b[0;34m:\u001b[0m\u001b[0;34m]\u001b[0m\u001b[0;34m\u001b[0m\u001b[0;34m\u001b[0m\u001b[0m\n\u001b[0m\u001b[1;32m     56\u001b[0m \u001b[0;34m\u001b[0m\u001b[0m\n\u001b[1;32m     57\u001b[0m \u001b[0;34m\u001b[0m\u001b[0m\n",
          "\u001b[0;31mNameError\u001b[0m: name 'sentiment' is not defined"
         ]
        }
       ]
      }
     },
     "6dd7e1c1ff0e48de857272408b65c11a": {
      "model_module": "@jupyter-widgets/base",
      "model_module_version": "1.2.0",
      "model_name": "LayoutModel",
      "state": {}
     },
     "6e4a40bc7ef844a9ba7916f47a88db76": {
      "model_module": "@jupyter-widgets/controls",
      "model_module_version": "1.5.0",
      "model_name": "FloatProgressModel",
      "state": {
       "bar_style": "success",
       "description": "100%",
       "layout": "IPY_MODEL_4f277c67ea30476990e5bdda0ccad4da",
       "max": 499,
       "style": "IPY_MODEL_a846df35f34049fc870aa5f58a57598f",
       "value": 499
      }
     },
     "6fac1194fdb6463fa6268b3a375af2b1": {
      "model_module": "@jupyter-widgets/base",
      "model_module_version": "1.2.0",
      "model_name": "LayoutModel",
      "state": {}
     },
     "702f3b9f47f54285a50d0561ea0c5f5c": {
      "model_module": "@jupyter-widgets/base",
      "model_module_version": "1.2.0",
      "model_name": "LayoutModel",
      "state": {}
     },
     "710b55f67b864db6821f3ab064472517": {
      "model_module": "@jupyter-widgets/base",
      "model_module_version": "1.2.0",
      "model_name": "LayoutModel",
      "state": {}
     },
     "718e1cb2d10843eca9b173ebe63319ed": {
      "model_module": "@jupyter-widgets/output",
      "model_module_version": "1.0.0",
      "model_name": "OutputModel",
      "state": {
       "layout": "IPY_MODEL_343a9c2c9f474d1383a12bc264acb802",
       "outputs": [
        {
         "data": {
          "image/png": "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\n",
          "text/plain": "<Figure size 720x432 with 1 Axes>"
         },
         "metadata": {
          "needs_background": "light"
         },
         "output_type": "display_data"
        },
        {
         "data": {
          "text/plain": "None"
         },
         "metadata": {},
         "output_type": "display_data"
        }
       ]
      }
     },
     "71b3824fcd434c419bd924b705531a1d": {
      "model_module": "@jupyter-widgets/output",
      "model_module_version": "1.0.0",
      "model_name": "OutputModel",
      "state": {
       "layout": "IPY_MODEL_cd8d2edf2d684a548f815d3537744cd1",
       "outputs": [
        {
         "data": {
          "text/html": "<div>\n<style scoped>\n    .dataframe tbody tr th:only-of-type {\n        vertical-align: middle;\n    }\n\n    .dataframe tbody tr th {\n        vertical-align: top;\n    }\n\n    .dataframe thead th {\n        text-align: right;\n    }\n</style>\n<table border=\"1\" class=\"dataframe\">\n  <thead>\n    <tr style=\"text-align: right;\">\n      <th></th>\n      <th>index</th>\n      <th>Unnamed: 0</th>\n      <th>카페명</th>\n      <th>음료명</th>\n      <th>언급빈도</th>\n      <th>언급률</th>\n    </tr>\n  </thead>\n  <tbody>\n    <tr>\n      <th>0</th>\n      <td>0</td>\n      <td>0</td>\n      <td>스타벅스</td>\n      <td>아메리카노</td>\n      <td>602380</td>\n      <td>0.442240</td>\n    </tr>\n    <tr>\n      <th>1</th>\n      <td>541</td>\n      <td>541</td>\n      <td>앤제리너스</td>\n      <td>아메리카노</td>\n      <td>23208</td>\n      <td>0.415445</td>\n    </tr>\n    <tr>\n      <th>2</th>\n      <td>591</td>\n      <td>591</td>\n      <td>파스쿠찌</td>\n      <td>아메리카노</td>\n      <td>22171</td>\n      <td>0.390637</td>\n    </tr>\n    <tr>\n      <th>3</th>\n      <td>194</td>\n      <td>194</td>\n      <td>빽다방</td>\n      <td>아메리카노</td>\n      <td>55879</td>\n      <td>0.368371</td>\n    </tr>\n    <tr>\n      <th>4</th>\n      <td>332</td>\n      <td>332</td>\n      <td>커피빈</td>\n      <td>아메리카노</td>\n      <td>47572</td>\n      <td>0.287752</td>\n    </tr>\n    <tr>\n      <th>5</th>\n      <td>477</td>\n      <td>477</td>\n      <td>할리스</td>\n      <td>아메리카노</td>\n      <td>44353</td>\n      <td>0.243837</td>\n    </tr>\n    <tr>\n      <th>6</th>\n      <td>106</td>\n      <td>106</td>\n      <td>이디야</td>\n      <td>아메리카노</td>\n      <td>30425</td>\n      <td>0.135534</td>\n    </tr>\n    <tr>\n      <th>7</th>\n      <td>409</td>\n      <td>409</td>\n      <td>투썸플레이스</td>\n      <td>아메리카노</td>\n      <td>46652</td>\n      <td>0.110917</td>\n    </tr>\n    <tr>\n      <th>8</th>\n      <td>271</td>\n      <td>271</td>\n      <td>탐앤탐스</td>\n      <td>아메리카노</td>\n      <td>26232</td>\n      <td>0.085246</td>\n    </tr>\n  </tbody>\n</table>\n</div>",
          "text/plain": "   index  Unnamed: 0     카페명    음료명    언급빈도       언급률\n0      0           0    스타벅스  아메리카노  602380  0.442240\n1    541         541   앤제리너스  아메리카노   23208  0.415445\n2    591         591    파스쿠찌  아메리카노   22171  0.390637\n3    194         194     빽다방  아메리카노   55879  0.368371\n4    332         332     커피빈  아메리카노   47572  0.287752\n5    477         477     할리스  아메리카노   44353  0.243837\n6    106         106     이디야  아메리카노   30425  0.135534\n7    409         409  투썸플레이스  아메리카노   46652  0.110917\n8    271         271    탐앤탐스  아메리카노   26232  0.085246"
         },
         "metadata": {},
         "output_type": "display_data"
        }
       ]
      }
     },
     "72f41a2fec044644a375dd301f5d1eb4": {
      "model_module": "@jupyter-widgets/base",
      "model_module_version": "1.2.0",
      "model_name": "LayoutModel",
      "state": {}
     },
     "737bec05cb744928ad7d1a5a6b499c1b": {
      "model_module": "@jupyter-widgets/controls",
      "model_module_version": "1.5.0",
      "model_name": "DescriptionStyleModel",
      "state": {
       "description_width": ""
      }
     },
     "74e12581d4bf48b2b27031a772101818": {
      "model_module": "@jupyter-widgets/base",
      "model_module_version": "1.2.0",
      "model_name": "LayoutModel",
      "state": {}
     },
     "75be087516d74e5090ff09abbf3f509e": {
      "model_module": "@jupyter-widgets/controls",
      "model_module_version": "1.5.0",
      "model_name": "DropdownModel",
      "state": {
       "_options_labels": [
        " ",
        "스타벅스",
        "앤제리너스",
        "파스쿠찌",
        "이디야",
        "탐앤탐스",
        "투썸플레이스",
        "할리스",
        "커피빈",
        "빽다방"
       ],
       "description": "분석 카페명 : ",
       "index": 7,
       "layout": "IPY_MODEL_972393977ca04139915c10516e9adc92",
       "style": "IPY_MODEL_48d6dbe0f1d645d6819f3d2814a24533"
      }
     },
     "76d1cee6d2d64a0f90120f62f1802755": {
      "model_module": "@jupyter-widgets/output",
      "model_module_version": "1.0.0",
      "model_name": "OutputModel",
      "state": {
       "layout": "IPY_MODEL_1faab7e69f9244489a91177462a8cfc1",
       "outputs": [
        {
         "data": {
          "application/vnd.jupyter.widget-view+json": {
           "model_id": "48079d81fd824cf7814ce143afd5a4af",
           "version_major": 2,
           "version_minor": 0
          },
          "text/plain": "HBox(children=(FloatProgress(value=0.0, max=198.0), HTML(value='')))"
         },
         "metadata": {},
         "output_type": "display_data"
        },
        {
         "name": "stdout",
         "output_type": "stream",
         "text": "\n"
        },
        {
         "data": {
          "application/vnd.jupyter.widget-view+json": {
           "model_id": "4353dc70da17453c9cb25011a9fc892a",
           "version_major": 2,
           "version_minor": 0
          },
          "text/plain": "HBox(children=(FloatProgress(value=0.0, max=1562.0), HTML(value='')))"
         },
         "metadata": {},
         "output_type": "display_data"
        },
        {
         "name": "stdout",
         "output_type": "stream",
         "text": "\n"
        },
        {
         "data": {
          "image/png": "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\n",
          "text/plain": "<Figure size 864x864 with 1 Axes>"
         },
         "metadata": {
          "needs_background": "light"
         },
         "output_type": "display_data"
        },
        {
         "data": {
          "text/plain": "None"
         },
         "metadata": {},
         "output_type": "display_data"
        }
       ]
      }
     },
     "772a9b6c5734447284d919574d2e32da": {
      "model_module": "@jupyter-widgets/base",
      "model_module_version": "1.2.0",
      "model_name": "LayoutModel",
      "state": {}
     },
     "7796a9ebcb6d403a9bab23558ad92cfa": {
      "model_module": "@jupyter-widgets/controls",
      "model_module_version": "1.5.0",
      "model_name": "TabModel",
      "state": {
       "_titles": {
        "0": " 맛있는 카페",
        "1": "그래프"
       },
       "children": [
        "IPY_MODEL_cebb4ab8408f40ccbee880615b1d9cc0",
        "IPY_MODEL_718e1cb2d10843eca9b173ebe63319ed"
       ],
       "layout": "IPY_MODEL_710b55f67b864db6821f3ab064472517",
       "selected_index": 1
      }
     },
     "77aa1e3dc93449309401358abe590e8b": {
      "model_module": "@jupyter-widgets/controls",
      "model_module_version": "1.5.0",
      "model_name": "FloatProgressModel",
      "state": {
       "bar_style": "success",
       "layout": "IPY_MODEL_163c6134a55d41d9aee785c5bb0b10de",
       "max": 640,
       "style": "IPY_MODEL_f7acd3a1200b4e32bc9d12003d3eeecd",
       "value": 640
      }
     },
     "77db0c077dfd48299ff4634f9e384ac9": {
      "model_module": "@jupyter-widgets/output",
      "model_module_version": "1.0.0",
      "model_name": "OutputModel",
      "state": {
       "layout": "IPY_MODEL_211ec08a78c241129dd468a21473780b",
       "outputs": [
        {
         "data": {
          "image/png": "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\n",
          "text/plain": "<Figure size 1080x1080 with 1 Axes>"
         },
         "metadata": {},
         "output_type": "display_data"
        },
        {
         "data": {
          "text/plain": "None"
         },
         "metadata": {},
         "output_type": "display_data"
        }
       ]
      }
     },
     "77f4088cea5f4a20980166bc35fa7be7": {
      "model_module": "@jupyter-widgets/base",
      "model_module_version": "1.2.0",
      "model_name": "LayoutModel",
      "state": {}
     },
     "7ba8a5b3b50e4f888fc8ec7441c1b7a5": {
      "model_module": "@jupyter-widgets/base",
      "model_module_version": "1.2.0",
      "model_name": "LayoutModel",
      "state": {}
     },
     "7bb5055014704f5696e270fdc3d036e9": {
      "model_module": "@jupyter-widgets/controls",
      "model_module_version": "1.5.0",
      "model_name": "DropdownModel",
      "state": {
       "_options_labels": [
        " ",
        "스타벅스",
        "앤제리너스",
        "파스쿠찌",
        "이디야",
        "탐앤탐스",
        "투썸플레이스",
        "할리스",
        "커피빈",
        "빽다방"
       ],
       "description": "분석 카페명 : ",
       "index": 7,
       "layout": "IPY_MODEL_110dab80eec24cb4b3ea2bc8fc1a8759",
       "style": "IPY_MODEL_ccb07657d5ee42479a75d5154f558a28"
      }
     },
     "7f83ec572c7d4cb6a7ac616e1e4c914e": {
      "model_module": "@jupyter-widgets/base",
      "model_module_version": "1.2.0",
      "model_name": "LayoutModel",
      "state": {}
     },
     "806af2d02b7f4f428f6059549a3ae3ac": {
      "model_module": "@jupyter-widgets/base",
      "model_module_version": "1.2.0",
      "model_name": "LayoutModel",
      "state": {}
     },
     "81203f08aac64edaa78a166a9860d484": {
      "model_module": "@jupyter-widgets/controls",
      "model_module_version": "1.5.0",
      "model_name": "HTMLModel",
      "state": {
       "layout": "IPY_MODEL_702f3b9f47f54285a50d0561ea0c5f5c",
       "style": "IPY_MODEL_e6e61029f81a44859a066003bf1d6601",
       "value": "100%"
      }
     },
     "83dc21df637744f0b0f3bf076802df53": {
      "model_module": "@jupyter-widgets/base",
      "model_module_version": "1.2.0",
      "model_name": "LayoutModel",
      "state": {}
     },
     "85658d543be7492dbfeb1c4b7e428be4": {
      "model_module": "@jupyter-widgets/base",
      "model_module_version": "1.2.0",
      "model_name": "LayoutModel",
      "state": {}
     },
     "861dd86e26f74fe68739d548d6c963c8": {
      "model_module": "@jupyter-widgets/controls",
      "model_module_version": "1.5.0",
      "model_name": "ProgressStyleModel",
      "state": {
       "description_width": "initial"
      }
     },
     "86e87622ff2e44f499568e5e0d4ebc1f": {
      "model_module": "@jupyter-widgets/base",
      "model_module_version": "1.2.0",
      "model_name": "LayoutModel",
      "state": {}
     },
     "873d4dd837f542578b378a54a5bb198a": {
      "model_module": "@jupyter-widgets/controls",
      "model_module_version": "1.5.0",
      "model_name": "DescriptionStyleModel",
      "state": {
       "description_width": ""
      }
     },
     "89205ec0f263474ca90c24a0cf214dfe": {
      "model_module": "@jupyter-widgets/base",
      "model_module_version": "1.2.0",
      "model_name": "LayoutModel",
      "state": {}
     },
     "89e97d218382488da30c26435c69d0d8": {
      "model_module": "@jupyter-widgets/base",
      "model_module_version": "1.2.0",
      "model_name": "LayoutModel",
      "state": {}
     },
     "8c8376e2fa9d433196c35bb09fe6c4ab": {
      "model_module": "@jupyter-widgets/base",
      "model_module_version": "1.2.0",
      "model_name": "LayoutModel",
      "state": {}
     },
     "8d1ca5d81042412ebfcb6c50c097b0e6": {
      "model_module": "@jupyter-widgets/controls",
      "model_module_version": "1.5.0",
      "model_name": "DescriptionStyleModel",
      "state": {
       "description_width": ""
      }
     },
     "8d3e6b5b959344e88f84f394f6b6cf68": {
      "model_module": "@jupyter-widgets/controls",
      "model_module_version": "1.5.0",
      "model_name": "ProgressStyleModel",
      "state": {
       "description_width": "initial"
      }
     },
     "8dbc4203b7854ca2be5ba6abb8c52a80": {
      "model_module": "@jupyter-widgets/output",
      "model_module_version": "1.0.0",
      "model_name": "OutputModel",
      "state": {
       "layout": "IPY_MODEL_a6cf18a0f0c94d31bdb2c489654036a1",
       "outputs": [
        {
         "data": {
          "text/html": "<div>\n<style scoped>\n    .dataframe tbody tr th:only-of-type {\n        vertical-align: middle;\n    }\n\n    .dataframe tbody tr th {\n        vertical-align: top;\n    }\n\n    .dataframe thead th {\n        text-align: right;\n    }\n</style>\n<table border=\"1\" class=\"dataframe\">\n  <thead>\n    <tr style=\"text-align: right;\">\n      <th></th>\n      <th>카페명</th>\n      <th>음료명</th>\n      <th>언급빈도</th>\n      <th>언급률</th>\n    </tr>\n  </thead>\n  <tbody>\n    <tr>\n      <th>0</th>\n      <td>할리스</td>\n      <td>아메리카노</td>\n      <td>44353</td>\n      <td>0.243837</td>\n    </tr>\n    <tr>\n      <th>1</th>\n      <td>할리스</td>\n      <td>제주한라봉감귤차</td>\n      <td>16318</td>\n      <td>0.089711</td>\n    </tr>\n    <tr>\n      <th>2</th>\n      <td>할리스</td>\n      <td>바닐라딜라이트</td>\n      <td>14552</td>\n      <td>0.080002</td>\n    </tr>\n    <tr>\n      <th>3</th>\n      <td>할리스</td>\n      <td>에스프레소</td>\n      <td>7911</td>\n      <td>0.043492</td>\n    </tr>\n    <tr>\n      <th>4</th>\n      <td>할리스</td>\n      <td>카페라떼</td>\n      <td>7802</td>\n      <td>0.042893</td>\n    </tr>\n    <tr>\n      <th>5</th>\n      <td>할리스</td>\n      <td>비트사과착즙주스</td>\n      <td>7434</td>\n      <td>0.040870</td>\n    </tr>\n    <tr>\n      <th>6</th>\n      <td>할리스</td>\n      <td>민트초코</td>\n      <td>6301</td>\n      <td>0.034641</td>\n    </tr>\n    <tr>\n      <th>7</th>\n      <td>할리스</td>\n      <td>흑당콜드브루라떼</td>\n      <td>5780</td>\n      <td>0.031776</td>\n    </tr>\n    <tr>\n      <th>8</th>\n      <td>할리스</td>\n      <td>콜드브루</td>\n      <td>5477</td>\n      <td>0.030111</td>\n    </tr>\n    <tr>\n      <th>9</th>\n      <td>할리스</td>\n      <td>딸기치즈케익할리치노</td>\n      <td>4996</td>\n      <td>0.027466</td>\n    </tr>\n    <tr>\n      <th>10</th>\n      <td>할리스</td>\n      <td>카페모카</td>\n      <td>4595</td>\n      <td>0.025262</td>\n    </tr>\n    <tr>\n      <th>11</th>\n      <td>할리스</td>\n      <td>딸기스무디</td>\n      <td>3531</td>\n      <td>0.019412</td>\n    </tr>\n  </tbody>\n</table>\n</div>",
          "text/plain": "    카페명         음료명   언급빈도       언급률\n0   할리스       아메리카노  44353  0.243837\n1   할리스    제주한라봉감귤차  16318  0.089711\n2   할리스     바닐라딜라이트  14552  0.080002\n3   할리스       에스프레소   7911  0.043492\n4   할리스        카페라떼   7802  0.042893\n5   할리스    비트사과착즙주스   7434  0.040870\n6   할리스        민트초코   6301  0.034641\n7   할리스    흑당콜드브루라떼   5780  0.031776\n8   할리스        콜드브루   5477  0.030111\n9   할리스  딸기치즈케익할리치노   4996  0.027466\n10  할리스        카페모카   4595  0.025262\n11  할리스       딸기스무디   3531  0.019412"
         },
         "metadata": {},
         "output_type": "display_data"
        }
       ]
      }
     },
     "913a2c3696c14bf293edda7677b9e5b3": {
      "model_module": "@jupyter-widgets/base",
      "model_module_version": "1.2.0",
      "model_name": "LayoutModel",
      "state": {}
     },
     "91dc1537a9394520a365e645b49e3c5c": {
      "model_module": "@jupyter-widgets/controls",
      "model_module_version": "1.5.0",
      "model_name": "HTMLModel",
      "state": {
       "layout": "IPY_MODEL_42fcdc0238cf48efb7cc6644d10361c4",
       "style": "IPY_MODEL_229d1eb5a76848679157a4854c23cfdd",
       "value": " 198/198 [00:00&lt;00:00, 15426.82it/s]"
      }
     },
     "92924fa2a8f2454ea1215c89cf994c7c": {
      "model_module": "@jupyter-widgets/output",
      "model_module_version": "1.0.0",
      "model_name": "OutputModel",
      "state": {
       "layout": "IPY_MODEL_4424d1adeeb541cdbc3a606f506bc783",
       "outputs": [
        {
         "data": {
          "image/png": "iVBORw0KGgoAAAANSUhEUgAAATQAAADnCAYAAACQXKqqAAAABHNCSVQICAgIfAhkiAAAAAlwSFlzAAALEgAACxIB0t1+/AAAADh0RVh0U29mdHdhcmUAbWF0cGxvdGxpYiB2ZXJzaW9uMy4xLjMsIGh0dHA6Ly9tYXRwbG90bGliLm9yZy+AADFEAAAgAElEQVR4nO3dd3iUVfbA8e9JQm8paECQImJQQZCiQXABlYBdsaBi17i69r527Ku7+1PXvqOiFAUVkSLgSAcx4KKCNaI0QTqBhE6S+/vjvgmTySQzSSZ5Zybn8zzzJHnnzrxnopzcfsUYg1JKxYI4twNQSqlw0YSmlIoZmtCUUjFDE5pSKmZoQlNKxQxNaEqpmKEJTSkVMzShKaVihiY0pVTM0ISmlIoZmtDCRERmi8g6EWlUxvNGRP5a03FVhYg8JiLr3Y5DqVBpQguvw4D7avqmInKuiFxX0/dVKtJoQguvQuBeETm8hu97HnB9Dd9TqYijCS28pgO5wLNuB6JUbaQJLbxygUeAy0TkhPIKishtIvK1iOSJyA8i8ryI1Pd5/iqn361egNcW98eJiAGuBtKd60ZERjjPjRCRr0TkNBH5TkT2iUgf57lUEXlDRFaKyG4nhkcC3U+paJHgdgAx6G3gZuBF4KRABUTkeeA64AngO+Bw4CGgB3BqBe/XExgOtMMmNoCtPs8nA+8D/wK+BJaJSALwGZAEPAqsBno537dFm68qSmlCCzNjTKGI3AXMFJFLjDFjfZ8XkRbArcAlxpiJPtfnActF5BRjzKwK3G+JiGwBmhtjlgQochRwjTHmXZ979cUmzz7GmIXO5Xkisgd4RUTuNcbkhBqDUpFCm5zVwElIk4DnfJuRjj5AfeALv9esAX4B+oY5nF3AaL9rC4H6PsmsyJeAYJOgUlFHE1r1uQdoCdzld72N83WXT5+XcfrCjsM2+cJpjTEm3/eCMaYQONPpX9vhzJ/7DGjtFPFPwkpFBW1yVhNjzHIReQV4QETe8Xt6N2X0rwHb/X6WEj+INKtgKDv8L4jImcB4YATwGJAHHAu8UMH3ViqiaEKrXk8AVwJP+1xbDTQEVhhj8nwLi8jRwE7nx6LnUoB1PsU6hSGuYUCWMeZan2tfichaYFoY3l8pV2iTsxoZY7Zja0BX+1xeCOzFJpViItIV+AlbUwL4zfnax+9tbw5wqz1AYhXDBb/aoFLRRmto1e9NbBI6GsAYs0FEXgZeFJEk4CvslIvHgdnAAqfcMhH50ilXD1gPDMUur/K3FLhJRO4F5gMbjDGryonpfWCyiLwLjMXWBo/h4LKt+Mp+WKXcpDW0auZ0yN/ld+0+bPIYAkzB1uImAEOcDvsiQ7AJ6v+AcUAD4KIAt3kbeB24G5sQHw4S0xTnfY4GPgQ+Ai4AihbPtwv18ykVSUQPGlZKxQqtoSmlYoYmNKVUzNBBAYXXQ3PshN42zte22PWlKdh+u6JHPexIaNFoqAFygM3AljK+rgFWZGSifRuq2mkfWi3i9ZAC9HYe3bGd/22w8+Kq0y7ge2CZ81gKLMvIJLea76tqGU1oMcrrIR7ozMEE1hvo6GpQpa3C7jYyE5iWkcnv7oajop0mtBji9ZAInIudgjEAaOxuRBW2HLtSYSowNyOTvS7Ho6KMJrQo5zQjzwMuxO6lVsfdiMJmNzAHm+DGZ2Sih7WooDShRSGnE/8CbBLrT+wP7hQAXuxi+kkZmexzOR4VoTShRRGvh17YzSEvxo441kbbgJHAaxmZLHc7GBVZNKFFOK+HBGwCux0o95yCWsZgN8l8DZickUlhkPKqFtCEFqG8Hhpizx24C11bGcxP2PMQPtH5brWbJrQI4/VQH7gDu+NtisvhRJtvgEcyMpnqdiDKHZrQIojXw1DgOcK/DXdtsxB4OCOT2W4HomqWJrQI4HT2v0DpzRxV1cwCHszIZJHbgaiaoQnNRV4PrbGnrA9Dd4utLgb4L3CfLrWKfZrQXOD1UBd4ALvJY3Wvo1TWWuDGjEw+czsQVX00odUwr4dO2C2wj3c7llpqDHB7RmaJ0+VVjND90GqQ18PfsCNxmszcMwz42RmAUTFGa2g1wOvhUOAd4Ey3Y1ElTASuz8hki9uBqPDQhFbNvB7OxCazQ92ORQW0GjgvI5Pv3A5EVZ0mtGri9VAHOxUj0DmaKrLsAa7LyOQDtwNRVaMJrRo4+5KNB05xOxZVIf8G7s/IpMDtQFTlaEILM6+HttgNCo9xOxZVKTOAoRmZbHM7EFVxmtDCyOuhB/bg4BZux6KqZCW2X22Z24GoitFpG2Hi9XAWMBdNZrGgPfCl10N/twNRFaMJLQy8Hm4GPgUauR2LCpvGwFSvhzPcDkSFThNaFXk9PAW8AsS7HYsKuwbAp14PF7odiAqNJrQq8HoYDjzkdhyqWtUBxurKguiggwKV5PXwAPCM23GoGpMPXJqRycduB6LKpgmtErwebgdedDsOf3m7crjwzuSAz50z4BZuvvRlAIwxTJz1MjOyRrJ2QzapKe3o3e1cLj/rMRISgp+Ct23HBkZMeJAff1tATu4G2h52LJec/iDpXc8uLlNYWMh7Ex9h+oK3SEioy4UZ93D+qbcXPz9r0fuMmfIEbz/5SxU/dY3KBy7OyGSC24GowGL9+LOw83q4HLsCIOLs3b8LgL9d8jLHdOhd4rlmjQ8p/v7VD27B++UIhp39GGntTmDN+p8YOelRlq9ewtO3Tyv3HoWFhTz40iAKCvK5/OzHSGragpmLRjP8tXN58tap9Oo8GIAvv/2ESbNf4a6r3mb3nlxeHH0DnY/sS8e2PQCYNt/D4JOvD+fHrwkJwDivh9MyMpnndjCqNE1oFeCMeI0gQjdj3LvPJrQOh3crThz+/tz0O1Pmvs6dV7zFoL7XAtCt0wAOb9GJv79wGt/9Motuncpe4PDjbwtY8+dPjHj6N1JT7E7hxx99Kus2/srH3n8WJ7SsZZPp030IJ/ew/ekzskayaNkUOrbtwbqNy/l5xUIe+uuHYfvsNagOMN7r4cSMTFa4HYwqSQcFQuT1cALwERH8R6AoodWvV/bska9/mEq9ug3p16tkH3e3TqfQonl7Fn1f/v6HC779hE5HpBcnsyJ3XOHh4kH3F/+cs2MDKc0OK/45JbEVW3fYw8+nLXiL9K7nktjkEKJUc2Cy10NTtwNRJWlCC4FzUvnHRPjuskVNzgb1GpdZZuv2P2l5SIdSSU9EaHdYZ7Zt/7Pce2SvXMSRbUpv59b2sGPocWxG8c9NGqewa8/24p937s4hsckh5OcfYMZX73H6yZkhfaYIdgy2+anTdSKIJrQgvB7isDvMHu52LMEU1dCyVy3m9mfTOf+2ptz8VA+++GpkcZmc3I00aZgU8PWNGyWxPW9TuffI25VDowaJjJv+HH978niG3J7IXc/1ZfH3JU+O63zkyXy1dBIbt65m5drv+X75PI49si9fLZ1E3ToN6H70aVX8tBFhMPAvt4NQB2lCC244MNDtIEJRlNDe/fQhBvW5lsf+NpEuHf/Cv9+9mslzXgdge94mGpeV0BomkZO7sdx77NqznZlZI/nym0+47MxHeOTG8Rze8mgeeflMZi8+uPvOoD7X0L5VF658oB03PnEcf+lxMT2PHcS0BR4G970ekYjshqyMO7weor66GSsitj8oEng9nA487HYcoUpqmkr/XpdwYcY9xYMC3ToNYH/+XkZPHs4Zf7kBgkzTkSDjHTt359CsyaH885451KvbALCDAvsP7OGt8ffRr+dQ4uLiqFunPk/dNpWt29eTEF+HZk2as2nrGpb+Mou7r3qHtRt/5dX3b2HNhp9Ja9eLmy99lZTEluH5RdS8V70esnXk031aQyuDsw3QaCJ0RDOQzh378kDmB6VGOPv1HMr2vE1s3raGxKap7Ny9PeDrd+7OIbFp+RvrisTRv9clxcmsyMDeV7MlZy2btq0pcT0lsSXNmjQHYPqXb9Pz2MEkN2vJU29exGGHHslTt9qm6n/G3Fihzxph6gCjdZDAfZrQAnCOmfsICDxLNcokNbUbgGze9geJTQ8t0Vnva+euHBKblJ/QGjVoRkpiq1LXmyfZa5tz/gj4uoLCAj7/8h1OPzmTjVtXsXLtMi478xHat+7CBRn3sPj7zygojOp9FQ8HXnI7iNpOE1pgzwO93A6iol4YmclrY28rdX2bM12ieVJrmie2Yv3m39m7b3eJMsYYVv/5I8nNym/2tU5NY0vO2lLXNzvXUlPaBXzd/36YjjGF9OpyRnE/XbPGzYu/FhYWkLsz6s8qudrr4ezgxVR10YTmx5lvdqvbcVRGUtNUZmaNYkdeycQw9+uxJDVN5dCUtvTqfAZ79u1k3pKSk1qXZs9h/ZYVnNDl4MFU+/bvIXfnVgoLC4uv9ew8mLlfjy2VEL0LR9CieXsOSWodMLZp8z0M6nMt8XHxxasWtuVuAOyctbi4eJo2Sqn8h48c//V6YqNmH43ihw8f7nYMEcPrIQGYDERl7/QRh3fj8wVvs+Db8TRt3JxtO9bz6az/MGXu6/zt0pfp2KY7TRolsz1vEx9MfYaEhHrk5+9nyY+f88r7N9G548lcftajxe83duozPPzyGQzqcy2NGyYC0L51V6bMfZ3533xMk4ZJbMlZy9hpzzB70RjuvXYUrVscVSqurdvX89rYW7jrqndo3DCRRg0Smfv1OP7Y8DNNG6XwwdSnaXnIEQw86aoa+11Vo8ZAuw49dBG7G3Rxug+vh7uJ8nlFm7b9wYgJD7Ds17ns3pNL28OOZejgv9O72znFZYwxTJj5EjO/GsnaTb9yaHJbenc7lyvOHk6dhLrF5UZPfpxRk4cz8tlVJVYGbNq6hrfG38e3P8+g0BTS4fBuXHnOE3Tu2DdgTGOnPcuy7Dk8c8fnxdd+/+M7Xhh5PX9s+IWj2vbi7qvfoUXz9uH/hbhnaEYmUbm2K5ppQnN4PbQBfkJ3nVXhsRU4NiOT8if2qbDSPrSDXkWTmQqfFOBJt4OobbSGBng9DMGeo6lUOBUAXTIy+dntQGqLWl9D83poDPzH7ThUTIoHnnU7iNqk1ic07BSN0jNFlQqPc70e+rgdRG1RqxOa10Mj4C6341Ax73m3A6gtanVCA27GbtanVHU6yevhPLeDqA1q7aCA10NDYCVQ/uJFpcLjF6BzRiZRvWA10tXmGtqNaDJTNacTEBNLISJZrUxoXg8NgHvdjkPVOtpfW81qZUIDbgBauB2EqnWO9XqiY/fjaFXrEprXQx3gPrfjULXWnW4HEMtqXUIDzgYOC1pKqeox2Ouh9JYkKizKPVNARK4M8X0+B7YAw8p4fp4xZlUF4qpOeqCFcpNguzzucTuQWFTutA0RKQQM9j9CUUH/PfYN9lSkRUCeT3nf568wxrwfppgrzdlRYyW1s2aqIsdWoFVGJvvcDiTWBDv1qbfP97cCPQk89Pyjz/fDAa/f879VOLLqcQ2azJT7UoAhwAfBCqqKKTehGWMWFX0vIhcCu32v+RKRoq13fi+rTAS4wu0AlHJchya0sKs1tRWvhxOBDm7HoZSjn9dD4BOfVaVVKaGJyGkickq4gqlmZQ1YKOWGBOAMt4OINRVJaBPx2W9fRFKAT4EeZb4iQng9xAFD3Y5DKT/nuh1ArAk5oRljFviNVD4F5APvhjuoatADXbepIs9g51BrFSaVanKKyIPYuTSPGmM2hzekanGq2wEoFUATYIDbQcSSYBNrWwANnR9bAsdiE1l34C1jTLRsXX2a2wEoVYZzsRPTVRgEm4c2CgjU6f+kMeaxaogn7Lwe6oNugawi1jnA39wOIlYEa3KOAB51Hm8C87En2dwhIpdWc2zh0heo73YQSpWhlddDd7eDiBXBJtaWWq4kIkcDLwMjRWSXMWZSdQUXJtrcVJHuJOAbt4OIBRUeFDDG/AycDswF/isiiWGPKrw0oalI19PtAGJFpUY5jTEHgEuxozS3ONd2AR2x89UigtdDMnC823EoFUTEz+WMFpVeKeBM13gGaO9z7XcnsUWKHtSi5V0qah3tHNqjqijYKGe5jDFPhyuQanKM2wEoFYJ4oBuw0O1Aol2s116OdjsApUKk/WhhEJaEJiJtRKRBON4rzDShqWih/WhhEK4a2krgfP+LItJURE4RkXphuk9FaZNTRQutoYVBuQlNRB4XkT/LeKzzLVrGW3QBvgBahSvgUHk9NAea1/R9laqkNGdXGFUFwX6Bq7FnBazFnmO52O/nUJSV7KqbNjdVNIkHUt0OItqVm9CMMe8YY84H/g972MkQn59DVfYpLNVLm5sq2rR0O4BoF2oV1z8puZWkKqKj2wEoVUF6XmwVxXKbXfvPVLTRhFZFVZpY66eBiDR1vt9vjNkbxveujGYu31+pitImZxWFs4b2XyDHefw3jO9bWZG+aF4pf1pDq6Jw1tA+4+CBw9+G8X0rS2toKtpoDa2KwpnQxgbaP81FWkNT0UYTWhXF8qCA1tBUtGnkdgDRThOaUpEjnC2mWqmiCS0a5p/h9dAYO/NaqWiiCa2Kgh1jdx9wOQdrO0tFBMqp/YjIw8DFzo9ubVqnh6KoaKQJrYqC/QL3Abucx58+1/1/DvSaonKbgZqek3aghu8XaQokjj1xceyVOPbGxbFP4tkXF8eBuHgOSBz5cfEUxMVRGBdPocRBXDxIHMTFESdxxIkQL3EkiFBHhDoIdUWoB9Rr1IxlderrSUVhZ8h1O4RoJ8ZUvRUpIoXA5ZEyyun10ADY7XYcARgR9hYnG5tk9omTaOJsosmXeAqdZGOcJIPEIU6yiRchoSjZINQVqIdNNg2ABiLUre4P0rAZc+rWp39136eWWZXa/uCW9qriwlLFNcZE2uBCxWtowv64OPY4yWafxLEvLp79cXEckHjy43xqNRKPcZKMKarROF8TREjAqdWIFCea+thkU1/EJp0wf94at3sH/QsLmFevIX1EtL8yTPLdDiDahaWGFom++4JZcfEklNF8qicHE019bK1G/1FWQt0GLGrQhK4i2m8ZBtmp7enkdhDRLGY7IRs0oTs6daPa7d/DiYUFLGuUSBsRncxcRXluBxDtwt5UFOv4CDiAWP/nqCH5+zlu5za2GMN6t2OJchvdDiDaBduCe7qIrAjh0d8p3x07+vk/YLOIPFX9H6FMOmJUgwryOTJvC8YYfnc7lii2we0Aol2wJucqDk6mbY3dBdYboNxOEakDTMXWjB4H+gEPiMgSY8yE8IRbIevRXWtrVGEhh+VuZnuT5nwfF0cXt+OJQlpDq6JyE5ox5sai70XkeuBNY8zpgcqKyLnAoUCGMWYZ8IaIdACuBdxIaGtcuGetZwyJuZup17Q5i+LiOdHteKKM1tCqqCJ9aMGGQy8BvneSWZHRQIaIuNE5/4cL91RWg9wt9Mw/wHy3A4kymtCqKJyDAh2BuX7X5gB1gHZhvE+oNKG5K37nNk7ev5c5bgcSRbTJWUUVSWj78OloF5EUEckWkYucS6nYZU6+NjlfD6l8iJWmCS0C7N5B/727mGcMhRV97YEDBxg3/j1OzjiGFkcI+/btC1huxcrl3P1AJm061ePp5x8I6b1vv/caWhwhZT7GjX+vuOzCRXPpP7gLHY9rxnV/u5DtO3KKn9uzdw9HdU1kybdZFf14gWgNrYpCTmjGmNHGmCSfS7cChwMznJ+bUzqhbXW+plQ6wsrThBYh9u7kL3vyWGxM6Gt6P508lvQBR3LX368rs0zO9m1k3nIxfQd2Yv7CmdSpE/qKr7tvf4zPJ/6v1OP//vE2AB3aHwXYhJV5y0WcfNKpvPP6J6xctZx/vvhY8ftM+uxDWrZsTY/j00O+dxnysefgqiqoVJNTRAYAfwf+zxhT9OdqF6U3qCvabWNP5cKrkhVAgQv3VQHs30P6ru1kG8OOUMpP/2Iipw04k4Uzf+WWv94fsMyf6//g9xXZvPLvUXw1aznJSaEf9NWmdTu6dulR6vFL9ve0bXMEPbv3BmDJt1nszMvl4fuf4+Q+p3LDtXfinTm5+H3GjPVw+dDMkO9bjl9S2xO4CqpCVqGVAiKSANwBPAIsBXznmW3CjnL6Kmpq+tfcql1aOnuzs8hGp25EjPz9dN25jeWNk9ktUv520y//eyR16tQBIOvrwGMLaR2PZdbUpeGLLz+fTya9z1XDbiq+tnnzBpKSUqhXrx4ALVNbsWmTnT/8628/s+yHJbznmRSO24fvg9RiwfZDuxvoit0ssQNwNNAY2/l/sd9RdRsofbhvR+zoqFudnd+iCS2iFOTTMW8LfzZpzu8idCirXFEyK09CQnhX7s2aO50tWzdxwbnDiq8lJaWQtzMXYwwiwvbcHFJS7N/pMWM9nDFoCEmJyeG4vSa0MAjW5BwAXAoMBU4AmgCFwKcc7B8r4gUGiYhvs/NiYIUxZkV4wq2w71y6ryqHMwE3ubCQ792OxdeHn7xH924nckT7g3+Xj+vcg8LCQsaNf4+8vFzGffwuJ/Toy/79+/lowkiGXRKW5ibo/6thUW5CM8acZYypg5160QEYAnwDvAC861d8NHbnisdFJF5EegMXOtfdEgnH6akAjCEpdzNHFhaw2O1YALbvyOGLmZO58LwrSlxPTkrhqUdf4t6HbqBj12asXLWcv9/9FFM//4TEZsmcdGK/cIWgNbQwCGlQwFgrjTGfGmNOBB4GrnC26C4qsxZ4CbgLu/xpAXb50WvhDztk+lcvsjXI3UKPSJiAO3HKOAoKCzjnzItLPTds6PVkf7edRXNXsHDWr7Rr24Ex497isqHXc+DAAR57+m5O6HcEA8/ujnfmlMrcfn1q++IpTqoKKjXKaYx5FngVeFREWvpcvwu4EhgHDAf6G2NqfECgSFo6W7HrUVXkKpqA6z8pu0Z9+Ml7DPjLYJqnBJ4y2bBBQ9oe3h4RYfWaFSz633yGDrmKd0a+gnfGJN78zziuvfJWMm++kI2bKrzpiNbOwqQqKwUexXb4X+N70Zmvdo0x5kljTFnnDtSkmW4HoILbvYN+lZ2AW1W/r/iVJd9mceH5VwQvDIwZ9xYDB5zFIYekMn3GRC696FqO79qLSy+6hlaHtWHO/ED7N5RrTkVfoAKrdEJz5p+dBEwOVtZlM4IXUZHAZwJujc7H+mjCSJo0bkrGqWcHLZufn8+48e8WDwZs2bKR5OSD89+Sk5uzaXOFJ/xPr+gLVGAVSmgi8pqI3FH0szHme2NMRI1UBTCTKDlPVBVPwP0l1Am4ocjPz2dbztaAS6eMMXw0YRRnDr6ABvWDH/XwxawpJCTUof/JGQCkJB9SIoFt2ryB5in+0zHLtT61vTY5w6WiNbTeRNm8rrR0NqN9FFHFmYC7KVw74C5e8iXH9GjOp1PGlnruy69ms+7PNSE3N0eP9XDZxdcRF2f/6ZzS73TGjPUwa+50XvP8i/Ub1nLySadWJDytnYVRzJ4p4GcG0M3tIFToCvLpmLeVdU1SWAEcUV33+XDCSFq2aBXS9Is/169l3pdf8PxTbxRfu+G6O1m5+jduuv1SmjZN5MXnRtC6VZuKhKAJLYzKPfVJRPZAiTMehdLNN2OMSRCRq4B3AryNAU4xxsyrarCVlZ3FQALvtKsinAg5TZuzVmJzB9wC4JDU9uQELalCEqyG9lYIZXwJ8KbPz82wqwzcNhvYgt0RREURY0jaYXfAXRwXzwluxxNmi8tLZiIyGzgKOMoYsyvA8wa40RjzZqkXu8yJfYMx5tKavG+wLbhvreD7GWNM8cpeZwvuSyoTWDilpZOfncXHwI1BC6tI1DB3C90bJzM/oQ4nux1MGH0WQpnDgPuAx4IVdIOI3A78YIzxnx61DcI3sBOqSDvxvDp94HYAqkoSImECbhgZ4P0QyhUC94rI4dUcT2XdAZzmf9EYc4HvmSQ1pTYltPnopo9Rz80JuGG2ILU9K0MoNx27U/Sz1RxPTAh2LucgERkqIqeISOuaCqo6pKVjsEuyVJRzJuAuqukJuGE2MsRyudj9By8TkXL7EEXkNhH5WkTyROQHEXleROr7lUkSkREissopN01EjhARIyJ/9SmXKiJviMhKEdntvN8jIlLPeb6f04fXDvi783rjDA4iIrNF5APn+5Ei8ksZMb8mIn+KSJzzc3MReU9EfheRHBGZ55woF5JgNbSHsdXiL4DVIvK9iFwlIhLqDSJMKFV8FQX276H3ru38HM4JuDVoF/BhBcq/DSwDXiyrgIg8j+1nGw2cBfwDOBuffjonacwDBgJPAucBS4CJfu+V4LxuIHaJ42BgBHAPdg03zut6YjegeM/5vicQaHX+KCBNRHr63acOcBEwxhhTKCINga+x03Tuw+7uMxMYKyJXlvXZfYUygunF/kK7ODd/B/vXYkigkZdIlpbOt9lZZAFV3gBeuS9/P912buPXxsnsEaGF2/FUwLjU9gcPHArG+cd+FzBTRC4xxpSYISwiLbBnfFxijJnoc30esFxETjHGzMJu59UZOM5nhc9Mp6bV2ect04EeQB9jzELn2jxnGtcrInKvs/RxiYjsA9YbY5aU8xFmAn8ClwP/87k+CDvzYJTz8w3YaWIZxpiibftni8he7LZko40x5XY1hNKHtt4Y87Ex5jHsh74HOAX4KITXRqKX3A5AhU9BPkflbSXfmJD6oyJFhadZOAlpEvCcfzMS6IPdi/ALv9esAX4B+jqXTgaWBliu6D9gthCo75PMinyJnZp1VAVjL8S2ji4RkXifp4YBy3zO8j0VmO+TzIp4sU3boN1eFRoUMMYUGmNewCa1QSJybUVeHyE+Bta5HYQKn8ICWuduppkp5Ae3YwnBd6ntK72p5T1AS+yeg76Klibs8unLMk7N6zigrU+5NQHet8RpU04COlNEvhKRHSKyTkQ+42BC8U+ooRiFPeryNAARaQycQ8m+xDbA0ACf4Rvn+bYEUdlRzpeBH7EnP0WVtHTygdfdjkOFlzEk79jMEYUFfO12LEH8u7IvNMYsB14BHnCamb52Y5f3BXo8EeStS/SJi8iZwHjgZ2w304XABOxO1ZWNfRm2H7DowIbzsYnRv3Y4tpzPEXTD1kqt5XTa9PcDU0TkOJ8qIyLyCAd/QclE5k4Xb2IHPCrzl0ZFrlTN+KMAABFeSURBVIa5Wzi+cTILEuoUN7MiyXKqPh/yCewmqk/7XFuNPTJyhTEmz7ewiBwN7HR+XAMBfy/+c9yGAVnGGN8W2FcishaYVoXYRwOPichNzj1m+O2ZuBqoa4wpsZmEiDR1YgzaZ1+VeWizsIejnuh7b+Bx7G61w4Hb8Mv+kSAtnS24e9aBqj4JO7fR98DeiNw08enU9lU7K9YYsx07mnm1z+WFwF4O1n4AEJGuwE/Asc6lBUA3ETmWkkJdzRPo3/IeIDHE178PNMB2/p/GwcGAIrOwXVn+B5M/AUwONiAAVdhtwxizT0S+xW4p5MHO8Spr54Btlb1PNXoK+5cu9OO2VdTYtYP+9QuYW68hJ4tExATy34ExYXqvN4GbscdKYozZICIvAy+KSBLwFbYT/XHsOuYFzus+xnYVTRORR7E1tn7ABX7v/z4wWUTexTYB87DbhhWdIeLbsb8UuFhE5mAP915hjPE/EQ4nznUiMgt4BpuAJ/gV+S925cEcEXkGOyVkMHYE9/pgvxQIXkMbCgQ+ttp6GfjVCXavMWZjGY8DoQRTk9LSWY39BaoYtXcn/SJoAu6zqe3JD8cbGWPy8RsYMMbcx8G5W1OwtbgJwJCimo0xpgD4C3bL7yewo6YnAuf6vdcUbN/Z0dj5ch9hk17RxNt2PsXvA7KAN5yvZwQJfxS2q+cT/2lfxpjd2Lls32ArHFOwc+GuMMaMCPK+QJDtg2Jddhap2L8qDd2ORVWfhHp816gZR4jQ1KUQVgFHpbYn4v6wAzhn6e7EHh4erdOxgNq1lrOUtHQ2Av9xO44iGzet4/7Hr+SU89vRa2Ail/21L3MXTi1RZvE3c+nUW8p8XHnzgHLv8cBT15T7+gmfvVfiXmcP60LP05px24MXsiP34E43e/fuodfARL77ISu8v4RqkL+Pbju3sd4YNroUwrORkMxE5BARmS8iA/2eKtrdcpn/a6JNra6hAWRnkYStpYXasVkt8nbu4JzLu9C0SRI3Xf0wTZskMXXGWD6e/DYvP/sJA/ufD8Cu3TtZuSY74Hvc9sAQ+p44mCf+Xva8zbXrV7F9R+kujuzlS3nomev44L8LOb5Lb/bu3cMpQ9py1sDLGND3bP7xn7vodXw/Hr7L5v8Jn73HO+//k8ljomHqlxUXz9omKRwQoX0N3vZnoGskJDQAEZkKdMdOMM8CjsQug5pjjHF9q6+qqi1bcJcpLZ2c7CyeAv7lZhwTPnuXrTmbGPfWIg5tbo86PemE09i8dT2vv/tUcUJr1LAxnTv1KPX6X5Yv5c8Nazhn8OXl3qd1y3a0btmu1PXJ00dzeKsjOL5LbwC++zGLnbtyuefm56hbtx5XXXInr779eHFC+2iSh4vOyazKR65xzgTcrU2b86PE4T/SV13+FinJzDEUO2Xpeuyi95XYjVyDzVWLCrW6yenjJVyubu/anccpfc8pTmZFTug+gJWrA25UUMKn00ZyWIu29Oha8elX+fn5TPG+zzmDDx4UsmXrBhKbplC3bj0AUg9pxeat9syS31f9zI+/LClRPloYQ8qOzbSvoQm4o1LbR9b0EWNMnjHmfmNMB2NMQ2PMscaYh40x+92OLRxqfQ0Nine0/St2rZorSf6max4OeP2Pdb/TKkCNyld+fj5TPh/DhedcT2U2QpmfNZ2tOZs4e9DBaUyJzVLYuTsXYwwiQm5uDsmJ9lTxDyd6GNh/CInNkit8rwjRMHcLxzdJZkF89U3AzcEuVVI1SGtojrR0sqjEouHqsnvPLiZNH80nn40g84ryV5gtWPQ5W7ZtLJGQKuLTqe/R9dgTaXd4x+Jrx3bqgSksZMLU99i5K5cJU9+le9e+7D+wn4nTRnLRudHV3AwgIW8bfQ/sq7YdcB9Mbc+manpvVQZNaCU9AFT42Otw2rhpHZ16C91Pacx9j1/BbZlPcO7p5TftPp36Hp2P7kmHdkdX+H47cnOY/eXkUs3HpGYpPHjnSzz2jxvoeVozVv+xnDtueIov5nxCs6bJnHB88GPfosGu7fTbt5u5Yd4BdzE6x9EVmtB8pKWzAztT2TXJyYfy6cjvGPPGfG65fjivvDWc0R+9Umb53LztzFowiXMGlT8YUJZpM8ZRWFDA6adeXOq5i865nsVfbGfG+BVM//BX2rTuwMeT3uKic67nQP4B/vGfuzntgiMYclV3Zi8ItK9fdNiTVzwBNxz9SAXATanto36L8KikfWh+0tIZl53Febh0WlWdhDp06tgVgB5d+9K0SRLPv3IPg0+9iObJqaXKT50xjoKCfM4YWLlwJ0x7j77pg0lOOiTg8w3qN6T1YXaWwx/rVvC/pfP55+NjGPPxK8yeP4kXnhzHryt+4PaHLmTG+JWlBjWixf499DaFfNuwGR2qOAH38dT2xdvdqBqmNbTAbiLwvlHVZumPi9i6rXSXy8B+57N//z6+/ynwoNynU9+jzwkZAZNdMCvX/MrSH7I4N8TRyo8mvUX/PmfRPDmVmfMmMuSsa+lyTC8uOOsaWqa24ctF0X2W84F9HL8zh/XGVLrvawYld8FQNUwTWgBp6WzH7lxQpZ0RKuKW+89jzPhXS10vLLQtl/j4+FLPrfpjOd/98BVnV7K5OXHaSBo3asqAvmcHLZufn8+Eqe9ysTP3bOu2jSQlHjy3OalZc7Zsc7X7MSwKDpCWt5X9ldgBdwMwTJua7tKEVoa0dBZgD4ioEV2OOYEv5oznQH7JOZjTZo4jIT6BY9K6l3rNxKkjadiwMaf1Oy/ge+bn55OzYyv795dem22MYdL0UWT0v4D69RsEjW/Ol1Ook1CHPidmAJCcdAhbth5MYFu2bSA56dCg7xMNnAm4TU0hP4b6Emwy01FNl2lCK9+zwOc1caN7b/kna/9cyTW3nop3zidk/W8W/3r1fl5682FuuPKBUk1KYwwTp49iYL8hNKgfeG39N8u+pPfg5nz2xdhSzy1aMtuuLAgyglrko0keLjjrOuLi7P8yJ6efzkeTPMz/ajpvj/kXGzetpXfPUyv4qSOXMaTs2EK7woISh3qU5cnU9syq9qBUUDooUI60dEx2Fpdh17x1DFa+Ktq3OYoJI7/jxTce4tkX7yA3bztHtO3EUw++HXDaxuJv5/LnhtVBlzqV5dNpI0k9pFVI0y82bFrLwsVfMPy+N4qvXX3JnaxZ+xt3P3YpTRon8szDIzisRZty3iUKGRrlbqFbkAm4s4mRZUOxoNYvTg9FdhYdsUktaqfGq6pplMicOvXo73d5DXBiant35y6qg7TJGYK0dJZjD3WIifVuquJ2bae/MwG3qAawHThdk1lk0YQWorR05mH3Qle11J48+u3dyVfGsBMYktqen9yOSZWkTc4KcrYaesjtOJRrTHwdLjqyB+PdDkSVpjW0CkpL52HgNbfjUK65XZNZ5NKEVjm3YA+FULXL8LR0XnY7CFU2bXJWUnYWgt1uKOr30VEheSgtnWfcDkKVTxNaFThJzQNc53YsqlrdkZbOS24HoYLThFZF2VnEAa+jI6CxqBC4MS0dj9uBqNBoQguT7Cwewh6OqmJDPnB1WnrYTjtXNUATWhhlZ3E58DZQ1+1YVJXkApekpTPN7UBUxWhCC7PsLAYAn+DyOZ+q0n4Dzk5LJ/hRWyri6LSNMEtLZzbQByq8n5Zy3wzgBE1m0UsTWjVIS+cn7OnUn7odiwrZy8DpaenkuB2Iqjxtclaz7CxuB55H+9UiVR5wS1o6I90ORFWdJrQakJ1FL2Ac0N7tWFQJC4Er0tJZ4XYgKjy0yVkD0tL5GtsEHed2LAqwUzIeA/6iySy2aA2thmVncQ52cXsrt2OppX4HhqWls8jtQFT4aQ2thqWlMwk4Bru6QP+a1Jx9wJNAF01msUtraC7KzqIvdi1oJ7djiXHTgVvT0vnN7UBU9dKE5rLsLOpiDzZ+GGgepLiqmNXAnWnpTHA7EFUzNKFFiOwsmgL3AXcCgc+lU6HaCvwL+E9aOrvdDkbVHE1oESY7i5bYEbjr0GMGKyoH+Dc2keW5HYyqeZrQIlR2Fh2AO4BrgEYuhxPptgMvAC+mpZPrdjDKPZrQIlx2FknAX4FbgcNcDifS/IodLR6Rls4Ot4NR7tOEFiWys6gDXArcBvRwORw3FQCTgVeBmWnpOvVFHaQJLQplZ9EFuBoYBqS6G02N+R14H/hvWjpr3Q5GRaaoTWgiMhvo73c5D/geeMUY80GY79cPmAN0MsZkByk7winXO5wx+MvOIh44BVtzGwI0q877uWA58BHwcVo637odjIp80T6K5gUe9Pm5OXA2MEZEWhtj/hnGe+0HNmCbPACIyFXATmOM/zmNO4BtYbx3QGnpFABfAF9kZ3EDcBIwCBgMHA9IdccQZoXAd8A04KO0dJa6HI+KMtFeQ9tgjLk0wHPPYSertjHGbHcjBrdlZ3EokOE8TgQ6EnkJrhD4AZiPrf3OTktnq6sRqagWqwntKCAb6G+MmetGDJHGmbjbHeiJHVToCRxBza3n3Qn8iE1gP2C7Bv6no5MqnKK9yVmWP5yvbQFEZADwCNAV+w9rMXC3MWZN0QtEpBf21KbuQDy26TPcGDPPeb64Dw3YC6zyee0lzrfDjTGP+/ahicgT2JHJFsaYvb5Bish9wBPOc9tFpCHwD2AgdjeOn4C3jDFvVfUX4szPmuM8gOKR0zZAO79HK6Ap0MTn0YjSNbwD2Kb4fmz/5Xq/xwZgnfM5VuuIpKpusZrQDnG+rheRs7BbYb+L3Tm2KXA78K2IdDbGrBeRw7B9UYuBK7D7Zd0IfC4i3QIMAqzH1nDexC6zKerH+zNALKOwyfQs4GO/54YBk51kJsAsbOJ4EpsIegD/FJGWxpgnK/5rKF9aOgewo4e/ByvrnD/aCLtDyP60dPaHOx6lqipWE9q52KT0AzAVmGCMub7oSRGZBKwA7gbuAfphRwgvM8ZsccrMATZia0slEpoxZj+wRETygG3GmCVlBWKMWS4ii4DL8UloItIZOA6b7IpiPg7oYIxZ71ybKyLrAI+IvFyd/YHBpKVTCLqcSEW2mNoPTURSRORKbNPxDeweWN2g5GGxTtNvPHCac2md8/UaEanjlMk3xqQYY14JQ2ijgNNFJNnn2jBs7a7o7MdTgWU+yayIF9vkOy4McSgV06I9oV0iIqboAWzB7gb7Orb21cYptybAa1fj9LE5/WRPA88A60TkQxG5QURSwhTnOGz/00UATvPyUuADY8wBp0wb4ETfz+N8pqLpH23DFItSMSvam5yfA/f7/JwHrDTO0K2TOMpT/Lwx5mEReQHbxDwJm+CeFZGBxphvqhKkMWaLiEzH1sreBPpiE9Qov6LzsAMIgejseKWCiPaElmOMKW/y5Wrn6+GAf1JqgzNS6dTEkowxvwFjgbHOCORybMIcGoZYRwHjRKQdNrH9aoxZ7Bdra//PIyL1gQ7ArjDEoFRMi/YmZ7mMMduw0y+G+V4XkXrABdiTsgEuA753rhe9di92ukF5W/fsARJDDGcykItdg3kRpWtns4DjReRov+s3AouI8f9WSoVDbfhH8ghwgYi8KSKDRORCbCKrj90MEGAKdi7VNBG5WkT6i8j/YWfZv1/Oey8FThGR60TkRBFpWVZBJ0F+hK3xJQGj/YpMBL7GThW5RkT+IiIPAM8C/zbG6M6rSgUR8wnNGDMF2y92FDY5/R92OsbxRSOKxpiVwABss+55bG3qZOw0jvIS2j+AT5yvC7G7zJZnFDaRLjDGrPKL0zgxfIrdinsatmZ5H/B4aJ9Wqdotapc+KaWUv5ivoSmlag9NaEqpmKEJTSkVMzShKaVihiY0pVTM0ISmlIoZmtCUUjFDE5pSKmZoQlNKxQxNaEqpmKEJTSkVMzShKaVihiY0pVTM0ISmlIoZmtCUUjFDE5pSKmZoQlNKxQxNaEqpmKEJTSkVM/4f17nFLFD0OAUAAAAASUVORK5CYII=\n",
          "text/plain": "<Figure size 432x288 with 1 Axes>"
         },
         "metadata": {},
         "output_type": "display_data"
        },
        {
         "data": {
          "text/plain": "<Figure size 720x720 with 0 Axes>"
         },
         "metadata": {},
         "output_type": "display_data"
        },
        {
         "data": {
          "text/plain": "None"
         },
         "metadata": {},
         "output_type": "display_data"
        }
       ]
      }
     },
     "94ba1cbd15e74f9da5699bee67a4be8d": {
      "model_module": "@jupyter-widgets/controls",
      "model_module_version": "1.5.0",
      "model_name": "DescriptionStyleModel",
      "state": {
       "description_width": ""
      }
     },
     "94f24d7d50664622a7397047f537ca0b": {
      "model_module": "@jupyter-widgets/base",
      "model_module_version": "1.2.0",
      "model_name": "LayoutModel",
      "state": {}
     },
     "9508d9df7ece4baead805b9312572e1f": {
      "model_module": "@jupyter-widgets/controls",
      "model_module_version": "1.5.0",
      "model_name": "FloatProgressModel",
      "state": {
       "bar_style": "success",
       "layout": "IPY_MODEL_1fd437c2cff34ec191bf7b474ae24449",
       "max": 198,
       "style": "IPY_MODEL_60efa99042dd48118500ef7b8b6a26b6",
       "value": 198
      }
     },
     "9525e268056f456d8c51138378605871": {
      "model_module": "@jupyter-widgets/output",
      "model_module_version": "1.0.0",
      "model_name": "OutputModel",
      "state": {
       "layout": "IPY_MODEL_12eda3f85c0945bb8c95d49f772bdf08",
       "outputs": [
        {
         "data": {
          "text/html": "<div>\n<style scoped>\n    .dataframe tbody tr th:only-of-type {\n        vertical-align: middle;\n    }\n\n    .dataframe tbody tr th {\n        vertical-align: top;\n    }\n\n    .dataframe thead th {\n        text-align: right;\n    }\n</style>\n<table border=\"1\" class=\"dataframe\">\n  <thead>\n    <tr style=\"text-align: right;\">\n      <th></th>\n      <th>index</th>\n      <th>Unnamed: 0</th>\n      <th>카페명</th>\n      <th>음료명</th>\n      <th>언급빈도</th>\n      <th>언급률</th>\n    </tr>\n  </thead>\n  <tbody>\n    <tr>\n      <th>0</th>\n      <td>0</td>\n      <td>0</td>\n      <td>스타벅스</td>\n      <td>아메리카노</td>\n      <td>602380</td>\n      <td>0.442240</td>\n    </tr>\n    <tr>\n      <th>1</th>\n      <td>541</td>\n      <td>541</td>\n      <td>앤제리너스</td>\n      <td>아메리카노</td>\n      <td>23208</td>\n      <td>0.415445</td>\n    </tr>\n    <tr>\n      <th>2</th>\n      <td>591</td>\n      <td>591</td>\n      <td>파스쿠찌</td>\n      <td>아메리카노</td>\n      <td>22171</td>\n      <td>0.390637</td>\n    </tr>\n    <tr>\n      <th>3</th>\n      <td>194</td>\n      <td>194</td>\n      <td>빽다방</td>\n      <td>아메리카노</td>\n      <td>55879</td>\n      <td>0.368371</td>\n    </tr>\n    <tr>\n      <th>4</th>\n      <td>332</td>\n      <td>332</td>\n      <td>커피빈</td>\n      <td>아메리카노</td>\n      <td>47572</td>\n      <td>0.287752</td>\n    </tr>\n    <tr>\n      <th>5</th>\n      <td>477</td>\n      <td>477</td>\n      <td>할리스</td>\n      <td>아메리카노</td>\n      <td>44353</td>\n      <td>0.243837</td>\n    </tr>\n    <tr>\n      <th>6</th>\n      <td>106</td>\n      <td>106</td>\n      <td>이디야</td>\n      <td>아메리카노</td>\n      <td>30425</td>\n      <td>0.135534</td>\n    </tr>\n    <tr>\n      <th>7</th>\n      <td>409</td>\n      <td>409</td>\n      <td>투썸플레이스</td>\n      <td>아메리카노</td>\n      <td>46652</td>\n      <td>0.110917</td>\n    </tr>\n    <tr>\n      <th>8</th>\n      <td>271</td>\n      <td>271</td>\n      <td>탐앤탐스</td>\n      <td>아메리카노</td>\n      <td>26232</td>\n      <td>0.085246</td>\n    </tr>\n  </tbody>\n</table>\n</div>",
          "text/plain": "   index  Unnamed: 0     카페명    음료명    언급빈도       언급률\n0      0           0    스타벅스  아메리카노  602380  0.442240\n1    541         541   앤제리너스  아메리카노   23208  0.415445\n2    591         591    파스쿠찌  아메리카노   22171  0.390637\n3    194         194     빽다방  아메리카노   55879  0.368371\n4    332         332     커피빈  아메리카노   47572  0.287752\n5    477         477     할리스  아메리카노   44353  0.243837\n6    106         106     이디야  아메리카노   30425  0.135534\n7    409         409  투썸플레이스  아메리카노   46652  0.110917\n8    271         271    탐앤탐스  아메리카노   26232  0.085246"
         },
         "metadata": {},
         "output_type": "display_data"
        }
       ]
      }
     },
     "964bcf4d60804f05b8c0b6cf5c29e1be": {
      "model_module": "@jupyter-widgets/base",
      "model_module_version": "1.2.0",
      "model_name": "LayoutModel",
      "state": {}
     },
     "96d9205e5c174485b80e9e96f6bbae19": {
      "model_module": "@jupyter-widgets/controls",
      "model_module_version": "1.5.0",
      "model_name": "FloatProgressModel",
      "state": {
       "bar_style": "success",
       "layout": "IPY_MODEL_4a746d2257354f8c86e81a1f2ca0063d",
       "max": 198,
       "style": "IPY_MODEL_b4c8243bf27f412f90e6ab927a25c86e",
       "value": 198
      }
     },
     "972393977ca04139915c10516e9adc92": {
      "model_module": "@jupyter-widgets/base",
      "model_module_version": "1.2.0",
      "model_name": "LayoutModel",
      "state": {}
     },
     "97dce4755c3c4dff88162d9460e42f6e": {
      "model_module": "@jupyter-widgets/controls",
      "model_module_version": "1.5.0",
      "model_name": "DescriptionStyleModel",
      "state": {
       "description_width": ""
      }
     },
     "98d7dead8d5d4a988b4d3b4ce02205ad": {
      "model_module": "@jupyter-widgets/base",
      "model_module_version": "1.2.0",
      "model_name": "LayoutModel",
      "state": {}
     },
     "99383ffbe9aa4dba88c16caceb4b5d6a": {
      "model_module": "@jupyter-widgets/controls",
      "model_module_version": "1.5.0",
      "model_name": "ProgressStyleModel",
      "state": {
       "description_width": "initial"
      }
     },
     "99407f84f89c44e9b87d6f3e63d55b0d": {
      "model_module": "@jupyter-widgets/controls",
      "model_module_version": "1.5.0",
      "model_name": "DropdownModel",
      "state": {
       "_options_labels": [
        " ",
        "스타벅스",
        "앤제리너스",
        "파스쿠찌",
        "이디야",
        "탐앤탐스",
        "투썸플레이스",
        "할리스",
        "커피빈",
        "빽다방"
       ],
       "description": "카페명 : ",
       "index": 7,
       "layout": "IPY_MODEL_0883a82ed63b4e22be5ca9a0010ddda1",
       "style": "IPY_MODEL_94ba1cbd15e74f9da5699bee67a4be8d"
      }
     },
     "9a0df2147fa84b698f45103db2766511": {
      "model_module": "@jupyter-widgets/base",
      "model_module_version": "1.2.0",
      "model_name": "LayoutModel",
      "state": {}
     },
     "9ad1e00b3e44404cacc041b489bbdaf7": {
      "model_module": "@jupyter-widgets/controls",
      "model_module_version": "1.5.0",
      "model_name": "FloatProgressModel",
      "state": {
       "bar_style": "success",
       "description": "100%",
       "layout": "IPY_MODEL_83dc21df637744f0b0f3bf076802df53",
       "max": 62,
       "style": "IPY_MODEL_ab224cfed42c4c65a9c243a85ca79ad0",
       "value": 62
      }
     },
     "9af588278285449d8a9ecf4231ba3326": {
      "model_module": "@jupyter-widgets/base",
      "model_module_version": "1.2.0",
      "model_name": "LayoutModel",
      "state": {}
     },
     "9af6ab9acdc3411dbcaf7dc4d31f25d8": {
      "model_module": "@jupyter-widgets/controls",
      "model_module_version": "1.5.0",
      "model_name": "HBoxModel",
      "state": {
       "children": [
        "IPY_MODEL_21c4fe0ff43a46a894a5db2fb38baca6",
        "IPY_MODEL_2e8cc9e53295487e8f8898160802da5d"
       ],
       "layout": "IPY_MODEL_ade90e5303d94858b1422cee77e7800b"
      }
     },
     "9c21645c865e4884bf9b74a0ce3decf9": {
      "model_module": "@jupyter-widgets/output",
      "model_module_version": "1.0.0",
      "model_name": "OutputModel",
      "state": {
       "layout": "IPY_MODEL_d5729eae81e04ffcba00a6f50f9898f3",
       "outputs": [
        {
         "ename": "NameError",
         "evalue": "name 'sentiment' is not defined",
         "output_type": "error",
         "traceback": [
          "\u001b[0;31m---------------------------------------------------------------------------\u001b[0m",
          "\u001b[0;31mNameError\u001b[0m                                 Traceback (most recent call last)",
          "\u001b[0;32m<ipython-input-38-01de8dc800d7>\u001b[0m in \u001b[0;36m<module>\u001b[0;34m\u001b[0m\n\u001b[1;32m      8\u001b[0m \u001b[0;34m\u001b[0m\u001b[0m\n\u001b[1;32m      9\u001b[0m \u001b[0;32mwith\u001b[0m \u001b[0moutputAll\u001b[0m\u001b[0;34m:\u001b[0m\u001b[0;34m\u001b[0m\u001b[0;34m\u001b[0m\u001b[0m\n\u001b[0;32m---> 10\u001b[0;31m     \u001b[0mdisplay\u001b[0m\u001b[0;34m(\u001b[0m\u001b[0msentimentPlot\u001b[0m\u001b[0;34m(\u001b[0m\u001b[0mcafe\u001b[0m\u001b[0;34m)\u001b[0m\u001b[0;34m)\u001b[0m\u001b[0;34m\u001b[0m\u001b[0;34m\u001b[0m\u001b[0m\n\u001b[0m\u001b[1;32m     11\u001b[0m \u001b[0;32mwith\u001b[0m \u001b[0moutputN\u001b[0m\u001b[0;34m:\u001b[0m\u001b[0;34m\u001b[0m\u001b[0;34m\u001b[0m\u001b[0m\n\u001b[1;32m     12\u001b[0m     \u001b[0mdisplay\u001b[0m\u001b[0;34m(\u001b[0m\u001b[0mnegativeDF\u001b[0m\u001b[0;34m(\u001b[0m\u001b[0mcafe\u001b[0m\u001b[0;34m)\u001b[0m\u001b[0;34m)\u001b[0m\u001b[0;34m\u001b[0m\u001b[0;34m\u001b[0m\u001b[0m\n",
          "\u001b[0;32m<ipython-input-35-10ffe470ae51>\u001b[0m in \u001b[0;36msentimentPlot\u001b[0;34m(name)\u001b[0m\n\u001b[1;32m      1\u001b[0m \u001b[0;32mdef\u001b[0m \u001b[0msentimentPlot\u001b[0m\u001b[0;34m(\u001b[0m\u001b[0mname\u001b[0m\u001b[0;34m)\u001b[0m\u001b[0;34m:\u001b[0m\u001b[0;34m\u001b[0m\u001b[0;34m\u001b[0m\u001b[0m\n\u001b[0;32m----> 2\u001b[0;31m     \u001b[0mcounts\u001b[0m \u001b[0;34m=\u001b[0m \u001b[0msentiment\u001b[0m\u001b[0;34m[\u001b[0m\u001b[0;34m'감성분석'\u001b[0m\u001b[0;34m]\u001b[0m\u001b[0;34m.\u001b[0m\u001b[0mvalue_counts\u001b[0m\u001b[0;34m(\u001b[0m\u001b[0;34m)\u001b[0m\u001b[0;34m\u001b[0m\u001b[0;34m\u001b[0m\u001b[0m\n\u001b[0m\u001b[1;32m      3\u001b[0m     \u001b[0mcolors\u001b[0m \u001b[0;34m=\u001b[0m \u001b[0;34m[\u001b[0m\u001b[0;34m\"#B99AFF\"\u001b[0m\u001b[0;34m,\u001b[0m\u001b[0;34m\"#D8C7FF\"\u001b[0m\u001b[0;34m,\u001b[0m\u001b[0;34m\"#E8DEFF\"\u001b[0m\u001b[0;34m]\u001b[0m\u001b[0;34m\u001b[0m\u001b[0;34m\u001b[0m\u001b[0m\n\u001b[1;32m      4\u001b[0m     \u001b[0mcounts\u001b[0m\u001b[0;34m.\u001b[0m\u001b[0mplot\u001b[0m\u001b[0;34m(\u001b[0m\u001b[0mkind\u001b[0m\u001b[0;34m=\u001b[0m\u001b[0;34m'pie'\u001b[0m\u001b[0;34m,\u001b[0m\u001b[0mautopct\u001b[0m\u001b[0;34m=\u001b[0m\u001b[0;34m'%1.1f%%'\u001b[0m\u001b[0;34m,\u001b[0m \u001b[0mfontsize\u001b[0m\u001b[0;34m=\u001b[0m\u001b[0;36m17\u001b[0m\u001b[0;34m,\u001b[0m\u001b[0mcolors\u001b[0m\u001b[0;34m=\u001b[0m\u001b[0mcolors\u001b[0m\u001b[0;34m)\u001b[0m\u001b[0;34m\u001b[0m\u001b[0;34m\u001b[0m\u001b[0m\n\u001b[1;32m      5\u001b[0m     \u001b[0mplt\u001b[0m\u001b[0;34m.\u001b[0m\u001b[0mfigure\u001b[0m\u001b[0;34m(\u001b[0m\u001b[0mfigsize\u001b[0m\u001b[0;34m=\u001b[0m \u001b[0;34m(\u001b[0m\u001b[0;36m10\u001b[0m\u001b[0;34m,\u001b[0m\u001b[0;36m10\u001b[0m\u001b[0;34m)\u001b[0m\u001b[0;34m)\u001b[0m\u001b[0;34m\u001b[0m\u001b[0;34m\u001b[0m\u001b[0m\n",
          "\u001b[0;31mNameError\u001b[0m: name 'sentiment' is not defined"
         ]
        }
       ]
      }
     },
     "9d40579fe200444eb8e93f87f1e1e41a": {
      "model_module": "@jupyter-widgets/base",
      "model_module_version": "1.2.0",
      "model_name": "LayoutModel",
      "state": {}
     },
     "9e051806f7c84c658a263e49079cebd1": {
      "model_module": "@jupyter-widgets/output",
      "model_module_version": "1.0.0",
      "model_name": "OutputModel",
      "state": {
       "layout": "IPY_MODEL_6501a60af70a42248c1a3352d05e9da3",
       "outputs": [
        {
         "data": {
          "image/png": "iVBORw0KGgoAAAANSUhEUgAAAs8AAAGjCAYAAADTrPgLAAAAOXRFWHRTb2Z0d2FyZQBNYXRwbG90bGliIHZlcnNpb24zLjQuMSwgaHR0cHM6Ly9tYXRwbG90bGliLm9yZy/Z1A+gAAAACXBIWXMAAAsTAAALEwEAmpwYAABXa0lEQVR4nO3debxd0/3/8dcnkZBIIiFTI4ip1DxrDaVFzaoEaVWlLSmKDqiqKYaa+baV/EpqKqmhoigJFSqUohKCmGpKBZnnQebP74+1jntycoa9zzn3nDu8n4/Hfux79l577XWyc+/93HXW+ixzd0REREREpLQ29W6AiIiIiEhzoeBZRERERCQhBc8iIiIiIgkpeBYRERERSUjBs4iIiIhIQgqeRUREREQSWqPeDRBprcysDbAXsDOwFvAu8Ji7f16g/GDgYuB/7t4vz/l9ACtyyznuPj6W/RLwQjy+l7t/Ymb9gI/isY3dfWJW3esB2yZ8awDj3X1O1vV3ACcCz7j7vjnt3hxYP2G989z9laxrs9v8DXcfk3uBmQ0AOgFvufu/E7+DRmBmuwJrJyz+sbt/mHXtQOB2AHdf5TmbWR/gywnrfdHdF5vZRcCPgBHufnasZwrQCzjY3R/Pqn8DYFNgsbu/WOC9tQX2ji9zn/+ewA9j209K2M7sug04BNgd2BroDPwXeBX4i7svLnDdYIp/z8wA1kvbnhy3pnlP8VkdEV8Od/cFBcqdDLQFnnb3d7OO30GB76Wc67cC9gV2A7YHugJd4rYcmAfMB6YBY4H/AE+6+5QE76Ef8M1Y907AurHedWKRubH+WcArwMvAU9k/U9Iys3bAsYSfl5sCHYH3gXcI/44zC7Sz6M+HnPI9CP/PNgBmA/9097eLlM/k+v2hu9+R5/w6QDvC903e51yk7jUJ/88BZnpWXmEz6wrskKY+YGrmvZjZGGAf4M/uPjBlPQLg7tq0aavxBmxJ+KXiOds04PAC1wyOZSYWOL88T33Z25issn2zjveLx/rlHssqf1iJunO3fXOuvyO3DVnnhqSo98Wca/sVumdWmYnx/JAm8NwnpHivV+VcOzBzLk+9p6SoN/O8fxdf35FVz5R47KCc+s8u9n8vlulU5PkXbHuCf7MtgH8WeT+TKP97ZkbK/9f5tltSvp99s67tW6Tc4lhmYNLvpXi+D3BnnnbOAz4DPiAElFOBz3PKLAQuBDoUqLsb8HtgWZ76l8RnMSl+nXt+Wby2Wxn/Bw6PbS70DOYD5wOW9udDLGfABcDSPHXfB6xT4LpMmYEFzo+J528q4z0PyKp/jSL/h5Juw/O06448990myb9Za9/U8yxSY7EX72mgdzz0PjAT2BXoATxoZoe6+z/KvMVswi+BjE4k7+0sZBmhjcW0JfRupTWf8Iu8mHUIvfPN3UxKv9cepB9SN48QFPUBOsT7zInn1if8280g9AguT1l3WczsPuDA+LJ9mXV0BZ4ivIfPCQH/v4FFhN7Uswh/CI4wswO9RM9iHr1LFynoeULPa5MRe+gfJ3xKtAD4I/Ag8I67zy5Qvk8sf3zcLgW6Az/Lc4u7gEMJP19+BzwEfApMJ3wq5Fn1diH8X14fOBI4FTgT2JiGnvck72kPYATh/9DbwB+A1wn/HzYjfHpyEHB5PHZD0rqzXEoIniH80fISsFVs/7FAj/j/a1kZdTeGQj+PM5+ifE74HsmWqudbilPwLFJ71xN+aa8AjnL3vwOY2SbAc8CXgGFmtoUX+Di6hKOygwgzuwC4rJIGx0C+e7EyOR+Rpqn7POC8EnXfBPwkbd1NjbvvU6qMmb1D6G1NU+/dwN1m9jghYB3s7kNifU8C+wEXuvtN6Vu9io2yPqouZRkhEIHQs9ehjPvdQAi+FgA7u/t/s87908xuAf5FCKQz3zNJ24e7l/2HRIp/h1rKHl51rbtfWqxw/Lf6NG6Px6ERxxGGZOSzb9zf4+6/KFHv3Li9DzxjZl0Ige43kr2VL1xPCJxfBL7pqw5rexW438yuB34JXGNmN7v7wjz17GNmmZ9hj2XKmNm2hF5rCD2yh7n7wjis7nLCz6ZvAD8GKv3+qQp3f56cn8fxD5bFhH+ri9z9unq0rbXQhEGRGjKzTYFj4svzM4EzgIfxrd+JLzckfGwn0pSspCHYyt0mZxd09++7e293703+XsyiYvDSP778bU7gnLnHfEJvJsDmwHfMbLPMRhiL25rMJMydAPixmfWPY2eLMrP1zOxMwnhfCH/E5/N03A8ws+vMbG8z28TMOsfgLVOfxWObxDLXEnq1s+soycw6EMY4A9zoBeaDANfGfVvgqwXKDAbuj1uPrOPnEP64mwYcmQmq3X0lIah+LJY7N/s9pvQTM/M0G3BPynt0ouETnnlltlMSUs+zSG0dFfcriJO/srn7S2Y2gTDurD9hfKNIUzHJ80y8AzCzToQhONWyMQ0TpgoFcxA+Yl9O+H32QBXv3+y4u5vZIYQhFYcTAsXlZvYhYez/AsJH+m0IE+7WIQx96BurWAb8H2GSZT4/AC4hDME4K24ZS8xsevy6B5AbtC8HbixSdynFAtfscysLlPmM8N4zbclMQswMIbnP3edmXxD/PW8FDiaMn96ZMLmyKcr+g0DBcyNT8CxSW5lekWfcfVqBMiMIwfPutWlSs5D55VjoF2NL0iLeq5ndSEP2jXJ6gLPH6eeO38y2jDAGt9a/z0YSMj3UNYNLrvgJ1hFm9lXCcJ3dge0IP3s60fCJcybjxnTgL4RsG496VoaXPHXPBs40s/8D9ieM+d6RMFykCyFTC4Q/oiYTesJfpSGTR6phXe7+uZmNBb4W7/ugu+f7v3Bu1nv6T4Hqjs8zJn5LGjKE3F/gulGEoLsD4d+ynOD5XsJEzDQOI/whk1T2MI7VxrdLdSl4FqmtreP+3SJlMh9PdzeznkWC7NYkE0jNqmsraqOlvNeNCWORy/UOITBuR0jL9UqBcpsTelEhDIkak3XuV4SP5avO3SuaRxB928wKTcRtW0nFHlIKrpJWMA47WJsQZC5JMz48p+6PgD/FrbH9kvBMdwNeNbPfEyYMLqZhwuABsezZBcY7F7J11td5fybHAH4SIRXk1vnKJDDX3d9Pc0FMG5lGds9zqntJegqeRWqrZ9xPL1ImO1jukfMaoKeZPRS/nuDuF5DMDjG/J6z+kWpRMV9pqTzPX0pTZ1bd5xEmKRWzcdzPKFLm8pi3F2BQU/yjw8weIOSoLSbz71jwvWY9/2nuPijF/dsDd8eXOyS9LkuaCYPXAMPj1/sQ0ukl5u5Lzew5wmSt883svtzAKAaDV8SXc4C/u/vSrPN5e6zN7FhCOrdq2sLd/5fymiHVurmZHUqYXJfmmlJF9nP3T8tuVBW4+4tmdhRhyMeXgaF5is0j/D/4Q8rqMz+PneLZhKbFe/cocP5MMzsyfn2Bu09I2Y5qyPxcWQ4k/X/4zayfJfe6+71Vb1ULpeBZpLY6xX2xwC47lVmXPOc7AN+OX3dNce91CEFMOXYkxUSflNYneQ/lJ0XO7Zn19c/znO9mZlsmbVQud3+n3GuzbEHy3qti7zXz/NMGa22Ao1NeA+Fj61KpCrMtixkBADCztUgZPEenAeOBTYCXzOxXhDHOnxOGNl1ESJ0GYQLu0nyV5NGGlH9AJlDOZLIPCb3r+aTKuEIYH572mlLaAcQhIC+UKJtWyUVLMtx9lJmNJswD2YkQKHYg/PtlFkkpZ6hC5ufxTHdfUaRc5mdyvp/HEH4+7hi//l0Z7aiGTIaURYRPF+YWKZuxQdwgfJ9JQgqeRWor8wu2WO9d9rl8v5AXEMYoQsMQjyQ+JuRphfBL4IwU12b7nNLjcYv9Isp1O8UnhPWlYTb9s0XKPUKYFAT5J659L27lWEF1fl6eQ8MYy3y+RViJbzk5H7nnuDnu0wS0EN7H7+PX+5Cw99ndh5K/xy+pFwiTzFJx93fM7HjC+92aMM54tWLA1e7+/1LUey9hHGq97ePuef9IMrPFpAjw872nmHHkvfhyR48rjGad/zlhXO2n7t6XwpYQ8ohXU6HMGXnFHMv3kC4Lxf9oSJGY7w+rJD+Ps88X+gNpDA3DPj7Lc36d+CzSSJyD3MzWoCEFYBdguJl9O2YMKea/NHSKNNWJkE2SgmeR2ppPWKWr0Md/0PBRIuSfNT3T3cvpxfsoM8TDzPpSfvC8lVewzG4udx8HjCt03swyuWqXU3xy1g1lLJJRU+7+WLHzZnZa/HKsF1nOt8znnwlAfh7v9TtSDN0ws1MpI+VcHqly5br7A2b2DCHf7u6ExSsySzOPJ6zEWNbH5DF/eCfgTnd/IuW1pwF7AOPcPc3ErmbH3V8ljC+uizj59PAKqxnA6n+QZv7IXs/M2hbpfc78TC6UxeLPnmd57px7N2bq0V1ZtVf8MEJWk1KZTV4o92dJa6fgWaS2ZhCC555FymSfKzY2usWLqaROii/vLxZQFlIotVqsfxfg5fhyb3cv1gPeqMxsaxqyU6yWxrAJWI/qDwtIxN1nENOixXHOlqBXLYn+hPf1IpAqeCYEzscTgu8mEzyb2Zs0TDbMXtnxodibnS2TBaV3XJwnY0y+oMrMniDkoK/Ee+6eNhDuAWxU4X3zrVCamVfQhvBvUejnbZK5KvWUGbo0n9AzPwi4yMxecfeH69eslkvBs0htvUnIDlCsFydzbhbFx0a3Bj+hYQLdtcUKNmcxILwkvpxG9SezVczdLyesuJaamQ0g/aIPmWu/QsPqkoPdfQ6lP2ZvzbYgf6aOYsFnW1b9w6hQtoZNKD3htZTUqzq6e1k9t2bWm5zFe3K8mfX1ZuQJjuMiM5lxwW+lub+775uwbce4+4g0dWfV05mGIVG3A2cThjjtCdxlZrtVab6GZNEKgyK19VLcf9PM1itQJjOh66VyU0m1BGb2TRqyB9wSPzpuqc6j4bn/ssxl2VuqjQjDRX5GwwSvaruxjBXgji9Zax24+xrubuVswJ9L1L1ZBXVfUqzuOnmbhqEb/QuUOZCG9JEvFShTT4Np+ARhaByadSzhj/DOhE8cCk10lDKp51mktv4GXEn43juBnJnZZrYDDbO2W+VqabEn5UxCJoX2hN6haoy1bXLMbCPgUsLKbQC3u/tfilxSN1mTy5qT24AnCRPeilkApMkPDCHTTbUzdlTMzF4kXRaebEXTTcZUi+XmOu5eukjB+94C/Ljc6wuJ6RAfIUwkHmBmF2WnQ4yfCP0wvpxEE5tUZ2bfI+TBBvi9xyXs3f0zMzsOeIrwicKdZnZUkqFOcf5AucuQtxoKnkVqyN3/a2YPE1KNXW1mE9z9SfhiEt9DsehnlPkxdz2ZWQfCKmM7ECatPOPud5W4pj0hj/NmwC6EiYyZXvmXgcMLrCrW7MQ/DDYlvNf9CQs8tIunbyGkZmssfczsJ8Be7n5CBfWspCGDQ5Pm7h8TssyUcp67p8q5bGbDaZq9z5vR8P1TbRtRp3Hv0ecke575FPoZcj0heO4DjDCzI919SQyczweOjOWuq9I4+4rFoUyn0/Dz4jXg19ll3H1MzKF/NeH3zflAyYV9zGx7QicPwFHu/lq12t2SKHgWqb1fEMajdQdGm9nrhPHNexICKQdOqSBgvN/Msnvaqv2R3ctmlm9Weoc890qSBeEG4Kc5x5YSUqNdUO6/Qxm5af+VYNGIL3LTmtn3Can/FgNd3b1U7yaxPbk9d9MJvew3lztMx8zOJfSQZcZmXmhmZxB67vtkjsV92vR2uaa7e9n5smUVrxb4XoLKe7VPdfdUmU1SuNrdf126WNX92933r2aF7v6KmV1HGCt8EDDNzP5N+D7NfD/9mxRZYhKMtc51f4KfPT/MyuhxI2HpdQiZio4uMNTrWsLS5kcCl5jZowmGv/2GMLY983WpBaxaJQXPIjXm7h+Z2QGEnuUtge2yTs8FfuLuj1Rwi7I/Hq1i/R8DjwL/SFn3a/G6W6qZDq+RZALIFxMGztmWE3JWPwLc6u758lKn0YNVewR7snpGl4WEnK75ciWnuldOZoa0hqTt5c0yKUGQUch33P2hAueuNLOkK3VmdC23IVka83v1kjjUply7uXuh1GyDslbUK8d33P3tMq7by8wmlnnPF+PEw3x+Tfie/BWhA+CgrHOPAgNTLMBTK1MIE4svKvTzx93dzAYS8ujfSPqFUFrtnJtSFDyL1IG7jzezbYEDCCtmrUlIWP/3Ir+wSjmU4mPVZpVZL8DrwMElynxOmKQyFZidohf1WsLY7ynlpKIr4jXgK1WsD1b9yDgTrP4rxfXHEsbXTi0j4C7mFsLY3mwrCX+MzYnbTHdPnekgjzZU9tF9Y/9xV45ONN5kxFxJvpeyvVHmffL9AZVGsYQC3eJWrnJ71dek/JR1EwudiPmdzzOz/0fIJ70+MJvwx+YrZXwiNIPq/+zJ7sk+Cfg44RjmuWa2Y4rv/SsIeaMhzM+RPKwVT+YXaVbMbF9gX2COu/+uwrrWAPrFl/9z92Vm1pWGZa1/F1OCVUXspdoBmFhiMYG09Xaloc131LK3Og632RY4IDNuvZHvtwNx/KW7D65CfT0Iqx3Od/ep8djZhCByuLsXSldWU2a2NiUmsiVU7T/O6qKxvpckPTMbHL98yHNWb2zKYm90P2B8kU9jpAgFzyIiKZlZG8IwiHaE8c7NPigTEZFkFDyLiIiIiCSkRVJERERERBJS8CwiIiIikpCCZxERERGRhBQ8i4iIiIgkpOBZRERERCQhBc8iIiIiIgkpeBYRERERSUjBs4iIiIhIQgqeRUREREQSUvAsIiIiIpKQgmcRERERkYTWqHcDmjszuwLoBtzs7uNLlD0a6Jyg2r+4+zIz6wd8BHzg7pvl1HU6sANwrbu/m+dePwL2AIa6+6vx2OHAn4AH3P2nCdqBmbUF/hrbcYW7z0pynYiIiEhLpOC5AmbWEfgZ0BG4K8ElVwObJig3AlhWosz+wLeB4cBqwTPwdeBE4FHg1XhsTaAXsE6CNmTsBRwFLALOS3Hd6kaM8IquFxERkdatf3+rdxMUPFfmIELgPA8Ym+K6y4BiPbhLK2lUlR0d98+6e6mAXkRERKRFU/Bcme/G/XB3TxPw3ubuE6vUht+Z2Zw8x7estGIzW5OG4Pm2SusTERERae4UPJfJzA4A+seXHc2sg7t/Xoem9Aa65jneKe4fNCv7E44LgT7x625mZu6uoRciIiLSainbRhnMrDNh4h3ACmAg8IqZ7VaH5gxw9365G2HcNMBU4IO4TU1aqZntCPw6vlwB3Aw8YmZ9Cl8lIiIi0rIpeE4pZp/4f8BGwPuECYDDCcMkXjCzK+Jwh2pqa2bd49Yu5bWnuPtmMVvH6UkuMLP1gDuBtsD9wDaEMd2HAhPM7HhL2J1tZoPMbKyZjR02enTKpouIiIg0LRq2kYKZdQWGAccQsk8c7e7/A04ws4eBmwgZKQ43sxPd/ZUCVd1mZosKnHvN3c/POdYPmB6//gYwpuw3UYKZbUHotd4GeBv4sbvPN7M9gPOBCwh/LPQ3s1PcvWhvtrsPI/ybKduGiIiINHsKnksws/aEXuZvA78gjAGeDBzp7q9nyrn7CDN7HrgFOAR4ycx+S8iNnDuZ8BtFbrlWnmPLgLfi1wtyzj1dwZhmAMxsbULP+fHAqbEN/waOcvf5ADHTxmAzG0kIno8E9jaz09z9rxU1QERERKSZUPBc2jWEXM4ZfwdOc/dPcwu6+2QzOwwYBNwAXAysDZyTU3Rv4JMC91uc59jH7r5DzrFnWD2QzqfQfbI9D2yfdf8bgN+4+5Lcgu7+chwPfQ3wU+A+M1vo7iMT3EdERESkWVPwXNoU4HFCz+/t7j6hWOGYjeJmM3sKuB64Nk+xTypNVefu/1fGZeOAkwmTB7P9Nx57BfiTu08rce9FwOlxqMoPgMfKaIuIiIhIs6PguQR3vwq4qozr3icM9Wg0ZvYmYVJfWo8AT2deuPux5dzf3UcDmgUoIiIirYaC5+ZtC8oLntOshlg9TWBJTREREZFKKFVdE2Nma5vZ4Wa2c6my7r6Gu1vSDfhhDd6CiIiISIulnucSzOxFoHuF1Rzo7tnjjEeYWfbEQCNMLOwF9CT8UXMy8GSF9y3JzDYF/lFhNTPc/avVaI+IiIhIU6bgubR+hKC2ErkLmxTqVZ4FvAqMAp6gNp8MtCMs9FKJTqWLiIiIiDR/Cp5LcPfeVaxuJwoHxAtjLuUvmFm/Kt4bYDmwEPgiBZ27v0Po+RYRERGREixkVpOmKC4F3g1Y6e6z6t0eERERkdZOwbOIiIiISELKtiEiIiIikpCCZxERERGRhBQ8i4iIiIgkpOBZRERERCQhBc8iIiIiIgkpeBYRERERSUjBs4iIiIhIQgqeRUREREQSUvAsIiIiIpKQgmcRERERkYQUPIuIiIiIJKTgWUREREQkIQXPIiIiIiIJKXgWEREREUlIwbOIiIiISEIKnkVEREREElLwLCIiIiKSkIJnEREREZGE1qh3AxqTmR0DHAdsAowHbnT3V7POTwEmufuu8fVA4HbgEncfbGa9gYOK3GKmuz9iZmcDZwM/c/f7zKwf8BHwjLvvm3W/rwC7J2j64+4+JadNt7r7SVl1bQScENv/5wR1Zq5zYIW7J372ZnYF0A242d3HJ71OREREpKVpscGzmZ0PXA4sByYBPwQGmNmh7v50LNYLWFykmi0JgWsh44BHgE6xrg4lmrUfcGPp1vMNYEqJMhsDlwHPA4mD57TMrCPwM6AjcFdFlY0Y4dVok4iIiNRJ//5W7ybUW4sMns3sS8CFhAD0a+4+0cwOAUYCV5vZ7u6eJJB7Dzgjft0NuBT4FLgqHpuesmnPAb8ocv40YPOUdTa2gwiB8zxgbJ3bIiIiIlJXLTJ4Bo4E1gRucveJAO4+ysyeB/YkDOP4oFQl7v4pMATAzLYgBM8fufuQchoVhzyML3TezA6j6QXP34374e6+tK4tEREREamzlho894v7V3OOjycEz/1oCJ77mtn78esuRersHPdzK29e82BmBwD948uOZtbB3T+vZ5tERERE6qmlZtvIBMELc44viPt1so61BfrGrVuROjPB85xKG9ccmFln4E/x5QpgIPCKme1Wt0aJiIiI1FlLDZ4/ifsv5RzPvP4469j/3H0td18LOLlInasEz2bWx8wGm9lgYN+KWltlZna0mc3JtyW8vi3w/4CNgPeBTYHhhAmUL5jZFWa2ZmO1X0RERKSpaqnDNsbH/bcJQR9m1h44kJBd470y6uyX87oPcHGaCsxsf+DnRYrskKpFjcDMugLDgGOARcDR7v4/4AQzexi4CTgPONzMTnT3V0rUNwgYBHDzoEEMOuCAxmy+iIiISKNqqcHzY8A7QH8zu56Q5eJkQjq5Ie5ezrjl7eL+RDO7nJDH+YR47CjgOwnq6AscWsa9U3H3B4AH8p2LeZ5zj7Un9DJ/m5ANpA8wGTjS3V/PqndEnHR5C3AI8JKZ/Ra4otBkQncfRgjGlapOREREmr0WGTy7+0ozO5qQg/mXcYOQqu78MqvNBM+dgMvc/WQaerU3I1nwnPFX4Nwi50vleK62awi5nDP+DpwWs42swt0nx6wgg4AbCL3vawPn1KKhIiIiIvXUIoNnAHd/y8y2BXYhDLl4HXjd3VemrcvM1ga2IYx3ngH82MyGuPtrZTZvfiaFXhMxBXgceAu43d0nFCscc2TfbGZPAdcD1zZ+E0VERETqr8UGz2bWk9A7Otvdh1ZY3QmE1QPvAx4FRgA3mNn+CRdbadLc/SoaFn5Jc937hKEeIiIiIq1Ciw2egZ6E5as/AAoFzw+w6iqBTkjL9kXvtJm1oWFIw73AE8ALwDeBI4CHq9rqlkxLeoqIiEgz11JT1SXi7v3d/dSs13929zXc/VL4YiLdDYQUbf8Enog9zWfHS66NZarKzPqZ2U/NrF2F9bQxs93M7HvVapuIiIhIa9aSe56r4WJCr/MU4NTMEA13/7eZPQAcDZxa5PpCDjez53KOtQHWBXrTsIjLrQnq2t7MXsw51h7oTsgu0h54Bri7UAXx+u4J7lXMge5ecslzERERkeasNQTPm+ZLz1bCTHfvThjC8SBwlrt/lFPmPEI6t78Ap6esv2fcci0HpgHPE4aD5E3/lqMTsHue44sIi8UUDZyjfoRAuxIV9ZKLiIiINActOXheCrxb5rVz4n5woewc7v4ecAaAmX0CvMSq46fzuRt4qMC5lYQsHKsE+mYFhwk/R+HlxJe5e+7S5AW5e++kZUVERERaM2sBySKanLi8dTdCEFvOgizZda1F6F1e4u7zq9C27gDuPqPSukRERERaGwXPIiIiIiIJtepsGyIiIiIiaSh4FhERERFJSMGziIiIiEhCCp5FRERERBJS8CwiIiIikpCCZxERERGRhBQ8i4iIiIgkpOBZRERERCQhBc8iIiIiIgkpeBYRERERSUjBs4iIiIhIQgqeRUREREQSUvAsIiIiIpKQgmcRERERkYQUPIuIiIiIJKTgWUREREQkIQXPIiIiIiIJKXgWEREREUlojXo3oKkzs72AzRIW/4+7v2VmA4HbgVvd/aSE9/kucDDwkLv/LUH5nYG/JGxXrrPcfWRWXYXe42OxTbnGuvsEM3Ngprt3L7MdIiIiIs2KgufSTgJOTFj2F8BbZd5nELAv8E7C8h2ALcq8V+ec14Xe496EPwJynQNMSH3XESM89TUiIiKyuv79rd5NaK0UPJc2HBgL/IzQO3sD8FE8tzdwLPAk8DDwXDk3MLMewNfjy6eSXOPuzwGpvnHMbARwdJ5T9xGC4a2AHwIvAg8AEwmB8tHAV4G7gNeBZ9LcV0RERKSlUPBcgrs/CTxpZv0JwfP97v4igJktJwTP49x9SAW3OZYw/vwt4D8VNjk1d38MeMzMjiEEz8+7+3Xx9HVmtjUheL7b3R+vdftEREREmgpNGKwzM+sFXBpffg70qWNz1o77uTnHOxQ4LiIiItKqqOe5/oYC6wIrgJ2BN83sDGC4uxccI1zmhMH1S5zvFPdzco53jPt5Ke8nIiIi0qIoeG5ca5lZdwB3n5F70swGEcYTLyGMn/4mcBlwJ9DfzH7i7lMK1F3JhMFCCvU8FzouIiIi0qpo2EbjOh6YHrcvmFlbM/s1cHM8dJq7v+zuVwO7AG8ARxB6oQeY2WoTA939OXe3NBthEmAxmZRzuUHy+gWOl2Rmg8xsrJmNHTZ6dNrLRURERJoUBc+NazbwGvCambUxs/XN7HhCNosrgWXAj939tswF7v46sCtwLdANuAe438x61qC9mZ7sL4L1GLhvFF92SVuhuw9z913cfZdBBxxQhSaKiIiI1I+C58b1N3ffwd13IPQkf0JIfbcLMB74RnbgnOHuS9z9V8A+hHRxRwMj8/VAp/Q4YYz1ewXOZ4LnAVnHegJrxa9/VeH9RURERJo1jXmunYXAs8C7wIPA48UmBAK4+7/MbHtCbum/lCpfirvfUuicma0FbBpfHmVmPd19GiFFXcZPzOxqd/+sknaIiIiINFfqea4Rdx/t7vu4+yB3fyxpIOzu89z9JHd/OnPMzE4xM69wuzfnVt8G2gIfA+2AgfH4gXF/K7AmcG4l/w4iIiIizZl6npunOYQe7EI2J/xh9CFhXHU+ub3Hg+L+HMJ460Fm9icasoH8EtgmHr/K3SenbrWWEhUREZFmTsFzdbQxs12AQwhLdTcqd78XyO05/oKZTQF6Afu5+8RidcVx1IMIafImAn8nBMkXAo8RxjwPdfd5ZvbbeP5c4OeVvg8RERGR5sYqHEbb4pnZVYQJfjsDXYGxhJRtBmxA6OV1GjJUHENYbOR24FZ3PynW83vg0Aqbc5G7352gzZngeeMEwfPOhPe0AjjY3Ueb2WY0TCr8ENjF3WebWRtC9pDNgE0Ivdcz3b17nqpFREREWhz1PJe2A7Bf1utdsr5eCcwApgGvEHplHyME0Ll60TAhr1ypU8UlYITMH2e7+1MA7v6+mT1FSLV3urvPjsdXmtkVhCEc3RqhLSIiIiJNmnqeSzCzThT+I2O+u6/Ic81Acnqeayllz3Mbd1+Z5jjg7u5m5qjnWURERFoR9TyX4O4LyrjsXuBRwkS7engAWIeQHq+ofAFyiuM9CENWRERERFoF9TyLiIiIiCSkPM8iIiIiIgkpeBYRERERSUjBs4iIiIhIQgqeRUREREQSUvAsIiIiIpKQgmcRERERkYQUPIuIiIiIJKTgWUREREQkIQXPIiIiIiIJKXgWEREREUlIwbOIiIiISEIKnkVEREREElLwLCIiIiKSkIJnEREREZGEFDyLiIiIiCSk4FlEREREJCEFzyIiIiIiCSl4lrKYWW8z613vdoiIiIjUkrl7vdvQapjZL4D9gKOA7wH9geOBvwD3xe1vwFPA08DjwHXufp2ZLQced/fDYl39gU4lbrnc3YfH8nsB/wKecfd9c9p1N/Bl4Ah3/yxPu28GdgaOd/d347HlQFt3t7T/DiIiIiLN1Rr1bkArsz1wKKHHf8v4dbu4Hx+PHwrMIAS6vSgcIF8HbFTifguB4QnatVVsW/sC57cgBM8dEtRV2IgR+ktNRERarv791aHUCih4bv4uBaYXOLeslg0RERERaekUPNfHecCeOcf2jsdzdTGzvkChv2bvcvf3q9Sud80sX+9woR5pERERkVZFwXN9XJTn2NfjlusXcauFt4AleY5vBXTOd0FWsH2qu9/UWA0TERERaQqUbaM+OgBX5xz7LfnHFL8MDG30FgXfcfev5m7AK0WumRq3z2vTRBEREZH6Uc9z0zfK3Qeb2SlVqq+dmXWPX89x9+WVVObuSlcnIiIirYZ6nlufPQgTDKcDm+Wc+8jMPHcD9in3ZmY2yMzGmtnYYaNHV9BsERERkfpTz3N9/A7YLefYQUD31YtW3UIgM8EwM755FDAhwbWz097M3YcBwwClqhMREZFmT8FzbS0C5gID4uu5gMf9ZnGbG8s1lrG5i6S4+2/KqOd5oG1VWiQiIiLSTCh4riF3Pw04Lc+prrkHzKwfcCsNk/XG0dBj3GjMbB1gL2AboFvcVgJzCD3P44F/u3vZQzlEREREmisFz02Uu08ETsp6vXtj3s/MegNDgO9Qeiz8irik98/dfVZjtktERESkKVHwXGNmdhVwbpmXj3T3w6rZHviit/lVoDfwH+BmQo/3J8B8wgItnYANgV2AnwInAHuY2TbuvjjRjbRsqYiIiDRzCp5rbzrwbsprOgIbpL2RmXUGDiAsflLM1wiB8xRgL3fPt6z3YmAG8IqZ/QWYBmwKbA+8lLZtIiIiIs2Rgucac/frgevTXGNm+wJPFzh9p5llTzA0wmqAvYE+hEl9hxPGLBfyEWHiYm/gZDO71d3zrTSImXUEziQE9MuAj5O+DxEREZHmTsFz8/e1PMccmElYnXBU3G9eqAJ3f9fMTiKk0BsK3GBmbxKGbSyMxTLDNrYC2gGzgFPcfXJ13oaIiIhI06fgufnajsIT+xbkrhxoZgWDZwB3v83M/gEcBewLbEsIzNehIZ3ebOBBYAzwgLtPq6D9IiIiIs2OuWvdiqbOzDYGfgy86+53lVlHO0IgvMzd51azfSIiIiKthYJnEREREZGESuXzFRERERGRqOiYZzPbGzgnQT0j3f1mM+sGXAfsRsgXfJa7z6m4lSIiIiIiTUCpCYN9gMMIE8YgpEHL8KzXE+P+JuCY+PVWwNrAgIpbKSIiIiLSBJQatvFP4JuElGUA34ivJ8TXP4rH/hB7qY8hLMjxQ+Ad4Jh4XERERESk2Sva8+zu04ExmUU43P0ZADPLZGv4j7u/FY/9gNAbfZq7P2tmHwLPAN8C/tVI7RcRERERqZmkEwaNVYds5L4G2AeY7+7PxtfPEXID71NRC0VEREREmoiki6TsxKrB8gGEwDt7Wej1aRjOgbu7mb0Rj4uIiIiINHslg2czGwd0i1/nO/++u38rlnkz5/RsYOvKmykiIiIiUn9Jep43BNYrcn5x3HcBFuacWwR0LqNdIiIiIiJNTtJhG68B++ccM2Ba1usFQMecMmuxekAtIiIiItIsJQ2el7n7zNyDOcM4ZhGHd2TpCswpp2EiIiIiIk1NNZfnnsLq45u3icdFRERERJq9agbPzwHdzGxHgLhfD3i26FUiIiIiIs1ENYPnpwjjoG80s28CNxIWTXmyivcQEREREambpGOeO8dltlfPVRe5+xNm9gRhRcHR8fBodx9d6BoRERERkebE3L14AbPpwLqFTgPvuPtWsWxv4DZgZ2AscJK7T65ec0VERERE6idJz/NjFM/V/GnmC3efAhxSaaNERERERJqikj3PIiIiIiISJB3zLFViZusCRyQo+oS7f5Z13fvApsDG7j7RzHoBBye9r7vfEesZA+wD7O3uz2XV/wtgP+C37v5CnnbvD/wc+Lu7D4vHLgAuAy5x98FJ2yIiIiLSXCl4rr0NgdsTlDsA+KzI+c0T1pNxR4nz2wOHArcUON83nn8/xT1XNWKEPuYQEWks/fsXnNQvItVTMng2s39WeA8HjnT3+RXW01J8CvyiyPlBwFcS1PMhcAYh6D2JMEHzz1nnLyWs+HgusKisloqIiIjIKpL0PO9b4T0caFdhHS2Gu08HflfofBweUTJ4jkM6hpjZkYTg+V13H5JVz9mE4HmYu89J0cRLzez0PMf7pKhDREREpEVKEjx3q8J95lWhDqmNTQlDS3K1r3VDRERERJqaksGzu8+tRUPkC5lVH1fW6f7Hu/tDuQfNbCDpxliLiIiItDhJxjy/BPSo4B6vuHv/Cq5vUcysA7BFkSI9G4pa16zjbRutUSIiIiKSSNJhG/mGbhjQhdBDWmwyYJcy2tWSbQG8mqDck43dkFows0GESZDcPGgQgw44oM4tEhERESlfkmEbX853PPaKziL0LO9W5Xa1ZLNYNStGti7Ad4ClwBs557alNuOO/2Bml+c5XtbY95gTehigVHUiIiLS7CUZttEZ+BIwOSfdXMFAyMyOAi4ALnT3kRW3sgVx94+BgfnOmdkZhOD5YXc/NudcZpGUxjID+F/8ulOe88vi+VmN2AYRERGRJi3JsI2jgNsIAd9dmYNxImGbAteMB3YgBIIKnhMwMwNOiy//Uuv7u/vZwNm1vq+IiIhIc5J0hUEDfmlmx6SoewWwV/omtVrnA1sCrwGP1KMBZnYb0BH4sbsvrEcbRERERJqyNMtzbx+3NLqnLN/qxB7n04HLCGOdf+ju9UpTdxSwDnBKwvL/BR4G3klUWkvHioiISDOXJng+A7g3YVkDHgD2SN2iViAGzN2BPYELgZ0IgfMAd0+SiSONrnHVwr3d/WfVrNjd/wr8tZp1ioiIiDRlSYNnB+a7+8ykFZvZAqCNma2tIQANzGwr4AVWTeH3FmGoxIsp6tkVuJKGvND7m1kmvV0boHf8+kPCHzNzgaoGzyIiIiKtTZoxzwPMbJsUdW8Z91rcY1XtgSXAc4ThDiOBR919ecp61gP2y3rdK24Zi4FJwGRCzuiHU9Q9O3SOJ7bE3ddKc4GIiIhIc5Rm2MZBcUtDeX1X95q79yxdrKSnKJx7eTmw0N3T/vu/B3Quoy1Ly7hGREREpNlJEzxfATyWovw1wFfTNaflKyOgzdiNMBxjdqxnGTCnjHq+DbQjDOPIbduuZbZNREREpFVIEjy/T1gRb5S7/ztpxWb2LKFHMu1wBMnD3auyOEnMzy0iIiIiZbByO0LNbF1gAjDB3b9V1VaJiIiIiDRBhVYITMIIGR2Uy1lEREREWoWSwzbM7KICpzrGfe8iZTKucffFqVomIiIiItLElBy2YWYrCVkz0q4Ol7nGgR7VGrMrIiIiIlIvSSYMXliF+yyqQh0iIiIiInVV9oRBEREREZHWppIJgyIiIiIirUqSCYMdWT2jxgpgpiYBioiIiEhrkmTM8zHAbflOmNnnwDhgDHCnu39QvaaJiIiIiDQtSYdtGDAL+DBuE4EZhHR1ewMXAO+a2T1m1qMR2ikiIiIiUndpxjxf7O6bx21T4MB4/Cngj8BC4DhgvJntUuV2ioiIiIjUXSUTBjNpOia5++lAH+Au4EvAo2a2SaWNExERERFpSqqWbcPdFwIDgd8BPYGbqlW3iIiIiEhTUNVUdR6SRv+KMC56PzPbt5r1i4iIiIjUU9XzPLv7cuAywiTDo6tdv4iIiIhIvSQNntMuQ/hE3H8z5XUiIiIiIk1WmlR1ibn7ZOBzwiRCEREREZEWIckiKWMIC6WMzzk+MR7/X4HrjgbWLrNdrYKZdQG+Dsx392cKlFmD8JyWxyExIiIiIlInFub4ST2Y2TbAG8Cb7r5NgTIXEMaQX+Lug7OOfwPYqNQ93P2OrGvuAE4ETnD34Qnb+BXgt8CL7n5NkmtEREREWqokPc9SJWb2KbBm1qHMv/9XzGxGTvF7Y/7sQn5KsgmZdyRvYV7HAt8BOgGVBc8jRugvNRFpOvr3TzUkUUQEFDzX2mCgbcKy75Y4fwfwXJHzN5ByrHoBmQD9qSrUJSIiItKsKXiuIXf/E4CZbQcMALYDehMmV04BngTud/dZeS4/3cwGADPcfS93f7TYvczsOpIH6oXq2BrYFlhBWD1SREREpFWrep5nKc7Mfg28BpwH7E4InLsAhxFWZZxgZjvkuXQ9YAtgsxq1sw3wx/hyHgnGV4uIiIi0dAqea8jM1gUuJ/Qyb+HuPdx9b3ffnjCm+CfAl4AL8lx+ibubu/euUXNPA/YGVgLdgOfM7CozW6tG9xcRERFpchQ815bHbSWwJOfcSmBx/HpFLRuVy8x2Aq6KL88g9IpPB84FxpnZrvVqm4iIiEg9acxzDbn7bDP7DXA1MNHMJhEmBnYGvkIYvvEpITVcUWb2C2C/IkXKGu9sZgcD9xBydN8F/NHdPabVuxk4CnjBzK4ELnP3pSXqGwQMArh50CAGHXBAOc0SERERaRIUPNeYu19rZo/RMGGwJ6EX+jHChMEH3H121iVzCQvRzMmpanvg0ErbY2YGrAvsRBg2ksmucRNwpsdE4O4+w8z6AycANxKGlhxhZie6+/hC9bv7MGAYoFR1IiIi0uwpeK4xM9sQWA4UWqSkl5n1yno9Om65eaAzfgk8WEGT1smpewpwgbvfmlswBtJ3mtkYQqq8bwD/NrN+7j6tgjaIiIiINAsKnmvvTmCfMq67hJAnOtd0d59YQXtWAmMJw0fGAMPdfXGxC9z9YzPbH/gZsKYCZxEREWktFDzX3nmEtHNJfRs4qZHagrvPA1JPAHT3lcD/Vb9FIiIiIk2Xgufa6wh0TVG+QyO1o/a0FK6IiIg0cwqea+8c4MBa3ChOBtwR2NrdtUKgiIiISIUUPNfPfsB/UpQvlBLuIjM7JedYO6AHYenvDsBLFFhe28y+B1yaoh35jHT3n1VYh4iIiEiTp+C5fr5DSA+X1OfA0DzHN49bvvJTgWcJeZsL6QJsmqId+fQqXURERESk+bOYxldqxMwep7xhGzPdvXtWPR2B9gXKLgMWec7DNbM7gBOBE9y9UKo8ERERESlAwXMrYmadgTWBBaXS0YmIiIjI6hQ8i4iIiIgk1KbeDRARERERaS4UPIuIiIiIJKTgWUREREQkIQXPIiIiIiIJKXgWEREREUlIwbOIiIiISEIKnkVEREREElLwLCIiIiKSkIJnEREREZGEFDyLiIiIiCSk4FlEREREJCEFzyIiIiIiCSl4FhERERFJSMGziIiIiEhCCp5FRERERBJS8CwiIiIikpCCZxERERGRhBQ8i4iIiIgktEa9G9CamdlawJ5xWwI8D7zo7svzlHUAd7esY3sBmyW41Vh3nxCvuQM4ETjB3YcXaNe2wN5AX+BF4Bl3n5un3ERgI2ADd/8kQTtEREREmjUFz3ViZpsAI4Etc069YGaHufusBNWcRAiESzkHmJCgTW2BYcCPck5NNbMj3f3FBPcqbMQIr+h6kWrp399KFxIREVmdguc6MLM2wMOEwPl5YCiwFnA28DXgTuCwFFXeA/ynyPl/JaznV4TAeRZwGfARcAJwNPCImW3i7vNTtEtERESkRVHwXB8HAdsA44ED3X0hgJk9BowDDjWzr7j72wnre8Ld76ikQWbWHjgTWAkc4u4vxeOPAg8ChwM/IAT6IiIiIq2SJgzWxxlx/3+ZwBnA3acAt8aXp9e4TUcDvYGnMoFzbNMK4JoSbRplZmPNbFAjt1FERESkrhQ818fuhB7eh/Kcuz+rTC1l7ve3POf+DUwDtjSzznnObwvsDPRppLaJiIiINAkatlFjZrY20A2Y5u7z8hT5MO771q5VAKwf9x/lnnD3lWb2P6AnoV25w0m2BD4FljZqC0VERETqTD3PtZcJUqfmOxmHcSwEesVxyLWSadf0Aucz7c0X1C909wXuvlrwbGaD4pCOscNGj65GO0VERETqRj3PtbdO3C8oUmY+sHYsWyiYrbZS7coc75qmUncfRkh/p1R1IiIi0uyp57n2psT9evlOxjR23YFlwMxaNYqGnuW87co6PjnPuTXMbI3YdhEREZEWS8FO7U0BHOhV4HxXwicCn7r7ylo1ijBmGaBHgfO9cspl+4gQ7F9U7UaJiIiINCUKnmvM3ZcRAuh1zGzjPEV2jPtaL3edud8OuSfiJMfMMuCf5bn2beA1GnrVRURERFokjXmuj4eBU4DvAlfknDs+q0wt/R34NTDAzC5z9+zxyYcBHYHH3X1Jnmu/5e6lg30tiSwiIiLNnHqe6+MPcX+2mW2bOWhmBwDfBz6nYbGUiliwo5n9oETRFwmrG34FOCvr+t40BPg3VqNNIiIiIs2Vep7rwN3fNrM/AycCz5vZE0B74FtAO+AKd5+dosrzzeyknGPtCOOXewMdCIHxnUXa5GZ2ITASuNbMjgAmxjb1Ap4HHk/RJhEREZEWR8Fz/fwEmAP8iLA0NsAs4DJWH8pRymY0jEnONg/4mBD43p/n/Crc/TEz6w9cD+wdtyXAfcBpNZ7AKCIiItLk2KpDW6XWzKwtsDUhW8U7XuCBmJkDuLtlHVuLwn8ALcs3PtnM7iD0eJ/g7sOLtKsvYeGU8QXGOWNmE4GNgA0SjXkWERERaeYUPDcTZtYdwN1nVFjPOsCawDx3X1xhXesSxs3PdvcVldQlIiIi0hwoeBYRERERSUjZNkREREREElLwLCIiIiKSkIJnEREREZGEFDyLiIiIiCSk4FlEREREJCEFzyIiIiIiCSl4FhERERFJSMGziIiIiEhCCp5FRERERBJS8CwiIiIikpCCZxERERGRhBQ8i4iIiIgkpOBZRERERCQhBc8iIiIiIgkpeBYRERERSUjBs4iIiIhIQgqeRUREREQSUvAsIiIiIpLQGvVuQFNgZmsBawGL3X1xvdsjIiIiIk1TkwmezewWYK9yrnX3LXPq6gv8C/iPux+Xdfwi4HjgLHd/NOuS04FrgQuBy7PK7xXrKceF7p5b12YFyo5w9wWx3P3A3sCu7j7JzO4ATgS+4e5jci+Mgf+ecVsCPA+86O7L85R1AHe3pG/CzL4LHAw85O5/S3pdXiNGeEXXS8vTv3/i/4siIiJNQZMJnoG+wBZVqqsX0A/4MOf4JsCXST5c5WPgkvj1LsChwMvAqJxy2wBHA28AmQDz2ZwyJxGC4HzGAAvi191i+9uWapyZbQKMBLbMOfWCmR3m7rNK1ZHAIGBf4J0q1CUiIiLSrDWl4DnjAHd/ssI6+sT9jALHpyapxN0/BgYDmNkphOD5P+4+OLucmQ0gBM+v557L8kfg8ZxjFwBbJ2lLLjNrAzxMCJyfB4YShp6cDXwNuBM4rJy6s+7RA/h6fPlUJXWJiIiItARNMXiuhj3j/vXMgRhs7gasBCaY2Q7Aq7VqkLu/BLyUfczMTqLM4Bk4iNDjPR440N0XxjofA8YBh5rZV9z97bIbDccSeunfAv5TQT0iIiIiLUJTDJ5vN7OFKcq/lj2uOTog7rMDx92AdYCFwLqE8cHvxnPrAd1zKzaz3YBD4stdMvWY2eCcotvE/XZZ5ya4+4jkbyO1M+L+/zKBM4C7TzGzWwnjt08HflpO5WbWC7g0vvyc0Gv/afnNFREREWn+mmLw3Ddl+TnZL8zsEGCn+PJiM/tHDC7PicfWJgyf2Dsz0dDMziZMGMy1G3BxzrFd45bPtnEDuA9ozOB5d0Iv+kN5zt1PCJ53r6D+oYQ/MlYAOwNvmtkZwHB318Q/ERERaZWaYp7nA9zdUmxfzVxoZtsSgj4HbgK2A24xs58BRwFTgJuBrYC/m1mHYg1x9yEp25K9DWisfyAzW5swsXCGu8/LUyQzUTLtHyKZ+gcRxnAvIYyf/jXQkTCO+iEz652mLjMba2Zjh40eXU5zRERERJqMptjzXBYz6wqMBdoDv3L3a81sDUKWiwGE4RoDCKnn1gQGAncAuUM+MvV9jRBAVmK8uw+P9Z3E6qn4vhjvbGbvApuSIMsGsH7c55346O4L49CXXmbW3t2XJmmsmbUl9NBfGQ+d5u4vAy/HsdTDgSOAvczsp8B9pXqh3X0YMAxQqjoRERFp9ppi8DzaLHXq1wMIE+feB64iBHkAPyeMVZ4I/CYzec7MTgaWA7cXqXN74Ky0DclxX1Zb9qJwqjqA2YTsIOsC7UrUu07cLyhSZj5hiMo6wPRCheJEyi8R0tH9nPDvtQw4xd1vy5Rz99fNbFfgMkJGj3uA/mZ2mrtPK9FeERERkRahKQXPn9AwgS+tRcBMd18lc0Xsgd0pt3c0LiByctah+wnB9wdZZW4iDP2otiPJyboBTM8MPzGzJ4H9StQxJe7Xy3cyBsTdCUHwzBJ1HQE8mPV6PHC6uz+fW9DdlwC/MrNHCEM4jgY2MrPdNA5aREREWoMmEzy7+0nVqCeOxx2Tcyzp5b8n5GPOXLcRcEyZTXne3V/Ic3ymu0/JczyNKYRx3b0KnO9KeLYT3X1liboWEhZ0eZcQRD+eYCjGv8xse+AG4C8KnEVERKS1aDLBcxWtQfkrFeb25G5O/iwcSVwI5AueK+buy8xsCvAlM9vY3T/KKbJj3H+SoK7RQOqZfHGiYro/eLQUs4iI1Nm4ceP6tW3bdlCbNm0Odvdu9W6P1IaZzV65cuVjK1asGLbzzjtPrKSuJhE8x0CwUC9qUl9x9+wlpP/n7v0S3n8wq6ekA3gG6JGyHT8lrkrYyB4GTgG+C1yRc+74rDIiIiJCCJzbtWv3t169enXt2rXr/Pbt288oY56VNDPuztKlS9vNmTNnwNSpUw8aN27cUZUE0E0ieCZM9JtT4Fw3oCcwD5hcpI5EGSVS2plG6j3OZmYbAxu6+zMpLvsDIXg+28wecfc3Yl0HAN8nLGxya9UbKyIi0ky1bdt2UK9evbr26tVrVr3bIrVjZqy55prL4nNfd/LkyYOA35RbX5MInt09N4XbF8zsFMI45AfdfWDNGrWqV4GLUl5TaPLjJWY2A+hMyKzxJWBDQi9x4uDZ3d82sz8TMng8b2ZPENL0fYuQreMKd59dqh4z+z1waNL7FnCRu99dYR0iIiKNqk2bNgd37dp1fr3bIfXTtWvX+VOnTj2Y5h48N5L1zeyd0sWAPEtz51gb2DLl/dcB3stz/JtZX88h5Gq+hZD6La2fxDp+RENO6lmEdHK5QzkK6UXIL12JLhVeLyIi0ujcvVv79u1n1LsdUj/t27df5u6l4r6iWnLwXMnEwVxfJv3EwZeAv2S9Po2QRxlCpowF7r4iz3VvA50Iq/sVFVPH/dzMziIsuLIMeCdN9ou4EmKjrYYoIiLSlGiMc+tWjeffHILnOYQhEMXGO3/B3T8BqvKd4e4vVrGuRYR81KXKnZFz6AzCoiRzi1yzAng9QTPSTn4UERERkSxNPnh293uBe+vdjnpx9/mE1QKrUZc+qhIRERGpQJMPnkVERESkuubOndvm+uuv7zF+/PiOH3300Vo9evRYts022yw666yzpm+00UbLcsvvtttuW7z88sudHn/88XcPPPDABQDXXXdd96FDh5aVanjkyJHvbbXVVl9kSnv11VfX2mmnnbYudk0hl1xyyaSLLrpoWjnXlkPBs4iIiAjAiBE717sJRfXvP64a1fzjH//odOKJJ24yderUdm3atKF3795L33333Q5PP/30OsOGDet94403fnTyySeXzNg1a9asNSZOnLhWOW1YsmRJm+zXG2ywwbLrr7/+f2nqGDVq1DpPPfVU13LuXwkFzyIiIiKtxPTp09v+4Ac/2GTatGntzjzzzMmXXXbZlC5duqxctmwZv//977uff/75G5522mkbb7XVVov33HPPz4vVdcUVV0y54oorpqS5/8Ybb7x1voB7+fLlzJgxI1Vc+vnnn7cpXar6FDyLiIiItBJDhgzpPm3atHaHHXbYrN///vefZY63a9eOs88+e8a0adPaXXvttX2GDBnSc88990zVE1yJyZMnt7vyyivXb9eunffo0WO1YSOF9OnTZ2mXLl3yZS9rNAqeRURERFqJ8ePHdwQ44ogj5uQ7f8wxx8y+9tpr+9x3333dH3744XUzx3OHWTSWbbfdduG4ceMKLTTXJCh4FhEREWklFi9e3AagQ4cOedeEyBw3Mzp27Lgyc3zZsmW2cuXKitP3brDBBksB1lxzzZX5zr/yyiudzCzV2PP99ttvzpNPPvlBpW1LSsGziIiISCux7bbbLnriiSe6jhkzptP3v//9ObnnR48e3RngwAMPnD1q1KgPM8cz2TYqvf+zzz6bb/Vl+vbtu+zqq6/+uJw6N9lkk5ILy1WTgmcRERGRVmLgwIGzhg4d2vuOO+7o+fWvf33BD37wgzmZc08//XTHSy+9dH2AE088cWaxeg477LBNRo4c2a2Stlx99dUf/+pXv5r+3//+t/24ceM6ZHql01q2bJk999xzHffaa6+Si9FVg4JnERERkVZim222WXL11Vd//Mtf/nKjE088cdNLL7108cYbb7x48uTJ7d96662O7s5pp5025bjjjiu4sjHAHnvsMb9t27Z5h34ktcUWWywGeOihh9Y599xzN6ykrkMPPXT2o48++mHpkpVT8CwiIiLSipx55pkz99prr4UXXnhhnzfffLPj008/3XXdddddtscee8w7++yzpxx55JElVzb+zW9+M33SpEmzJ02a1K5v377LNtxww+VJ7j1hwoQ1582b12abbbZZ0qVLl5UAp5566swBAwZ8kVd69uzZbXfYYYdt+vTps/SFF154O/v6U089dcNRo0Z1GzJkyEeHH374vMzxjh07VhTIp6HgWURERKSV2WmnnRaPHDnyQ4AVK1bQtm3b1HX88Y9/7H7llVeuf84553x2zTXXTE5yzaBBgzZ64YUXOj/55JPv7LfffgsBOnfuvHLq1Klt//rXv3YFWLRoUZvMfvjw4asMDZk0aVJ7gOeff77T3Llz2wLsueeeC/fZZ5+aDNkABc8iIiIircqkSZPWOPjggzdfb731lj3zzDPvlxM4Z3v88cfXmTJlSrskZT/44IO8KxK+/fbba11++eV9M687dOiwcsmSJW2yj2Wfe+ihh9a7//77bfny5XbOOed8puBZRERERBrF0qVL7c033+zYs2fPxIuR7LrrrgvWXnvtFeutt95qwzPeeOONtd944421K2nT4YcfPn/RokWvprnm0ksv7XnxxRdvUMl9y6HgWURERESKGjp06KeFzqUZtrHHHnt8+YUXXuice/ypp55ae//999+ykjbWioJnEREREWkSdt111wU333xzqmXBe/funWiyYrUoeBYREREB6N9/XL2bUEvTpk1rl3Y1v+9+97vT77777lUWMxk1alTXTz75JNGY5/fffz/vmOeMOXPmtH366adTLcbSs2fP5fkWfGksCp5FREREWpF27dp5v379Fpdzba9evVbr5X3zzTc7vvnmmx0rbxm89957Hc4666yN0lyz3XbbLaxl8GzuNUuL1yyZ2Y7AjxMW/5W7LzKzC4DLgEvcfXBOfTsDpwPbAx8C97j7A1nn/wbsAezq7pPMrB/wEfCMu++bVe584EsJ2jTG3UfEa5YDbd098dr0ZtYW+GtswxXuPivptSIiIk3Ja6+9NnH77befUe92SH299tpr3bfffvt+5V6vnufSNgV+mrDsBUDBVClmtj/wCLAWIRj9NnC0mf3a3a+OxdYFegGl8sZ8F9g6QZuWAyMSlCtkL+Aowvs6r4J6YMQI/aXWFPXvn/iPKRERkdZOwXNydwM/KVFmYaETZmbAtYTA+RB3f8zMNgZeAC42s9vcfXoZ7doGKDawPnEamgKOjvtn3b3SukRERESaNQXPyS1z9wUpr9nQzPYiBLDzgB0IwygeA3D3j8zsFuB84Ajg1jLatTBtu2KbAD5w94KpZcxsTRqC59vKaJuIiIhIi6LgObnjzOygIuf/5e7H5Bz7Ydymxj1AbgLw8XHfL+f4M2a2DCg1e/VlM1tR5Py33f2l3LbG/anATUWuvRDoE7/uZmbmGiQvIiIirZiC5+SmA68UOf92nmNvAhOAuUCXeCx3aEem13idnOO9AQdKjUd9lSLjrIH5eY7dF/cfFLooTpT8dXy5ArgZOMLMBrn7ZyXaJCIiItIiKXhO7p/uPjDlNSMy2TbMbM94LDdDRub1xznHt3D3iVnZNgoZ5O4T0zTK3QcUO29m6wF3EiYt3g9cBNwFHApMMLMzgLvVCy0iIiKtjYLn5HqY2VezXhth8l9XoBuwObAPIdDM5x1gKXCwmbV396Xx+OFx/1qZ7drRzHpnvW5L6OXuCvQEvgqs5e7fSVKZmW1ByM6xDaE3/cfuPt/M9iCMzb4AGA70N7NT3H1qifoGAYMAbh40iEEHHJDmvYmIiIg0KQqekzskbsW8DczMd8LdZ5rZ7YSMHX8zs1uBvYHvAG8AT5bZrr+VOD+f0ItckJmtDWwJHE8YB70W8G/gKHefH9u/DBhsZiMJwfORwN5mdpq7/7VQ3e4+DBgGKFWdiIjUnbsTEmBJa1SND80VPJf2KiGgzGcBMAeYDbzn7tMAzOzQAuXPBTYiDH/IlHkPOLaMIRCXEXq8cy2PbZoDTAPecvdSa74/T1i0BWAxcAPwG3dfklvQ3V+O46GvIeS/vs/MFrr7yJTtFxERqSkzm7106dJ2a665plKvtlJLly5tZ2azK6lDwXMJ7v4BRSbWFbjmcuDyPMfnmtlhwLbAdoSxzGPd/fMy2nVf6VKrXVPoef+X8B5fAf6U+SOgSD2LgNPN7GHgB8BjadsiIiJSaytXrnxszpw5A3r16qXVclupOXPmdF65cuW9ldSh4DkBMxtDGM+c1mrLcwM/BzoAf3D3eRW0aV/g6XKuzV2e292PLbOe0cDocq4VERGptRUrVgybOnXqQcC6Xbt2nd++fftlGsLR8rk7S5cubTdnzpzOU6dOnbNixYphldSn4DmdUYSUdaVsT1gQJZ/zgPWAOwgLp+R6BpjBqunnVsQtn89IHsCemLCciIhIi7PzzjtPHDdu3FGTJ08eNHXq1IPdvXu92yS1YWazV65cee+KFSuG7bzzzhMrqkvZxkrL6nn+mru/mKD8BYQxyav1PJvZDELwvIG7f1JBm/Yl9Dz/w92LLd6Sfc1yoG1uz7OIiIiIJKOe51bOzDYF/lFhNTPc/auli4mIiIg0bwqe07nQzJIO2yhlUhnjrLZ19wm5x8zsjoTXt81zrB2wadqG5OhU4fUiIiIizYKC53RK5XlO4n3CmOZyLM1zrA8VjGV293covQS4iIiIiKAxzyIiIiIiibWpdwNERERERJoLBc8iIiIiIgkpeBYRERERSUjBs4iIiIhIQgqepWbMbFC92yCNR8+3ZdPzbdn0fFs2Pd/qUvAstaRv3pZNz7dl0/Nt2fR8WzY93ypS8CwiIiIikpCCZxERERGRhBQ8Sy0Nq3cDpFHp+bZser4tm55vy6bnW0VaYVBEREREJCH1PIuIiIiIJKTgWUREREQkIQXPkpqZtTezX5jZK2a20Mxmm9lTZnaUmVnKujqZ2WAze9PMFpvZDDN7xMz2bZzWSxqVPmsz28HMPM+2b+O3Xgqp1vewmbUxs5PN7HEz+8zMZpnZ82Z2sZmt3ZjvQQqr8vM9IT7fSWY2z8xeNrMhZrZ+Y74HKayav4Pz1P3drJ/Tg6vU5BZHY54lFTPrAjwG7BEPTQc6AplflH8ETnf3lQnq6gM8DXw5HvoM6A60j6/Pc/erqtR0Sakaz9rMtgDuyzq0FdAO+Ia7j6l2m6W0an0Pm1knYCTw9XhoFrAA2AAwwvfznu4+sZrtl+Kq+Hw7AI/T8HznAjOBjYC2wOfA99z9oWq2X4qr5u/gPHX3Bd4AusZDl7j74Era21Kp51nSGkr4pv0M+BrQC+gGHA8sBU4FTipViZm1Ae4lBM5vEYKqvoRv2l/GYlea2beq23xJoeJn7e7vuvsOmS3WJfVVle9h4CpCYPUhsCfQ3d03AtYHHgT6APdU2hMmqVXr+V5LeL7/A/YFurn7psA6wGCgA3CXmW1c3eZLCdV6vquIv5NvJ/wO/qhKbW253F2btkQbsC3gwDJg8zznj4/npwLtStR1WCw7k/BLN/f8+fH8K/V+361xq+azzrluYrxu33q/x9a4Veu5AuvFcg7skud8R2ByPL9pvd93a9mq+HzbA0ti2T0KlLknnj+z3u+7tWyN9XM5XntmvHYk8Nv49eB6v+emuqnnWdL4Xtw/4O7v5Tl/H/Ax0BPYv0Rdx8f9n9x9Rp7zQ4FFwI5m9pVyGisVqeazlqajWs91+7h/393H5p5090XA2Jyy0viq9Xz7Ai8Do4EXCpQZF/ebl9FOKU+j/FyOv2OvJgy9OokQOEsRCp4ljS3j/p58J919OXB/fFkq4C1V1xzCuK4kdUn1VfNZS9NRref6H2BjGsbDriIO1dgwvpyZvplSpqo8X3f/0N33cvdveeyWzBY/4j8ovny1gvZKOlX/uWxm7YC7gLWAU919cqWNbA3WqHcDpFnJjG0rNh5qYk7ZWtQl1afn0zJV5bm6+wLC5MBCDge2AyZRuOdSqq9Rv2/jJNGtgHOB/QiB8/C09UjZGuP5XgjsDNzt7n8ts12tjnqeJY1+cf9JkTKT4r7gN66ZdSVMOpnv7vMqqUsaTb+4r+hZS5PTL+4b7bma2XaEgMqBM9x9aTn1SFn6xX1Vn6+Z3WRmDswHXgK+AwwhzF3Q862dfnFfledrZl8lzC/6FDi9opa1MgqeRUSkKmKqq1FAZ+Acd3+4zk2S6vgEeA14H1hMSEV4PHCCsqk0TzEP+12EOPBH7j67zk1qVhQ8SxoT475vkTIbxH3Bj5XieOa5QOeYs7LsuqTRTIz7ip61NDkT477qzzXmbR9NSFX3J+CGtI2Tik2M+6o+X3e/3EO6yc2BTsBRhIwPQ4CB6ZspZZoY99V4vtcBmwFD3f2JCtvV6ih4ljQmxn2/ImUy50p941azLqm+iXHfr0iZzDk9n+ZjYtz3K1Imcy7xczWzDYFnCBOaHgB+mm+imTS6iXHfr0iZzLmyvm/dfYW7PwicGA+dXU49UpaJcd+vSJnMuYLP18wOBk4B3iOMX5eUFDxLGm/H/XfznTSztsAx8eU7FdbVlYbZ3KXqkuqr5rOWpqPqz9XMNgGeJfRiDQcGuPuyCtsp5anK8zWzzmb2kJkVW+QmMxF0Yw3dqJlqff8eF/ebAwuyluP2OLb9/Hj+4qzj/Spse4ui4FnSyKTH6W9mm+U5fxwhPdV04MmEdZ1sZuvlOX8aYbnR12j4gSG1U81nLU1HVZ+rmX2ZEDhvBNwCDIzpsqQ+qvV8FwC7AwOAXQqU2TvuX9OnDDVTref7HvB8kS0zIXFS1rEllTa+Ran3Ki3amtcG/IUwi/4TYDfCxJF2hB+ymRWpTsm55peEsZC7ZR1rAzwXy08Atoh1rQX8DFgZzx1U7/fcWrdqPeuc8xPRCoMt4rkCWwNTYvk/AG3q/d60VfX5ZlaZ+wj4JmDxeBtCto1p8fyger/n1rQ1xs/lPPe4HK0wWPzfqN4N0Na8NkKKuRdoWJp3GiF9Ueb1zdm/RAnL9C6P5+7OqWt9wl/AmWs/Jczkzrw+v97vtzVv1XzWWWUUPLeA50roaZ4Rj60kfEI0vsA2qt7vuTVt1fq+jQHZqKzr5gHvElZ+zRwbQgyqtTWv51viHgqeS2watiGpuPtcYF/gHMIvzM6EX57PAMcS/uJdmVV+EXAbITC+J6euT4GdgMsIP5S7E34wPwbs7+6/beS3I0VU81lL01Gl57oxkBluZYQFUbYvsG3VqG9IVlGt71sP49YPBfoDjxP+WNqQ8AfwCGAPdz/dY7QltaGfy02D6f+9iIiIiEgy6nkWEREREUlIwbOIiIiISEIKnkVEREREElLwLCIiIiKSkIJnEREREZGEFDyLiIiIiCSk4FlEREREJKE16t0AERFpXsysE3AKsCOwOWGZ7teBoe4+OU/5McA+wN7u/lw8NoiwbHA5DnH3D7Pq3wP4FjDG3cfkuf9AoB8wzN0/i8cuICzQdIm7D85zTTfCkse7ExZzWg/oAnQgrOg2j/C+XwKeA/7m7svLfD8i0owoeBYRkcTMbC/CSmV9CSubTSKsJHg4cJaZDXT3+xJUtS6wRZnNaJ/zeg/g4vj1mDzlBxKC90eBz0pVbmbHAUMJAfOnhFX13iMEy/MIq6H2BnoBJwJnABPM7Hh3fz3VOxGRZkfBs4iIJBJ7Y+8F1gcuB65y94VmtgbwI+APwF1m9l93f7VYXe5+FXBVyvu/Q/kBd9J7dATuJAToxwIPZC93nKd8B8L7OBO4kRCki0gLpjHPIiKS1I8IgfM97n6huy8EcPfl7j6MEFC3A06tYxsrZYTfjQ7MLBY4R0uBufFrdUiJtAL6RhcRkaR2jPuHC5x/iDCO+CQz+17W8Q6N2ahqij3pPwF+BzxlZq8DHwJTyT9sYzvCEJYPgV/Uo80iUlsKnkVEJKlMELy4wPnMcQcWZB1vT3U+6fwo7pdWoa6C3P02MxtFGM/8VcKEwXWBTrHIShomDP4T+Bcw3N0L/buISAui4FlERJJ6DTiKMK43X+9zZrzvA+5+bOZgVraNirj7wSWKHGlm/fIc37KMe00Brs4+ZmZtgDWBxe7uaesUkZZBwbOIiCR1N3AucIaZ/cvdH8ycMLPdaJgAeEexSszsXuC4CttyqrvflHNs+7iVxcy2BN5OWLbQqanu3rvcNohI06fgWUREEnH3983sp8CfgL+Z2VvAfwljfncmTLa7yt1HlajqOaDSnMjv5Tn2J2BYnuM3E4ZelDIT+G3OsZOBnoTUdXOyju8IHELI8/xk1vHs4Soi0gIpeBYRkcTc/Q4zewkYTAggDwemAaOBa939ySKXZ+oYYmb3A18CpsQhEiWZ2WaEccfvZTJ95PjM3cfmuW5+kvrdfTpwQc61hxGC5+vcfWLW8ZMIwfNz7r7KNSLSsilVnYiIpOLub7v7ce7+ZaC9u/dx9wOTBM5Zfgi8CpyU4pqb4jXbprgmFTNbw8w8s9EwDOSjnON/isfPyjqe5v2LSDOlnmcREUnMzHoBI4Fp7n5IgjzIpRxuZknHCKee+FeGlcCFKa9Zn7BcuYi0AgqeRUQkjXaE8c2fprjmBcJY4Nl5zu0WtybB3Vea2SOE8dtJbY2CZ5FWQ8GziIg0Knc/r8jpC9398iT1xGER+1WnVUW9REhJJyKyGgXPIiLSUvzIzPbPc7ycMdLLgK+nvGZeGfcRkWZGwbOIiJRj/ThxLo2b3T13eMO3zaxvwuu/UuL8BnGrhjbAvmkvMrP/unulafhEpAlT8CwiImksB94t89qpeY7tErdKDAFuSVAuTQ7mtsCVZbTld1Sew1pEmjDTCqMiItLamFlHoCOwyN0X1bs9ItJ8KHgWEREREUlIi6SIiIiIiCSk4FlEREREJCEFzyIiIiIiCSl4FhERERFJSMGziIiIiEhCCp5FRERERBJS8CwiIiIikpCCZxERERGRhBQ8i4iIiIgk9P8BUmcxA03u0mYAAAAASUVORK5CYII=\n",
          "text/plain": "<Figure size 720x432 with 1 Axes>"
         },
         "metadata": {
          "needs_background": "light"
         },
         "output_type": "display_data"
        },
        {
         "data": {
          "text/plain": "None"
         },
         "metadata": {},
         "output_type": "display_data"
        }
       ]
      }
     },
     "9f0ee1e7cb5841f3abeb97515fd95a05": {
      "model_module": "@jupyter-widgets/controls",
      "model_module_version": "1.5.0",
      "model_name": "FloatProgressModel",
      "state": {
       "bar_style": "success",
       "description": "100%",
       "layout": "IPY_MODEL_dd4c07a7d9a34682b0f20f4668942532",
       "max": 5891,
       "style": "IPY_MODEL_8d3e6b5b959344e88f84f394f6b6cf68",
       "value": 5891
      }
     },
     "a041ee62c5474fa9bec7a9c72e08e2b1": {
      "model_module": "@jupyter-widgets/output",
      "model_module_version": "1.0.0",
      "model_name": "OutputModel",
      "state": {
       "layout": "IPY_MODEL_c13c17c670264180939c32c281337946",
       "outputs": [
        {
         "name": "stderr",
         "output_type": "stream",
         "text": "/Library/Frameworks/Python.framework/Versions/3.9/lib/python3.9/site-packages/matplotlib/backends/backend_agg.py:240: RuntimeWarning: Glyph 50500 missing from current font.\n  font.set_text(s, 0.0, flags=flags)\n/Library/Frameworks/Python.framework/Versions/3.9/lib/python3.9/site-packages/matplotlib/backends/backend_agg.py:240: RuntimeWarning: Glyph 47700 missing from current font.\n  font.set_text(s, 0.0, flags=flags)\n/Library/Frameworks/Python.framework/Versions/3.9/lib/python3.9/site-packages/matplotlib/backends/backend_agg.py:240: RuntimeWarning: Glyph 47532 missing from current font.\n  font.set_text(s, 0.0, flags=flags)\n/Library/Frameworks/Python.framework/Versions/3.9/lib/python3.9/site-packages/matplotlib/backends/backend_agg.py:240: RuntimeWarning: Glyph 52852 missing from current font.\n  font.set_text(s, 0.0, flags=flags)\n/Library/Frameworks/Python.framework/Versions/3.9/lib/python3.9/site-packages/matplotlib/backends/backend_agg.py:240: RuntimeWarning: Glyph 45432 missing from current font.\n  font.set_text(s, 0.0, flags=flags)\n/Library/Frameworks/Python.framework/Versions/3.9/lib/python3.9/site-packages/matplotlib/backends/backend_agg.py:240: RuntimeWarning: Glyph 54168 missing from current font.\n  font.set_text(s, 0.0, flags=flags)\n/Library/Frameworks/Python.framework/Versions/3.9/lib/python3.9/site-packages/matplotlib/backends/backend_agg.py:240: RuntimeWarning: Glyph 48324 missing from current font.\n  font.set_text(s, 0.0, flags=flags)\n/Library/Frameworks/Python.framework/Versions/3.9/lib/python3.9/site-packages/matplotlib/backends/backend_agg.py:240: RuntimeWarning: Glyph 50616 missing from current font.\n  font.set_text(s, 0.0, flags=flags)\n/Library/Frameworks/Python.framework/Versions/3.9/lib/python3.9/site-packages/matplotlib/backends/backend_agg.py:240: RuntimeWarning: Glyph 44553 missing from current font.\n  font.set_text(s, 0.0, flags=flags)\n/Library/Frameworks/Python.framework/Versions/3.9/lib/python3.9/site-packages/matplotlib/backends/backend_agg.py:240: RuntimeWarning: Glyph 48708 missing from current font.\n  font.set_text(s, 0.0, flags=flags)\n/Library/Frameworks/Python.framework/Versions/3.9/lib/python3.9/site-packages/matplotlib/backends/backend_agg.py:240: RuntimeWarning: Glyph 50984 missing from current font.\n  font.set_text(s, 0.0, flags=flags)\n/Library/Frameworks/Python.framework/Versions/3.9/lib/python3.9/site-packages/matplotlib/backends/backend_agg.py:240: RuntimeWarning: Glyph 51012 missing from current font.\n  font.set_text(s, 0.0, flags=flags)\n/Library/Frameworks/Python.framework/Versions/3.9/lib/python3.9/site-packages/matplotlib/backends/backend_agg.py:240: RuntimeWarning: Glyph 50508 missing from current font.\n  font.set_text(s, 0.0, flags=flags)\n/Library/Frameworks/Python.framework/Versions/3.9/lib/python3.9/site-packages/matplotlib/backends/backend_agg.py:240: RuntimeWarning: Glyph 48372 missing from current font.\n  font.set_text(s, 0.0, flags=flags)\n/Library/Frameworks/Python.framework/Versions/3.9/lib/python3.9/site-packages/matplotlib/backends/backend_agg.py:240: RuntimeWarning: Glyph 51088 missing from current font.\n  font.set_text(s, 0.0, flags=flags)\n/Library/Frameworks/Python.framework/Versions/3.9/lib/python3.9/site-packages/matplotlib/backends/backend_agg.py:240: RuntimeWarning: Glyph 49828 missing from current font.\n  font.set_text(s, 0.0, flags=flags)\n/Library/Frameworks/Python.framework/Versions/3.9/lib/python3.9/site-packages/matplotlib/backends/backend_agg.py:240: RuntimeWarning: Glyph 53440 missing from current font.\n  font.set_text(s, 0.0, flags=flags)\n/Library/Frameworks/Python.framework/Versions/3.9/lib/python3.9/site-packages/matplotlib/backends/backend_agg.py:240: RuntimeWarning: Glyph 48261 missing from current font.\n  font.set_text(s, 0.0, flags=flags)\n/Library/Frameworks/Python.framework/Versions/3.9/lib/python3.9/site-packages/matplotlib/backends/backend_agg.py:240: RuntimeWarning: Glyph 50532 missing from current font.\n  font.set_text(s, 0.0, flags=flags)\n/Library/Frameworks/Python.framework/Versions/3.9/lib/python3.9/site-packages/matplotlib/backends/backend_agg.py:240: RuntimeWarning: Glyph 51228 missing from current font.\n  font.set_text(s, 0.0, flags=flags)\n/Library/Frameworks/Python.framework/Versions/3.9/lib/python3.9/site-packages/matplotlib/backends/backend_agg.py:240: RuntimeWarning: Glyph 45320 missing from current font.\n  font.set_text(s, 0.0, flags=flags)\n/Library/Frameworks/Python.framework/Versions/3.9/lib/python3.9/site-packages/matplotlib/backends/backend_agg.py:240: RuntimeWarning: Glyph 54028 missing from current font.\n  font.set_text(s, 0.0, flags=flags)\n/Library/Frameworks/Python.framework/Versions/3.9/lib/python3.9/site-packages/matplotlib/backends/backend_agg.py:240: RuntimeWarning: Glyph 53216 missing from current font.\n  font.set_text(s, 0.0, flags=flags)\n/Library/Frameworks/Python.framework/Versions/3.9/lib/python3.9/site-packages/matplotlib/backends/backend_agg.py:240: RuntimeWarning: Glyph 52236 missing from current font.\n  font.set_text(s, 0.0, flags=flags)\n/Library/Frameworks/Python.framework/Versions/3.9/lib/python3.9/site-packages/matplotlib/backends/backend_agg.py:240: RuntimeWarning: Glyph 48765 missing from current font.\n  font.set_text(s, 0.0, flags=flags)\n/Library/Frameworks/Python.framework/Versions/3.9/lib/python3.9/site-packages/matplotlib/backends/backend_agg.py:240: RuntimeWarning: Glyph 45796 missing from current font.\n  font.set_text(s, 0.0, flags=flags)\n/Library/Frameworks/Python.framework/Versions/3.9/lib/python3.9/site-packages/matplotlib/backends/backend_agg.py:240: RuntimeWarning: Glyph 48169 missing from current font.\n  font.set_text(s, 0.0, flags=flags)\n/Library/Frameworks/Python.framework/Versions/3.9/lib/python3.9/site-packages/matplotlib/backends/backend_agg.py:240: RuntimeWarning: Glyph 52964 missing from current font.\n  font.set_text(s, 0.0, flags=flags)\n/Library/Frameworks/Python.framework/Versions/3.9/lib/python3.9/site-packages/matplotlib/backends/backend_agg.py:240: RuntimeWarning: Glyph 54588 missing from current font.\n  font.set_text(s, 0.0, flags=flags)\n/Library/Frameworks/Python.framework/Versions/3.9/lib/python3.9/site-packages/matplotlib/backends/backend_agg.py:240: RuntimeWarning: Glyph 48712 missing from current font.\n  font.set_text(s, 0.0, flags=flags)\n/Library/Frameworks/Python.framework/Versions/3.9/lib/python3.9/site-packages/matplotlib/backends/backend_agg.py:240: RuntimeWarning: Glyph 54624 missing from current font.\n  font.set_text(s, 0.0, flags=flags)\n/Library/Frameworks/Python.framework/Versions/3.9/lib/python3.9/site-packages/matplotlib/backends/backend_agg.py:240: RuntimeWarning: Glyph 51060 missing from current font.\n  font.set_text(s, 0.0, flags=flags)\n/Library/Frameworks/Python.framework/Versions/3.9/lib/python3.9/site-packages/matplotlib/backends/backend_agg.py:240: RuntimeWarning: Glyph 46356 missing from current font.\n  font.set_text(s, 0.0, flags=flags)\n/Library/Frameworks/Python.framework/Versions/3.9/lib/python3.9/site-packages/matplotlib/backends/backend_agg.py:240: RuntimeWarning: Glyph 50556 missing from current font.\n  font.set_text(s, 0.0, flags=flags)\n/Library/Frameworks/Python.framework/Versions/3.9/lib/python3.9/site-packages/matplotlib/backends/backend_agg.py:240: RuntimeWarning: Glyph 53804 missing from current font.\n  font.set_text(s, 0.0, flags=flags)\n/Library/Frameworks/Python.framework/Versions/3.9/lib/python3.9/site-packages/matplotlib/backends/backend_agg.py:240: RuntimeWarning: Glyph 50040 missing from current font.\n  font.set_text(s, 0.0, flags=flags)\n/Library/Frameworks/Python.framework/Versions/3.9/lib/python3.9/site-packages/matplotlib/backends/backend_agg.py:240: RuntimeWarning: Glyph 54540 missing from current font.\n  font.set_text(s, 0.0, flags=flags)\n/Library/Frameworks/Python.framework/Versions/3.9/lib/python3.9/site-packages/matplotlib/backends/backend_agg.py:240: RuntimeWarning: Glyph 47112 missing from current font.\n  font.set_text(s, 0.0, flags=flags)\n/Library/Frameworks/Python.framework/Versions/3.9/lib/python3.9/site-packages/matplotlib/backends/backend_agg.py:240: RuntimeWarning: Glyph 53456 missing from current font.\n  font.set_text(s, 0.0, flags=flags)\n/Library/Frameworks/Python.framework/Versions/3.9/lib/python3.9/site-packages/matplotlib/backends/backend_agg.py:240: RuntimeWarning: Glyph 47749 missing from current font.\n  font.set_text(s, 0.0, flags=flags)\n/Library/Frameworks/Python.framework/Versions/3.9/lib/python3.9/site-packages/matplotlib/backends/backend_agg.py:240: RuntimeWarning: Glyph 47456 missing from current font.\n  font.set_text(s, 0.0, flags=flags)\n/Library/Frameworks/Python.framework/Versions/3.9/lib/python3.9/site-packages/matplotlib/backends/backend_agg.py:203: RuntimeWarning: Glyph 50616 missing from current font.\n  font.set_text(s, 0, flags=flags)\n/Library/Frameworks/Python.framework/Versions/3.9/lib/python3.9/site-packages/matplotlib/backends/backend_agg.py:203: RuntimeWarning: Glyph 44553 missing from current font.\n  font.set_text(s, 0, flags=flags)\n/Library/Frameworks/Python.framework/Versions/3.9/lib/python3.9/site-packages/matplotlib/backends/backend_agg.py:203: RuntimeWarning: Glyph 48708 missing from current font.\n  font.set_text(s, 0, flags=flags)\n/Library/Frameworks/Python.framework/Versions/3.9/lib/python3.9/site-packages/matplotlib/backends/backend_agg.py:203: RuntimeWarning: Glyph 50984 missing from current font.\n  font.set_text(s, 0, flags=flags)\n/Library/Frameworks/Python.framework/Versions/3.9/lib/python3.9/site-packages/matplotlib/backends/backend_agg.py:203: RuntimeWarning: Glyph 49828 missing from current font.\n  font.set_text(s, 0, flags=flags)\n/Library/Frameworks/Python.framework/Versions/3.9/lib/python3.9/site-packages/matplotlib/backends/backend_agg.py:203: RuntimeWarning: Glyph 53440 missing from current font.\n  font.set_text(s, 0, flags=flags)\n/Library/Frameworks/Python.framework/Versions/3.9/lib/python3.9/site-packages/matplotlib/backends/backend_agg.py:203: RuntimeWarning: Glyph 48261 missing from current font.\n  font.set_text(s, 0, flags=flags)\n/Library/Frameworks/Python.framework/Versions/3.9/lib/python3.9/site-packages/matplotlib/backends/backend_agg.py:203: RuntimeWarning: Glyph 50532 missing from current font.\n  font.set_text(s, 0, flags=flags)\n/Library/Frameworks/Python.framework/Versions/3.9/lib/python3.9/site-packages/matplotlib/backends/backend_agg.py:203: RuntimeWarning: Glyph 51228 missing from current font.\n  font.set_text(s, 0, flags=flags)\n/Library/Frameworks/Python.framework/Versions/3.9/lib/python3.9/site-packages/matplotlib/backends/backend_agg.py:203: RuntimeWarning: Glyph 47532 missing from current font.\n  font.set_text(s, 0, flags=flags)\n/Library/Frameworks/Python.framework/Versions/3.9/lib/python3.9/site-packages/matplotlib/backends/backend_agg.py:203: RuntimeWarning: Glyph 45320 missing from current font.\n  font.set_text(s, 0, flags=flags)\n/Library/Frameworks/Python.framework/Versions/3.9/lib/python3.9/site-packages/matplotlib/backends/backend_agg.py:203: RuntimeWarning: Glyph 54028 missing from current font.\n  font.set_text(s, 0, flags=flags)\n/Library/Frameworks/Python.framework/Versions/3.9/lib/python3.9/site-packages/matplotlib/backends/backend_agg.py:203: RuntimeWarning: Glyph 53216 missing from current font.\n  font.set_text(s, 0, flags=flags)\n/Library/Frameworks/Python.framework/Versions/3.9/lib/python3.9/site-packages/matplotlib/backends/backend_agg.py:203: RuntimeWarning: Glyph 52236 missing from current font.\n  font.set_text(s, 0, flags=flags)\n/Library/Frameworks/Python.framework/Versions/3.9/lib/python3.9/site-packages/matplotlib/backends/backend_agg.py:203: RuntimeWarning: Glyph 48765 missing from current font.\n  font.set_text(s, 0, flags=flags)\n/Library/Frameworks/Python.framework/Versions/3.9/lib/python3.9/site-packages/matplotlib/backends/backend_agg.py:203: RuntimeWarning: Glyph 45796 missing from current font.\n  font.set_text(s, 0, flags=flags)\n/Library/Frameworks/Python.framework/Versions/3.9/lib/python3.9/site-packages/matplotlib/backends/backend_agg.py:203: RuntimeWarning: Glyph 48169 missing from current font.\n  font.set_text(s, 0, flags=flags)\n/Library/Frameworks/Python.framework/Versions/3.9/lib/python3.9/site-packages/matplotlib/backends/backend_agg.py:203: RuntimeWarning: Glyph 52964 missing from current font.\n  font.set_text(s, 0, flags=flags)\n/Library/Frameworks/Python.framework/Versions/3.9/lib/python3.9/site-packages/matplotlib/backends/backend_agg.py:203: RuntimeWarning: Glyph 54588 missing from current font.\n  font.set_text(s, 0, flags=flags)\n/Library/Frameworks/Python.framework/Versions/3.9/lib/python3.9/site-packages/matplotlib/backends/backend_agg.py:203: RuntimeWarning: Glyph 48712 missing from current font.\n  font.set_text(s, 0, flags=flags)\n/Library/Frameworks/Python.framework/Versions/3.9/lib/python3.9/site-packages/matplotlib/backends/backend_agg.py:203: RuntimeWarning: Glyph 54624 missing from current font.\n  font.set_text(s, 0, flags=flags)\n/Library/Frameworks/Python.framework/Versions/3.9/lib/python3.9/site-packages/matplotlib/backends/backend_agg.py:203: RuntimeWarning: Glyph 51060 missing from current font.\n  font.set_text(s, 0, flags=flags)\n/Library/Frameworks/Python.framework/Versions/3.9/lib/python3.9/site-packages/matplotlib/backends/backend_agg.py:203: RuntimeWarning: Glyph 46356 missing from current font.\n  font.set_text(s, 0, flags=flags)\n/Library/Frameworks/Python.framework/Versions/3.9/lib/python3.9/site-packages/matplotlib/backends/backend_agg.py:203: RuntimeWarning: Glyph 50556 missing from current font.\n  font.set_text(s, 0, flags=flags)\n/Library/Frameworks/Python.framework/Versions/3.9/lib/python3.9/site-packages/matplotlib/backends/backend_agg.py:203: RuntimeWarning: Glyph 53804 missing from current font.\n  font.set_text(s, 0, flags=flags)\n/Library/Frameworks/Python.framework/Versions/3.9/lib/python3.9/site-packages/matplotlib/backends/backend_agg.py:203: RuntimeWarning: Glyph 50040 missing from current font.\n  font.set_text(s, 0, flags=flags)\n/Library/Frameworks/Python.framework/Versions/3.9/lib/python3.9/site-packages/matplotlib/backends/backend_agg.py:203: RuntimeWarning: Glyph 54540 missing from current font.\n  font.set_text(s, 0, flags=flags)\n/Library/Frameworks/Python.framework/Versions/3.9/lib/python3.9/site-packages/matplotlib/backends/backend_agg.py:203: RuntimeWarning: Glyph 47112 missing from current font.\n  font.set_text(s, 0, flags=flags)\n/Library/Frameworks/Python.framework/Versions/3.9/lib/python3.9/site-packages/matplotlib/backends/backend_agg.py:203: RuntimeWarning: Glyph 53456 missing from current font.\n  font.set_text(s, 0, flags=flags)\n/Library/Frameworks/Python.framework/Versions/3.9/lib/python3.9/site-packages/matplotlib/backends/backend_agg.py:203: RuntimeWarning: Glyph 52852 missing from current font.\n  font.set_text(s, 0, flags=flags)\n/Library/Frameworks/Python.framework/Versions/3.9/lib/python3.9/site-packages/matplotlib/backends/backend_agg.py:203: RuntimeWarning: Glyph 54168 missing from current font.\n  font.set_text(s, 0, flags=flags)\n/Library/Frameworks/Python.framework/Versions/3.9/lib/python3.9/site-packages/matplotlib/backends/backend_agg.py:203: RuntimeWarning: Glyph 47749 missing from current font.\n  font.set_text(s, 0, flags=flags)\n/Library/Frameworks/Python.framework/Versions/3.9/lib/python3.9/site-packages/matplotlib/backends/backend_agg.py:203: RuntimeWarning: Glyph 50500 missing from current font.\n  font.set_text(s, 0, flags=flags)\n/Library/Frameworks/Python.framework/Versions/3.9/lib/python3.9/site-packages/matplotlib/backends/backend_agg.py:203: RuntimeWarning: Glyph 47700 missing from current font.\n  font.set_text(s, 0, flags=flags)\n/Library/Frameworks/Python.framework/Versions/3.9/lib/python3.9/site-packages/matplotlib/backends/backend_agg.py:203: RuntimeWarning: Glyph 45432 missing from current font.\n  font.set_text(s, 0, flags=flags)\n/Library/Frameworks/Python.framework/Versions/3.9/lib/python3.9/site-packages/matplotlib/backends/backend_agg.py:203: RuntimeWarning: Glyph 48324 missing from current font.\n  font.set_text(s, 0, flags=flags)\n/Library/Frameworks/Python.framework/Versions/3.9/lib/python3.9/site-packages/matplotlib/backends/backend_agg.py:203: RuntimeWarning: Glyph 51012 missing from current font.\n  font.set_text(s, 0, flags=flags)\n/Library/Frameworks/Python.framework/Versions/3.9/lib/python3.9/site-packages/matplotlib/backends/backend_agg.py:203: RuntimeWarning: Glyph 50508 missing from current font.\n  font.set_text(s, 0, flags=flags)\n/Library/Frameworks/Python.framework/Versions/3.9/lib/python3.9/site-packages/matplotlib/backends/backend_agg.py:203: RuntimeWarning: Glyph 48372 missing from current font.\n  font.set_text(s, 0, flags=flags)\n/Library/Frameworks/Python.framework/Versions/3.9/lib/python3.9/site-packages/matplotlib/backends/backend_agg.py:203: RuntimeWarning: Glyph 51088 missing from current font.\n  font.set_text(s, 0, flags=flags)\n/Library/Frameworks/Python.framework/Versions/3.9/lib/python3.9/site-packages/matplotlib/backends/backend_agg.py:203: RuntimeWarning: Glyph 47456 missing from current font.\n  font.set_text(s, 0, flags=flags)\n"
        },
        {
         "data": {
          "image/png": "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\n",
          "text/plain": "<Figure size 720x432 with 1 Axes>"
         },
         "metadata": {
          "needs_background": "light"
         },
         "output_type": "display_data"
        },
        {
         "data": {
          "text/plain": "None"
         },
         "metadata": {},
         "output_type": "display_data"
        }
       ]
      }
     },
     "a20c3f0c57f64bb9bbbb813a0582843e": {
      "model_module": "@jupyter-widgets/controls",
      "model_module_version": "1.5.0",
      "model_name": "DescriptionStyleModel",
      "state": {
       "description_width": ""
      }
     },
     "a51ca43dbc524db484ff057f493d9b1d": {
      "model_module": "@jupyter-widgets/controls",
      "model_module_version": "1.5.0",
      "model_name": "DescriptionStyleModel",
      "state": {
       "description_width": ""
      }
     },
     "a564362bef3349d8a9ed9ca7149682c0": {
      "model_module": "@jupyter-widgets/controls",
      "model_module_version": "1.5.0",
      "model_name": "HBoxModel",
      "state": {
       "children": [
        "IPY_MODEL_9ad1e00b3e44404cacc041b489bbdaf7",
        "IPY_MODEL_15aff3209fa04fbb9fb255058c320108"
       ],
       "layout": "IPY_MODEL_cdb1248df66648a4baa93946a42e89d5"
      }
     },
     "a6cf18a0f0c94d31bdb2c489654036a1": {
      "model_module": "@jupyter-widgets/base",
      "model_module_version": "1.2.0",
      "model_name": "LayoutModel",
      "state": {}
     },
     "a83dd04419354841b906511333527ca9": {
      "model_module": "@jupyter-widgets/base",
      "model_module_version": "1.2.0",
      "model_name": "LayoutModel",
      "state": {}
     },
     "a846df35f34049fc870aa5f58a57598f": {
      "model_module": "@jupyter-widgets/controls",
      "model_module_version": "1.5.0",
      "model_name": "ProgressStyleModel",
      "state": {
       "description_width": "initial"
      }
     },
     "ab21be7575814a96801f7e283785b56c": {
      "model_module": "@jupyter-widgets/base",
      "model_module_version": "1.2.0",
      "model_name": "LayoutModel",
      "state": {}
     },
     "ab224cfed42c4c65a9c243a85ca79ad0": {
      "model_module": "@jupyter-widgets/controls",
      "model_module_version": "1.5.0",
      "model_name": "ProgressStyleModel",
      "state": {
       "description_width": "initial"
      }
     },
     "acc8f57b54bc431284b578504be3da82": {
      "model_module": "@jupyter-widgets/controls",
      "model_module_version": "1.5.0",
      "model_name": "HTMLModel",
      "state": {
       "layout": "IPY_MODEL_04d8ccd70bf9471e8bc2a8fbf9b45c7a",
       "style": "IPY_MODEL_065d8252aa374984b0d8118cdd2fbf20",
       "value": " 62/62 [00:21&lt;00:00,  2.84it/s]"
      }
     },
     "ad47686d93204387b44379ad14f9a3a9": {
      "model_module": "@jupyter-widgets/base",
      "model_module_version": "1.2.0",
      "model_name": "LayoutModel",
      "state": {}
     },
     "ade6ddaf9eb1485f898e3b7a6e2874fb": {
      "model_module": "@jupyter-widgets/base",
      "model_module_version": "1.2.0",
      "model_name": "LayoutModel",
      "state": {}
     },
     "ade90e5303d94858b1422cee77e7800b": {
      "model_module": "@jupyter-widgets/base",
      "model_module_version": "1.2.0",
      "model_name": "LayoutModel",
      "state": {}
     },
     "ae9e82bf7936447a803a7942458487ad": {
      "model_module": "@jupyter-widgets/controls",
      "model_module_version": "1.5.0",
      "model_name": "ProgressStyleModel",
      "state": {
       "description_width": "initial"
      }
     },
     "aefddb25b0ec45288bd2a719ebaa9b0e": {
      "model_module": "@jupyter-widgets/controls",
      "model_module_version": "1.5.0",
      "model_name": "DescriptionStyleModel",
      "state": {
       "description_width": ""
      }
     },
     "aff50070502748a690efbb876cd80f13": {
      "model_module": "@jupyter-widgets/base",
      "model_module_version": "1.2.0",
      "model_name": "LayoutModel",
      "state": {}
     },
     "b1ff8ea6fe32486d835246fb0ec2fb93": {
      "model_module": "@jupyter-widgets/controls",
      "model_module_version": "1.5.0",
      "model_name": "TabModel",
      "state": {
       "_titles": {
        "0": "할리스 감성분석",
        "1": "할리스 부정적 단어",
        "2": "그래프",
        "3": "할리스 긍정적 단어",
        "4": "그래프"
       },
       "children": [
        "IPY_MODEL_9c21645c865e4884bf9b74a0ce3decf9",
        "IPY_MODEL_2438ce854534422fb937b2405f915b75",
        "IPY_MODEL_13fb8b6e14764a979c62da16394daa5a",
        "IPY_MODEL_6d118af506e24f31b44d735ec7c46265",
        "IPY_MODEL_51cf4fc18c2141dfa1e12acf66441d28"
       ],
       "layout": "IPY_MODEL_72f41a2fec044644a375dd301f5d1eb4",
       "selected_index": 3
      }
     },
     "b3df7e8f844e48098fe62ef7e77f2175": {
      "model_module": "@jupyter-widgets/base",
      "model_module_version": "1.2.0",
      "model_name": "LayoutModel",
      "state": {}
     },
     "b482e98f5beb4d26861eada870af6ebf": {
      "model_module": "@jupyter-widgets/controls",
      "model_module_version": "1.5.0",
      "model_name": "DropdownModel",
      "state": {
       "_options_labels": [
        " ",
        "스타벅스",
        "앤제리너스",
        "파스쿠찌",
        "이디야",
        "탐앤탐스",
        "투썸플레이스",
        "할리스",
        "커피빈",
        "빽다방"
       ],
       "description": "크롤링 : ",
       "index": 5,
       "layout": "IPY_MODEL_d9d12b4305f442b88042b02c4f48eaf0",
       "style": "IPY_MODEL_f3bd2f59b7de4ef48378d6e43c5ce496"
      }
     },
     "b4c8243bf27f412f90e6ab927a25c86e": {
      "model_module": "@jupyter-widgets/controls",
      "model_module_version": "1.5.0",
      "model_name": "ProgressStyleModel",
      "state": {
       "description_width": ""
      }
     },
     "b538a8744ec74b24a94b2d74499c36d4": {
      "model_module": "@jupyter-widgets/base",
      "model_module_version": "1.2.0",
      "model_name": "LayoutModel",
      "state": {}
     },
     "b6b859b9915645bf8cfe95198baa9e5d": {
      "model_module": "@jupyter-widgets/controls",
      "model_module_version": "1.5.0",
      "model_name": "DescriptionStyleModel",
      "state": {
       "description_width": ""
      }
     },
     "b8c53ac12d734338bc5551e563793663": {
      "model_module": "@jupyter-widgets/controls",
      "model_module_version": "1.5.0",
      "model_name": "TabModel",
      "state": {
       "_titles": {
        "0": "할리스 감성분석",
        "1": "할리스 부정적 단어",
        "2": "그래프",
        "3": "할리스 긍정적 단어",
        "4": "그래프"
       },
       "children": [
        "IPY_MODEL_c3aec253db5a421593cc3f22036537c7",
        "IPY_MODEL_48253a6519d5425f9869cebd2084febb",
        "IPY_MODEL_cc41110d851e4355a9fcb9f41d00994c",
        "IPY_MODEL_58802071e41f4068ba382b11875b6526",
        "IPY_MODEL_349b7639b7d6493597e5235373658eee"
       ],
       "layout": "IPY_MODEL_3ab32ad2affc4adc8761a8a4d9ad596c"
      }
     },
     "b979125d43244ddfa8845780debc7a7c": {
      "model_module": "@jupyter-widgets/base",
      "model_module_version": "1.2.0",
      "model_name": "LayoutModel",
      "state": {}
     },
     "ba2a2b6d9b834fceb070a16b58822613": {
      "model_module": "@jupyter-widgets/controls",
      "model_module_version": "1.5.0",
      "model_name": "DropdownModel",
      "state": {
       "_options_labels": [
        " ",
        "스타벅스",
        "앤제리너스",
        "파스쿠찌",
        "이디야",
        "탐앤탐스",
        "투썸플레이스",
        "할리스",
        "커피빈",
        "빽다방"
       ],
       "description": "카페명 : ",
       "index": 1,
       "layout": "IPY_MODEL_94f24d7d50664622a7397047f537ca0b",
       "style": "IPY_MODEL_d9f14b77488942c5b5dd52c8028b4d67"
      }
     },
     "ba4022f92bc7459a8ee160655bf5db8c": {
      "model_module": "@jupyter-widgets/base",
      "model_module_version": "1.2.0",
      "model_name": "LayoutModel",
      "state": {}
     },
     "bb5ed5a35a334452a88a2270f9e9aed4": {
      "model_module": "@jupyter-widgets/base",
      "model_module_version": "1.2.0",
      "model_name": "LayoutModel",
      "state": {}
     },
     "c13b68b5baa54d7dab8d50c45ea214a9": {
      "model_module": "@jupyter-widgets/base",
      "model_module_version": "1.2.0",
      "model_name": "LayoutModel",
      "state": {}
     },
     "c13c17c670264180939c32c281337946": {
      "model_module": "@jupyter-widgets/base",
      "model_module_version": "1.2.0",
      "model_name": "LayoutModel",
      "state": {}
     },
     "c166625b040c47a88f1a3f96f4ad1a04": {
      "model_module": "@jupyter-widgets/controls",
      "model_module_version": "1.5.0",
      "model_name": "DescriptionStyleModel",
      "state": {
       "description_width": ""
      }
     },
     "c36de329d6f24d4db1e80ba23e5dceaa": {
      "model_module": "@jupyter-widgets/controls",
      "model_module_version": "1.5.0",
      "model_name": "TabModel",
      "state": {
       "_titles": {
        "0": " 맛있는 카페",
        "1": "그래프"
       },
       "children": [
        "IPY_MODEL_71b3824fcd434c419bd924b705531a1d",
        "IPY_MODEL_cdffff1623f542418a844ff7543eff72"
       ],
       "layout": "IPY_MODEL_ecdb08ca56bc45e8b18684b22af53044",
       "selected_index": 1
      }
     },
     "c3aec253db5a421593cc3f22036537c7": {
      "model_module": "@jupyter-widgets/output",
      "model_module_version": "1.0.0",
      "model_name": "OutputModel",
      "state": {
       "layout": "IPY_MODEL_e2116290350a4037ab6b3ae2e5c1593a",
       "outputs": [
        {
         "data": {
          "image/png": "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\n",
          "text/plain": "<Figure size 432x288 with 1 Axes>"
         },
         "metadata": {},
         "output_type": "display_data"
        },
        {
         "data": {
          "text/plain": "<Figure size 720x720 with 0 Axes>"
         },
         "metadata": {},
         "output_type": "display_data"
        },
        {
         "data": {
          "text/plain": "None"
         },
         "metadata": {},
         "output_type": "display_data"
        }
       ]
      }
     },
     "c54fcaa6c00b4d2292770f619f7e9cae": {
      "model_module": "@jupyter-widgets/controls",
      "model_module_version": "1.5.0",
      "model_name": "HTMLModel",
      "state": {
       "layout": "IPY_MODEL_530193bda48147aeb271fc6eea29fbc5",
       "style": "IPY_MODEL_b6b859b9915645bf8cfe95198baa9e5d",
       "value": " 499/499 [09:49&lt;00:00,  1.18s/it]"
      }
     },
     "c812ba4b49ab4e1e84354a8825cfc74d": {
      "model_module": "@jupyter-widgets/controls",
      "model_module_version": "1.5.0",
      "model_name": "TabModel",
      "state": {
       "_titles": {
        "0": "파스쿠찌 맛있는 음료",
        "1": "그래프"
       },
       "children": [
        "IPY_MODEL_328468302494480c8eb5dce2c2f66961",
        "IPY_MODEL_77db0c077dfd48299ff4634f9e384ac9"
       ],
       "layout": "IPY_MODEL_913a2c3696c14bf293edda7677b9e5b3",
       "selected_index": 1
      }
     },
     "c8bb99a1288043f5a72680678e27ac54": {
      "model_module": "@jupyter-widgets/base",
      "model_module_version": "1.2.0",
      "model_name": "LayoutModel",
      "state": {}
     },
     "c91b753ed5f747e0a4190824c50cd15e": {
      "model_module": "@jupyter-widgets/output",
      "model_module_version": "1.0.0",
      "model_name": "OutputModel",
      "state": {
       "layout": "IPY_MODEL_f990989ba972408c8cd7f000b5844bf5",
       "outputs": [
        {
         "data": {
          "text/html": "<div>\n<style scoped>\n    .dataframe tbody tr th:only-of-type {\n        vertical-align: middle;\n    }\n\n    .dataframe tbody tr th {\n        vertical-align: top;\n    }\n\n    .dataframe thead th {\n        text-align: right;\n    }\n</style>\n<table border=\"1\" class=\"dataframe\">\n  <thead>\n    <tr style=\"text-align: right;\">\n      <th></th>\n      <th>카페명</th>\n      <th>음료명</th>\n      <th>언급빈도</th>\n      <th>언급률</th>\n    </tr>\n  </thead>\n  <tbody>\n    <tr>\n      <th>0</th>\n      <td>파스쿠찌</td>\n      <td>아메리카노</td>\n      <td>22171</td>\n      <td>0.390637</td>\n    </tr>\n    <tr>\n      <th>1</th>\n      <td>파스쿠찌</td>\n      <td>에스프레소</td>\n      <td>5830</td>\n      <td>0.102720</td>\n    </tr>\n    <tr>\n      <th>2</th>\n      <td>파스쿠찌</td>\n      <td>카페라떼</td>\n      <td>3911</td>\n      <td>0.068909</td>\n    </tr>\n    <tr>\n      <th>3</th>\n      <td>파스쿠찌</td>\n      <td>카푸치노</td>\n      <td>2535</td>\n      <td>0.044665</td>\n    </tr>\n    <tr>\n      <th>4</th>\n      <td>파스쿠찌</td>\n      <td>카페모카</td>\n      <td>2244</td>\n      <td>0.039538</td>\n    </tr>\n    <tr>\n      <th>5</th>\n      <td>파스쿠찌</td>\n      <td>아이스초콜릿</td>\n      <td>1397</td>\n      <td>0.024614</td>\n    </tr>\n    <tr>\n      <th>6</th>\n      <td>파스쿠찌</td>\n      <td>영그레이얼그레이</td>\n      <td>1272</td>\n      <td>0.022412</td>\n    </tr>\n    <tr>\n      <th>7</th>\n      <td>파스쿠찌</td>\n      <td>그린티그라니따</td>\n      <td>1045</td>\n      <td>0.018412</td>\n    </tr>\n    <tr>\n      <th>8</th>\n      <td>파스쿠찌</td>\n      <td>스트로베리그라니따</td>\n      <td>969</td>\n      <td>0.017073</td>\n    </tr>\n    <tr>\n      <th>9</th>\n      <td>파스쿠찌</td>\n      <td>자바칩민트그라니따</td>\n      <td>934</td>\n      <td>0.016456</td>\n    </tr>\n    <tr>\n      <th>10</th>\n      <td>파스쿠찌</td>\n      <td>그린티라떼</td>\n      <td>914</td>\n      <td>0.016104</td>\n    </tr>\n    <tr>\n      <th>11</th>\n      <td>파스쿠찌</td>\n      <td>오렌지주스</td>\n      <td>717</td>\n      <td>0.012633</td>\n    </tr>\n  </tbody>\n</table>\n</div>",
          "text/plain": "     카페명        음료명   언급빈도       언급률\n0   파스쿠찌      아메리카노  22171  0.390637\n1   파스쿠찌      에스프레소   5830  0.102720\n2   파스쿠찌       카페라떼   3911  0.068909\n3   파스쿠찌       카푸치노   2535  0.044665\n4   파스쿠찌       카페모카   2244  0.039538\n5   파스쿠찌     아이스초콜릿   1397  0.024614\n6   파스쿠찌   영그레이얼그레이   1272  0.022412\n7   파스쿠찌    그린티그라니따   1045  0.018412\n8   파스쿠찌  스트로베리그라니따    969  0.017073\n9   파스쿠찌  자바칩민트그라니따    934  0.016456\n10  파스쿠찌      그린티라떼    914  0.016104\n11  파스쿠찌      오렌지주스    717  0.012633"
         },
         "metadata": {},
         "output_type": "display_data"
        }
       ]
      }
     },
     "c91c923946cb4a2e97902af3f8d7ab14": {
      "model_module": "@jupyter-widgets/base",
      "model_module_version": "1.2.0",
      "model_name": "LayoutModel",
      "state": {}
     },
     "ca56ebdb275d44b4b9a54709b71d6643": {
      "model_module": "@jupyter-widgets/base",
      "model_module_version": "1.2.0",
      "model_name": "LayoutModel",
      "state": {}
     },
     "cac3b317fe0c43e49dd9875763eb7563": {
      "model_module": "@jupyter-widgets/base",
      "model_module_version": "1.2.0",
      "model_name": "LayoutModel",
      "state": {}
     },
     "cc41110d851e4355a9fcb9f41d00994c": {
      "model_module": "@jupyter-widgets/output",
      "model_module_version": "1.0.0",
      "model_name": "OutputModel",
      "state": {
       "layout": "IPY_MODEL_e7e12c5347a0493fa77dd2b2f51c2449",
       "outputs": [
        {
         "data": {
          "application/vnd.jupyter.widget-view+json": {
           "model_id": "f2db8f4a77b24bb6aceeaeef16050d7f",
           "version_major": 2,
           "version_minor": 0
          },
          "text/plain": "  0%|          | 0/198 [00:00<?, ?it/s]"
         },
         "metadata": {},
         "output_type": "display_data"
        },
        {
         "ename": "LookupError",
         "evalue": "\n**********************************************************************\n  Resource \u001b[93maveraged_perceptron_tagger\u001b[0m not found.\n  Please use the NLTK Downloader to obtain the resource:\n\n  \u001b[31m>>> import nltk\n  >>> nltk.download('averaged_perceptron_tagger')\n  \u001b[0m\n  For more information see: https://www.nltk.org/data.html\n\n  Attempted to load \u001b[93mtaggers/averaged_perceptron_tagger/averaged_perceptron_tagger.pickle\u001b[0m\n\n  Searched in:\n    - '/Users/hyenzzang/nltk_data'\n    - '/Library/Frameworks/Python.framework/Versions/3.9/nltk_data'\n    - '/Library/Frameworks/Python.framework/Versions/3.9/share/nltk_data'\n    - '/Library/Frameworks/Python.framework/Versions/3.9/lib/nltk_data'\n    - '/usr/share/nltk_data'\n    - '/usr/local/share/nltk_data'\n    - '/usr/lib/nltk_data'\n    - '/usr/local/lib/nltk_data'\n**********************************************************************\n",
         "output_type": "error",
         "traceback": [
          "\u001b[0;31m---------------------------------------------------------------------------\u001b[0m",
          "\u001b[0;31mLookupError\u001b[0m                               Traceback (most recent call last)",
          "\u001b[0;32m<ipython-input-43-01de8dc800d7>\u001b[0m in \u001b[0;36m<module>\u001b[0;34m\u001b[0m\n\u001b[1;32m     12\u001b[0m     \u001b[0mdisplay\u001b[0m\u001b[0;34m(\u001b[0m\u001b[0mnegativeDF\u001b[0m\u001b[0;34m(\u001b[0m\u001b[0mcafe\u001b[0m\u001b[0;34m)\u001b[0m\u001b[0;34m)\u001b[0m\u001b[0;34m\u001b[0m\u001b[0;34m\u001b[0m\u001b[0m\n\u001b[1;32m     13\u001b[0m \u001b[0;32mwith\u001b[0m \u001b[0moutputNplot\u001b[0m\u001b[0;34m:\u001b[0m\u001b[0;34m\u001b[0m\u001b[0;34m\u001b[0m\u001b[0m\n\u001b[0;32m---> 14\u001b[0;31m     \u001b[0mdisplay\u001b[0m\u001b[0;34m(\u001b[0m\u001b[0mnegativeBar\u001b[0m\u001b[0;34m(\u001b[0m\u001b[0mcafe\u001b[0m\u001b[0;34m)\u001b[0m\u001b[0;34m)\u001b[0m\u001b[0;34m\u001b[0m\u001b[0;34m\u001b[0m\u001b[0m\n\u001b[0m\u001b[1;32m     15\u001b[0m \u001b[0;32mwith\u001b[0m \u001b[0moutputP\u001b[0m\u001b[0;34m:\u001b[0m\u001b[0;34m\u001b[0m\u001b[0;34m\u001b[0m\u001b[0m\n\u001b[1;32m     16\u001b[0m     \u001b[0mdisplay\u001b[0m\u001b[0;34m(\u001b[0m\u001b[0mpositiveDF\u001b[0m\u001b[0;34m(\u001b[0m\u001b[0mcafe\u001b[0m\u001b[0;34m)\u001b[0m\u001b[0;34m)\u001b[0m\u001b[0;34m\u001b[0m\u001b[0;34m\u001b[0m\u001b[0m\n",
          "\u001b[0;32m<ipython-input-42-e7c501a65902>\u001b[0m in \u001b[0;36mnegativeBar\u001b[0;34m(name)\u001b[0m\n\u001b[1;32m     32\u001b[0m \u001b[0;34m\u001b[0m\u001b[0m\n\u001b[1;32m     33\u001b[0m \u001b[0;32mdef\u001b[0m \u001b[0mnegativeBar\u001b[0m\u001b[0;34m(\u001b[0m\u001b[0mname\u001b[0m\u001b[0;34m)\u001b[0m\u001b[0;34m:\u001b[0m\u001b[0;34m\u001b[0m\u001b[0;34m\u001b[0m\u001b[0m\n\u001b[0;32m---> 34\u001b[0;31m     \u001b[0mdf\u001b[0m\u001b[0;34m=\u001b[0m\u001b[0mnegativeDF\u001b[0m\u001b[0;34m(\u001b[0m\u001b[0mname\u001b[0m\u001b[0;34m)\u001b[0m\u001b[0;34m.\u001b[0m\u001b[0mhead\u001b[0m\u001b[0;34m(\u001b[0m\u001b[0;36m15\u001b[0m\u001b[0;34m)\u001b[0m\u001b[0;34m\u001b[0m\u001b[0;34m\u001b[0m\u001b[0m\n\u001b[0m\u001b[1;32m     35\u001b[0m     \u001b[0mdf\u001b[0m \u001b[0;34m=\u001b[0m \u001b[0mdf\u001b[0m\u001b[0;34m.\u001b[0m\u001b[0mloc\u001b[0m\u001b[0;34m[\u001b[0m\u001b[0;34m:\u001b[0m\u001b[0;34m,\u001b[0m\u001b[0;34m[\u001b[0m\u001b[0;34m\"단어\"\u001b[0m\u001b[0;34m,\u001b[0m\u001b[0;34m\"비율\"\u001b[0m\u001b[0;34m]\u001b[0m\u001b[0;34m]\u001b[0m\u001b[0;34m\u001b[0m\u001b[0;34m\u001b[0m\u001b[0m\n\u001b[1;32m     36\u001b[0m     \u001b[0mdf\u001b[0m \u001b[0;34m=\u001b[0m \u001b[0mdf\u001b[0m\u001b[0;34m.\u001b[0m\u001b[0mrename\u001b[0m\u001b[0;34m(\u001b[0m\u001b[0mcolumns\u001b[0m\u001b[0;34m=\u001b[0m\u001b[0;34m{\u001b[0m\u001b[0;34m\"비율\"\u001b[0m\u001b[0;34m:\u001b[0m\u001b[0mname\u001b[0m\u001b[0;34m}\u001b[0m\u001b[0;34m)\u001b[0m\u001b[0;34m\u001b[0m\u001b[0;34m\u001b[0m\u001b[0m\n",
          "\u001b[0;32m<ipython-input-42-e7c501a65902>\u001b[0m in \u001b[0;36mnegativeDF\u001b[0;34m(name)\u001b[0m\n\u001b[1;32m     15\u001b[0m     \u001b[0mwords\u001b[0m\u001b[0;34m=\u001b[0m\u001b[0mwordTokenizer\u001b[0m\u001b[0;34m(\u001b[0m\u001b[0mtemp\u001b[0m\u001b[0;34m)\u001b[0m\u001b[0;34m\u001b[0m\u001b[0;34m\u001b[0m\u001b[0m\n\u001b[1;32m     16\u001b[0m     \u001b[0mwords\u001b[0m \u001b[0;34m=\u001b[0m \u001b[0;34m[\u001b[0m\u001b[0mword\u001b[0m \u001b[0;32mfor\u001b[0m \u001b[0mword\u001b[0m \u001b[0;32min\u001b[0m \u001b[0mwords\u001b[0m \u001b[0;32mif\u001b[0m \u001b[0mlen\u001b[0m\u001b[0;34m(\u001b[0m\u001b[0mword\u001b[0m\u001b[0;34m)\u001b[0m\u001b[0;34m>\u001b[0m\u001b[0;36m1\u001b[0m\u001b[0;34m]\u001b[0m\u001b[0;34m\u001b[0m\u001b[0;34m\u001b[0m\u001b[0m\n\u001b[0;32m---> 17\u001b[0;31m     \u001b[0mtagged\u001b[0m \u001b[0;34m=\u001b[0m \u001b[0mnltk\u001b[0m\u001b[0;34m.\u001b[0m\u001b[0mpos_tag\u001b[0m\u001b[0;34m(\u001b[0m\u001b[0mwords\u001b[0m\u001b[0;34m)\u001b[0m\u001b[0;34m\u001b[0m\u001b[0;34m\u001b[0m\u001b[0m\n\u001b[0m\u001b[1;32m     18\u001b[0m     \u001b[0mwords\u001b[0m \u001b[0;34m=\u001b[0m \u001b[0;34m[\u001b[0m\u001b[0mword\u001b[0m \u001b[0;32mfor\u001b[0m \u001b[0mword\u001b[0m\u001b[0;34m,\u001b[0m \u001b[0mpos\u001b[0m \u001b[0;32min\u001b[0m \u001b[0mtagged\u001b[0m \u001b[0;32mif\u001b[0m \u001b[0mpos\u001b[0m \u001b[0;32min\u001b[0m\u001b[0;34m[\u001b[0m\u001b[0;34m'JJ'\u001b[0m\u001b[0;34m]\u001b[0m\u001b[0;34m]\u001b[0m\u001b[0;34m\u001b[0m\u001b[0;34m\u001b[0m\u001b[0m\n\u001b[1;32m     19\u001b[0m     \u001b[0mwords\u001b[0m \u001b[0;34m=\u001b[0m \u001b[0;34m[\u001b[0m\u001b[0mword\u001b[0m\u001b[0;34m.\u001b[0m\u001b[0mlower\u001b[0m\u001b[0;34m(\u001b[0m\u001b[0;34m)\u001b[0m \u001b[0;32mfor\u001b[0m \u001b[0mword\u001b[0m \u001b[0;32min\u001b[0m \u001b[0mwords\u001b[0m\u001b[0;34m]\u001b[0m\u001b[0;34m\u001b[0m\u001b[0;34m\u001b[0m\u001b[0m\n",
          "\u001b[0;32m/Library/Frameworks/Python.framework/Versions/3.9/lib/python3.9/site-packages/nltk/tag/__init__.py\u001b[0m in \u001b[0;36mpos_tag\u001b[0;34m(tokens, tagset, lang)\u001b[0m\n\u001b[1;32m    162\u001b[0m     \u001b[0;34m:\u001b[0m\u001b[0mrtype\u001b[0m\u001b[0;34m:\u001b[0m \u001b[0mlist\u001b[0m\u001b[0;34m(\u001b[0m\u001b[0mtuple\u001b[0m\u001b[0;34m(\u001b[0m\u001b[0mstr\u001b[0m\u001b[0;34m,\u001b[0m \u001b[0mstr\u001b[0m\u001b[0;34m)\u001b[0m\u001b[0;34m)\u001b[0m\u001b[0;34m\u001b[0m\u001b[0;34m\u001b[0m\u001b[0m\n\u001b[1;32m    163\u001b[0m     \"\"\"\n\u001b[0;32m--> 164\u001b[0;31m     \u001b[0mtagger\u001b[0m \u001b[0;34m=\u001b[0m \u001b[0m_get_tagger\u001b[0m\u001b[0;34m(\u001b[0m\u001b[0mlang\u001b[0m\u001b[0;34m)\u001b[0m\u001b[0;34m\u001b[0m\u001b[0;34m\u001b[0m\u001b[0m\n\u001b[0m\u001b[1;32m    165\u001b[0m     \u001b[0;32mreturn\u001b[0m \u001b[0m_pos_tag\u001b[0m\u001b[0;34m(\u001b[0m\u001b[0mtokens\u001b[0m\u001b[0;34m,\u001b[0m \u001b[0mtagset\u001b[0m\u001b[0;34m,\u001b[0m \u001b[0mtagger\u001b[0m\u001b[0;34m,\u001b[0m \u001b[0mlang\u001b[0m\u001b[0;34m)\u001b[0m\u001b[0;34m\u001b[0m\u001b[0;34m\u001b[0m\u001b[0m\n\u001b[1;32m    166\u001b[0m \u001b[0;34m\u001b[0m\u001b[0m\n",
          "\u001b[0;32m/Library/Frameworks/Python.framework/Versions/3.9/lib/python3.9/site-packages/nltk/tag/__init__.py\u001b[0m in \u001b[0;36m_get_tagger\u001b[0;34m(lang)\u001b[0m\n\u001b[1;32m    104\u001b[0m         \u001b[0mtagger\u001b[0m\u001b[0;34m.\u001b[0m\u001b[0mload\u001b[0m\u001b[0;34m(\u001b[0m\u001b[0map_russian_model_loc\u001b[0m\u001b[0;34m)\u001b[0m\u001b[0;34m\u001b[0m\u001b[0;34m\u001b[0m\u001b[0m\n\u001b[1;32m    105\u001b[0m     \u001b[0;32melse\u001b[0m\u001b[0;34m:\u001b[0m\u001b[0;34m\u001b[0m\u001b[0;34m\u001b[0m\u001b[0m\n\u001b[0;32m--> 106\u001b[0;31m         \u001b[0mtagger\u001b[0m \u001b[0;34m=\u001b[0m \u001b[0mPerceptronTagger\u001b[0m\u001b[0;34m(\u001b[0m\u001b[0;34m)\u001b[0m\u001b[0;34m\u001b[0m\u001b[0;34m\u001b[0m\u001b[0m\n\u001b[0m\u001b[1;32m    107\u001b[0m     \u001b[0;32mreturn\u001b[0m \u001b[0mtagger\u001b[0m\u001b[0;34m\u001b[0m\u001b[0;34m\u001b[0m\u001b[0m\n\u001b[1;32m    108\u001b[0m \u001b[0;34m\u001b[0m\u001b[0m\n",
          "\u001b[0;32m/Library/Frameworks/Python.framework/Versions/3.9/lib/python3.9/site-packages/nltk/tag/perceptron.py\u001b[0m in \u001b[0;36m__init__\u001b[0;34m(self, load)\u001b[0m\n\u001b[1;32m    166\u001b[0m         \u001b[0;32mif\u001b[0m \u001b[0mload\u001b[0m\u001b[0;34m:\u001b[0m\u001b[0;34m\u001b[0m\u001b[0;34m\u001b[0m\u001b[0m\n\u001b[1;32m    167\u001b[0m             AP_MODEL_LOC = \"file:\" + str(\n\u001b[0;32m--> 168\u001b[0;31m                 \u001b[0mfind\u001b[0m\u001b[0;34m(\u001b[0m\u001b[0;34m\"taggers/averaged_perceptron_tagger/\"\u001b[0m \u001b[0;34m+\u001b[0m \u001b[0mPICKLE\u001b[0m\u001b[0;34m)\u001b[0m\u001b[0;34m\u001b[0m\u001b[0;34m\u001b[0m\u001b[0m\n\u001b[0m\u001b[1;32m    169\u001b[0m             )\n\u001b[1;32m    170\u001b[0m             \u001b[0mself\u001b[0m\u001b[0;34m.\u001b[0m\u001b[0mload\u001b[0m\u001b[0;34m(\u001b[0m\u001b[0mAP_MODEL_LOC\u001b[0m\u001b[0;34m)\u001b[0m\u001b[0;34m\u001b[0m\u001b[0;34m\u001b[0m\u001b[0m\n",
          "\u001b[0;32m/Library/Frameworks/Python.framework/Versions/3.9/lib/python3.9/site-packages/nltk/data.py\u001b[0m in \u001b[0;36mfind\u001b[0;34m(resource_name, paths)\u001b[0m\n\u001b[1;32m    581\u001b[0m     \u001b[0msep\u001b[0m \u001b[0;34m=\u001b[0m \u001b[0;34m\"*\"\u001b[0m \u001b[0;34m*\u001b[0m \u001b[0;36m70\u001b[0m\u001b[0;34m\u001b[0m\u001b[0;34m\u001b[0m\u001b[0m\n\u001b[1;32m    582\u001b[0m     \u001b[0mresource_not_found\u001b[0m \u001b[0;34m=\u001b[0m \u001b[0;34m\"\\n%s\\n%s\\n%s\\n\"\u001b[0m \u001b[0;34m%\u001b[0m \u001b[0;34m(\u001b[0m\u001b[0msep\u001b[0m\u001b[0;34m,\u001b[0m \u001b[0mmsg\u001b[0m\u001b[0;34m,\u001b[0m \u001b[0msep\u001b[0m\u001b[0;34m)\u001b[0m\u001b[0;34m\u001b[0m\u001b[0;34m\u001b[0m\u001b[0m\n\u001b[0;32m--> 583\u001b[0;31m     \u001b[0;32mraise\u001b[0m \u001b[0mLookupError\u001b[0m\u001b[0;34m(\u001b[0m\u001b[0mresource_not_found\u001b[0m\u001b[0;34m)\u001b[0m\u001b[0;34m\u001b[0m\u001b[0;34m\u001b[0m\u001b[0m\n\u001b[0m\u001b[1;32m    584\u001b[0m \u001b[0;34m\u001b[0m\u001b[0m\n\u001b[1;32m    585\u001b[0m \u001b[0;34m\u001b[0m\u001b[0m\n",
          "\u001b[0;31mLookupError\u001b[0m: \n**********************************************************************\n  Resource \u001b[93maveraged_perceptron_tagger\u001b[0m not found.\n  Please use the NLTK Downloader to obtain the resource:\n\n  \u001b[31m>>> import nltk\n  >>> nltk.download('averaged_perceptron_tagger')\n  \u001b[0m\n  For more information see: https://www.nltk.org/data.html\n\n  Attempted to load \u001b[93mtaggers/averaged_perceptron_tagger/averaged_perceptron_tagger.pickle\u001b[0m\n\n  Searched in:\n    - '/Users/hyenzzang/nltk_data'\n    - '/Library/Frameworks/Python.framework/Versions/3.9/nltk_data'\n    - '/Library/Frameworks/Python.framework/Versions/3.9/share/nltk_data'\n    - '/Library/Frameworks/Python.framework/Versions/3.9/lib/nltk_data'\n    - '/usr/share/nltk_data'\n    - '/usr/local/share/nltk_data'\n    - '/usr/lib/nltk_data'\n    - '/usr/local/lib/nltk_data'\n**********************************************************************\n"
         ]
        }
       ]
      }
     },
     "ccb07657d5ee42479a75d5154f558a28": {
      "model_module": "@jupyter-widgets/controls",
      "model_module_version": "1.5.0",
      "model_name": "DescriptionStyleModel",
      "state": {
       "description_width": ""
      }
     },
     "cd8d2edf2d684a548f815d3537744cd1": {
      "model_module": "@jupyter-widgets/base",
      "model_module_version": "1.2.0",
      "model_name": "LayoutModel",
      "state": {}
     },
     "cd9327d97e0b400e89a2f53ce0cdf3a6": {
      "model_module": "@jupyter-widgets/controls",
      "model_module_version": "1.5.0",
      "model_name": "HTMLModel",
      "state": {
       "layout": "IPY_MODEL_32709de4034a40f6868637222cd50443",
       "style": "IPY_MODEL_0074cdd4ad0c4e7e8cdf581c4f9c9a29",
       "value": "100%"
      }
     },
     "cdb1248df66648a4baa93946a42e89d5": {
      "model_module": "@jupyter-widgets/base",
      "model_module_version": "1.2.0",
      "model_name": "LayoutModel",
      "state": {}
     },
     "cdffff1623f542418a844ff7543eff72": {
      "model_module": "@jupyter-widgets/output",
      "model_module_version": "1.0.0",
      "model_name": "OutputModel",
      "state": {
       "layout": "IPY_MODEL_6fac1194fdb6463fa6268b3a375af2b1",
       "outputs": [
        {
         "name": "stderr",
         "output_type": "stream",
         "text": "/Library/Frameworks/Python.framework/Versions/3.9/lib/python3.9/site-packages/matplotlib/backends/backend_agg.py:240: RuntimeWarning: Glyph 50500 missing from current font.\n  font.set_text(s, 0.0, flags=flags)\n/Library/Frameworks/Python.framework/Versions/3.9/lib/python3.9/site-packages/matplotlib/backends/backend_agg.py:240: RuntimeWarning: Glyph 47700 missing from current font.\n  font.set_text(s, 0.0, flags=flags)\n/Library/Frameworks/Python.framework/Versions/3.9/lib/python3.9/site-packages/matplotlib/backends/backend_agg.py:240: RuntimeWarning: Glyph 47532 missing from current font.\n  font.set_text(s, 0.0, flags=flags)\n/Library/Frameworks/Python.framework/Versions/3.9/lib/python3.9/site-packages/matplotlib/backends/backend_agg.py:240: RuntimeWarning: Glyph 52852 missing from current font.\n  font.set_text(s, 0.0, flags=flags)\n/Library/Frameworks/Python.framework/Versions/3.9/lib/python3.9/site-packages/matplotlib/backends/backend_agg.py:240: RuntimeWarning: Glyph 45432 missing from current font.\n  font.set_text(s, 0.0, flags=flags)\n/Library/Frameworks/Python.framework/Versions/3.9/lib/python3.9/site-packages/matplotlib/backends/backend_agg.py:240: RuntimeWarning: Glyph 54168 missing from current font.\n  font.set_text(s, 0.0, flags=flags)\n/Library/Frameworks/Python.framework/Versions/3.9/lib/python3.9/site-packages/matplotlib/backends/backend_agg.py:240: RuntimeWarning: Glyph 48324 missing from current font.\n  font.set_text(s, 0.0, flags=flags)\n/Library/Frameworks/Python.framework/Versions/3.9/lib/python3.9/site-packages/matplotlib/backends/backend_agg.py:240: RuntimeWarning: Glyph 50616 missing from current font.\n  font.set_text(s, 0.0, flags=flags)\n/Library/Frameworks/Python.framework/Versions/3.9/lib/python3.9/site-packages/matplotlib/backends/backend_agg.py:240: RuntimeWarning: Glyph 44553 missing from current font.\n  font.set_text(s, 0.0, flags=flags)\n/Library/Frameworks/Python.framework/Versions/3.9/lib/python3.9/site-packages/matplotlib/backends/backend_agg.py:240: RuntimeWarning: Glyph 48708 missing from current font.\n  font.set_text(s, 0.0, flags=flags)\n/Library/Frameworks/Python.framework/Versions/3.9/lib/python3.9/site-packages/matplotlib/backends/backend_agg.py:240: RuntimeWarning: Glyph 50984 missing from current font.\n  font.set_text(s, 0.0, flags=flags)\n/Library/Frameworks/Python.framework/Versions/3.9/lib/python3.9/site-packages/matplotlib/backends/backend_agg.py:240: RuntimeWarning: Glyph 51012 missing from current font.\n  font.set_text(s, 0.0, flags=flags)\n/Library/Frameworks/Python.framework/Versions/3.9/lib/python3.9/site-packages/matplotlib/backends/backend_agg.py:240: RuntimeWarning: Glyph 50508 missing from current font.\n  font.set_text(s, 0.0, flags=flags)\n/Library/Frameworks/Python.framework/Versions/3.9/lib/python3.9/site-packages/matplotlib/backends/backend_agg.py:240: RuntimeWarning: Glyph 48372 missing from current font.\n  font.set_text(s, 0.0, flags=flags)\n/Library/Frameworks/Python.framework/Versions/3.9/lib/python3.9/site-packages/matplotlib/backends/backend_agg.py:240: RuntimeWarning: Glyph 51088 missing from current font.\n  font.set_text(s, 0.0, flags=flags)\n/Library/Frameworks/Python.framework/Versions/3.9/lib/python3.9/site-packages/matplotlib/backends/backend_agg.py:240: RuntimeWarning: Glyph 49828 missing from current font.\n  font.set_text(s, 0.0, flags=flags)\n/Library/Frameworks/Python.framework/Versions/3.9/lib/python3.9/site-packages/matplotlib/backends/backend_agg.py:240: RuntimeWarning: Glyph 53440 missing from current font.\n  font.set_text(s, 0.0, flags=flags)\n/Library/Frameworks/Python.framework/Versions/3.9/lib/python3.9/site-packages/matplotlib/backends/backend_agg.py:240: RuntimeWarning: Glyph 48261 missing from current font.\n  font.set_text(s, 0.0, flags=flags)\n/Library/Frameworks/Python.framework/Versions/3.9/lib/python3.9/site-packages/matplotlib/backends/backend_agg.py:240: RuntimeWarning: Glyph 50532 missing from current font.\n  font.set_text(s, 0.0, flags=flags)\n/Library/Frameworks/Python.framework/Versions/3.9/lib/python3.9/site-packages/matplotlib/backends/backend_agg.py:240: RuntimeWarning: Glyph 51228 missing from current font.\n  font.set_text(s, 0.0, flags=flags)\n/Library/Frameworks/Python.framework/Versions/3.9/lib/python3.9/site-packages/matplotlib/backends/backend_agg.py:240: RuntimeWarning: Glyph 45320 missing from current font.\n  font.set_text(s, 0.0, flags=flags)\n/Library/Frameworks/Python.framework/Versions/3.9/lib/python3.9/site-packages/matplotlib/backends/backend_agg.py:240: RuntimeWarning: Glyph 54028 missing from current font.\n  font.set_text(s, 0.0, flags=flags)\n/Library/Frameworks/Python.framework/Versions/3.9/lib/python3.9/site-packages/matplotlib/backends/backend_agg.py:240: RuntimeWarning: Glyph 53216 missing from current font.\n  font.set_text(s, 0.0, flags=flags)\n/Library/Frameworks/Python.framework/Versions/3.9/lib/python3.9/site-packages/matplotlib/backends/backend_agg.py:240: RuntimeWarning: Glyph 52236 missing from current font.\n  font.set_text(s, 0.0, flags=flags)\n/Library/Frameworks/Python.framework/Versions/3.9/lib/python3.9/site-packages/matplotlib/backends/backend_agg.py:240: RuntimeWarning: Glyph 48765 missing from current font.\n  font.set_text(s, 0.0, flags=flags)\n/Library/Frameworks/Python.framework/Versions/3.9/lib/python3.9/site-packages/matplotlib/backends/backend_agg.py:240: RuntimeWarning: Glyph 45796 missing from current font.\n  font.set_text(s, 0.0, flags=flags)\n/Library/Frameworks/Python.framework/Versions/3.9/lib/python3.9/site-packages/matplotlib/backends/backend_agg.py:240: RuntimeWarning: Glyph 48169 missing from current font.\n  font.set_text(s, 0.0, flags=flags)\n/Library/Frameworks/Python.framework/Versions/3.9/lib/python3.9/site-packages/matplotlib/backends/backend_agg.py:240: RuntimeWarning: Glyph 52964 missing from current font.\n  font.set_text(s, 0.0, flags=flags)\n/Library/Frameworks/Python.framework/Versions/3.9/lib/python3.9/site-packages/matplotlib/backends/backend_agg.py:240: RuntimeWarning: Glyph 54588 missing from current font.\n  font.set_text(s, 0.0, flags=flags)\n/Library/Frameworks/Python.framework/Versions/3.9/lib/python3.9/site-packages/matplotlib/backends/backend_agg.py:240: RuntimeWarning: Glyph 48712 missing from current font.\n  font.set_text(s, 0.0, flags=flags)\n/Library/Frameworks/Python.framework/Versions/3.9/lib/python3.9/site-packages/matplotlib/backends/backend_agg.py:240: RuntimeWarning: Glyph 54624 missing from current font.\n  font.set_text(s, 0.0, flags=flags)\n/Library/Frameworks/Python.framework/Versions/3.9/lib/python3.9/site-packages/matplotlib/backends/backend_agg.py:240: RuntimeWarning: Glyph 51060 missing from current font.\n  font.set_text(s, 0.0, flags=flags)\n/Library/Frameworks/Python.framework/Versions/3.9/lib/python3.9/site-packages/matplotlib/backends/backend_agg.py:240: RuntimeWarning: Glyph 46356 missing from current font.\n  font.set_text(s, 0.0, flags=flags)\n/Library/Frameworks/Python.framework/Versions/3.9/lib/python3.9/site-packages/matplotlib/backends/backend_agg.py:240: RuntimeWarning: Glyph 50556 missing from current font.\n  font.set_text(s, 0.0, flags=flags)\n/Library/Frameworks/Python.framework/Versions/3.9/lib/python3.9/site-packages/matplotlib/backends/backend_agg.py:240: RuntimeWarning: Glyph 53804 missing from current font.\n  font.set_text(s, 0.0, flags=flags)\n/Library/Frameworks/Python.framework/Versions/3.9/lib/python3.9/site-packages/matplotlib/backends/backend_agg.py:240: RuntimeWarning: Glyph 50040 missing from current font.\n  font.set_text(s, 0.0, flags=flags)\n/Library/Frameworks/Python.framework/Versions/3.9/lib/python3.9/site-packages/matplotlib/backends/backend_agg.py:240: RuntimeWarning: Glyph 54540 missing from current font.\n  font.set_text(s, 0.0, flags=flags)\n/Library/Frameworks/Python.framework/Versions/3.9/lib/python3.9/site-packages/matplotlib/backends/backend_agg.py:240: RuntimeWarning: Glyph 47112 missing from current font.\n  font.set_text(s, 0.0, flags=flags)\n/Library/Frameworks/Python.framework/Versions/3.9/lib/python3.9/site-packages/matplotlib/backends/backend_agg.py:240: RuntimeWarning: Glyph 53456 missing from current font.\n  font.set_text(s, 0.0, flags=flags)\n/Library/Frameworks/Python.framework/Versions/3.9/lib/python3.9/site-packages/matplotlib/backends/backend_agg.py:240: RuntimeWarning: Glyph 47749 missing from current font.\n  font.set_text(s, 0.0, flags=flags)\n/Library/Frameworks/Python.framework/Versions/3.9/lib/python3.9/site-packages/matplotlib/backends/backend_agg.py:240: RuntimeWarning: Glyph 47456 missing from current font.\n  font.set_text(s, 0.0, flags=flags)\n/Library/Frameworks/Python.framework/Versions/3.9/lib/python3.9/site-packages/matplotlib/backends/backend_agg.py:203: RuntimeWarning: Glyph 50616 missing from current font.\n  font.set_text(s, 0, flags=flags)\n/Library/Frameworks/Python.framework/Versions/3.9/lib/python3.9/site-packages/matplotlib/backends/backend_agg.py:203: RuntimeWarning: Glyph 44553 missing from current font.\n  font.set_text(s, 0, flags=flags)\n/Library/Frameworks/Python.framework/Versions/3.9/lib/python3.9/site-packages/matplotlib/backends/backend_agg.py:203: RuntimeWarning: Glyph 48708 missing from current font.\n  font.set_text(s, 0, flags=flags)\n/Library/Frameworks/Python.framework/Versions/3.9/lib/python3.9/site-packages/matplotlib/backends/backend_agg.py:203: RuntimeWarning: Glyph 50984 missing from current font.\n  font.set_text(s, 0, flags=flags)\n/Library/Frameworks/Python.framework/Versions/3.9/lib/python3.9/site-packages/matplotlib/backends/backend_agg.py:203: RuntimeWarning: Glyph 49828 missing from current font.\n  font.set_text(s, 0, flags=flags)\n/Library/Frameworks/Python.framework/Versions/3.9/lib/python3.9/site-packages/matplotlib/backends/backend_agg.py:203: RuntimeWarning: Glyph 53440 missing from current font.\n  font.set_text(s, 0, flags=flags)\n/Library/Frameworks/Python.framework/Versions/3.9/lib/python3.9/site-packages/matplotlib/backends/backend_agg.py:203: RuntimeWarning: Glyph 48261 missing from current font.\n  font.set_text(s, 0, flags=flags)\n/Library/Frameworks/Python.framework/Versions/3.9/lib/python3.9/site-packages/matplotlib/backends/backend_agg.py:203: RuntimeWarning: Glyph 50532 missing from current font.\n  font.set_text(s, 0, flags=flags)\n/Library/Frameworks/Python.framework/Versions/3.9/lib/python3.9/site-packages/matplotlib/backends/backend_agg.py:203: RuntimeWarning: Glyph 51228 missing from current font.\n  font.set_text(s, 0, flags=flags)\n/Library/Frameworks/Python.framework/Versions/3.9/lib/python3.9/site-packages/matplotlib/backends/backend_agg.py:203: RuntimeWarning: Glyph 47532 missing from current font.\n  font.set_text(s, 0, flags=flags)\n/Library/Frameworks/Python.framework/Versions/3.9/lib/python3.9/site-packages/matplotlib/backends/backend_agg.py:203: RuntimeWarning: Glyph 45320 missing from current font.\n  font.set_text(s, 0, flags=flags)\n/Library/Frameworks/Python.framework/Versions/3.9/lib/python3.9/site-packages/matplotlib/backends/backend_agg.py:203: RuntimeWarning: Glyph 54028 missing from current font.\n  font.set_text(s, 0, flags=flags)\n/Library/Frameworks/Python.framework/Versions/3.9/lib/python3.9/site-packages/matplotlib/backends/backend_agg.py:203: RuntimeWarning: Glyph 53216 missing from current font.\n  font.set_text(s, 0, flags=flags)\n/Library/Frameworks/Python.framework/Versions/3.9/lib/python3.9/site-packages/matplotlib/backends/backend_agg.py:203: RuntimeWarning: Glyph 52236 missing from current font.\n  font.set_text(s, 0, flags=flags)\n/Library/Frameworks/Python.framework/Versions/3.9/lib/python3.9/site-packages/matplotlib/backends/backend_agg.py:203: RuntimeWarning: Glyph 48765 missing from current font.\n  font.set_text(s, 0, flags=flags)\n/Library/Frameworks/Python.framework/Versions/3.9/lib/python3.9/site-packages/matplotlib/backends/backend_agg.py:203: RuntimeWarning: Glyph 45796 missing from current font.\n  font.set_text(s, 0, flags=flags)\n/Library/Frameworks/Python.framework/Versions/3.9/lib/python3.9/site-packages/matplotlib/backends/backend_agg.py:203: RuntimeWarning: Glyph 48169 missing from current font.\n  font.set_text(s, 0, flags=flags)\n/Library/Frameworks/Python.framework/Versions/3.9/lib/python3.9/site-packages/matplotlib/backends/backend_agg.py:203: RuntimeWarning: Glyph 52964 missing from current font.\n  font.set_text(s, 0, flags=flags)\n/Library/Frameworks/Python.framework/Versions/3.9/lib/python3.9/site-packages/matplotlib/backends/backend_agg.py:203: RuntimeWarning: Glyph 54588 missing from current font.\n  font.set_text(s, 0, flags=flags)\n/Library/Frameworks/Python.framework/Versions/3.9/lib/python3.9/site-packages/matplotlib/backends/backend_agg.py:203: RuntimeWarning: Glyph 48712 missing from current font.\n  font.set_text(s, 0, flags=flags)\n/Library/Frameworks/Python.framework/Versions/3.9/lib/python3.9/site-packages/matplotlib/backends/backend_agg.py:203: RuntimeWarning: Glyph 54624 missing from current font.\n  font.set_text(s, 0, flags=flags)\n/Library/Frameworks/Python.framework/Versions/3.9/lib/python3.9/site-packages/matplotlib/backends/backend_agg.py:203: RuntimeWarning: Glyph 51060 missing from current font.\n  font.set_text(s, 0, flags=flags)\n/Library/Frameworks/Python.framework/Versions/3.9/lib/python3.9/site-packages/matplotlib/backends/backend_agg.py:203: RuntimeWarning: Glyph 46356 missing from current font.\n  font.set_text(s, 0, flags=flags)\n/Library/Frameworks/Python.framework/Versions/3.9/lib/python3.9/site-packages/matplotlib/backends/backend_agg.py:203: RuntimeWarning: Glyph 50556 missing from current font.\n  font.set_text(s, 0, flags=flags)\n/Library/Frameworks/Python.framework/Versions/3.9/lib/python3.9/site-packages/matplotlib/backends/backend_agg.py:203: RuntimeWarning: Glyph 53804 missing from current font.\n  font.set_text(s, 0, flags=flags)\n/Library/Frameworks/Python.framework/Versions/3.9/lib/python3.9/site-packages/matplotlib/backends/backend_agg.py:203: RuntimeWarning: Glyph 50040 missing from current font.\n  font.set_text(s, 0, flags=flags)\n/Library/Frameworks/Python.framework/Versions/3.9/lib/python3.9/site-packages/matplotlib/backends/backend_agg.py:203: RuntimeWarning: Glyph 54540 missing from current font.\n  font.set_text(s, 0, flags=flags)\n/Library/Frameworks/Python.framework/Versions/3.9/lib/python3.9/site-packages/matplotlib/backends/backend_agg.py:203: RuntimeWarning: Glyph 47112 missing from current font.\n  font.set_text(s, 0, flags=flags)\n/Library/Frameworks/Python.framework/Versions/3.9/lib/python3.9/site-packages/matplotlib/backends/backend_agg.py:203: RuntimeWarning: Glyph 53456 missing from current font.\n  font.set_text(s, 0, flags=flags)\n/Library/Frameworks/Python.framework/Versions/3.9/lib/python3.9/site-packages/matplotlib/backends/backend_agg.py:203: RuntimeWarning: Glyph 52852 missing from current font.\n  font.set_text(s, 0, flags=flags)\n/Library/Frameworks/Python.framework/Versions/3.9/lib/python3.9/site-packages/matplotlib/backends/backend_agg.py:203: RuntimeWarning: Glyph 54168 missing from current font.\n  font.set_text(s, 0, flags=flags)\n/Library/Frameworks/Python.framework/Versions/3.9/lib/python3.9/site-packages/matplotlib/backends/backend_agg.py:203: RuntimeWarning: Glyph 47749 missing from current font.\n  font.set_text(s, 0, flags=flags)\n/Library/Frameworks/Python.framework/Versions/3.9/lib/python3.9/site-packages/matplotlib/backends/backend_agg.py:203: RuntimeWarning: Glyph 50500 missing from current font.\n  font.set_text(s, 0, flags=flags)\n/Library/Frameworks/Python.framework/Versions/3.9/lib/python3.9/site-packages/matplotlib/backends/backend_agg.py:203: RuntimeWarning: Glyph 47700 missing from current font.\n  font.set_text(s, 0, flags=flags)\n/Library/Frameworks/Python.framework/Versions/3.9/lib/python3.9/site-packages/matplotlib/backends/backend_agg.py:203: RuntimeWarning: Glyph 45432 missing from current font.\n  font.set_text(s, 0, flags=flags)\n/Library/Frameworks/Python.framework/Versions/3.9/lib/python3.9/site-packages/matplotlib/backends/backend_agg.py:203: RuntimeWarning: Glyph 48324 missing from current font.\n  font.set_text(s, 0, flags=flags)\n/Library/Frameworks/Python.framework/Versions/3.9/lib/python3.9/site-packages/matplotlib/backends/backend_agg.py:203: RuntimeWarning: Glyph 51012 missing from current font.\n  font.set_text(s, 0, flags=flags)\n/Library/Frameworks/Python.framework/Versions/3.9/lib/python3.9/site-packages/matplotlib/backends/backend_agg.py:203: RuntimeWarning: Glyph 50508 missing from current font.\n  font.set_text(s, 0, flags=flags)\n/Library/Frameworks/Python.framework/Versions/3.9/lib/python3.9/site-packages/matplotlib/backends/backend_agg.py:203: RuntimeWarning: Glyph 48372 missing from current font.\n  font.set_text(s, 0, flags=flags)\n/Library/Frameworks/Python.framework/Versions/3.9/lib/python3.9/site-packages/matplotlib/backends/backend_agg.py:203: RuntimeWarning: Glyph 51088 missing from current font.\n  font.set_text(s, 0, flags=flags)\n/Library/Frameworks/Python.framework/Versions/3.9/lib/python3.9/site-packages/matplotlib/backends/backend_agg.py:203: RuntimeWarning: Glyph 47456 missing from current font.\n  font.set_text(s, 0, flags=flags)\n"
        },
        {
         "data": {
          "image/png": "iVBORw0KGgoAAAANSUhEUgAAAqIAAAGeCAYAAABPUWO4AAAAOXRFWHRTb2Z0d2FyZQBNYXRwbG90bGliIHZlcnNpb24zLjQuMSwgaHR0cHM6Ly9tYXRwbG90bGliLm9yZy/Z1A+gAAAACXBIWXMAAAsTAAALEwEAmpwYAAAYKUlEQVR4nO3df4zc+XkX8Oc5e32kzRHnksYJsYPpuZcDmgpqaPOLJCdESaRCo3SB0oA4qmAQtBFSBKpKBGlpJSRodfyBCBsU2qagiG4hCOglNTQJamlobBHSE73AXc/XOLlsm+RML4H74fXDHzNufetd7+zu7Dwz33m9pNGcZ57vZz7f/dx3572f76+sqgAAgFm7rbsDAAAsJ0EUAIAWgigAAC0EUQAAWgiiAAC0EEQBAGghiAIA0EIQBQD2LDM/lpmVmfd194XFJYjCQGTmQ+MvhUkfp8fLff8el3vPeLmX7nG5Szf09cN7XPZN4+W+a4/L/fiUfrYz729mPrWXZfewLvtqNzPfu8d1uW/C/uyr3cx89R6X+9gNn7mvbWWCdRn8NgjTdrS7A8BU/UxErO9S8/UR8SNbXvtiRHzfBO3/w21e+/sR8T93We7bI+L1W177LxHxT3dZ7o6IWNvm9T+/y3IREX97gpq96OjveyPi47ss960R8TcnaH8a7f5qRPzQBO3/+B77c5B23xkRv7nLcn85Im7f8tp+t5XdLMs2CFMhiMKwPFhVH7xVQWb+kbj5S/Cruy03Xvbd27z881X1sV2WOxk3fwk+OkFfXxzbfAlO2Ne/sFvNHnX0979N8JlXY+9BdL/t/saE6/LP99ifg7T776vq0i7LvT4ivnHLy/vdVnazFNsgTItd8wAAtBBEAQBoIYgCANBCEAUAoIUgCgBAC0EUAIAWgigAAC0EUQAAWrigPQCwZ1X1pu4+sPjMiAIA0EIQBQCghSAKLI3MvC8za/w43d0fWGSZeWm8Lb2nuy8sLkEUAIAWgiiwTF42fv5cRDze2REAnDUPLJc3jp//QVU93doTWHBVdbq7Dyw+M6LAUsjMIxHxuoj4fES8r7k7AIQZURia52fmS3epedE2rx2ZYLmI7X9n3DnBsnds89rzJljuzu1enLCvt2/59zdHxPMj4t37nA2ddX8jIl4wwbLHJ2h7Wu0em3Bdco/9OUi7X5eZT+2y3Nds89p+t5XdLMU2CNMiiMKwvGv82KuTsf9jJn9mwrrHtvz7z44f+zFpX3/i+n9U1Sdj7wHpRjPt79j948e07bfd18ThHFt7kHZ/ecK6j2/59363ld0syzYIU5FV1d0HYAoy81ti+5mfnXyiqp7KzFdExNfvYblLVXUpM49FxGv3sNxTVfWJcV+/KfY20/KpqrqSmS+JiD+wh+W+UFUP7aF+Wx39zcw3xB4On6qqj01St992M/PuiPg9ky4XEQ9V1Rcm6M++2s3M3x2jWe5JXamqT40/c1/bym5Fy7AN7qEeJiKIAgDQwslKAAC0EEQBAGghiAIA0EIQBQCghSAKAEALQRQAgBaCKAAALQRRAABaDPoWn5l5cpK6qro8j/UAAEM26DsrZeZEK1dVOY/1O1pfH+6gAQCzsbp667wxA8uwa/5MRKzs8Di9APUAAIM06F3zY5tVdXW7NzJzcwHqAQAGaRlmRAEAmEOCKAAALQTRBZGZ5zLzQmZeWDt/vrs7AAAHtgzHiA5CVa1FxFpEOGseABgEM6IAALQQRAEAaCGIAgDQQhAFAKCFk5UW0RzckgsA4KDMiAIA0EIQBQCghSAKAEALQRQAgBZZNdyb9GTmRCtXVTmP9QAAQzb0s+ZPLXg9AMBgDXpGFACA+eUYUQAAWgiiAAC0EEQBAGghiAIA0EIQBQCghSAKAEALQRQAgBaCKAAALQRRAABaCKIAALQQRAEAaCGIAgDQQhAFAKCFIAoAQAtBFACAFoIoAAAtBFEAAFoc7e7AXmTmyUnqquryEOoBAIYsq6q7DxPLzIk6W1U5hPodra8vzqABADdbXb31d/2SWMRd82ciYmWHx+kB1gMADNJC7Zof26yqq9u9kZmbA6wHABikRZwRBQBgAARRAABaCKIAALQQRBdEZp7LzAuZeWHt/Pnu7gAAHNginqy0lKpqLSLWIsLlmwCAQTAjCgBAC0EUAIAWgigAAC0cI7qI3BYMABgAM6IAALQQRAEAaCGIAgDQQhAFAKBFVi3OtdEzc6LOVlUOoR4AYMgW7az5U0tWDwAwWAs1IwoAwHA4RhQAgBaCKAAALQRRAABaCKIAALQQRAEAaCGIAgDQQhAFAKCFIAoAQAtBFACAFoIoAAAtBFEAAFoIogAAtBBEAQBoIYgCANBCEAUAoIUgCgBAC0EUAIAWR7s7cJgy8+QkdVV1eR7rAQCGLKuquw+HJjMnWrmqynms39H6+nAHDQBmbXX11t+7HJpl2DV/JiJWdnicXoB6AIBBGvSu+bHNqrq63RuZubkA9QAAg7QMM6IAAMwhQRQAgBaCKAAALQTRBZGZ5zLzQmZeWDt/vrs7AAAHtgwnKw1CVa1FxFpEuHwTADAIZkQBAGghiAIA0EIQBQCghWNEF5FbkQEAA2BGFACAFoIoAAAtBFEAAFoIogAAtMiq4V4bPTMnWrmqynmsBwAYsqGfNX9qwesBAAZr0DOiAADML8eIAgDQQhAFAKCFIAoAQAtBFACAFoIoAAAtBFEAAFoIogAAtBBEAQBoIYgCANBCEAUAoIUgCgBAC0EUAIAWgigAAC0EUQAAWgiiAAC0EEQBAGghiAIA0OJodwfmSWaenKSuqi7Poh4AYMiyqrr7MDcyc6IfRlXlLOp3tL5u0AAYttXVW38XMgh2zd/sTESs7PA43VAPADBIds3fbLOqrm73RmZuNtQDAAySGVEAAFoIogAAtBBEAQBoIYguiMw8l5kXMvPC2vnz3d0BADgwJystiKpai4i1iHD5JgBgEMyIAgDQQhAFAKCFIAoAQAvHiC4itz0DAAbAjCgAAC0EUQAAWgiiAAC0EEQBAGiRVa6Nfl1mTvTDqKqcRT0AwJA5a/65Ts1ZPQDAYJkRBQCghWNEAQBoIYgCANBCEAUAoIUgCgBAC0EUAIAWgigAAC0EUQAAWgiiAAC0EEQBAGhxy1t8ZubLI+LXD9B+RsS1iHhFVX3+AO0AADAwk9xrPiPidERs7qP9jIMFWQAABmqSIFoRcbmqru3nAzJzP4sBADBwjhEFAKCFIAoAQAtBFACAFoIoAAAtBFEAAFpMctZ8RMQrMnNfZ83H6Kz7hZCZJyepq6rLs6gHABiySa8j+sj4eeg+O2Hd9Z/FYddvb319YcI9wEJaXV2G7zxod8sgWlWfi+XbfX8mIh7b4b2XR8SlGdcDAAzSpLvml8lmVV3d7o3M3O7uUoddDwAwSO41DwBAC/eaBwCghXvNAwDQYtlORFpYmXkuMy9k5oW18+e7uwMAcGBOVloQVbUWEWsR4fJNAMAgmBEFAKCFIAoAQAtBFACAFu41v4jceg4AGAD3mgcAoIV7zQMA0ELIBACghXvNAwDQwr3mb/boHm9Letj1AACD5F7zz3VqzuoBAAbLLT5vUFWX56keAGDInKwEAEALQRQAgBaCKAAALQRRAABauNc8AAAt3GseAIAWWWXCEgCA2XOMKAAALQRRAABaCKIAALQQRAEAaCGIAgDQQhAFAKCFIAoAQAtBFACAFoIoAAAtBFEAAFpMcq/5pZGZJyepq6rLs6gHABgy95q/QWZO9MOoqpxF/Y7W1w0aMD9WV2/9OwtgB3bN3+xMRKzs8DjdUA8AMEh2zd9ss6qubvdGZm421AMADJIZUQAAWgiiAAC0EEQBAGghiC6IzDyXmRcy88La+fPd3QEAODAnKy2IqlqLiLWIcPkmAGAQzIgCANBCEAUAoIUgCgBAC8eILiK30wMABsCMKAAALQRRAABaCKIAALQQRAEAaJFVro1+XWZO9MOoqpxFPQDAkDlr/rlOzVk9AMBgmREFAKCFY0QBAGghiAIA0EIQBQCghSAKAEALQRQAgBaCKAAALQRRAABaCKIAALQQRAEAaCGIAgDQQhAFAKCFIAoAQAtBFACAFoIoAAAtBFEAAFoIogAAtBBEAQBocbS7A/MkM09OUldVl2dRDwAwZFlV3X2YG5k50Q+jqnIW9TtaXzdozIfV1Vv/vwoAt2DX/M3ORMTKDo/TDfUAAINk1/zNNqvq6nZvZOZmQz0AwCCZEQUAoIUgCgBAC0EUAIAWguiCyMxzmXkhMy+snT/f3R0AgANzstKCqKq1iFiLCJdvAgAGwYwoAAAtBFEAAFoIogAAtHCM6CJyW0UAYADMiAIA0EIQBQCghSAKAEALQRQAgBZZ5dro12XmRD+MqspZ1AMADJmz5p/r1JzVAwAMlhlRAABaOEYUAIAWgigAAC0EUQAAWgiiAAC0EEQBAGghiAIA0EIQBQCghSAKAEALQRQAgBaCKAAALQRRAABaCKIAALQQRAEAaCGIAgDQQhAFAKCFIAoAQAtBFACAFkc7PzwzT05SV1WXl7EeAGDIsqr6Pjxzog+vqlzG+h2tr/cNGvNpdfXW/88AwByah13zZyJiZYfHafUAAMPUumt+bLOqrm73RmZuqgcAGKZ5mBEFAGAJCaIAALQQRAEAaCGILojMPJeZFzLzwtr5893dAQA4sHk4WYkJVNVaRKxFhMs3AQCDYEYUAIAWgigAAC0EUQAAWjhGdBG5nSMAMABmRAEAaGFGFACYGxcvXjx95MiRc7fddttbquqF3f3huTLziWvXrj2wubm5dvbs2UsHbU8QBQDmwsWLF0+vrKz8mxMnThw/fvz4k8eOHftipqPR5kVVxTPPPLNy5cqV79rY2HjzxYsX33bQMGrXPAAwF44cOXLuxIkTx0+cOPHl22+//VkhdL5kZtx+++3Pnjhx4ssnTpw4fuTIkXMHbXMeZkQf3eP/aMtWDwBL4bbbbnvL8ePHn+zuB7s7fvz4kxsbG2+JiB84SDvdQfSUegAgIqKqXnjs2LEvdveD3R07duzZqnrxQdtpDaJVdVk9AHCdvYaLYVrj5BhRAABaCKIAALToPkYUAICxRx55ZGWSurvuuuvZWdQfNkEUAFgM6+tnu7twS6urFw/axJkzZ75pkrqqujiL+sMmiAIAzJEHH3zwwbvvvvvp7d579NFHj73yla981SzrD5MgCgAwR44ePVorK9vvQT9y5EjNuv4wOVkJAIAWgigAAC0EUQAAWgiiAAC0EEQBAGghiAIA0EIQBQCghSAKAEALQRQAgBaCKAAALQRRAABaDPpe85l5cpK6qro8j/UAwA1WVy92d4HpGnQQjYjPTliXc1q/vfX1mrAdZm119dZjBwD8tqEH0YiIMxHx2A7vvTwiLs15PQCwRO65555XzVP9YVqGILpZVVe3eyMzNxegHgBYEg8//PCn56n+sC1DEAUAWAh33XXXs/NUf9icNQ8AQAtBFACAFoLogsjMc5l5ITMvrJ0/390dAIADc4zogqiqtYhYiwiXbwJgsKoqMl0Jb95VTSeKmBEFAOZCZj7xzDPPrHT3g90988wzK5n5xEHbEUQBgLlw7dq1B65cuXJHdz/Y3ZUrV+64du3aAwdtRxAFAObC5ubm2sbGxpWNjY07n3766ZVp7f5lOqoqnn766ZWNjY07NzY2rmxubq4dtE3HiAIAc+Hs2bOXLl68+LbHH3/83MbGxluq6sXdfeK5MvOJa9eufXBzc3Pt7Nmzlw7c3pD/2sjMiojfV1WXdnj/ZER8tqpyHusBAIbMrnkAAFoIogAAtBBEAQBosQzHiO5qyzGcc1MPADBkQz9r/tSC1wMADNagZ0QBAJhfjhEFAKCFIAoAQAtBdAFl5rnuPnB4jO/wGeNhM77DZnynSxBdTDaCYTO+w2eMh834DpvxnSJBFACAFoIoAAAtBNHFtNbdAQ6V8R0+YzxsxnfYjO8UuY4oAAAtzIgCANBCEAUAoIUgOgcy82Rmvj8zP5+ZT2fmpcy8PzNfuMd27hwvd2nczufH7Z48rL6zu2mMb2b+icz80cz8z5n5pcyszPyFw+w3kzno+Gbm12bm2zPzX2XmQ5n51cx8MjMvZOa7MvPYYa8DO5vS9vu3MvNnx8t+JTN/KzN/JTN/zO/nXtP6/t3S5hsyc3P8e/qHp9nfIXKMaLPMvCsi/mtEvCQi/l1EPBQR3xIR90bEZyLidVX1pQnaedG4nbsj4ucj4pMRcU9EfEdE/EZEvKaqfu0w1oGdTXF8PxSjsXwqIh6OiG+MiF+sqtcfTs+ZxDTGNzPfHBEPRMSXI+KjMRrfF0bEn46Il47b/+NV9dQhrQY7mOL2+3BEfCUi/kdEbETESkT84Yh4Y0T8VkS8qar++2GsAzub1vhuafOOiPh0RLw4Ip4fET9SVe+eZr8Hp6o8Gh8R8ZGIqIj4vi2v/9j49fdO2M4/G9f/6JbX3zl+/cPd67qMjymO72si4g9GxJGIOD1e9he612/ZH9MY34j4QxHx9og4tuX1OyLi4ridd3Wv6zI+prj9/q4dXv8r43Z+tntdl/ExrfHdsuz7Y/RH5Q+M2/jh7vWc94cZ0Ubjv8YejohLEXFXVV274b07IuLxiMiIeElVffUW7Tw/RrOe1yLiZVX15A3v3RYRvxYRv3f8GWZFZ2Ra47tNu6cj4tEwI9rqsMZ3y2d8d0T8y4j4D1X1pw7caSY2o/F9QURciYiHq+obDtpnJncY45uZ3xERH4qIvxgRRyPiX4QZ0V05RrTXvePnn7txI4iIGIfJX4yIr4mIV+/Szqsj4nkxCiZP3vjGuN2PbPk8ZmNa48t8msX4Pjt+vnqANtifWYzv9T8uPn2ANtifqY5vZr4kIt4XER+qqp+aZkeHThDt9crx8//a4f3/PX6+e0btMF3GZdhmMb7fM37+8AHaYH+mPr6Z+Y7MfE9m/qPM/EhE/EREPBYR37//brJP0x7f98UoU/21g3RqGR3t7sCSe8H4+f/s8P7114/PqB2my7gM26GOb2Z+b0S8OSI+FaPjzpitwxjfd0TEt97w709GxHdX1cN76xpTMLXxzczvidHJhX+uqjYO3rXlYkYUYM5k5tsi4v6I+EJEfGdVPXvrJVgEVfXqqsoYnVH9beOXL2bmn2zsFgcwPmb//oj46ar61729WUyCaK/rf3G9YIf3r79+ZUbtMF3GZdgOZXwz860R8cEYnYD4JicYtjm07beqvlRV52MURv9fRHwgM5+35x5yENMa3/fHaAz/+hT6tJQE0V6fGT/vdAzK9bModzqGZdrtMF3GZdimPr6Z+Wci4qdjdK3JN1bVZ3ZZhMNz6NtvVV2JiF+KiK+L0eXZmJ1pje83x+g6pL85voB9ZWbF6Iz5iIi/M37tQwfq7YA5RrTXR8fP35aZt21z+YjXRcT/jYhP7NLOJ2L0F9nrMvOObS7fdH0X0Ee3W5hDM63xZT5NdXwz8+0xOnnlcxFxr5nQdrPafl8+fnZlhNma1vj+ZIzOrt/qGyLiDTE6xvtiRLhhwQ7MiDaqqkci4udidIHyv7Hl7R+MiK+NiA/ceA2zzLwnM+/Z0s5XIuID4/r3bGnne8ftf8QX22xNa3yZT9Mc38z8SzH6Qvv1iHiDbbXftMY3M1+RmSe2+4zM/KsR8Ucj4rMR8SvT6z27meL37zur6h1bH/E7M6L/cfzaPzm0lVlwLmjfbJtbjP1qjM6qvDdGuwReWzfcYmw85R/jA95vbGfrLT5/OSJ+f/zOLT5fO97wmKEpju/rY3TGbcTotnHfGaNxfeB6TVXdd1jrwfamMb6ZeW9E/KcYTQy8P0ahZKsrVXX/4awFO5nS+L41Rodb/FKMLqC+EREvitH1KV8Vo1t/fntVffzw14gbTev38w5t3xcuaD8RQXQOZOapiPihGF2q5UUxuqPDv42IH6yqJ7bU7rghZOadEfH3IuKtEfGyiPhSjILK362qy4e4CtzCNMb3hl9qO5rklyPTd9DxnWRsI+Kxqjo9vV4zqSmM7ytidKvlPxaj2bc7I+KpGN3x7nxE/OOq2u6PD2ZgWt+/27R7XwiiExFEAQBo4RhRAABaCKIAALQQRAEAaCGIAgDQQhAFAKCFIAoAQAtBFACAFu41D7BAMvPkJHXXb2Ixb/UAN3JBe4AFcv3uLru5fveXeasHuJFd8wCL50xErOzwOL0A9QARYdc8wCLarKqr272RmZsLUA8QEWZEAQBoIogCANBCEAUAoIUgCgBAC0EUAIAWgigAAC0EUQAAWgiiAAC0EEQBAGghiAIA0EIQBQCghSAKAEALQRQAgBZZVd19AGBCmTnRL+2qynmsB7jR0e4OALAnpxa8HuC3mREFAKCFY0QBAGghiAIA0EIQBQCghSAKAEALQRQAgBaCKAAALf4/0fbwbxNyOTEAAAAASUVORK5CYII=\n",
          "text/plain": "<Figure size 720x432 with 1 Axes>"
         },
         "metadata": {
          "needs_background": "light"
         },
         "output_type": "display_data"
        },
        {
         "data": {
          "text/plain": "None"
         },
         "metadata": {},
         "output_type": "display_data"
        }
       ]
      }
     },
     "cebb4ab8408f40ccbee880615b1d9cc0": {
      "model_module": "@jupyter-widgets/output",
      "model_module_version": "1.0.0",
      "model_name": "OutputModel",
      "state": {
       "layout": "IPY_MODEL_ca56ebdb275d44b4b9a54709b71d6643",
       "outputs": [
        {
         "data": {
          "text/html": "<div>\n<style scoped>\n    .dataframe tbody tr th:only-of-type {\n        vertical-align: middle;\n    }\n\n    .dataframe tbody tr th {\n        vertical-align: top;\n    }\n\n    .dataframe thead th {\n        text-align: right;\n    }\n</style>\n<table border=\"1\" class=\"dataframe\">\n  <thead>\n    <tr style=\"text-align: right;\">\n      <th></th>\n      <th>index</th>\n      <th>Unnamed: 0</th>\n      <th>카페명</th>\n      <th>음료명</th>\n      <th>언급빈도</th>\n      <th>언급률</th>\n    </tr>\n  </thead>\n  <tbody>\n    <tr>\n      <th>0</th>\n      <td>592</td>\n      <td>592</td>\n      <td>파스쿠찌</td>\n      <td>에스프레소</td>\n      <td>5830</td>\n      <td>0.102720</td>\n    </tr>\n    <tr>\n      <th>1</th>\n      <td>333</td>\n      <td>333</td>\n      <td>커피빈</td>\n      <td>에스프레소</td>\n      <td>16396</td>\n      <td>0.099176</td>\n    </tr>\n    <tr>\n      <th>2</th>\n      <td>1</td>\n      <td>1</td>\n      <td>스타벅스</td>\n      <td>에스프레소</td>\n      <td>105260</td>\n      <td>0.077277</td>\n    </tr>\n    <tr>\n      <th>3</th>\n      <td>480</td>\n      <td>480</td>\n      <td>할리스</td>\n      <td>에스프레소</td>\n      <td>7911</td>\n      <td>0.043492</td>\n    </tr>\n    <tr>\n      <th>4</th>\n      <td>112</td>\n      <td>112</td>\n      <td>이디야</td>\n      <td>에스프레소</td>\n      <td>7504</td>\n      <td>0.033428</td>\n    </tr>\n    <tr>\n      <th>5</th>\n      <td>199</td>\n      <td>199</td>\n      <td>빽다방</td>\n      <td>에스프레소</td>\n      <td>4888</td>\n      <td>0.032223</td>\n    </tr>\n    <tr>\n      <th>6</th>\n      <td>420</td>\n      <td>420</td>\n      <td>투썸플레이스</td>\n      <td>에스프레소</td>\n      <td>7392</td>\n      <td>0.017575</td>\n    </tr>\n    <tr>\n      <th>7</th>\n      <td>281</td>\n      <td>281</td>\n      <td>탐앤탐스</td>\n      <td>에스프레소</td>\n      <td>4414</td>\n      <td>0.014344</td>\n    </tr>\n  </tbody>\n</table>\n</div>",
          "text/plain": "   index  Unnamed: 0     카페명    음료명    언급빈도       언급률\n0    592         592    파스쿠찌  에스프레소    5830  0.102720\n1    333         333     커피빈  에스프레소   16396  0.099176\n2      1           1    스타벅스  에스프레소  105260  0.077277\n3    480         480     할리스  에스프레소    7911  0.043492\n4    112         112     이디야  에스프레소    7504  0.033428\n5    199         199     빽다방  에스프레소    4888  0.032223\n6    420         420  투썸플레이스  에스프레소    7392  0.017575\n7    281         281    탐앤탐스  에스프레소    4414  0.014344"
         },
         "metadata": {},
         "output_type": "display_data"
        }
       ]
      }
     },
     "cec4d717c7e347bd8a86afad85073836": {
      "model_module": "@jupyter-widgets/output",
      "model_module_version": "1.0.0",
      "model_name": "OutputModel",
      "state": {
       "layout": "IPY_MODEL_3e097d4874eb4622a1a281438d5cec97",
       "outputs": [
        {
         "data": {
          "application/vnd.jupyter.widget-view+json": {
           "model_id": "41f0c928416d40a0a7cb01ce56e6f3d9",
           "version_major": 2,
           "version_minor": 0
          },
          "text/plain": "HBox(children=(FloatProgress(value=0.0, max=640.0), HTML(value='')))"
         },
         "metadata": {},
         "output_type": "display_data"
        },
        {
         "name": "stdout",
         "output_type": "stream",
         "text": "\n"
        },
        {
         "data": {
          "application/vnd.jupyter.widget-view+json": {
           "model_id": "083fe862f550454fbfe9de850c71d56f",
           "version_major": 2,
           "version_minor": 0
          },
          "text/plain": "HBox(children=(FloatProgress(value=0.0, max=5891.0), HTML(value='')))"
         },
         "metadata": {},
         "output_type": "display_data"
        },
        {
         "name": "stdout",
         "output_type": "stream",
         "text": "\n"
        },
        {
         "data": {
          "image/png": "iVBORw0KGgoAAAANSUhEUgAAAsoAAALbCAYAAADjHKZ+AAAABHNCSVQICAgIfAhkiAAAAAlwSFlzAAALEgAACxIB0t1+/AAAADh0RVh0U29mdHdhcmUAbWF0cGxvdGxpYiB2ZXJzaW9uMy4xLjMsIGh0dHA6Ly9tYXRwbG90bGliLm9yZy+AADFEAAAgAElEQVR4nOzde7xddX3n//eHBAKUewgQLxBUECqW1h/eQECrYOu1Oo6CVYtV0Sr6c6z2B7Uq1h/aVp2x9Y5atVbsVEWm1RFFR1FEWlCK4xRELQhyCeEmWEBC/M4fa4ceTr4nZ5/kXJLwfD4eeZxk77XX/u6cwHnttb/ru6q1FgAA4J62WugBAADApkgoAwBAh1AGAIAOoQwAAB1CGQAAOoQyAAB0LF7oAcC9UVWdkOTdSQ5srV0yxTaPSvKoJKe21m6bdN/jkzxjPU/x/dbaByY95ttJftpa+88zGOfrk+zaWnvtuI+ZYj8vSfJ769umtfaYSY+5OcmnW2svmWbfv5nkj5Kc2Fr7lym2WZrk7CTva629b8wxH5DkZUk+2lq7aIzt75vkdUn+vrV27jTbfinJ11prf7aebc5MckBrbcU4452pqto6yUs34KHXttY+M2lfy5L8p2ked2tr7ZMTHnNokt9P8tbW2r9N2t83kmw/zf6e2lq7ZrT9iiSXJTlpfX+nE/a/NMmXptns1NbaqRMec3KSNyVZ3lq7dor93jfJm5M8PMnqJOcmeVNr7abOtucnubK19szpxjva/iFJjk3ykdbaZZPu+40Mf//va61dPeH2Tye5X2vt0VPs89eTPHc03t2S7Dr6tU2Sm5PcNPr1b0m+mOTvWmt3jTNe2FIIZZgHVbV37vmDf8/R132rauKm17bWbh79/rcy/GD+uyT3COUk90/y2Cmebv8kX07ygUm3L0/yixkNPDkqyf2SbFQoJ7khyY+muO/w0XNMtm2SrcfY932SPDHJO9azzdZJHpJkjzH2t9aKJP9vknOSTBvKSZaNtr8kQyCtz+OTrJrBWObCkgxv1mbqn5J8ZtJt+yR5/zSP+0mST0748/5JXpTkwxlCbKLvZvj+J8Pf6zMzvNGZ+KbyzvGHvI6tk/w/Sf53ku9Nsc31M9lhVe2X5NtJWoa/n62TvDDJ06rq4a21yd/vZUn+fQZPcWCS1yf5SoY3BRMdPLrvjCRXT7h9WYb/7nvjfXmS9yT5P0n+++jrz0a/7kyy8+jXnkmemuH7dEJVPa61dvsMxg2bNaEM8+NvkhzZuf1/TvrzH2TdwF1Ha+1jST7Wu6+qLp/Z0NZr+0x/ZG9arbXTk5zeu6+qvpAh2jbUoklfZ9thVTXO/yv3maPnnxOttZ8nqWk3nKCqukfsW2sXTNxXVb02yduT7Ndam+oN0vrG9uoJ+zokQyj/bWvtwzPd1zROb62dPEv7+m8ZfqYe1Fr7aZJU1XuSnJ/krUnW+8nIAnhTkrNba48bY9u/rqpnJfl0kicl+eycjgw2IUIZ5kFr7bFrf19V2ye5b4ajNddmOIq8qX6cuXeSpVW1bWvtjjl6joOS/GAjHv/ASV9TVftkOBq+1k4bsf9XT7/J+KpqzwxRv3zS7W9Jst2Emx48m887i8a5nOuOk75ujF0mfU2STHrzMldvksZSVbtl+ATov62N5CRprf1LVX0mybOr6oTW2kw/0ZlrO1XVdmMeIV77KZjL+XKvIpRhnozmvL4tydMy/LD5eYZY/llVfSjJG6aI0WtG0zN+0Fo7YB7He3D+44fjE5J8fg6e47AMMf6eKTZ52oSjmH/cWpt8BD4ZPnae+DVJfiPJh2ZnlHlOpjga3hnHBWNs96ujrw+ZdPtjc8+wXJrkxjH2N592TXLlGNtNfI0XJklVvTgb9j05cNI+U1UPSvLDDdjXXHl0hlj/aue+ryQ5JskDklw8n4Oaxh8n+WCSlVX1j0n+NcmtSW5JcleSHTK8wVyW5ClJDsgw/eULCzJaWCBCGeZBVS3KMG/4FxmC6NzW2prR0eXnZviBtV2SEzoP/+MMP8DWOSFojv1Zkl8muSPJ26rqS6211bO186pakuS/ZpgT+ZEpNrs+/xGf60RjVR2U4Yf4L5O8oKre2lr7SWvtjNxzKsBeSa7ZwKH+cpwj/lW1Zsz9vXj0dc+qekZr7XNJ0lo7fNL+zswQJ2OpqjclOTnJca21j4/7uBnsvzIcBV9vKFXVjkmOGP3xmCR/O/r9N3PP6QeHZpjDO52njL7+dlXt2Fq7NcMnMc+fsM3uGaY+zIfzR9/rH7fWHj+6be3c9592tl972/2zCYVya+0jVXVukucleUSGNzW7jX5tk+H/NzeOfv1zkjcm+Wxr7ZcLM2JYGEIZ5sfeGX5Qvqm19s21N45Ws/jw6MSax0zx2I9OdZb9XKmqYzN8lPyXGU4celeSk5L86Szt/z4Zji4+IskLW2tTHTk9t7X24t4dVbVLhsC+LcMc1n9I8smqetp69rchZm2O8mi1kmMzvPbfTPLfquqfW2tXbeQY58MuSa5I8v1ptntrhk9K3pjkT6vqpa21D7bWfpAJU2yq6q5ME8pV9eQkRyf5aIYwfudofz/PfwT42lUv5iuUv5jh39zKCbctG33tvZlde3Lu/edyUBuitXZxhpMAgSkIZZgfP8nwUfHxVfV/knwjw0ecy5P8boapAm8fd2ej5bjuO8Xd22zMQKvqZRnC+F8y/BC9PcN835OratsMU0TGPXo6ed97JTlutN8lSV41OjFxpvs5JMlfZ5jH+59ba2eNTjb6+yTnVdWJSc6YpaNfszJHefTm46+TfCfJHyZ5UIZPGf65ql7YWvvyRj7FezKskDLWkfMx43+iWzM6wl1ViycfZR/9m3x7khckeVlr7dSq2jXJB6rqERnm704X2Wv3VRk+aflwkv+V4Uj0d5P8VZK9qur/G0XevBiF+Nol1t7YeeO6++hr7w3a2nj+vao6cMLtuya5fAOG88XOpxcz+l5W1XOycfPHv7B2aT7Y0gllmAettV9W1ROSvCHDahU7TLj78iQnJnnnDHb5e5lBWI9jNCf59Un+c5JvJXlya+3fR/c9I8nHMxxVfsxofeVzWmtjndhTVR/PsAzcvhnmZ//PDMF94QaM808z/D1ekuQ3W2vfSpLW2heq6uEZgvGzSf4kySkz3f9arbUzM8NVIaYY774Z5jj/+mhcLxpNH7iwqh6dIQa/VFX/a8JH+Rsy3hsyLMM3zphWZN0lxmZq4tSWF2VYHu7WJM9rrZ02GtNrquqiDHPzf7+qHjbd93w0l//zGU7O/PsMU0nWJHlPVV2VIZb/tape1lr74Ea+ht8afTLRszjDlIr7JnlkhilIU9klyZopToq7ZfT1V3PP5Qk3dDWZj2TdpRYfkeGTinH9eTZulZbHZcOnMsFmRSjDPGmtXZHhyNhLRkfads6w4sVUP4D/IkP0rS9+npn+D6yx5zNX1e8keUuG1SduyLAW8PsmHjEczU1+blWdkWHu8jeSXFZVb2utjXOC1n0yROJ5Sb498aIIG+CqDFFwemvtHmvpttb+Nclvji6ksNHL2s2S+2T4ROGPWmtnTbxjtHTaY6vq6NxzlY65dkOGpQhny79neBP18dbaPdYfbq19vKr+LsPrG2cK0U4ZllR7WWvtK5P29bnR3O2nZePWoV6dYd3gHTKcqNrz70muy7DW8okZ1r5+0xTb3ppkUVUt6axssfZN8Z+31u5+c7sRyzh+prX29Yk3VNVxmUEoT76ITVVdm+GN77Mm3f6UJP+Y4eIus34yL2wOhDLMk9HHyUsn3PTzJDtU1Q5TPGQcF7bWLt+ogQ1Hy36Y4cS601trP5tqw9ba31fV/8hwAYKnZZhXPW0ot9ZmHIGttW2nuH3ao4idK/TdlGHMl47z3PUfV2HbUB9vrR03Gsu3Mhyhn9Jo2sXkqRcnJvmVjRjD+p7v1oyxXvcM9vd309z/i6y7aspZSX47k05wa639c9YTfaOjtv990s3XZgjxsVbCGB19P2icbdcazS+fytpo3y3rvnHddfR1ZTYho/ME1i6buCjJjqOj+ROtvRDQ/Sbc94NxP0mCLYFQhvmzczbsKNjyjHckboO01k6a4fa/yHDlsclXZ1uvqnpohquhzcSPWmvnrGeflWFKx/MyLM+2R4Yl7e7KECYrM1wl7xMzPCJ2eqa+kuDWGeYafykTTiib5MedsS7JeFcaXOtHGVbzmFejVSt2yzBF5sbRiXMzefx2SZ6e5NkZptrsmeEN4i0ZjtBenWHljE+NprdMtZ+ZvoE8LzO/8uRsWfvf9a5ZN5TXTu24bv6GM5b/mmHpw7WOztSrcky86uJ2Wf80FNiiCGWYPz/Lf5wdP44/SvK6ORrLQnhyhrmqM/HxDJeQXkdVLc9wFPagDGv7finDG4rr8h/zS++fYbrL60ZXAHzWOBdOaa19L1Nc2nh0QuNfJ7mktTZVKPd8JMOJmzPxkwyX0p4zoyOlz8hwdPf+mRTzVXVnhvnMX8jwicOUR8er6nFJPpfhTeF3MiwJtyrDVI8dM3xPDswwregdVfWG1to6/yZGkXzrBryckzJMDZpWVf1KhulAnxnzin9fyRCIvXGtDeXlGdYjnmjthWU2qSPKrbVjMizfN5aqeleGaVlwryKUYZ6MPq68ftoNR6rqtjkczkLad5zpIlU1XdB+IsMJSU9KcuZUHwdX1TZJXpRhvvf/n+S14wyyqn41yauSfHBDTjrseF+SKY+gdrwuQ3DOmRousfyKDMu2nZ5hpZOfZZiqslWGo6G7ZDhZ7D8leU1Vvbl32efRkejPZzia/qzW2pTTXKpqaYYjmm+tqvMnz0XOEKTPX/eRU9qQdZS3TvLETL/cXZJk9MnGVJ9u/HOGI/CHZ92LjhyRYTm5S2Y4vjk1+n7N5NLx3alQsKUTyjBPRmfXz/dFQ1JVe2dY//j+2bDlqDY5VbV1hgD5RGvti+vbdnTC3/tHJzw9MWOGcoa1r1+a4UjixFBek+STGe8qfBPHcW6GaSBjqarnZQahPIrP3ZNc01q7ZYzt758hku+eT70en6iqVyc5I8lJVfXO0TzniQ7LcALlW9cXyckwR7iqXpVhKbknZvg7nnj/XZl6WkvvtazI/K2jvI7W2rVV9c0Myz++Y+10laq6X4b51v9jihUxFtKHcs+pF0CHUIb596EMR9PGtb55ze+oqqnmkC7PsMTWigxn7t/c26iq9snM5s5O9uP5Prmntba6qn6a5JCq2m66CBmduLRfhkvwbvRzZ5gTvak5IaMr82WYsjKdrUZfx7kkddpwJcmrMiwLt1Vnk7Xzso/IsJ7zdI4cfZ1qLvjm5r9kOGnz/Kr66wz/Tf1BhnnTJ87i87xu9CZqov02cF//nhlO7Rln6hJsSYQyzL8bW2sb+zHsTzP8UN5rivvvyhBA/5ThY+EvpnOC2cjZ2bg1VXfMsILHuPYZ82IX061h/IYkf5Pke1X1txle4zUZ3lgszjAffO8M82+fm+HM/pnOkU6SA6pqqqsm9vystfa/N+B55lVr7SdVdWqSP66q/TIcLf6XDJ963Jzh73/X0a9HZFiK8KlJTumtjNJa++EoEP+gqh6S4aj7uRm+Hzdm+HeyLMN6wsdmOOHvX7LuChbz7b4z/P7+W295w9bad0freP9Fktdk+G/wn5L84WhpyI11fYb/5ndO/5OGb2UD5nVPXs4PuKeyygvMj42YenHsdMtvjfn8lye5vLX22Em3H5bhTPYN9bVxrtQ3ulrejE/mW9+0gKo6PMP0iGdk6nWTV2U4wvm+mbxBqarfyhDfM/Wt1tpMwmuq5z8zyQGT17ydbaPXufZkvvtm3aPFazKcVPiFJJ9trU15VH60CsnzMxzVfmymfrPzrxnmmH+gtdb9pGMmJlxA5aTW2rgn823of4//pbX2rg143OTnvzyd/x5nU1V9PcmK3r+h0drWGzL1Yuy/Y9gSCGWYJ1W1VZL9N+ChV3Xmg252RnOlHzDDh107TtyOVjB4QIYjlssyxN11GSL5h23S5ZbHUVXbZ7hYyEzd3lq7agMeN/n5fzPJTq21MzZ2XzN4zspwtHKXDCen3TTOfOcp9rX2iP6yDMvN/TzD9+OaWVj7e/Jz/UqG2L+wtfZ/xnzMVpn5v8ckWbW+tcY3F5PWUZ6J61prvUt1wxZJKAMAQEfvhAwAALjX22RP5tt9993bihUrFnoYAABswb7zne9c31rrXhBskw3lFStW5IILZrRMKQAAzEhV/WSq+0y9AACADqEMAAAdQhkAADqEMgAAdAhlAADoEMoAANAhlAEAoEMoAwBAxyZ7wREAgI3xi1/8IjfeeGNuvfXWrFmzZqGHwzxYtGhRdtxxx+y2225ZsmTJRu9PKAMAW5xf/OIXueKKK7LrrrtmxYoV2XrrrVNVCz0s5lBrLatXr84tt9ySK664InvvvfdGx7KpFwDAFufGG2/Mrrvumt133z3bbLONSL4XqKpss8022X333bPrrrvmxhtv3Oh9CmUAYItz6623ZqeddlroYbBAdtppp9x6660bvR+hDABscdasWZOtt956oYfBAtl6661nZV66UAYAtkimW9x7zdb3XigDAECHUAYAgA7LwwEA3Au85z3vyStf+cpcfPHFOeCAA7rbnHfeeTnvvPNy/PHHZ/vtt7/79q9+9av53Oc+N+W+DzrooLzsZS+7x22PfvSjc7/73S+f/vSnxx7jKaeckptuuinveMc7xn7MXBLKAABboCuuuCK33Xbb3X9euXJlkuSyyy67x3Z77bVXdtlllyTJmWeemTe/+c055phj7hHKV155Zb7+9a93n+fSSy/N0UcfvU4oX3PNNTNex/iss87KT3/6U6EMALBQzj3/uoUewnod+vA9NnofL3jBC3L22Wevc/uTnvSke/z5/e9//zqRO9lxxx2X4447rnvfihUrNnSI67jtttvuEfcLTSgDAGyBJh4Bvu2223LVVVflZz/7Wfbaa6/stddeWbx408vAK664IjfccEPuuOOObLvttgs9HCfzAQBsqS655JI84xnPyI477pgDDzwwT3jCE3L/+98/u+++e173utfljjvu6D5u+fLlqaop5zLPhYsuuigrV67MXXfdla985Svz9rzrs+m9lQAAYKOtWbMmRx99dJYsWZKvf/3rOfTQQ7No0aLcdtttOe200/LSl740t99+e97znves89i3vvWt2XHHHbPrrrvO23hPPPHEbLXVVtl2221z0kkn5YlPfOKCXzTGEWUAgC3QFVdckSuvvDLPf/7zc/jhh2fRokVJku233z4vfvGLc/DBB+ecc87pPvaFL3xhTjjhhPzu7/7uvIz1U5/6VM4888y88pWvzFvf+tZ8//vfz9ve9rZ5ee71cUQZAGALtM8++2S//fbLqaeemoc85CE54ogjstNOO+Waa67JJz/5yVx44YV53eteN9a+Vq1alauuuqp735133rlR4/zABz6QV7/61fn1X//1nHLKKdluu+1y1lln5eSTT84dd9yRt7zlLXdH/nwTygAAW6CtttoqX/nKV/KWt7wlxx13XH7+85/ffd+KFSvyZ3/2Z/nDP/zDsfb18Y9/fOyoHtdFF12UU045JZ/+9Kdz2GGH5Qtf+EJ+5Vd+JUnyuc99Lr/3e7+Xt73tbTnnnHNyyimn5DGPecy8X5Z8rFCuqqOSnJzkriR3JjmhtfaDSds8M8lrR/f/e5JXtNYur6pFSW5OcsGEzd/UWvvGxg8fAICp7L333vnQhz6UD33oQ7npppvuXvViqhUl/uiP/ignnHBCli5d2r3/9NNPz/Lly9e5fSZzmc8444y84Q1vyPe///0sXbo0f/mXf5mXv/zl91iFY+utt85pp52W3/md38mJJ56YI444Ivvuu29OOumkvOQlLxn7uTbWtKFcVdsleXeSI1trK6vq8CTvTfKECdssS/L+JA9urd1cVc9N8p4kT0myc5IftdYeNxcvAACAvtZabrjhhrv/vMMOO+TnP//5PY4uz8Rv/MZvbPS6yf/0T/+U/fbbL695zWvyzGc+MzvvvPOU2z772c/O05/+9PzjP/5j/uEf/iHnnHPOphXKSQ5OcmFrbWWStNa+WVX7VtXi1tpdo212SPL61trNoz9/McMR6CTZKckOVfXRJA9Kck6SN7bWVs/WiwAAYF0/+9nPsmzZshk/7pprrslee+01ByPKjE/SW7JkSZ71rGflWc961pyMZ33GCeX7JJl8+Zrrk+yZ5Kokaa1dluTDE+5/eZLTR79fkuTWJG8cbf/hJC/NcMT5Hqrq+CTHJ8NHBQAAbLidd945q1atGnv7v/iLv8jb3/72ORzR5mWcUK4kbYzbhjuqXpzksCS/kySjucwPm3D/ezNE8zqh3Fo7NcmpSXLIIYd09w8AwHiqKrvvvvvY22+//fZzOJrNzzihfHWSycfsl2bdo8ypqhckeU6Sp7bW7hzd9vAk27fW1l5sfHWSbTZ4xBvpkhsuHXvbA5buP4cjAQCYWzfffPO8XjQkGdZvfuMb35grr7xyo+czL7RxQvmiJA+rqmWttVVVdViSyybMT06SVNUxSX4/yZNbaxOvh7goyfuq6pDW2u1Jjk1ydgAAmBcveclL8prXvGbs7aea1/za1742O+ywQ/e+a665Jj/+8Y9z+eWX56EPfWh22WWX7nY/+clPsnr1hp+q9sAHPnDelombNpRba7dV1auSnFFVqzMsEfeKqtozybtaa8eOfv+JDFH9+QmDf3xr7byq+mCS71bV9UkuTfLmuXgxAADjOPTheyz0EObVbrvtlgMOOGCDH3+/+90vhx12WK699tru/YsXL87973//PPKRj8wjHvGI/PZv/3Ye+MAHdrc98sgj85Of/GSDx3LrrbdOGeuzrVrbNKcCH3LIIe2CCy6YfsMZMvUCALZ8F198cQ488MCFHsaC29CpF5/61KdyzDHHbNRzr1ixIitWrMjXv/71e9z+rW99K7fffvsG7/dxj3vcWFfqG/ffQFV9p7V2SO8+V+YDANhC7bTTTrn44otn/Lj73ve+G/3cl19+eff2ww47bKP3PV+EMgDAFmqrrbbaqCkX93ZbLfQAAABgUySUAQCgQygDAECHUAYAgA6hDAAAHUIZAAA6hDIAAHQIZQAA6BDKAADQIZQBAKBDKAMAQIdQBgAgSbJmzZr86Ec/yo033rjQQ9kkLF7oAQAAMPuuuOKK/Nqv/dpY265cuTJLlizJqlWrst9+++VNb3pTTj755Lvvv/HGG3PaaafNeAz7779/jj766Bk/blMhlAGAe51Lbrh0oYewXgcs3X+j97HLLrvk5JNPziWXXJIPfvCDeclLXpJf/dVfTZKcc845+exnP5vXv/712X333bN48fqT8Oqrr84rX/nKGY/hOc95jlAGAGDTstNOO+XVr351zjzzzHzwgx/M0572tDzlKU9JkixevDif/exnc9xxx+Xmm2+eNpQPOuigtNZm9Py77LLLBo99UyGUAQDuxQ466KBcfPHFSZLrr78+hx9++Kzst7WWrbbavE+HE8oAAPdSVZVtt902BxxwQJLk2muvnZX93nHHHbnllluy1157zcr+FsrmnfkAAMzY2lUtli1blgsuuCBVlarK8uXLZ2X/V155ZZJkn332mZX9LRRHlAEA7mV++tOfZuedd85OO+00J1MvrrjiiiTJ3nvvvdH7WkhCGQBgC3T77bdn5cqVWblyZZLkuuuuy+WXX54k+fGPf5w99tgj3/ve93LVVVfly1/+ct75znfO2gl4hx9+eFatWpWdd955Vva3UIQyAMAW6Ktf/Wqe+tSn3v3nF73oRetsc/DBBydJ9t1337zzne/s7ufaa6/NmWeeucHj2GGHHfKsZz1rgx+/kIQyAMAW6DGPeUy+/e1vT3l/VWX77bfPsmXL1nvS3SWXXJIXvvCFGzyOffbZRygDALDp2GWXXfKoRz1qRo/Zeeed8/73vz+HHHLI3bc99rGP7a6hfN555+XRj350PvrRj+a4445LknzlK1/JUUcdlU9/+tObbRxPJJQBALZwrbWcc845+du//dtcdNFFd89dXrx4cfbcc8/sueeeOfTQQ/P85z8/L3vZyxZ6uJsMoQwAsAVbuXJljj766Hzve9/L/e53v/zWb/1WjjrqqOyxxx656667ct111+XKK6/Mhz70obz97W/Pk5/85HzmM5/Jtttue/c+1qxZk0984hM58MAD88hHPnIBX838EsoAAFuw4447Lv/2b/+Wz3/+83nSk56Uqupud+edd+YjH/lITjjhhPzJn/xJ3vGOd9x93+rVq/PCF74wr3jFK4QyAACbvzVr1uRrX/tanvOc5+TJT37yerfdZptt8gd/8Af52Mc+li996Uv3COWeRz3qUVm9enUWLVp0922Pf/zj17ltc7ZFhPK551839ra7PWAOBwIAbBYOWLr/Qg9hXixatCj77LNPvvOd7+S2227L9ttvv97tr7766vzwhz/MkUceOdb+Fy++Z0pW1Tq3bc62nFcCAMA63vKWt+S5z31ufu3Xfi3Pe97z8qQnPSnLly/PsmXLctddd2XVqlW54oor8rnPfS6nnXZa1qxZk5NOOqm7r2uuuSbnnHPOjJ7/MY95zGy8jAUhlAEAtmDPfvazc9/73jcf+MAH8o53vCNvfvObu9stW7YsxxxzTF7+8pfngAMO6G5z+umn5/TTT5/R869evXqzPcq8eY4aAICxHXbYYTnssMNy22235cc//nFWrVqVVatWZdGiRdljjz2ybNmy7LffflMG7ZIlS/LDH/5wg557c43kRCgDANxrbL/99nnoQx8648dVVR70oAfNwYg2bVst9AAAAGBTJJQBAKBDKAMAQIdQBgCADqEMAGyRWmsLPQQWyGx974UyALDFWbRoUVavXr3Qw2CBzNZltIUyALDF2XHHHXPLLbcs9DBYILfcckt23HHHjd6PUAYAtji77bZbbrrpplx//fW58847TcO4F2it5c4778z111+fm266KbvttttG79MFRwCALc6SJUuy995758Ybb8zll1+eNWvWLPSQmAeLFi3KjjvumL333jtLlizZ6P0JZQBgi7RkyZIsXz+168AAACAASURBVL48y5cvX+ihsJky9QIAADqEMgAAdAhlAADoEMoAANAhlAEAoEMoAwBAh1AGAIAOoQwAAB1CGQAAOoQyAAB0CGUAAOgQygAA0CGUAQCgQygDAECHUAYAgA6hDAAAHUIZAAA6hDIAAHQIZQAA6BDKAADQIZQBAKBDKAMAQIdQBgCADqEMAAAdQhkAADqEMgAAdAhlAADoEMoAANAhlAEAoEMoAwBAh1AGAIAOoQwAAB1CGQAAOoQyAAB0CGUAAOgQygAA0CGUAQCgQygDAECHUAYAgA6hDAAAHUIZAAA6hDIAAHQIZQAA6BDKAADQIZQBAKBDKAMAQIdQBgCADqEMAAAdQhkAADqEMgAAdAhlAADoEMoAANAhlAEAoEMoAwBAh1AGAIAOoQwAAB1CGQAAOoQyAAB0CGUAAOgQygAA0CGUAQCgQygDAECHUAYAgA6hDAAAHUIZAAA6hDIAAHQIZQAA6BDKAADQIZQBAKBDKAMAQIdQBgCADqEMAAAdY4VyVR1VVd+qqrOr6qyqenBnm2dW1blV9fWq+kJVrZhw32uq6ttV9Y2q+mRV7TB7LwEAAGbftKFcVdsleXeSZ7bWjkzyp0neO2mbZUnen+RJrbXHJvlkkveM7ntYkqcnOaK1dkSSS5K8ehZfAwAAzLpxjigfnOTC1trKJGmtfTPJvlW1eMI2OyR5fWvt5tGfv5hk/9Hvj05yWmtt9ejPfzO6DQAANlnjhPJ9klw36bbrk+y59g+ttctaax+ecP/Lk5w+xeOvS7K890RVdXxVXVBVF6xatWqMoQEAwNwYJ5QrSRvjtuGOqhcnOSzJG6fYdsrHttZOba0d0lo7ZNmyZWMMDQAA5sbi6TfJ1UkmV+vSrHuUOVX1giTPSfLU1tqdUzx+WZJrZz5UAACYP+McUb4oycNGJ+ylqg5Lcllr7a6JG1XVMUl+P8nvtNbumHDXl5I8d8Kc5ucl+fJGjxwAAObQtEeUW2u3VdWrkpxRVauT3JXkFVW1Z5J3tdaOHf3+Exmi+vNVtfbhj2+tfbeqPp/km1V1Z5Krkhw/Fy8GAABmyzhTL9JaOyvJWZ27jh3dvzLJ1ut5/DuTvHNDBggAAAvBlfkAAKBDKAMAQIdQBgCADqEMAAAdQhkAADqEMgAAdAhlAADoEMoAANAhlAEAoEMoAwBAh1AGAIAOoQwAAB1CGQAAOoQyAAB0CGUAAOgQygAA0CGUAQCgQygDAECHUAYAgA6hDAAAHUIZAAA6hDIAAHQIZQAA6BDKAADQIZQBAKBDKAMAQIdQBgCADqEMAAAdQhkAADqEMgAAdAhlAADoEMoAANAhlAEAoEMoAwBAh1AGAIAOoQwAAB1CGQAAOoQyAAB0CGUAAOgQygAA0LF4oQfA9C654dKxtz1g6f5zOBIAgHsPR5QBAKBDKAMAQIdQBgCADqEMAAAdQhkAADqEMgAAdAhlAADoEMoAANAhlAEAoEMoAwBAh1AGAIAOoQwAAB1CGQAAOoQyAAB0CGUAAOgQygAA0CGUAQCgQygDAECHUAYAgA6hDAAAHUIZAAA6hDIAAHQIZQAA6BDKAADQIZQBAKBDKAMAQIdQBgCADqEMAAAdQhkAADqEMgAAdAhlAADoEMoAANCxeKEHcG917vnXjb3tbg+Yw4EAANDliDIAAHQIZQAA6BDKAADQIZQBAKBDKAMAQIdQBgCADqEMAAAdQhkAADqEMgAAdAhlAADoEMoAANAhlAEAoEMoAwBAh1AGAIAOoQwAAB1CGQAAOoQyAAB0CGUAAOgQygAA0CGUAQCgQygDAECHUAYAgA6hDAAAHUIZAAA6hDIAAHQIZQAA6BDKAADQIZQBAKBDKAMAQIdQBgCADqEMAAAdQhkAADqEMgAAdAhlAADoEMoAANAhlAEAoEMoAwBAh1AGAIAOoQwAAB1CGQAAOoQyAAB0jBXKVXVUVX2rqs6uqrOq6sGdbXavqhOr6rKqetuE2xdV1a1V9bUJv46YzRcBAACzbfF0G1TVdkneneTI1trKqjo8yXuTPGHSpk9Mcm2SP0+yz4Tbd07yo9ba42ZnyAAAMPfGOaJ8cJILW2srk6S19s0k+1bVPSK7tfbJ1trHktw+6fE7Jdmhqj5aVd+sqrdV1dazMHYAAJgz44TyfZJcN+m265PsOeZzLElya5I3Jjly9LiX9jasquOr6oKqumDVqlVj7h4AAGbfOKFcSdoYt3W11n7QWntYa+3K1tovM0zbOGqKbU9trR3SWjtk2bJl4+weAADmxDihfHWSydW6NOseZe6qqodX1ZETblqdZJvxhgcAAAtjnFC+KMnDqmpZklTVYUkua63dNeZzLEryvtFJgUlybJKzZzxSAACYR9OuetFau62qXpXkjKpaneSuJK+oqj2TvKu1duw0jz+vqj6Y5LtVdX2SS5O8eRbGDgAAc2baUE6S1tpZSc7q3LVOJLfWPt657a+S/NWMRwcAAAvElfkAAKBDKAMAQIdQBgCADqEMAAAdQhkAADqEMgAAdAhlAADoEMoAANAhlAEAoEMoAwBAh1AGAIAOoQwAAB1CGQAAOoQyAAB0CGUAAOgQygAA0CGUAQCgQygDAECHUAYAgA6hDAAAHUIZAAA6hDIAAHQIZQAA6BDKAADQIZQBAKBDKAMAQIdQBgCADqEMAAAdQhkAADqEMgAAdAhlAADoEMoAANAhlAEAoEMoAwBAh1AGAIAOoQwAAB1CGQAAOoQyAAB0CGUAAOgQygAA0CGUAQCgQygDAECHUAYAgA6hDAAAHUIZAAA6hDIAAHQIZQAA6BDKAADQIZQBAKBDKAMAQIdQBgCADqEMAAAdQhkAADqEMgAAdAhlAADoEMoAANAhlAEAoEMoAwBAh1AGAIAOoQwAAB1CGQAAOoQyAAB0CGUAAOgQygAA0CGUAQCgQygDAECHUAYAgA6hDAAAHUIZAAA6hDIAAHQIZQAA6BDKAADQIZQBAKBDKAMAQIdQBgCADqEMAAAdQhkAADqEMgAAdAhlAADoEMoAANAhlAEAoEMoAwBAh1AGAIAOoQwAAB1CGQAAOoQyAAB0CGUAAOgQygAA0CGUAQCgQygDAECHUAYAgA6hDAAAHUIZAAA6hDIAAHQIZQAA6BDKAADQIZQBAKBDKAMAQIdQBgCADqEMAAAdQhkAADqEMgAAdAhlAADoEMoAANAhlAEAoEMoAwBAh1AGAIAOoQwAAB1CGQAAOoQyAAB0CGUAAOgQygAA0CGUAQCgQygDAECHUAYAgA6hDAAAHWOFclUdVVXfqqqzq+qsqnpwZ5vdq+rEqrqsqt426b7XVNW3q+obVfXJqtphtl4AAADMhWlDuaq2S/LuJM9srR2Z5E+TvLez6ROTXJvkzyc9/mFJnp7kiNbaEUkuSfLqjRw3AADMqXGOKB+c5MLW2sokaa19M8m+VbV44kattU+21j6W5PZJjz86yWmttdWjP//N6DYAANhkjRPK90ly3aTbrk+y55jPMfnx1yVZ3tuwqo6vqguq6oJVq1aNuXsAAJh944RyJWlj3Dbu46d8bGvt1NbaIa21Q5YtWzbm7gEAYPaNE8pXJ5lcrUuz7lHmcR+/LMNcZgAA2GSNE8oXJXlYVS1Lkqo6LMllrbW7xnyOLyV57oQ5zc9L8uUZjxQAAObR4uk2aK3dVlWvSnJGVa1OcleSV1TVnkne1Vo7dprHf7eqPp/km1V1Z5Krkhw/C2MHAIA5M20oJ0lr7awkZ3XuWieSW2sf79z2ziTvnPHoAABggbgyHwAAdAhlAADoEMoAANAhlAEAoEMoAwBAh1AGAIAOoQwAAB1CGQAAOoQyAAB0CGUAAOgQygAA0CGUAQCgQygDAECHUAYAgA6hDAAAHUIZAAA6hDIAAHQIZQAA6BDKAADQIZQBAKBDKAMAQIdQBgCADqEMAAAdQhkAADqEMgAAdAhlAADoEMoAANAhlAEAoEMoAwBAh1AGAIAOoQwAAB1CGQAAOoQyAAB0CGUAAOgQygAA0CGUAQCgQygDAECHUAYAgA6hDAAAHUIZAAA6hDIAAHQIZQAA6BDKAADQIZQBAKBDKAMAQIdQBgCADqEMAAAdQhkAADqEMgAAdAhlAADoEMoAANAhlAEAoEMoAwBAh1AGAIAOoQwAAB1CGQAAOoQyAAB0CGUAAOgQygAA0CGUAQCgQygDAECHUAYAgA6hDAAAHUIZAAA6hDIAAHQIZQAA6BDKAADQIZQBAKBDKAMAQIdQBgCADqEMAAAdQhkAADqEMgAAdAhlAADoEMoAANAhlAEAoEMoAwBAh1AGAIAOoQwAAB1CGQAAOoQyAAB0CGUAAOhYvNADYMtzyQ2Xjr3tAUv3n8ORAABsOEeUAQCgQygDAECHUAYAgA6hDAAAHUIZAAA6hDIAAHQIZQAA6LCOMmM59/zrxt52twfM4UBmYCZjPvThe8zhSACAzZEjygAA0CGUAQCgQygDAECHUAYAgA6hDAAAHUIZAAA6hDIAAHQIZQAA6BDKAADQIZQBAKBDKAMAQIdQBgCADqEMAAAdQhkAADqEMgAAdAhlAADoEMoAANAhlAEAoEMoAwBAh1AGAIAOoQwAAB1CGQAAOoQyAAB0CGUAAOgYK5Sr6qiq+lZVnV1VZ1XVg8fdpqoWVdWtVfW1Cb+OmO0XAgAAs2nxdBtU1XZJ3p3kyNbayqo6PMl7kzxhzG12TvKj1trj5uIFAADAXJg2lJMcnOTC1trKJGmtfbOq9q2qxa21u6bbJslOSXaoqo8meVCSc5K8sbW2etZfDWygS264dOxtD1i6/xyOBADYVIwz9eI+Sa6bdNv1SfYcc5slSW5N8sYkR45ue2nviarq+Kq6oKouWLVq1RhDAwCAuTFOKFeSNs1tU27TWvtBa+1hrbUrW2u/zDAl46jeE7XWTm2tHdJaO2TZsmXjvQIAAJgD44Ty1UkmV+vS3PMI8pTbVNXDq+rICbevTrLNTAcKAADzaZxQvijJw6pqWZJU1WFJLpswP3m6bRYled/ohL8kOTbJ2bP1AgAAYC5MezJfa+22qnpVkjOqanWSu5K8oqr2TPKu1tqxU20zevx5VfXBJN+tquuTXJrkzXP1ggAAYDaMs+pFWmtnJTmrc9exY2yT1tpfJfmrDRkgAAAsBFfmAwCADqEMAAAdQhkAADqEMgAAdAhlAADoEMoAANAhlAEAoEMoAwBAh1AGAIAOoQwAAB1CGQAAOoQyAAB0CGUAAOgQygAA0LF4oQcADM49/7oZbX/ow/eYo5GMbyZj3hTGCwAzIZQBtiCX3HDp2NsesHT/ORwJwObP1AsAAOgQygAA0CGUAQCgQygDAECHk/mAeeEkMwA2N44oAwBAh1AGAIAOoQwAAB1CGQAAOoQyAAB0CGUAAOgQygAA0CGUAQCgQygDAECHK/MB9yrnnn/d2Nse+vA95nAkAGzqHFEGAIAOoQwAAB1CGQAAOoQyAAB0CGUAAOgQygAA0CGUAQCgQygDAECHUAYAgA6hDAAAHUIZAAA6hDIAAHQIZQAA6BDKAADQIZQBAKBj8UIPAICpnXv+dTPafrcHzNFAAO6FHFEGAIAOoQwAAB1CGQAAOoQyAAB0OJkPYAqX3HDp2NsesHT/ORwJAAvBEWUAAOgQygAA0CGUAQCgQygDAECHUAYAgA6hDAAAHUIZAAA6hDIAAHQIZQAA6BDKAADQ4RLWAMyqc8+/buxtD334HnM4kvFtjmMG5p4jygAA0CGUAQCgQygDAECHUAYAgA6hDAAAHUIZAAA6hDIAAHRYRxmABXPJDZeOve0BS/efw5FsXqz7DPPDEWUAAOgQygAA0CGUAQCgwxxl2EyZ2wkAc8sRZQAA6BDKAADQIZQBAKBDKAMAQIeT+QBgBpxIC/cejigDAECHI8oAAGzyFuLTHEeUAQCgQygDAECHUAYAgA6hDAAAHUIZAAA6rHoBAMy5c8+/buxtD334HnM4kvFtbmPe3MabzGzMuz1gDgcyBUeUAQCgQygDAECHUAYAgA6hDAAAHUIZAAA6rHoBAFuwS264dEbbH7B0/zkaCWx+HFEGAIAOoQwAAB1CGQAAOoQyAAB0CGUAAOgQygAA0GF5OACAjTSTZfg2hSX4LBs4HkeUAQCgQygDAECHUAYAgA6hDAAAHUIZAAA6hDIAAHQIZQAA6BDKAADQ4YIjAMAmZXO7eAdbLkeUAQCgQygDAECHUAYAgA6hDAAAHUIZAAA6hDIAAHSMFcpVdVRVfauqzq6qs6rqwTPZpqpeU1XfrqpvVNUnq2qH2XwRAAAw26YN5araLsm7kzyztXZkkj9N8t5xt6mqhyV5epIjWmtHJLkkyatn80UAAMBsG+eI8sFJLmytrUyS1to3k+xbVYvH3OboJKe11laPtv2b0W0AALDJGufKfPdJct2k265PsmeSq8bY5j5JfjDh9uuSLO89UVUdn+T40R9/XlU/6G23kXYfjW1zsrmNeXMbb2LM82FzG29izPNhcxtvsvmNeXMbb2LM82FzG28yd2PeZ6o7xgnlStKmuW1924yzbZKktXZqklPHGNMGq6oLWmuHzOVzzLbNbcyb23gTY54Pm9t4E2OeD5vbeJPNb8yb23gTY54Pm9t4k4UZ8zhTL65OsmzSbUtzzyPI69tm8n3Lklw7s2ECAMD8GieUL0rysKpaliRVdViSy1prd425zZeSPHfCnObnJfnybL0AAACYC9NOvWit3VZVr0pyRlWtTnJXkldU1Z5J3tVaO3aqbUaP/25VfT7JN6vqzgzzmo/vP9u8mNOpHXNkcxvz5jbexJjnw+Y23sSY58PmNt5k8xvz5jbexJjnw+Y23mQBxlytdacLAwDAvZor8wEAQIdQBgCAjs0mlKtqn6r69nruf1NVvXT0+89Os68nVtVLZnuMC2m6v59N3f9t79yj/ZzOPP75RtIQt7h1XIeyXJdijVq0QRBK11BVqaFaQbWi496uqS7S6Ji61W1M0JoQMnVPKKlrRIjECRF3HaGVjCJBEfe4PvPH87zOm5P3d+6/k985ns9aZ5392/u9PHvvZz/7effe77sljZC0WgfPOSK2Tb+iTmIhaWtJoyK8vqT963WvjiJpZUk/WtpylJE0VNI1FfHnS1pvacjUERpBzlpl2BvpiTbaqEQ9btsAcpwSdXBGJ8/fWtKw7part1HS5dslXdT2Gb2bsk9V5/t0m42QNL8bRFqC9nxHuddhZq06M2Z2Z0/JkrSbQ4GZwOsdOOcg4Dgze7guEgFm9jj+VReADYDhQKsPYj3IYOAI4LKlLUhbmNkJS1uG9tBb5OxF1L2NNjC74J9Cnb2U5TgM2N7MOrtJwzbAZsCU7hOpV/JF1uV60vDl2tAjyvEkPFvSJODgiNtA0l2SZkp6TNKBFefNj//LShoraZqkpyWdHvEjiqdrSdtImirpPkn3SvpaxI+TtGfpmqMlHSlpOUnXhVxPSvq3TuTr5CJfEW6KfN0Wcswo7t0iDw9I+kVr5dNdSFpd0h2SHpL0RJTZ85JWjfSVJC2StEfpnEckbVSrjkp5eTjiz4r4UbgxHi/ptnbKNwr4J+AiSVdK+ldJj4e8UyVtKGk9Sc+0OO9mSbtLWk3SDVHeTZIOifQRki6LurmwGN2LUcYLgN3i+gfIOSvyPTvOG9jFcj8+6vkRSTeqYqZA0nxJA4BrgS1CnmMj7YQo21mSJhb11cOsIGl8yDVN0uYR3jRkXEL/e1rAqNcJkn4naXLowMYt5GxZFytH/IGSHpX0YOj5BnUQcUCFbFtKuj/a1VOSfhDyjJDbqxuivG+XtHakzZV0oty2zJY0MuInyz/jWZTHvpKu6s4MtGijU6O8fh/37i9pWNiCJrnN2ybOa9PGd7OcVfZ4qqRRku6U9M9hLyaGfXlc0nFx7oDI06Mh6/9I+pKkffCH/xPjWpt0UrahIdeVau6nNq9VRvJ+6ny57T5ZPvK5NjBRzfa20kZI2k3S9Mj/A/KR5O2Ak/BPvE6VtHNJttPiOkXZHSBpQin9SEkvSlL83krStAhXtqGQ+Ym45lUKexrHN0X+b1Tzp2jnSjo28vuIpO0knSlpirx/3jqO65JOVehyU8SPk3RSyDRL0qWl/NbNTrShF1V+xGhJF0j6Y9Tx9ZJWjLT5La49Vy36MUnDo3xnRn62LeX/9Cj/Ds9uVpRre23Ej0JPZkV+Vyld80RJf5K30306KlMlZtaQf8AOwP3AgPj970ATMAnYIeIGAv+Lb2IyGjgy4ufH/58DZ0W4HzAZ+DYwAjgj4h8DtozwpsDTER4H7FmSZzRwJLAfMDHi+gPTgcFdyNepka8/AXtF3BrAc8AKkYczS/e7B/hGrfLpxvI/ATg3woPx0d5zgEMjrvge9qXxeyPgoQjXqqOfAydFvICrgb3j91Rg0w7KODXq7Ev4qOpyJdmuivBtwE4RXhN4Nu49BhgZ8csDT+BbWI4AXgBWjbShwDUtw/F7OHBJ6fcZwNFdKPOvtajTUaGHTS2OK/R7/XJanH8r0C9+Hwmc08PtdiiwEFgzfg+LeirqqlL/e1LGkpzvFDoHHAuML8lZVRfn4U7HrFL8nsCEHpLtGGBoxK2Ej1YuHzr7HLBipB0GjIvwXOCoCA8CngQ2BA4ExpbuOREYVodyLspzfeBjmu3CcsDTJZk3B2ZFuNJ+1EkPatnjqcCY0nFjgAMjvAwwDfgqsBXwq9JxY4EfR/jzPqkb29OuIVtr/eAswhaWdGBghCttRNTHc6X77AzMjvDn/WXpmmsBF9L85axTcPs3F1g+4iYDdwPfiN+nAT+lRhsCVgFeAfpH/IWRtjbwVElXDqe535mLj0YC7AS8DXwvfv8AuL67dIrFdbkp4sZFefbH+5WHgd1q5bEb9baWXtTyI0azuJ7/Ghgd4fktrj03yqjsU10M/EOEdwRmlPJ/M7BMD9uI12nuo38BHB7hT4BDIrwV8EJ3lHcjL73YAbjZzD6O3zcAe0T8GfHQBvAp8JUa1xgC/AbAzD6L85E0Iv6vjDfKp+KYOfJR0i+3ItdM/DvS5+GGYBdbfPOVjuZrIt6ItjGzO0KO1yQ9AWzRIg+fSLoJV9SPqC6f7uJu4EJJ/xHhrwPb4h3JFcABeAc+Qb6ZzPeAYl1lrToaAqyr5pH6FfFOu0uY2UeS/gxMk/Q23tEV1x2LG9b7cYN/pZmZfDTt1Dj/PUmTge3jnNvM7I123HoIsKOkqfF7ObwD7SxDKNWpmZ0maX185Li9528CTImyH4A7/T3NdDNbAGBmUyRdiRtsqK3/S4MmM5sT4SnAv+DtCirqAnzkFX/guqsYOKI+M3NVso0BTpPPjM0BXgTWjWPuNLN3IjwBKM903RB5eF/SXcB2wE3AmZIGAcsCW+IP4fXkr2Y2M8KbAF8GbinZiZUk9aO2/XitDjK1po9/KB03BNhazWs2VwI2xjfUWlvSLLzz/j+6waa1oNyepkoaj9dZrX5wopl9UONatWzEJsCc0n2m4fa+Fq8C7wOzJL2BO7Jr4U7jtyTdhw9gnI33DQ/gg0y74gM9VW1oIa7rY8MejzKzt6LN3VvS7xvwQZeC64pyivwUo9oziP0cqK9OXVX4ANEXbIT3bfW2E1V6oRp+BCyu5xPwumkvTfg+GYtwf6Cs49eY2addyUiJ9tqIK4BLJd2ODwoUO0V/QrRbM3tCvgLgS2b2EV2gkR1lAKuI+wTYzeKRQdKywIfAtyqOVY1rtCf9M3y0pmA1YIGZzQd2l0/P7oYbiv3N7PlWc7I4VfesJUdrMraWty5hZk8Cu8ZUx+7Aufjo4Fck/SP+dPmMfCptF2B/4Dtxeq06EnBM0RDkywe6nAf5dOD3Q753gONLyZOAc2Ka6RCaHyZaK9c323tr4Ddmdm3I0Z+uGcMqmRbTw/IUU43zLzOzM+PYfnjH0dO0Vad109sOUl4P/y6L110t/RBwq5kVSxiEOy09Ids1+MjJfZI2wmfDClrKaq2lmdmH8iVbw/ERp6uL9lpHyu1K+IjlXp9HSIPM7DNJtexHvWiPHRA+UrkgZBqI27mT8Ta6Iz7SPB5oz0N2V+VrrR9szX7VshGb17hPLQ7GHbCh+Chg4XRdCxyN95c34YNJZ0raCngxnLfKNhR5+b58M7NdgJsljYm8tibbm+BKLWlhSY8/Kx1TT52qaqs9YSc64kdUpRW/B0pSqdwWW64nXzJyOv6A/QpuM8q0t79sD+2yEcDPJA3GZz4ulzTZzP4TeDPSC96N63SJRl6jPBPYV81bXxcv6M0uwvJ1eM/iT65VTMefZpHUL9a9fL5mxcwWAp9J2iKO2RhvsK8Cz+NGgKiQvSP8TUnjzGyOmV2Cj+p8tQP5aop8FQ7Md+P/45K+GfdYHZ82+HPkocjvMrgzOqOV8ukWJB0u6TQzewx3kvvjUyM34aO0k+LQ6/HRq/fM7KWIq1VH0/HpsMKpvB+fCgQ3Wmt3UtxBwFvAW/FkW8hBPEFPAP4Lf1p9OZLK5ToIfxh4qI37tJRxOnBQ6JZwR2a/TuYBvF4/1w35+q3jgQ1CJwB+2IY8+6t5fdnZLP7Q0FPsGJ0dknaleTQZaut/o7FEXUg6F59O3T1sAviI1Xk9JNOyuL0B77AWldL2krRChL+L24eC4fC5nu+BTw8DXI6vo/0hcGV9RK7JHGCzeOhG0t40vyTbERvfVdqrj2XbtTxum9fEbc+rZvahmb0PlF+Y64pNK1NuT0Px9tTZMqplI4r6KO6zk6TiJcSqfAwCXjez92K0bkHEzwC2xgclboy02fjyjmJmrLINyd97eQS349fhfcyQOH7Xkn7vH/fpCD2pU9AzdqJKL2r5EbCknhc24nX8HSEk7cfiA4TgdmcR8Pdwpv/WzfmoRU0bEXoy0MxuwZd/7FJPQRp2RNnMZsqnCWfKF5sXlXo08DtJx+PTXz+J0ZGqy1wEjIlRFsFV4wAABjJJREFUz9WBW8xskmLpRXAocHFpeuTQiL8EuFbSHbjxuzXipwLDJT2KP2jMwtfBtjdfD0q6E2iStAB4sEW+Tsaf8I81s3flL2NcFHkYgE+fzACoUT7dxQRgnKSH8YYyycwel/QpPopyXBw3DTeAo0vn1qqjMZGXGfh6tCtK0yxjgVMlHWdm36Fj3AXsAzwr6SV8GnBwKf0y4Bl8fXrBaHzq5mDcYJ5nZvPC4NTiMeB1Sffg0+AT8afsGfhU22T8waFTmNksSX/El5Asi0/jHoqvK71L0l/iHsXxCyTdLele4Dozu0TS1XH+wCiHUzorTxeYjo/ir4PbmJF4W2xN/xuKWnVhZgslnYLXRz/cYT2kh8Q6CpgkaSE+8vJXmvV8BnCF/CWn9/HlRgUrSboVd+wuLma/zOxR+fKzN8xsXg/lgbj3B/KXf66NcvyIZttbaT/qJEd79bGwF/fjI26/NrOX5Evw/iCf4n4LH2ApRuZuxvufyfg68b90UswZeHtaF+9zRgIf0P5+sJzfh6tshJktkr/oeWPUh4Di5ax7gEMl3Y2va52Bj5zvJn9ZegHupA2OUd1b8fdCimVf1wM3EoNWUW5LtCEze1vS5cBD8in+t4HD4vjTgcmSPsJH7Dv62bIe0ymoncduvk1retHSjwDvv4qXN1+muX6PwZe7zMMfKBZzhGPmeDzwTPSvc/BB8roOtLZhI84A7pT0Ib6MZmQ9ZcktrJcy8rdyLzSz1hy0JOmTpP53nXjw38zMflmRNjfSKp0CSWOBKWbWJ77b3FUaTR/jwX2kmR20tGVJGoeO6oWk0fjS0d/XV7K+SSMvveiTSFpR0itqfmFwX+DRpSlTkvQUqf+Ng6SV8DV+Ny1tWZYWqY9JkrRFwy696KuY2TuSfgrcI39b+E2ap0CSpE+T+t8YSNocX5c8yswWtXV8XyX1MUmStsilF0mSJEmSJElSQS69SJIkSZIkSZIK0lFOkiRJkiRJkgpyjXKSJEkDIGk1fKe31rjUzC4tnXMq/umytYrNMFpccx18u9rt8I0hHsA/8bXEJgHy3eX+ZmaN+m3rJEmSHicd5SRJksZgAL5t8JPAEzWO+XuN+CWQb6DUhH/Xd0Jc/zDg25K2M7OW2/euAbzXUaGTJEn6MukoJ0mSNBY3mtmp3XCd83Ebv6WZvQgQm/7Mwrek/XE33CNJkqRPk2uUkyRJ+hix+9ZewH8XTjJAbEk/AThAzdsYJ0mSJDVIRzlJkqTv8XVgGWBKRdrd+Da+G/aoREmSJL2QdJSTJEl6P7MkzZNUOMbFTnMvVhxbxK1Xf7GSJEl6N7lGOUmSpPdzO/A+8Er8XiP+L/F1C2Bh/E9HOUmSpA3SUU6SJOmFSNoAX2IB8KsWn4dbPf6/UXFq4TyPiK2sC1YB5nWjiEmSJL2edJSTJEkai70kDa6R1h9fVrEOsD2wqMZxg4FPzeyDirS34/8WNC/RABjUCVmTJEn6NOkoJ0mSNAYfA08DKwC71zjmPeBV/FvLJwHD8A1HWvIOsIykgWb2YYu0FeL/WWb22yJS0rzOi54kSdI3SUc5SZKkATCz14EtO3KOpGE1korNRFYF5rdIWyX+v0KSJEnSKvnViyRJkr5H4SivUpFWLOt4tYdkSZIk6bWko5wkSdIgSFpe0h2SjmjnKXcDv8SXWpQpHOW1Ks4p4nJEOUmSpA1y6UWSJEnjMADYE3iqPQeb2XRgekXSQ4ABO7HkpiM745+Se6bzYiZJknwxyBHlJEmSPkZ8Ku5+4CeSipf3kLQucBBwc40vYiRJkiQlckQ5SZKkb3ICMAPfte9yfLT6KOBD/IsZSZIkSRuko5wkSdJ4rCNpxw4c/7yZvVyOMLNHJG0HnA2cCHwCPAj8zMxe6D5RkyRJ+i4ys6UtQ5IkSQLERiNV2063xQlmdkEX7z0PmGdmu3TlOkmSJH2JdJSTJEkaBEn9gA07ceprZvZWd8uTJEnyRScd5SRJkiRJkiSpIL96kSRJkiRJkiQVpKOcJEmSJEmSJBWko5wkSZIkSZIkFaSjnCRJkiRJkiQVpKOcJEmSJEmSJBWko5wkSZIkSZIkFaSjnCRJkiRJkiQVpKOcJEmSJEmSJBX8P7gpXkHtGxbTAAAAAElFTkSuQmCC\n",
          "text/plain": "<Figure size 864x864 with 1 Axes>"
         },
         "metadata": {
          "needs_background": "light"
         },
         "output_type": "display_data"
        },
        {
         "data": {
          "text/plain": "None"
         },
         "metadata": {},
         "output_type": "display_data"
        }
       ]
      }
     },
     "d0b4c07983e24dad86960d808df9fb54": {
      "model_module": "@jupyter-widgets/base",
      "model_module_version": "1.2.0",
      "model_name": "LayoutModel",
      "state": {}
     },
     "d355960c85324ade8fa0155394383599": {
      "model_module": "@jupyter-widgets/controls",
      "model_module_version": "1.5.0",
      "model_name": "TabModel",
      "state": {
       "_titles": {
        "0": " 맛있는 카페",
        "1": "그래프"
       },
       "children": [
        "IPY_MODEL_0ac295284ac74c10a1be777c641d8458",
        "IPY_MODEL_0850af35217640af83255f52a816c255"
       ],
       "layout": "IPY_MODEL_806af2d02b7f4f428f6059549a3ae3ac",
       "selected_index": 1
      }
     },
     "d472f1600c1a4c12b83f176ed66fd482": {
      "model_module": "@jupyter-widgets/base",
      "model_module_version": "1.2.0",
      "model_name": "LayoutModel",
      "state": {}
     },
     "d4c2e0185ae7485488f3731974fb1bae": {
      "model_module": "@jupyter-widgets/base",
      "model_module_version": "1.2.0",
      "model_name": "LayoutModel",
      "state": {}
     },
     "d55df33d8d4c45369d561c183c6ec733": {
      "model_module": "@jupyter-widgets/base",
      "model_module_version": "1.2.0",
      "model_name": "LayoutModel",
      "state": {}
     },
     "d5729eae81e04ffcba00a6f50f9898f3": {
      "model_module": "@jupyter-widgets/base",
      "model_module_version": "1.2.0",
      "model_name": "LayoutModel",
      "state": {}
     },
     "d7cb6274984b414896c7e3b33af574fb": {
      "model_module": "@jupyter-widgets/controls",
      "model_module_version": "1.5.0",
      "model_name": "HBoxModel",
      "state": {
       "children": [
        "IPY_MODEL_fac66e2ffe374831813000866ede603a",
        "IPY_MODEL_f8d259fcf80d4a22b49cdb13ab1624a2"
       ],
       "layout": "IPY_MODEL_27cd99e978404996872c7b88e71fc7bc"
      }
     },
     "d8463180db684e9b8690e79aeec5ef5b": {
      "model_module": "@jupyter-widgets/controls",
      "model_module_version": "1.5.0",
      "model_name": "HTMLModel",
      "state": {
       "layout": "IPY_MODEL_6cdd32fbae124dc2b3769b8a5005509a",
       "style": "IPY_MODEL_106c69e058d04770b79deee125133f39",
       "value": " 1562/1562 [00:00&lt;00:00, 2187.50it/s]"
      }
     },
     "d894341fc8cc47dca5cb39176e8bb50a": {
      "model_module": "@jupyter-widgets/controls",
      "model_module_version": "1.5.0",
      "model_name": "DescriptionStyleModel",
      "state": {
       "description_width": ""
      }
     },
     "d9d12b4305f442b88042b02c4f48eaf0": {
      "model_module": "@jupyter-widgets/base",
      "model_module_version": "1.2.0",
      "model_name": "LayoutModel",
      "state": {}
     },
     "d9f14b77488942c5b5dd52c8028b4d67": {
      "model_module": "@jupyter-widgets/controls",
      "model_module_version": "1.5.0",
      "model_name": "DescriptionStyleModel",
      "state": {
       "description_width": ""
      }
     },
     "db06d19ae45a4d4da76cb4cac67c740b": {
      "model_module": "@jupyter-widgets/base",
      "model_module_version": "1.2.0",
      "model_name": "LayoutModel",
      "state": {}
     },
     "dc358750bf624e8983739f2500d8e266": {
      "model_module": "@jupyter-widgets/output",
      "model_module_version": "1.0.0",
      "model_name": "OutputModel",
      "state": {
       "layout": "IPY_MODEL_eeafdb0d42f145da9fcf5ef3f4159663",
       "outputs": [
        {
         "data": {
          "image/png": "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\n",
          "text/plain": "<Figure size 1080x1080 with 1 Axes>"
         },
         "metadata": {},
         "output_type": "display_data"
        },
        {
         "data": {
          "text/plain": "None"
         },
         "metadata": {},
         "output_type": "display_data"
        }
       ]
      }
     },
     "dd4c07a7d9a34682b0f20f4668942532": {
      "model_module": "@jupyter-widgets/base",
      "model_module_version": "1.2.0",
      "model_name": "LayoutModel",
      "state": {}
     },
     "ddadf431e5904a18bdd0bbaa09d61b40": {
      "model_module": "@jupyter-widgets/controls",
      "model_module_version": "1.5.0",
      "model_name": "FloatProgressModel",
      "state": {
       "bar_style": "success",
       "description": "100%",
       "layout": "IPY_MODEL_89e97d218382488da30c26435c69d0d8",
       "max": 198,
       "style": "IPY_MODEL_30305f9b7b644034a24894fd03247b3e",
       "value": 198
      }
     },
     "de3af37b591148eab67d528ea4180519": {
      "model_module": "@jupyter-widgets/controls",
      "model_module_version": "1.5.0",
      "model_name": "HBoxModel",
      "state": {
       "children": [
        "IPY_MODEL_46fa08f0bfc045febd5090c568fff498",
        "IPY_MODEL_62bc5fad99d449c7a632f74d14edee56"
       ],
       "layout": "IPY_MODEL_aff50070502748a690efbb876cd80f13"
      }
     },
     "dfc58ed239e14c8e99eea4a9fc187d60": {
      "model_module": "@jupyter-widgets/base",
      "model_module_version": "1.2.0",
      "model_name": "LayoutModel",
      "state": {}
     },
     "e2116290350a4037ab6b3ae2e5c1593a": {
      "model_module": "@jupyter-widgets/base",
      "model_module_version": "1.2.0",
      "model_name": "LayoutModel",
      "state": {}
     },
     "e264e2b49c0d484697868c5dd8d5185a": {
      "model_module": "@jupyter-widgets/controls",
      "model_module_version": "1.5.0",
      "model_name": "HBoxModel",
      "state": {
       "children": [
        "IPY_MODEL_cd9327d97e0b400e89a2f53ce0cdf3a6",
        "IPY_MODEL_4a417903d5fc4cb2b9b66631fe2ae14e",
        "IPY_MODEL_06b9e47b2c32440d8588f682b8d58e6f"
       ],
       "layout": "IPY_MODEL_7ba8a5b3b50e4f888fc8ec7441c1b7a5"
      }
     },
     "e2dd7f0f80ce46339d728849d20a4f16": {
      "model_module": "@jupyter-widgets/controls",
      "model_module_version": "1.5.0",
      "model_name": "TabModel",
      "state": {
       "_titles": {
        "0": " 맛있는 카페",
        "1": "그래프"
       },
       "children": [
        "IPY_MODEL_271e85d2bfe945fb95f16f2314fff9f2",
        "IPY_MODEL_a041ee62c5474fa9bec7a9c72e08e2b1"
       ],
       "layout": "IPY_MODEL_469ed4ca27154a66b976acdf81ca9cd8",
       "selected_index": 1
      }
     },
     "e4425cb5ff094e6b950d595a7311f0b3": {
      "model_module": "@jupyter-widgets/controls",
      "model_module_version": "1.5.0",
      "model_name": "FloatProgressModel",
      "state": {
       "bar_style": "success",
       "description": "100%",
       "layout": "IPY_MODEL_d472f1600c1a4c12b83f176ed66fd482",
       "max": 1199,
       "style": "IPY_MODEL_51c71a262eab401b84b99b0c8b569dac",
       "value": 1199
      }
     },
     "e4b47743423c4d8c98e776dc9922ee22": {
      "model_module": "@jupyter-widgets/output",
      "model_module_version": "1.0.0",
      "model_name": "OutputModel",
      "state": {
       "layout": "IPY_MODEL_b3df7e8f844e48098fe62ef7e77f2175",
       "outputs": [
        {
         "data": {
          "application/vnd.jupyter.widget-view+json": {
           "model_id": "4bfd31fe50a545cf8648a2f46c7e79e2",
           "version_major": 2,
           "version_minor": 0
          },
          "text/plain": "HBox(children=(FloatProgress(value=0.0, max=198.0), HTML(value='')))"
         },
         "metadata": {},
         "output_type": "display_data"
        },
        {
         "name": "stdout",
         "output_type": "stream",
         "text": "\n"
        },
        {
         "data": {
          "text/html": "<div>\n<style scoped>\n    .dataframe tbody tr th:only-of-type {\n        vertical-align: middle;\n    }\n\n    .dataframe tbody tr th {\n        vertical-align: top;\n    }\n\n    .dataframe thead th {\n        text-align: right;\n    }\n</style>\n<table border=\"1\" class=\"dataframe\">\n  <thead>\n    <tr style=\"text-align: right;\">\n      <th></th>\n      <th>단어</th>\n      <th>빈도</th>\n      <th>비율</th>\n    </tr>\n  </thead>\n  <tbody>\n    <tr>\n      <th>0</th>\n      <td>bad</td>\n      <td>11</td>\n      <td>0.174603</td>\n    </tr>\n    <tr>\n      <th>1</th>\n      <td>crazy</td>\n      <td>8</td>\n      <td>0.126984</td>\n    </tr>\n    <tr>\n      <th>2</th>\n      <td>bitter</td>\n      <td>5</td>\n      <td>0.079365</td>\n    </tr>\n    <tr>\n      <th>3</th>\n      <td>angry</td>\n      <td>4</td>\n      <td>0.063492</td>\n    </tr>\n    <tr>\n      <th>4</th>\n      <td>sick</td>\n      <td>3</td>\n      <td>0.047619</td>\n    </tr>\n    <tr>\n      <th>5</th>\n      <td>wrong</td>\n      <td>3</td>\n      <td>0.047619</td>\n    </tr>\n    <tr>\n      <th>6</th>\n      <td>hard</td>\n      <td>3</td>\n      <td>0.047619</td>\n    </tr>\n    <tr>\n      <th>7</th>\n      <td>uncomfortable</td>\n      <td>2</td>\n      <td>0.031746</td>\n    </tr>\n    <tr>\n      <th>8</th>\n      <td>sad</td>\n      <td>2</td>\n      <td>0.031746</td>\n    </tr>\n    <tr>\n      <th>9</th>\n      <td>upset</td>\n      <td>1</td>\n      <td>0.015873</td>\n    </tr>\n    <tr>\n      <th>10</th>\n      <td>weak</td>\n      <td>1</td>\n      <td>0.015873</td>\n    </tr>\n    <tr>\n      <th>11</th>\n      <td>ridiculous</td>\n      <td>1</td>\n      <td>0.015873</td>\n    </tr>\n    <tr>\n      <th>12</th>\n      <td>miss</td>\n      <td>1</td>\n      <td>0.015873</td>\n    </tr>\n    <tr>\n      <th>13</th>\n      <td>fucking</td>\n      <td>1</td>\n      <td>0.015873</td>\n    </tr>\n    <tr>\n      <th>14</th>\n      <td>tired</td>\n      <td>1</td>\n      <td>0.015873</td>\n    </tr>\n    <tr>\n      <th>15</th>\n      <td>hate</td>\n      <td>1</td>\n      <td>0.015873</td>\n    </tr>\n    <tr>\n      <th>16</th>\n      <td>depressed</td>\n      <td>1</td>\n      <td>0.015873</td>\n    </tr>\n    <tr>\n      <th>17</th>\n      <td>strange</td>\n      <td>1</td>\n      <td>0.015873</td>\n    </tr>\n    <tr>\n      <th>18</th>\n      <td>mandatory</td>\n      <td>1</td>\n      <td>0.015873</td>\n    </tr>\n    <tr>\n      <th>19</th>\n      <td>dead</td>\n      <td>1</td>\n      <td>0.015873</td>\n    </tr>\n    <tr>\n      <th>20</th>\n      <td>empty</td>\n      <td>1</td>\n      <td>0.015873</td>\n    </tr>\n    <tr>\n      <th>21</th>\n      <td>stop</td>\n      <td>1</td>\n      <td>0.015873</td>\n    </tr>\n    <tr>\n      <th>22</th>\n      <td>stupid</td>\n      <td>1</td>\n      <td>0.015873</td>\n    </tr>\n    <tr>\n      <th>23</th>\n      <td>guilty</td>\n      <td>1</td>\n      <td>0.015873</td>\n    </tr>\n    <tr>\n      <th>24</th>\n      <td>scared</td>\n      <td>1</td>\n      <td>0.015873</td>\n    </tr>\n    <tr>\n      <th>25</th>\n      <td>jealous</td>\n      <td>1</td>\n      <td>0.015873</td>\n    </tr>\n    <tr>\n      <th>26</th>\n      <td>forgot</td>\n      <td>1</td>\n      <td>0.015873</td>\n    </tr>\n    <tr>\n      <th>27</th>\n      <td>depressing</td>\n      <td>1</td>\n      <td>0.015873</td>\n    </tr>\n    <tr>\n      <th>28</th>\n      <td>crush</td>\n      <td>1</td>\n      <td>0.015873</td>\n    </tr>\n    <tr>\n      <th>29</th>\n      <td>rainy</td>\n      <td>1</td>\n      <td>0.015873</td>\n    </tr>\n    <tr>\n      <th>30</th>\n      <td>difficult</td>\n      <td>1</td>\n      <td>0.015873</td>\n    </tr>\n  </tbody>\n</table>\n</div>",
          "text/plain": "               단어  빈도        비율\n0             bad  11  0.174603\n1           crazy   8  0.126984\n2          bitter   5  0.079365\n3           angry   4  0.063492\n4            sick   3  0.047619\n5           wrong   3  0.047619\n6            hard   3  0.047619\n7   uncomfortable   2  0.031746\n8             sad   2  0.031746\n9           upset   1  0.015873\n10           weak   1  0.015873\n11     ridiculous   1  0.015873\n12           miss   1  0.015873\n13        fucking   1  0.015873\n14          tired   1  0.015873\n15           hate   1  0.015873\n16      depressed   1  0.015873\n17        strange   1  0.015873\n18      mandatory   1  0.015873\n19           dead   1  0.015873\n20          empty   1  0.015873\n21           stop   1  0.015873\n22         stupid   1  0.015873\n23         guilty   1  0.015873\n24         scared   1  0.015873\n25        jealous   1  0.015873\n26         forgot   1  0.015873\n27     depressing   1  0.015873\n28          crush   1  0.015873\n29          rainy   1  0.015873\n30      difficult   1  0.015873"
         },
         "metadata": {},
         "output_type": "display_data"
        }
       ]
      }
     },
     "e63038b21d0143769e0c2492f458eefa": {
      "model_module": "@jupyter-widgets/controls",
      "model_module_version": "1.5.0",
      "model_name": "DropdownModel",
      "state": {
       "_options_labels": [
        "스타벅스",
        "앤제리너스",
        "파스쿠찌",
        "이디야",
        "탐앤탐스",
        "투썸플레이스",
        "할리스",
        "커피빈",
        "탐앤탐스"
       ],
       "description": "카페명 : ",
       "index": 2,
       "layout": "IPY_MODEL_ad47686d93204387b44379ad14f9a3a9",
       "style": "IPY_MODEL_a51ca43dbc524db484ff057f493d9b1d"
      }
     },
     "e6e61029f81a44859a066003bf1d6601": {
      "model_module": "@jupyter-widgets/controls",
      "model_module_version": "1.5.0",
      "model_name": "DescriptionStyleModel",
      "state": {
       "description_width": ""
      }
     },
     "e7e12c5347a0493fa77dd2b2f51c2449": {
      "model_module": "@jupyter-widgets/base",
      "model_module_version": "1.2.0",
      "model_name": "LayoutModel",
      "state": {}
     },
     "e86633e32a684a32917d95af4bda2d8c": {
      "model_module": "@jupyter-widgets/base",
      "model_module_version": "1.2.0",
      "model_name": "LayoutModel",
      "state": {}
     },
     "e9469928ce544f4e9f6f8938d8be8ccf": {
      "model_module": "@jupyter-widgets/controls",
      "model_module_version": "1.5.0",
      "model_name": "HTMLModel",
      "state": {
       "layout": "IPY_MODEL_33e60aaf44bb4cbbae0c94dfab108b79",
       "style": "IPY_MODEL_873d4dd837f542578b378a54a5bb198a",
       "value": " 1199/1199 [00:00&lt;00:00, 4696.11it/s]"
      }
     },
     "ec7c144bcfa34801a5070401f8c87201": {
      "model_module": "@jupyter-widgets/base",
      "model_module_version": "1.2.0",
      "model_name": "LayoutModel",
      "state": {}
     },
     "ecb7391b474249aab7054a0ea7c75e99": {
      "model_module": "@jupyter-widgets/base",
      "model_module_version": "1.2.0",
      "model_name": "LayoutModel",
      "state": {}
     },
     "ecdb08ca56bc45e8b18684b22af53044": {
      "model_module": "@jupyter-widgets/base",
      "model_module_version": "1.2.0",
      "model_name": "LayoutModel",
      "state": {}
     },
     "eeafdb0d42f145da9fcf5ef3f4159663": {
      "model_module": "@jupyter-widgets/base",
      "model_module_version": "1.2.0",
      "model_name": "LayoutModel",
      "state": {}
     },
     "f02c466901b5433396b17b63841a8197": {
      "model_module": "@jupyter-widgets/controls",
      "model_module_version": "1.5.0",
      "model_name": "HTMLModel",
      "state": {
       "layout": "IPY_MODEL_ec7c144bcfa34801a5070401f8c87201",
       "style": "IPY_MODEL_3e79a9629fd84a9c9895a0346d5863f6",
       "value": " 640/640 [00:00&lt;00:00, 1843.80it/s]"
      }
     },
     "f2db8f4a77b24bb6aceeaeef16050d7f": {
      "model_module": "@jupyter-widgets/controls",
      "model_module_version": "1.5.0",
      "model_name": "HBoxModel",
      "state": {
       "children": [
        "IPY_MODEL_4d30c272e99f4acd997021af2321cc2b",
        "IPY_MODEL_96d9205e5c174485b80e9e96f6bbae19",
        "IPY_MODEL_91dc1537a9394520a365e645b49e3c5c"
       ],
       "layout": "IPY_MODEL_560a727f44b542a5b8b8427aed655669"
      }
     },
     "f3bd2f59b7de4ef48378d6e43c5ce496": {
      "model_module": "@jupyter-widgets/controls",
      "model_module_version": "1.5.0",
      "model_name": "DescriptionStyleModel",
      "state": {
       "description_width": ""
      }
     },
     "f40f23c517a14ed7aa8d0f369439c5b7": {
      "model_module": "@jupyter-widgets/controls",
      "model_module_version": "1.5.0",
      "model_name": "ProgressStyleModel",
      "state": {
       "description_width": "initial"
      }
     },
     "f53033f8a69d4a3d901d51b01f058fb5": {
      "model_module": "@jupyter-widgets/base",
      "model_module_version": "1.2.0",
      "model_name": "LayoutModel",
      "state": {}
     },
     "f63752a955594039b3d2ed50bdce6005": {
      "model_module": "@jupyter-widgets/controls",
      "model_module_version": "1.5.0",
      "model_name": "DescriptionStyleModel",
      "state": {
       "description_width": ""
      }
     },
     "f67e89e033bf437a932b24ef1df5e58f": {
      "model_module": "@jupyter-widgets/controls",
      "model_module_version": "1.5.0",
      "model_name": "DescriptionStyleModel",
      "state": {
       "description_width": ""
      }
     },
     "f7acd3a1200b4e32bc9d12003d3eeecd": {
      "model_module": "@jupyter-widgets/controls",
      "model_module_version": "1.5.0",
      "model_name": "ProgressStyleModel",
      "state": {
       "description_width": ""
      }
     },
     "f7fe6124a56c45a5a255826a90384503": {
      "model_module": "@jupyter-widgets/controls",
      "model_module_version": "1.5.0",
      "model_name": "HBoxModel",
      "state": {
       "children": [
        "IPY_MODEL_4e916f11f01c49a78a48f397a25b9aaf",
        "IPY_MODEL_67f6a1b98b1b4591851f1a4301226d02"
       ],
       "layout": "IPY_MODEL_db06d19ae45a4d4da76cb4cac67c740b"
      }
     },
     "f8d259fcf80d4a22b49cdb13ab1624a2": {
      "model_module": "@jupyter-widgets/controls",
      "model_module_version": "1.5.0",
      "model_name": "HTMLModel",
      "state": {
       "layout": "IPY_MODEL_598d83c50c144c0ca4d02678c53d4370",
       "style": "IPY_MODEL_6a5576b6fb5542e788b0f8458edcfb68",
       "value": " 1698/1698 [17:45&lt;00:00,  1.59it/s]"
      }
     },
     "f93eaa81a638471094fb311a6ba5158d": {
      "model_module": "@jupyter-widgets/controls",
      "model_module_version": "1.5.0",
      "model_name": "DescriptionStyleModel",
      "state": {
       "description_width": ""
      }
     },
     "f990989ba972408c8cd7f000b5844bf5": {
      "model_module": "@jupyter-widgets/base",
      "model_module_version": "1.2.0",
      "model_name": "LayoutModel",
      "state": {}
     },
     "fa99aa4732e44e85be0defe0b04aa58a": {
      "model_module": "@jupyter-widgets/base",
      "model_module_version": "1.2.0",
      "model_name": "LayoutModel",
      "state": {}
     },
     "fac66e2ffe374831813000866ede603a": {
      "model_module": "@jupyter-widgets/controls",
      "model_module_version": "1.5.0",
      "model_name": "FloatProgressModel",
      "state": {
       "bar_style": "success",
       "description": "100%",
       "layout": "IPY_MODEL_fa99aa4732e44e85be0defe0b04aa58a",
       "max": 1698,
       "style": "IPY_MODEL_32cee61aa8114f00a92ff9312f594d71",
       "value": 1698
      }
     },
     "fbbbb34ae0254c79a364e957d6b7d712": {
      "model_module": "@jupyter-widgets/base",
      "model_module_version": "1.2.0",
      "model_name": "LayoutModel",
      "state": {}
     },
     "fc542e059ca74fc2b6fa8de94230f5ea": {
      "model_module": "@jupyter-widgets/base",
      "model_module_version": "1.2.0",
      "model_name": "LayoutModel",
      "state": {}
     }
    },
    "version_major": 2,
    "version_minor": 0
   }
  }
 },
 "nbformat": 4,
 "nbformat_minor": 4
}
